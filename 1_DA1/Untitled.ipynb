{
 "cells": [
  {
   "cell_type": "markdown",
   "id": "acquired-pitch",
   "metadata": {},
   "source": [
    "# Datacamp Note"
   ]
  },
  {
   "cell_type": "markdown",
   "id": "egyptian-thanks",
   "metadata": {},
   "source": [
    "## Python Basics"
   ]
  },
  {
   "cell_type": "markdown",
   "id": "binding-signal",
   "metadata": {},
   "source": [
    "### Python as a calculator"
   ]
  },
  {
   "cell_type": "markdown",
   "id": "tired-glucose",
   "metadata": {},
   "source": [
    "Exponentiation (冪): ```**```"
   ]
  },
  {
   "cell_type": "markdown",
   "id": "colored-institution",
   "metadata": {},
   "source": [
    "* ```4**2``` = ```4*4```"
   ]
  },
  {
   "cell_type": "markdown",
   "id": "intense-defeat",
   "metadata": {},
   "source": [
    "Modulo (餘數): ```%```"
   ]
  },
  {
   "cell_type": "markdown",
   "id": "certain-journal",
   "metadata": {},
   "source": [
    "Modulo and exponentiation have higher priority level then plus, minus, time and divide."
   ]
  },
  {
   "cell_type": "code",
   "execution_count": null,
   "id": "tropical-walter",
   "metadata": {},
   "outputs": [],
   "source": []
  },
  {
   "cell_type": "markdown",
   "id": "addressed-reform",
   "metadata": {},
   "source": [
    "### Python types"
   ]
  },
  {
   "cell_type": "markdown",
   "id": "consistent-pound",
   "metadata": {},
   "source": [
    "```type()```: find the type of a variable"
   ]
  },
  {
   "cell_type": "markdown",
   "id": "hawaiian-priority",
   "metadata": {},
   "source": [
    "* The type of ```True``` and ```False```: ```bool``` (boolean)\n",
    "* ```str``` + ```str``` = ```strstr```"
   ]
  },
  {
   "cell_type": "code",
   "execution_count": null,
   "id": "fancy-appearance",
   "metadata": {},
   "outputs": [],
   "source": []
  },
  {
   "cell_type": "markdown",
   "id": "virtual-humanity",
   "metadata": {},
   "source": [
    "### Type conversion"
   ]
  },
  {
   "cell_type": "markdown",
   "id": "removed-abraham",
   "metadata": {},
   "source": [
    "* ```str(variable_name)```: convert a variable to string\n",
    "* ```int()```\n",
    "* ```float()```\n",
    "* ```bool()```"
   ]
  },
  {
   "cell_type": "markdown",
   "id": "canadian-roman",
   "metadata": {},
   "source": [
    "When calculating cooleans: ```True``` = 1, ```False``` = 0"
   ]
  },
  {
   "cell_type": "code",
   "execution_count": null,
   "id": "integrated-slovak",
   "metadata": {},
   "outputs": [],
   "source": []
  },
  {
   "cell_type": "code",
   "execution_count": null,
   "id": "computational-country",
   "metadata": {},
   "outputs": [],
   "source": []
  }
 ],
 "metadata": {
  "kernelspec": {
   "display_name": "Python 3",
   "language": "python",
   "name": "python3"
  },
  "language_info": {
   "codemirror_mode": {
    "name": "ipython",
    "version": 3
   },
   "file_extension": ".py",
   "mimetype": "text/x-python",
   "name": "python",
   "nbconvert_exporter": "python",
   "pygments_lexer": "ipython3",
   "version": "3.7.9"
  }
 },
 "nbformat": 4,
 "nbformat_minor": 5
}
