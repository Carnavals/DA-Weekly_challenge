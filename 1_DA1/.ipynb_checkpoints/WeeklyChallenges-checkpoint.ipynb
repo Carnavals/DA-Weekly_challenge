{
 "cells": [
  {
   "cell_type": "markdown",
   "metadata": {},
   "source": [
    "# Challenges for week 1\n",
    "\n",
    "Now that we've seen how Python and Jupyter Notebooks work, it's time for you to apply this knowledge. This week has three challenges. Make sure to give it a try and complete all of them. \n",
    "\n",
    "**Some important notes for the challenges:**\n",
    "1. These challenges are a warming up, and help you get ready for class. Make sure to give them a try. If you get an error message, try to troubleshoot it (using Google often helps). If all else fails, go to the next challenge (but make sure to hand it in).\n",
    "2. While we of course like when you get all the answers right, the important thing is to exercise and apply the knowledge. So we will still accept challenges that may not be complete, as long as we see enough effort *for each challenge*. This means that if one of the challenges is not delivered (not started and no attempt shown), we unfortunately will not be able to provide a full grade for that week.\n",
    "3. Delivering the challenge on time on Canvas assignment is critical, as it helps also prepare for the DA live session. Check on Canvas how to hand it in.\n",
    "\n",
    "### Facing issues? \n",
    "\n",
    "We are constantly monitoring the issues on the GitHub general repository (https://github.com/uva-cw-digitalanalytics/2021s2/issues) to help you out. Don't hesitate to log an issue there, explaining well what the problem is, showing the code you are using, and the error message you may be receiving. \n",
    "\n",
    "**Important:** We are only monitoring the repository in weekdays, from 9.30 to 17.00. Issues logged after this time will most likely be answered the next day. This means you should now wait for our response before submitting a challenge :-)\n",
    "\n",
    "\n",
    "## Challenge 1\n",
    "\n",
    "Check out how to add an image and a link in a cell in MarkDown. You may need to search this online. Check how to do it, and include an image and a link in your notebook."
   ]
  },
  {
   "cell_type": "markdown",
   "metadata": {},
   "source": [
    "![Headache](https://cdn.dopl3r.com//media/memes_files/programming-in-python-qXNuK.jpg)"
   ]
  },
  {
   "cell_type": "markdown",
   "metadata": {},
   "source": [
    "I can find a cheatsheet for Jupyter notebook markdown [here](https://sqlbak.com/blog/jupyter-notebook-markdown-cheatsheet)"
   ]
  },
  {
   "cell_type": "markdown",
   "metadata": {},
   "source": [
    "## Challenge 2\n",
    "\n",
    "Below you have a list of visitors again, and in particular their referral. Create a function that categorizes the visitors according to some interesting set of categories.\n",
    "\n",
    "Please note that a part of the code is already written - with a loop that checks each item in the list. You need to complete the function.\n",
    "\n",
    "\n",
    "\n"
   ]
  },
  {
   "cell_type": "code",
   "execution_count": 8,
   "metadata": {},
   "outputs": [],
   "source": [
    "visitors = ['campaign utx=9902',\n",
    "             'instagram app',\n",
    "             'facebook app',\n",
    "             'campaign utx=1389',\n",
    "             'facebook app',\n",
    "             'google search',\n",
    "             'newsletter',\n",
    "             'facebook app',\n",
    "             'newsletter',\n",
    "             'campaign utx=9902',\n",
    "             'instagram app',\n",
    "             'campaign utx=1389',\n",
    "             'newsletter',\n",
    "             'facebook.com',\n",
    "             'facebook app',\n",
    "             'newsletter',\n",
    "             'google search',\n",
    "             'campaign utx=9902',\n",
    "             'campaign utx=9902',\n",
    "             'instagram app',\n",
    "             'organic',\n",
    "             'instagram app',\n",
    "             'news campaign 9902',\n",
    "             'instagram app',\n",
    "             'facebook app',\n",
    "             'facebook.com',\n",
    "             'campaign utx=9902',\n",
    "             'campaign utx=9902',\n",
    "             'campaign utx=1389',\n",
    "             'campaign utx=1389',\n",
    "             'facebook.com',\n",
    "             'news campaign 9902',\n",
    "             'newsletter',\n",
    "             'instagram app',\n",
    "             'instagram app',\n",
    "             'campaign utx=1389',\n",
    "             'direct',\n",
    "             'facebook.com',\n",
    "             'newsletter',\n",
    "             'direct',\n",
    "             'campaign utx=1389',\n",
    "             'direct',\n",
    "             'organic',\n",
    "             'facebook.com',\n",
    "             'facebook.com',\n",
    "             'facebook app',\n",
    "             'campaign utx=9902',\n",
    "             'google search',\n",
    "             'campaign utx=9902',\n",
    "             'campaign utx=1389']"
   ]
  },
  {
   "cell_type": "markdown",
   "metadata": {},
   "source": [
    "In this exercise, I assume that the data belongs to three categories, showing a situation that the visitors are exposed to one of the campaign, from which source the visitors receive the campaign exposure, and their types of traffic. Therefore, I divide the list into three categories:"
   ]
  },
  {
   "cell_type": "markdown",
   "metadata": {},
   "source": [
    "1. ```campaign_num```, which includes the different numbers that can represent different campaigns exposed to the visitors.\n",
    "2. ```vis_sourse``` that shows the source of the visiors, indicating from which website were they exposed to the campaign.\n",
    "3. ```type_traffic```, which shows the type of traffic of the visitor source. Here I assume that ```organic``` is linked with ```google search```, while other types of visitor sourse are linked with ```direct```."
   ]
  },
  {
   "cell_type": "markdown",
   "metadata": {},
   "source": [
    "The function is shown below:"
   ]
  },
  {
   "cell_type": "code",
   "execution_count": 36,
   "metadata": {},
   "outputs": [],
   "source": [
    "def check_visitors(x):\n",
    "    if x in ['campaign utx=9902', 'campaign utx=1389', 'news campaign 9902']:\n",
    "        return ['campaign_num']\n",
    "    if x in ['instagram app', 'facebook app', 'google search', 'facebook.com', 'newsletter']:\n",
    "        return ['vis_source']\n",
    "    if x in ['organic', 'direct']:\n",
    "        return ['type_traffic']"
   ]
  },
  {
   "cell_type": "code",
   "execution_count": 37,
   "metadata": {},
   "outputs": [
    {
     "name": "stdout",
     "output_type": "stream",
     "text": [
      "['campaign_num']\n",
      "['vis_source']\n",
      "['vis_source']\n",
      "['campaign_num']\n",
      "['vis_source']\n",
      "['vis_source']\n",
      "['vis_source']\n",
      "['vis_source']\n",
      "['vis_source']\n",
      "['campaign_num']\n",
      "['vis_source']\n",
      "['campaign_num']\n",
      "['vis_source']\n",
      "['vis_source']\n",
      "['vis_source']\n",
      "['vis_source']\n",
      "['vis_source']\n",
      "['campaign_num']\n",
      "['campaign_num']\n",
      "['vis_source']\n",
      "['type_traffic']\n",
      "['vis_source']\n",
      "['campaign_num']\n",
      "['vis_source']\n",
      "['vis_source']\n",
      "['vis_source']\n",
      "['campaign_num']\n",
      "['campaign_num']\n",
      "['campaign_num']\n",
      "['campaign_num']\n",
      "['vis_source']\n",
      "['campaign_num']\n",
      "['vis_source']\n",
      "['vis_source']\n",
      "['vis_source']\n",
      "['campaign_num']\n",
      "['type_traffic']\n",
      "['vis_source']\n",
      "['vis_source']\n",
      "['type_traffic']\n",
      "['campaign_num']\n",
      "['type_traffic']\n",
      "['type_traffic']\n",
      "['vis_source']\n",
      "['vis_source']\n",
      "['vis_source']\n",
      "['campaign_num']\n",
      "['vis_source']\n",
      "['campaign_num']\n",
      "['campaign_num']\n"
     ]
    }
   ],
   "source": [
    "# Run the function to see if the code works.\n",
    "for visitor in visitors:\n",
    "    print(check_visitors(visitor))"
   ]
  },
  {
   "cell_type": "markdown",
   "metadata": {},
   "source": [
    "## Challenge 3\n",
    "\n",
    "This is the most important challenge of this tutorial, as we will use the concepts here to think how to organize our (digital) data. The paragraph below contains a lot of information. How would you organize this data in a way that you can visualize and work with it later? Consider using lists, dictionaries, tuples... or whatever makes sense to you! \n",
    "\n",
    "Please explain why you decided to do what you did.\n",
    "\n",
    "\n",
    "```\n",
    "John Smith is 32 years old, is an analyst at Salesforce UK,\n",
    "and is father to a young boy. He is divorced. \n",
    "Mary Smith is 21 years old, currently studies at the\n",
    "University of Amsterdam, and was born in the US. \n",
    "Tom Brokaw is a US journalist, born in 1940, \n",
    "married with three children.\n",
    "```\n",
    "\n"
   ]
  },
  {
   "cell_type": "code",
   "execution_count": 24,
   "metadata": {},
   "outputs": [],
   "source": [
    "age = {\n",
    "    'John Smith' : 32,\n",
    "    'Mary Smith' : 21,\n",
    "    'Tom Brokaw' : 99\n",
    "}"
   ]
  },
  {
   "cell_type": "code",
   "execution_count": 25,
   "metadata": {},
   "outputs": [],
   "source": [
    "job = {\n",
    "    'John Smith' : 'analyst',\n",
    "    'Mary Smith' : 'student',\n",
    "    'Tom Brokaw' : 'journalist'\n",
    "}"
   ]
  },
  {
   "cell_type": "code",
   "execution_count": 26,
   "metadata": {},
   "outputs": [],
   "source": [
    "workplace = {\n",
    "    'John Smith' : 'Salesforce UK',\n",
    "    'Mary Smith' : 'University of Amsterdam',\n",
    "    'Tom Brokaw' : 99\n",
    "}"
   ]
  },
  {
   "cell_type": "code",
   "execution_count": 27,
   "metadata": {},
   "outputs": [],
   "source": [
    "child = {\n",
    "    'John Smith' : 1,\n",
    "    'Mary Smith' : 99,\n",
    "    'Tom Brokaw' : 3\n",
    "}"
   ]
  },
  {
   "cell_type": "code",
   "execution_count": 28,
   "metadata": {},
   "outputs": [],
   "source": [
    "child_gender = {\n",
    "    'John Smith' : 'M',\n",
    "    'Mary Smith' : 99,\n",
    "    'Tom Brokaw' : 99\n",
    "}"
   ]
  },
  {
   "cell_type": "code",
   "execution_count": 29,
   "metadata": {},
   "outputs": [],
   "source": [
    "marr_con = {\n",
    "    'John Smith' : 'divorced',\n",
    "    'Mary Smith' : 99,\n",
    "    'Tom Brokaw' : 'married'\n",
    "}"
   ]
  },
  {
   "cell_type": "code",
   "execution_count": 30,
   "metadata": {},
   "outputs": [],
   "source": [
    "place_born = {\n",
    "    'John Smith' : 99,\n",
    "    'Mary Smith' : 'US',\n",
    "    'Tom Brokaw' : 'US'\n",
    "}"
   ]
  },
  {
   "cell_type": "code",
   "execution_count": 31,
   "metadata": {},
   "outputs": [],
   "source": [
    "year_born = {\n",
    "    'John Smith' : 99,\n",
    "    'Mary Smith' : 99,\n",
    "    'Tom Brokaw' : 1940\n",
    "}"
   ]
  },
  {
   "cell_type": "markdown",
   "metadata": {},
   "source": [
    "I divide this data into 8 dictionaries. The main reason for me to do so is that I want to work with it later, so I want to have a series of data that:"
   ]
  },
  {
   "cell_type": "markdown",
   "metadata": {},
   "source": [
    "1. have the same \"style\", so I organize them all using dictionaries (instead of using half lists, half dictionaries, etc.)\n",
    "2. can be changed, so I did not choose tuples.\n",
    "3. would be simple for me to find a single item, not according to the places of items. So I did not choose lists.\n",
    "4. have similar parts in every dictionary, so that I can identify the data's belonging and can link them later."
   ]
  },
  {
   "cell_type": "markdown",
   "metadata": {},
   "source": [
    "Because the data belongs to three people, here, I divide the dictionaries according to their names. In each dictionary, there is only one type of data assigned to each people, and different dictionaries can be linked by people's name. I don't know how to show missing values in Python, so here I simply use ```99``` to represent the missing values."
   ]
  }
 ],
 "metadata": {
  "kernelspec": {
   "display_name": "Python 3",
   "language": "python",
   "name": "python3"
  },
  "language_info": {
   "codemirror_mode": {
    "name": "ipython",
    "version": 3
   },
   "file_extension": ".py",
   "mimetype": "text/x-python",
   "name": "python",
   "nbconvert_exporter": "python",
   "pygments_lexer": "ipython3",
   "version": "3.7.9"
  }
 },
 "nbformat": 4,
 "nbformat_minor": 4
}
