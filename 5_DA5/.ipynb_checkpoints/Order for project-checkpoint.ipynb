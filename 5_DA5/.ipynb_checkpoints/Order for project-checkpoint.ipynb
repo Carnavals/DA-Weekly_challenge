{
 "cells": [
  {
   "cell_type": "markdown",
   "id": "aquatic-diabetes",
   "metadata": {},
   "source": [
    "# Research question & variables"
   ]
  },
  {
   "cell_type": "markdown",
   "id": "joined-sudan",
   "metadata": {},
   "source": [
    "* Raise **research questions and hypothesis**\n",
    "* Make a **list** of IV, DV, moderators and covariates"
   ]
  },
  {
   "cell_type": "code",
   "execution_count": null,
   "id": "competitive-excess",
   "metadata": {},
   "outputs": [],
   "source": []
  },
  {
   "cell_type": "markdown",
   "id": "gorgeous-vocabulary",
   "metadata": {},
   "source": [
    "# Check the data"
   ]
  },
  {
   "cell_type": "markdown",
   "id": "southeast-margin",
   "metadata": {},
   "source": [
    "* ```len(data)```\n",
    "* ```data.head()```\n",
    "* ```data.columns```\n",
    "* ```data.dtypes```\n",
    "* ```data.isna().sum()```\n",
    "* ```data[['col1', 'col2', 'col3']].isna().sum()```"
   ]
  },
  {
   "cell_type": "code",
   "execution_count": null,
   "id": "matched-dependence",
   "metadata": {},
   "outputs": [],
   "source": []
  },
  {
   "cell_type": "markdown",
   "id": "published-generation",
   "metadata": {},
   "source": [
    "# Clean the data"
   ]
  },
  {
   "cell_type": "markdown",
   "id": "hispanic-chinese",
   "metadata": {},
   "source": [
    "* ```data['col'].value_counts()```\n",
    "* ```data['col'].value_counts(normalize=True)```\n",
    "* ```data['col'].describe()```\n",
    "* ```data['col_new'] = data['col'].fillna(0)```"
   ]
  },
  {
   "cell_type": "code",
   "execution_count": null,
   "id": "geographic-bryan",
   "metadata": {},
   "outputs": [],
   "source": [
    "def fix_col(col):\n",
    "    if str(col).lower() == 'nan':\n",
    "        return 0\n",
    "    return 1\n",
    "# fix missing value, replace 'NAN' by 0\n",
    "data['col_new'] = data['col'].apply(fix_landing)"
   ]
  },
  {
   "cell_type": "code",
   "execution_count": null,
   "id": "closing-lawrence",
   "metadata": {},
   "outputs": [],
   "source": [
    "def check_category(source, variablename):\n",
    "    if source == variablename:\n",
    "        return 1\n",
    "    return 0\n",
    "# divide the variable into two categories\n",
    "data['cat1'] = data['col'].apply(check_category, args=('cat1',))\n",
    "data['cat2'] = data['col'].apply(check_category, args=('cat2',))"
   ]
  },
  {
   "cell_type": "code",
   "execution_count": null,
   "id": "controversial-examination",
   "metadata": {},
   "outputs": [],
   "source": [
    "def generate_other(row):\n",
    "    if row['col1'] == 1:\n",
    "        row['col3'] = 0\n",
    "    elif row['col2'] == 1:\n",
    "        row['col3'] = 0\n",
    "    else:\n",
    "        row['col3'] = 1\n",
    "    return row\n",
    "# divide the variable into three categories\n",
    "data = data.apply(generate_other, axis=1)"
   ]
  },
  {
   "cell_type": "code",
   "execution_count": null,
   "id": "bearing-church",
   "metadata": {},
   "outputs": [],
   "source": []
  },
  {
   "cell_type": "markdown",
   "id": "secondary-yacht",
   "metadata": {},
   "source": [
    "# Data exploration and visualization"
   ]
  },
  {
   "cell_type": "code",
   "execution_count": null,
   "id": "hungarian-rescue",
   "metadata": {},
   "outputs": [],
   "source": []
  },
  {
   "cell_type": "markdown",
   "id": "incredible-edwards",
   "metadata": {},
   "source": [
    "# Modeling"
   ]
  },
  {
   "cell_type": "code",
   "execution_count": null,
   "id": "correct-squad",
   "metadata": {},
   "outputs": [],
   "source": []
  }
 ],
 "metadata": {
  "kernelspec": {
   "display_name": "Python 3",
   "language": "python",
   "name": "python3"
  },
  "language_info": {
   "codemirror_mode": {
    "name": "ipython",
    "version": 3
   },
   "file_extension": ".py",
   "mimetype": "text/x-python",
   "name": "python",
   "nbconvert_exporter": "python",
   "pygments_lexer": "ipython3",
   "version": "3.7.9"
  },
  "toc": {
   "base_numbering": 1,
   "nav_menu": {},
   "number_sections": true,
   "sideBar": true,
   "skip_h1_title": false,
   "title_cell": "Table of Contents",
   "title_sidebar": "Contents",
   "toc_cell": false,
   "toc_position": {},
   "toc_section_display": true,
   "toc_window_display": false
  }
 },
 "nbformat": 4,
 "nbformat_minor": 5
}
