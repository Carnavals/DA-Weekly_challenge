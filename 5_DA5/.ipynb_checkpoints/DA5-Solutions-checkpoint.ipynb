{
 "cells": [
  {
   "cell_type": "markdown",
   "metadata": {},
   "source": [
    "# Challenges for week 5\n",
    "\n",
    "Now that we've seen how to run statistical testing and create supervised machine learning models in Python, it's time for you to apply this knowledge. This week has three challenges. Make sure to give it a try and complete all of them. \n",
    "\n",
    "**Some important notes for the challenges:**\n",
    "1. These challenges are a warming up, and help you get ready for class. Make sure to give them a try. If you get an error message, try to troubleshoot it (using Google often helps). If all else fails, go to the next challenge (but make sure to hand it in).\n",
    "2. While we of course like when you get all the answers right, the important thing is to exercise and apply the knowledge. So we will still accept challenges that may not be complete, as long as we see enough effort *for each challenge*. This means that if one of the challenges is not delivered (not started and no attempt shown), we unfortunately will not be able to provide a full grade for that week.\n",
    "3. Delivering the challenge to the right place is a critical part of the challenge. \n",
    "\n",
    "### A different way to deliver the challenges this week\n",
    "\n",
    "As of this week, you will deliver the challenges as an HTML file, and upload it to Canvas. To do so, complete the challenge as you'd normally do. When you're ready, in Jupyter Lab, select File --> Export Notebook As --> Export Notebook to HTML. An html file will be generated (and probably downloaded to your Downloads folder). Upload this html file to Canvas.\n",
    "\n",
    "\n",
    "\n",
    "### Facing issues? \n",
    "\n",
    "We are constantly monitoring the issues on the GitHub general repository (https://github.com/uva-cw-digitalanalytics/2021s1/issues) to help you out. Don't hesitate to log an issue there, explaining well what the problem is, showing the code you are using, and the error message you may be receiving. \n",
    "\n",
    "**Important:** We are only monitoring the repository in weekdays, and until 17.00. Issues logged after this time will most likely be answered the next day. This means you should now wait for our response before submitting a challenge :-)"
   ]
  },
  {
   "cell_type": "markdown",
   "metadata": {},
   "source": [
    "## Getting setup for the challenges\n",
    "\n",
    "We will use the Google Store data that we also saw in the video tutorials. Make sure to either have it by cloning the general repository, or downloading it from surfdrive (see link in the General Repository homepage) and placing it in the same folder as you are running this weekly challenge.\n"
   ]
  },
  {
   "cell_type": "markdown",
   "metadata": {},
   "source": [
    "## The case\n",
    "Our website has launched new campaigns to increase in sales (as binary, converted from **order_euros**) and revenue (**order_euros**). \n",
    "\n",
    "We are interested in two campaigns:\n",
    "* The **referral** campaign\n",
    "* The **CPC** campaign\n",
    "\n",
    "We want to know if (a) each campaign led to an increase in sales **compared** to the other campaigns (i.e., any traffic source that is not set as CPC or referral)  and, (b) if one campaign led to more sales than the other.\n",
    "\n",
    "Both dependent variables (sales and revenue) should come from the *order_euros* variable.  \n",
    "\n",
    "We also want to understand how the device that someone has, and the location that someone is in, influence sales and revenue. This means you need also to create two additional independent variables:\n",
    "* At least one binary variable for type of device\n",
    "* At least one binary variable for location\n",
    "\n",
    "\n",
    "### Important note:\n",
    "Because the dataset is very large and it may take some time to run the code, we will select a random sample of 10% of the visits that are in the dataset. Please run the code below (exactly as it is):"
   ]
  },
  {
   "cell_type": "code",
   "execution_count": 8,
   "metadata": {},
   "outputs": [],
   "source": [
    "import pandas as pd\n",
    "visits = pd.read_pickle('googlestore_DA5weeklychallenges.pkl')"
   ]
  },
  {
   "cell_type": "code",
   "execution_count": 49,
   "metadata": {},
   "outputs": [],
   "source": [
    "import pandas as pd\n",
    "import seaborn as sns\n",
    "%matplotlib inline"
   ]
  },
  {
   "cell_type": "code",
   "execution_count": 9,
   "metadata": {},
   "outputs": [
    {
     "data": {
      "text/plain": [
       "52308"
      ]
     },
     "execution_count": 9,
     "metadata": {},
     "output_type": "execute_result"
    }
   ],
   "source": [
    "len(visits)"
   ]
  },
  {
   "cell_type": "code",
   "execution_count": 10,
   "metadata": {},
   "outputs": [],
   "source": [
    "# Selecting a sample of 10% visits. The \"random_state\" option ensures that everyone has the same data\n",
    "visits = visits.sample(frac=0.1, random_state = 42)"
   ]
  },
  {
   "cell_type": "code",
   "execution_count": 11,
   "metadata": {},
   "outputs": [
    {
     "data": {
      "text/plain": [
       "5231"
      ]
     },
     "execution_count": 11,
     "metadata": {},
     "output_type": "execute_result"
    }
   ],
   "source": [
    "len(visits)"
   ]
  },
  {
   "cell_type": "markdown",
   "metadata": {},
   "source": [
    "## Challenge 1\n",
    "\n",
    "Create a RQ and hypothesis (or hypotheses) based on the case description above, and prepare the dataset and the variables needed to answer the RQ and hypothesis. \n",
    "\n",
    "When everything is done:\n",
    "* Show the descriptive statistics for the IVs and the DVs\n",
    "* Create one univariate visualisation per IV\n",
    "* Create one univariate visualisation per DV\n",
    "* Create one bivariate visualisation per hypothesis\n",
    "* Show the descriptives of the DV grouped by the IV\n",
    "* Provide a brief summary (in MarkDown) with your interpretation of the results\n",
    "\n",
    "### Tip:\n",
    "For sales (i.e., whether someone made a purchase or not), you will need to transform a continuous variable (order_euros) into a binary variable (0 = no purchase, 1 = purchase)."
   ]
  },
  {
   "cell_type": "markdown",
   "metadata": {},
   "source": [
    "**Independent variables**\n",
    "\n",
    "* CPC OK\n",
    "* Referral OK\n",
    "* Other campaigns OK\n",
    "\n",
    "**Control variables**\n",
    "\n",
    "* Type of device (Apple vs. other) OK\n",
    "* Location (US vs. other countries) OK\n",
    "\n",
    "**Dependent variables**:\n",
    "\n",
    "* Sale --> binary (0: no sale; 1: sale) OK\n",
    "* Revenue --> continuous variable (euros spent, 0......) OK\n"
   ]
  },
  {
   "cell_type": "code",
   "execution_count": 12,
   "metadata": {},
   "outputs": [
    {
     "data": {
      "text/plain": [
       "Index(['affiliate', 'channelGrouping', 'cpc', 'date', 'device_browser',\n",
       "       'device_deviceCategory', 'device_isMobile', 'device_operatingSystem',\n",
       "       'fullVisitorId', 'geoNetwork_city', 'geoNetwork_continent',\n",
       "       'geoNetwork_country', 'geoNetwork_metro', 'geoNetwork_networkDomain',\n",
       "       'geoNetwork_region', 'geoNetwork_subContinent', 'isExit',\n",
       "       'landing_appInfo_landingScreenName', 'landing_appInfo_screenDepth',\n",
       "       'landing_appInfo_screenName', 'landing_contentGroup_contentGroup1',\n",
       "       'landing_contentGroup_contentGroup2',\n",
       "       'landing_contentGroup_contentGroup3',\n",
       "       'landing_contentGroup_contentGroup4',\n",
       "       'landing_contentGroup_contentGroup5', 'landing_hour',\n",
       "       'landing_isEntrance', 'landing_isExit', 'landing_minute',\n",
       "       'landing_page_hostname', 'landing_page_pagePath',\n",
       "       'landing_page_pagePathLevel1', 'landing_page_pagePathLevel2',\n",
       "       'landing_page_pagePathLevel3', 'landing_page_pagePathLevel4',\n",
       "       'landing_page_pageTitle', 'landing_product_isClick',\n",
       "       'landing_product_isImpression', 'landing_product_productBrand',\n",
       "       'landing_product_productListName',\n",
       "       'landing_product_productListPosition', 'landing_product_productPrice',\n",
       "       'landing_product_productQuantity', 'landing_product_productSKU',\n",
       "       'landing_product_productVariant', 'landing_product_v2ProductCategory',\n",
       "       'landing_product_v2ProductName',\n",
       "       'landing_promotionActionInfo_promoIsView',\n",
       "       'landing_promotion_promoCreative', 'landing_promotion_promoId',\n",
       "       'landing_promotion_promoName', 'landing_promotion_promoPosition',\n",
       "       'landing_referer', 'landing_social_hasSocialSourceReferral',\n",
       "       'landing_social_socialInteractionNetworkAction',\n",
       "       'landing_social_socialNetwork', 'order_euros', 'referral',\n",
       "       'totals_bounces', 'totals_newVisits', 'totals_pageviews',\n",
       "       'totals_timeOnSite', 'totals_transactionRevenue', 'totals_transactions',\n",
       "       'trafficSource_adContent',\n",
       "       'trafficSource_adwordsClickInfo_adNetworkType',\n",
       "       'trafficSource_adwordsClickInfo_gclId',\n",
       "       'trafficSource_adwordsClickInfo_isVideoAd',\n",
       "       'trafficSource_adwordsClickInfo_page',\n",
       "       'trafficSource_adwordsClickInfo_slot', 'trafficSource_campaign',\n",
       "       'trafficSource_isTrueDirect', 'trafficSource_keyword',\n",
       "       'trafficSource_medium', 'trafficSource_referralPath',\n",
       "       'trafficSource_source', 'visitId', 'visitNumber', 'visitStartTime'],\n",
       "      dtype='object')"
      ]
     },
     "execution_count": 12,
     "metadata": {},
     "output_type": "execute_result"
    }
   ],
   "source": [
    "visits.columns"
   ]
  },
  {
   "cell_type": "code",
   "execution_count": 13,
   "metadata": {},
   "outputs": [
    {
     "data": {
      "text/html": [
       "<div>\n",
       "<style scoped>\n",
       "    .dataframe tbody tr th:only-of-type {\n",
       "        vertical-align: middle;\n",
       "    }\n",
       "\n",
       "    .dataframe tbody tr th {\n",
       "        vertical-align: top;\n",
       "    }\n",
       "\n",
       "    .dataframe thead th {\n",
       "        text-align: right;\n",
       "    }\n",
       "</style>\n",
       "<table border=\"1\" class=\"dataframe\">\n",
       "  <thead>\n",
       "    <tr style=\"text-align: right;\">\n",
       "      <th></th>\n",
       "      <th>device_operatingSystem</th>\n",
       "      <th>geoNetwork_country</th>\n",
       "      <th>trafficSource_medium</th>\n",
       "      <th>order_euros</th>\n",
       "    </tr>\n",
       "  </thead>\n",
       "  <tbody>\n",
       "    <tr>\n",
       "      <th>36548</th>\n",
       "      <td>Macintosh</td>\n",
       "      <td>United States</td>\n",
       "      <td>(none)</td>\n",
       "      <td>128.0</td>\n",
       "    </tr>\n",
       "    <tr>\n",
       "      <th>26376</th>\n",
       "      <td>Android</td>\n",
       "      <td>United States</td>\n",
       "      <td>cpc</td>\n",
       "      <td>NaN</td>\n",
       "    </tr>\n",
       "    <tr>\n",
       "      <th>21940</th>\n",
       "      <td>Macintosh</td>\n",
       "      <td>Mexico</td>\n",
       "      <td>organic</td>\n",
       "      <td>154.0</td>\n",
       "    </tr>\n",
       "    <tr>\n",
       "      <th>8907</th>\n",
       "      <td>Android</td>\n",
       "      <td>Italy</td>\n",
       "      <td>organic</td>\n",
       "      <td>NaN</td>\n",
       "    </tr>\n",
       "    <tr>\n",
       "      <th>36441</th>\n",
       "      <td>Linux</td>\n",
       "      <td>United States</td>\n",
       "      <td>(none)</td>\n",
       "      <td>NaN</td>\n",
       "    </tr>\n",
       "  </tbody>\n",
       "</table>\n",
       "</div>"
      ],
      "text/plain": [
       "      device_operatingSystem geoNetwork_country trafficSource_medium  \\\n",
       "36548              Macintosh      United States               (none)   \n",
       "26376                Android      United States                  cpc   \n",
       "21940              Macintosh             Mexico              organic   \n",
       "8907                 Android              Italy              organic   \n",
       "36441                  Linux      United States               (none)   \n",
       "\n",
       "       order_euros  \n",
       "36548        128.0  \n",
       "26376          NaN  \n",
       "21940        154.0  \n",
       "8907           NaN  \n",
       "36441          NaN  "
      ]
     },
     "execution_count": 13,
     "metadata": {},
     "output_type": "execute_result"
    }
   ],
   "source": [
    "visits[['device_operatingSystem', 'geoNetwork_country', 'trafficSource_medium', 'order_euros']].head()"
   ]
  },
  {
   "cell_type": "code",
   "execution_count": 14,
   "metadata": {},
   "outputs": [
    {
     "data": {
      "text/plain": [
       "device_operatingSystem       0\n",
       "geoNetwork_country           0\n",
       "trafficSource_medium         0\n",
       "order_euros               2390\n",
       "dtype: int64"
      ]
     },
     "execution_count": 14,
     "metadata": {},
     "output_type": "execute_result"
    }
   ],
   "source": [
    "visits[['device_operatingSystem', 'geoNetwork_country', 'trafficSource_medium', 'order_euros']].isna().sum()"
   ]
  },
  {
   "cell_type": "code",
   "execution_count": 16,
   "metadata": {},
   "outputs": [
    {
     "data": {
      "text/plain": [
       "organic      2273\n",
       "cpc          1326\n",
       "(none)        989\n",
       "referral      545\n",
       "affiliate      75\n",
       "cpm            23\n",
       "Name: trafficSource_medium, dtype: int64"
      ]
     },
     "execution_count": 16,
     "metadata": {},
     "output_type": "execute_result"
    }
   ],
   "source": [
    "visits['trafficSource_medium'].value_counts()"
   ]
  },
  {
   "cell_type": "code",
   "execution_count": 15,
   "metadata": {},
   "outputs": [],
   "source": [
    "def check_category(source, variablename):\n",
    "    if source == variablename:\n",
    "        return 1\n",
    "    return 0"
   ]
  },
  {
   "cell_type": "code",
   "execution_count": 17,
   "metadata": {},
   "outputs": [],
   "source": [
    "visits['cpc'] = visits['trafficSource_medium'].apply(check_category, args=('cpc',))\n",
    "visits['referral'] = visits['trafficSource_medium'].apply(check_category, args=('referral',))"
   ]
  },
  {
   "cell_type": "code",
   "execution_count": 18,
   "metadata": {},
   "outputs": [
    {
     "data": {
      "text/plain": [
       "0    3905\n",
       "1    1326\n",
       "Name: cpc, dtype: int64"
      ]
     },
     "execution_count": 18,
     "metadata": {},
     "output_type": "execute_result"
    }
   ],
   "source": [
    "visits['cpc'].value_counts()"
   ]
  },
  {
   "cell_type": "code",
   "execution_count": 19,
   "metadata": {},
   "outputs": [
    {
     "data": {
      "text/plain": [
       "0    4686\n",
       "1     545\n",
       "Name: referral, dtype: int64"
      ]
     },
     "execution_count": 19,
     "metadata": {},
     "output_type": "execute_result"
    }
   ],
   "source": [
    "visits['referral'].value_counts()"
   ]
  },
  {
   "cell_type": "code",
   "execution_count": 20,
   "metadata": {},
   "outputs": [],
   "source": [
    "def generate_other(row):\n",
    "    if row['cpc'] == 1:\n",
    "        row['other_campaign'] = 0\n",
    "    elif row['referral'] == 1:\n",
    "        row['other_campaign'] = 0\n",
    "    else:\n",
    "        row['other_campaign'] = 1\n",
    "    return row"
   ]
  },
  {
   "cell_type": "code",
   "execution_count": 21,
   "metadata": {},
   "outputs": [],
   "source": [
    "visits = visits.apply(generate_other, axis=1)"
   ]
  },
  {
   "cell_type": "code",
   "execution_count": 22,
   "metadata": {},
   "outputs": [
    {
     "data": {
      "text/plain": [
       "1    3360\n",
       "0    1871\n",
       "Name: other_campaign, dtype: int64"
      ]
     },
     "execution_count": 22,
     "metadata": {},
     "output_type": "execute_result"
    }
   ],
   "source": [
    "visits['other_campaign'].value_counts()"
   ]
  },
  {
   "cell_type": "code",
   "execution_count": 23,
   "metadata": {},
   "outputs": [
    {
     "data": {
      "text/plain": [
       "True"
      ]
     },
     "execution_count": 23,
     "metadata": {},
     "output_type": "execute_result"
    }
   ],
   "source": [
    "(3360 + 545 + 1326) == len(visits)"
   ]
  },
  {
   "cell_type": "code",
   "execution_count": 24,
   "metadata": {},
   "outputs": [],
   "source": [
    "def generate_category(row):\n",
    "    if row['cpc'] == 1:\n",
    "        row['cat_campaign'] = 'cpc'\n",
    "    if row['referral'] == 1:\n",
    "        row['cat_campaign'] = 'referral'\n",
    "    if row['other_campaign'] == 1:\n",
    "        row['cat_campaign'] = 'other'\n",
    "    return row"
   ]
  },
  {
   "cell_type": "code",
   "execution_count": 25,
   "metadata": {},
   "outputs": [],
   "source": [
    "visits = visits.apply(generate_category, axis=1)"
   ]
  },
  {
   "cell_type": "code",
   "execution_count": 26,
   "metadata": {},
   "outputs": [
    {
     "data": {
      "text/plain": [
       "other       3360\n",
       "cpc         1326\n",
       "referral     545\n",
       "Name: cat_campaign, dtype: int64"
      ]
     },
     "execution_count": 26,
     "metadata": {},
     "output_type": "execute_result"
    }
   ],
   "source": [
    "visits['cat_campaign'].value_counts()"
   ]
  },
  {
   "cell_type": "code",
   "execution_count": 27,
   "metadata": {},
   "outputs": [
    {
     "data": {
      "text/html": [
       "<div>\n",
       "<style scoped>\n",
       "    .dataframe tbody tr th:only-of-type {\n",
       "        vertical-align: middle;\n",
       "    }\n",
       "\n",
       "    .dataframe tbody tr th {\n",
       "        vertical-align: top;\n",
       "    }\n",
       "\n",
       "    .dataframe thead th {\n",
       "        text-align: right;\n",
       "    }\n",
       "</style>\n",
       "<table border=\"1\" class=\"dataframe\">\n",
       "  <thead>\n",
       "    <tr style=\"text-align: right;\">\n",
       "      <th></th>\n",
       "      <th>device_operatingSystem</th>\n",
       "      <th>geoNetwork_country</th>\n",
       "      <th>cpc</th>\n",
       "      <th>referral</th>\n",
       "      <th>other_campaign</th>\n",
       "      <th>cat_campaign</th>\n",
       "      <th>order_euros</th>\n",
       "    </tr>\n",
       "  </thead>\n",
       "  <tbody>\n",
       "    <tr>\n",
       "      <th>36548</th>\n",
       "      <td>Macintosh</td>\n",
       "      <td>United States</td>\n",
       "      <td>0</td>\n",
       "      <td>0</td>\n",
       "      <td>1</td>\n",
       "      <td>other</td>\n",
       "      <td>128.0</td>\n",
       "    </tr>\n",
       "    <tr>\n",
       "      <th>26376</th>\n",
       "      <td>Android</td>\n",
       "      <td>United States</td>\n",
       "      <td>1</td>\n",
       "      <td>0</td>\n",
       "      <td>0</td>\n",
       "      <td>cpc</td>\n",
       "      <td>NaN</td>\n",
       "    </tr>\n",
       "    <tr>\n",
       "      <th>21940</th>\n",
       "      <td>Macintosh</td>\n",
       "      <td>Mexico</td>\n",
       "      <td>0</td>\n",
       "      <td>0</td>\n",
       "      <td>1</td>\n",
       "      <td>other</td>\n",
       "      <td>154.0</td>\n",
       "    </tr>\n",
       "    <tr>\n",
       "      <th>8907</th>\n",
       "      <td>Android</td>\n",
       "      <td>Italy</td>\n",
       "      <td>0</td>\n",
       "      <td>0</td>\n",
       "      <td>1</td>\n",
       "      <td>other</td>\n",
       "      <td>NaN</td>\n",
       "    </tr>\n",
       "    <tr>\n",
       "      <th>36441</th>\n",
       "      <td>Linux</td>\n",
       "      <td>United States</td>\n",
       "      <td>0</td>\n",
       "      <td>0</td>\n",
       "      <td>1</td>\n",
       "      <td>other</td>\n",
       "      <td>NaN</td>\n",
       "    </tr>\n",
       "  </tbody>\n",
       "</table>\n",
       "</div>"
      ],
      "text/plain": [
       "      device_operatingSystem geoNetwork_country  cpc  referral  \\\n",
       "36548              Macintosh      United States    0         0   \n",
       "26376                Android      United States    1         0   \n",
       "21940              Macintosh             Mexico    0         0   \n",
       "8907                 Android              Italy    0         0   \n",
       "36441                  Linux      United States    0         0   \n",
       "\n",
       "       other_campaign cat_campaign  order_euros  \n",
       "36548               1        other        128.0  \n",
       "26376               0          cpc          NaN  \n",
       "21940               1        other        154.0  \n",
       "8907                1        other          NaN  \n",
       "36441               1        other          NaN  "
      ]
     },
     "execution_count": 27,
     "metadata": {},
     "output_type": "execute_result"
    }
   ],
   "source": [
    "visits[['device_operatingSystem', 'geoNetwork_country', 'cpc', 'referral', 'other_campaign', 'cat_campaign', 'order_euros']].head()"
   ]
  },
  {
   "cell_type": "code",
   "execution_count": 29,
   "metadata": {},
   "outputs": [
    {
     "data": {
      "text/plain": [
       "Android          1760\n",
       "Windows          1401\n",
       "Macintosh        1047\n",
       "iOS               710\n",
       "Linux             157\n",
       "Chrome OS         121\n",
       "(not set)          29\n",
       "Windows Phone       3\n",
       "Tizen               2\n",
       "Samsung             1\n",
       "Name: device_operatingSystem, dtype: int64"
      ]
     },
     "execution_count": 29,
     "metadata": {},
     "output_type": "execute_result"
    }
   ],
   "source": [
    "visits['device_operatingSystem'].value_counts()"
   ]
  },
  {
   "cell_type": "code",
   "execution_count": 30,
   "metadata": {},
   "outputs": [],
   "source": [
    "def wordlist_any_present(text, query):\n",
    "    import re\n",
    "    text = str(text).lower()\n",
    "    newquery = []\n",
    "    for word in query:\n",
    "        newquery.append(str(word).lower())\n",
    "    tokens = re.findall(r\"[\\w']+|[.,!?;$@#]\", text)\n",
    "    \n",
    "    for word in newquery:\n",
    "        if word in tokens:\n",
    "            return 1\n",
    "    return 0"
   ]
  },
  {
   "cell_type": "code",
   "execution_count": 31,
   "metadata": {},
   "outputs": [],
   "source": [
    "visits['apple_device'] = visits['device_operatingSystem'].apply(wordlist_any_present, args=(['Macintosh', 'iOS'],))"
   ]
  },
  {
   "cell_type": "code",
   "execution_count": 32,
   "metadata": {},
   "outputs": [
    {
     "data": {
      "text/plain": [
       "0    3474\n",
       "1    1757\n",
       "Name: apple_device, dtype: int64"
      ]
     },
     "execution_count": 32,
     "metadata": {},
     "output_type": "execute_result"
    }
   ],
   "source": [
    "visits['apple_device'].value_counts()"
   ]
  },
  {
   "cell_type": "code",
   "execution_count": 33,
   "metadata": {},
   "outputs": [
    {
     "data": {
      "text/plain": [
       "United States     2510\n",
       "United Kingdom     308\n",
       "India              274\n",
       "Canada             162\n",
       "Mexico             129\n",
       "                  ... \n",
       "Palestine            1\n",
       "Cameroon             1\n",
       "Uzbekistan           1\n",
       "Panama               1\n",
       "Cambodia             1\n",
       "Name: geoNetwork_country, Length: 125, dtype: int64"
      ]
     },
     "execution_count": 33,
     "metadata": {},
     "output_type": "execute_result"
    }
   ],
   "source": [
    "visits['geoNetwork_country'].value_counts()"
   ]
  },
  {
   "cell_type": "code",
   "execution_count": 34,
   "metadata": {},
   "outputs": [],
   "source": [
    "def wordlist_present(text, query):\n",
    "    import re\n",
    "    text = str(text).lower()\n",
    "    newquery = []\n",
    "    for word in query:\n",
    "        newquery.append(str(word).lower())\n",
    "    tokens = re.findall(r\"[\\w']+|[.,!?;$@#]\", text)\n",
    "    \n",
    "    if set(newquery).issubset(tokens):\n",
    "        return 1\n",
    "    return 0"
   ]
  },
  {
   "cell_type": "code",
   "execution_count": 35,
   "metadata": {},
   "outputs": [],
   "source": [
    "visits['country_US'] = visits['geoNetwork_country'].apply(wordlist_present, args=(['United', 'States', ],))"
   ]
  },
  {
   "cell_type": "code",
   "execution_count": 36,
   "metadata": {},
   "outputs": [
    {
     "data": {
      "text/plain": [
       "0    2721\n",
       "1    2510\n",
       "Name: country_US, dtype: int64"
      ]
     },
     "execution_count": 36,
     "metadata": {},
     "output_type": "execute_result"
    }
   ],
   "source": [
    "visits['country_US'].value_counts()"
   ]
  },
  {
   "cell_type": "code",
   "execution_count": 37,
   "metadata": {},
   "outputs": [
    {
     "data": {
      "text/html": [
       "<div>\n",
       "<style scoped>\n",
       "    .dataframe tbody tr th:only-of-type {\n",
       "        vertical-align: middle;\n",
       "    }\n",
       "\n",
       "    .dataframe tbody tr th {\n",
       "        vertical-align: top;\n",
       "    }\n",
       "\n",
       "    .dataframe thead th {\n",
       "        text-align: right;\n",
       "    }\n",
       "</style>\n",
       "<table border=\"1\" class=\"dataframe\">\n",
       "  <thead>\n",
       "    <tr style=\"text-align: right;\">\n",
       "      <th></th>\n",
       "      <th>apple_device</th>\n",
       "      <th>country_US</th>\n",
       "      <th>cpc</th>\n",
       "      <th>referral</th>\n",
       "      <th>other_campaign</th>\n",
       "      <th>cat_campaign</th>\n",
       "      <th>order_euros</th>\n",
       "    </tr>\n",
       "  </thead>\n",
       "  <tbody>\n",
       "    <tr>\n",
       "      <th>36548</th>\n",
       "      <td>1</td>\n",
       "      <td>1</td>\n",
       "      <td>0</td>\n",
       "      <td>0</td>\n",
       "      <td>1</td>\n",
       "      <td>other</td>\n",
       "      <td>128.0</td>\n",
       "    </tr>\n",
       "    <tr>\n",
       "      <th>26376</th>\n",
       "      <td>0</td>\n",
       "      <td>1</td>\n",
       "      <td>1</td>\n",
       "      <td>0</td>\n",
       "      <td>0</td>\n",
       "      <td>cpc</td>\n",
       "      <td>NaN</td>\n",
       "    </tr>\n",
       "    <tr>\n",
       "      <th>21940</th>\n",
       "      <td>1</td>\n",
       "      <td>0</td>\n",
       "      <td>0</td>\n",
       "      <td>0</td>\n",
       "      <td>1</td>\n",
       "      <td>other</td>\n",
       "      <td>154.0</td>\n",
       "    </tr>\n",
       "    <tr>\n",
       "      <th>8907</th>\n",
       "      <td>0</td>\n",
       "      <td>0</td>\n",
       "      <td>0</td>\n",
       "      <td>0</td>\n",
       "      <td>1</td>\n",
       "      <td>other</td>\n",
       "      <td>NaN</td>\n",
       "    </tr>\n",
       "    <tr>\n",
       "      <th>36441</th>\n",
       "      <td>0</td>\n",
       "      <td>1</td>\n",
       "      <td>0</td>\n",
       "      <td>0</td>\n",
       "      <td>1</td>\n",
       "      <td>other</td>\n",
       "      <td>NaN</td>\n",
       "    </tr>\n",
       "  </tbody>\n",
       "</table>\n",
       "</div>"
      ],
      "text/plain": [
       "       apple_device  country_US  cpc  referral  other_campaign cat_campaign  \\\n",
       "36548             1           1    0         0               1        other   \n",
       "26376             0           1    1         0               0          cpc   \n",
       "21940             1           0    0         0               1        other   \n",
       "8907              0           0    0         0               1        other   \n",
       "36441             0           1    0         0               1        other   \n",
       "\n",
       "       order_euros  \n",
       "36548        128.0  \n",
       "26376          NaN  \n",
       "21940        154.0  \n",
       "8907           NaN  \n",
       "36441          NaN  "
      ]
     },
     "execution_count": 37,
     "metadata": {},
     "output_type": "execute_result"
    }
   ],
   "source": [
    "visits[['apple_device', 'country_US', 'cpc', 'referral', 'other_campaign', 'cat_campaign', 'order_euros']].head()"
   ]
  },
  {
   "cell_type": "code",
   "execution_count": 38,
   "metadata": {},
   "outputs": [
    {
     "data": {
      "text/plain": [
       "count    2841.000000\n",
       "mean      403.511088\n",
       "std       312.561567\n",
       "min         1.000000\n",
       "25%       124.000000\n",
       "50%       322.000000\n",
       "75%       679.000000\n",
       "max       999.000000\n",
       "Name: order_euros, dtype: float64"
      ]
     },
     "execution_count": 38,
     "metadata": {},
     "output_type": "execute_result"
    }
   ],
   "source": [
    "visits['order_euros'].describe()"
   ]
  },
  {
   "cell_type": "code",
   "execution_count": 39,
   "metadata": {},
   "outputs": [
    {
     "data": {
      "text/plain": [
       "2390"
      ]
     },
     "execution_count": 39,
     "metadata": {},
     "output_type": "execute_result"
    }
   ],
   "source": [
    "visits['order_euros'].isna().sum()"
   ]
  },
  {
   "cell_type": "code",
   "execution_count": 40,
   "metadata": {},
   "outputs": [],
   "source": [
    "visits['revenue'] = visits['order_euros'].fillna(0)"
   ]
  },
  {
   "cell_type": "code",
   "execution_count": 41,
   "metadata": {},
   "outputs": [
    {
     "data": {
      "text/plain": [
       "count    5231.000000\n",
       "mean      219.150258\n",
       "std       305.713499\n",
       "min         0.000000\n",
       "25%         0.000000\n",
       "50%        38.000000\n",
       "75%       363.000000\n",
       "max       999.000000\n",
       "Name: revenue, dtype: float64"
      ]
     },
     "execution_count": 41,
     "metadata": {},
     "output_type": "execute_result"
    }
   ],
   "source": [
    "visits['revenue'].describe()"
   ]
  },
  {
   "cell_type": "code",
   "execution_count": 42,
   "metadata": {},
   "outputs": [],
   "source": [
    "def create_sale(revenue):\n",
    "    if revenue == 0:\n",
    "        return 0\n",
    "    return 1"
   ]
  },
  {
   "cell_type": "code",
   "execution_count": 43,
   "metadata": {},
   "outputs": [],
   "source": [
    "visits['sale'] = visits['revenue'].apply(create_sale)"
   ]
  },
  {
   "cell_type": "code",
   "execution_count": 44,
   "metadata": {},
   "outputs": [
    {
     "data": {
      "text/plain": [
       "1    2841\n",
       "0    2390\n",
       "Name: sale, dtype: int64"
      ]
     },
     "execution_count": 44,
     "metadata": {},
     "output_type": "execute_result"
    }
   ],
   "source": [
    "visits['sale'].value_counts()"
   ]
  },
  {
   "cell_type": "code",
   "execution_count": 45,
   "metadata": {},
   "outputs": [
    {
     "data": {
      "text/plain": [
       "count    5231.000000\n",
       "mean        0.543108\n",
       "std         0.498186\n",
       "min         0.000000\n",
       "25%         0.000000\n",
       "50%         1.000000\n",
       "75%         1.000000\n",
       "max         1.000000\n",
       "Name: sale, dtype: float64"
      ]
     },
     "execution_count": 45,
     "metadata": {},
     "output_type": "execute_result"
    }
   ],
   "source": [
    "visits['sale'].describe()"
   ]
  },
  {
   "cell_type": "markdown",
   "metadata": {},
   "source": [
    "* Show the descriptive statistics for the IVs and the DVs\n",
    "* Create one univariate visualisation per IV\n",
    "* Create one univariate visualisation per DV\n",
    "* Create one bivariate visualisation per hypothesis\n",
    "* Show the descriptives of the DV grouped by the IV\n",
    "* Provide a brief summary (in MarkDown) with your interpretation of the results"
   ]
  },
  {
   "cell_type": "code",
   "execution_count": 47,
   "metadata": {},
   "outputs": [
    {
     "data": {
      "text/html": [
       "<div>\n",
       "<style scoped>\n",
       "    .dataframe tbody tr th:only-of-type {\n",
       "        vertical-align: middle;\n",
       "    }\n",
       "\n",
       "    .dataframe tbody tr th {\n",
       "        vertical-align: top;\n",
       "    }\n",
       "\n",
       "    .dataframe thead th {\n",
       "        text-align: right;\n",
       "    }\n",
       "</style>\n",
       "<table border=\"1\" class=\"dataframe\">\n",
       "  <thead>\n",
       "    <tr style=\"text-align: right;\">\n",
       "      <th></th>\n",
       "      <th>count</th>\n",
       "      <th>mean</th>\n",
       "      <th>std</th>\n",
       "      <th>min</th>\n",
       "      <th>25%</th>\n",
       "      <th>50%</th>\n",
       "      <th>75%</th>\n",
       "      <th>max</th>\n",
       "    </tr>\n",
       "  </thead>\n",
       "  <tbody>\n",
       "    <tr>\n",
       "      <th>apple_device</th>\n",
       "      <td>5231.0</td>\n",
       "      <td>0.335882</td>\n",
       "      <td>0.472343</td>\n",
       "      <td>0.0</td>\n",
       "      <td>0.0</td>\n",
       "      <td>0.0</td>\n",
       "      <td>1.0</td>\n",
       "      <td>1.0</td>\n",
       "    </tr>\n",
       "    <tr>\n",
       "      <th>country_US</th>\n",
       "      <td>5231.0</td>\n",
       "      <td>0.479832</td>\n",
       "      <td>0.499641</td>\n",
       "      <td>0.0</td>\n",
       "      <td>0.0</td>\n",
       "      <td>0.0</td>\n",
       "      <td>1.0</td>\n",
       "      <td>1.0</td>\n",
       "    </tr>\n",
       "    <tr>\n",
       "      <th>cpc</th>\n",
       "      <td>5231.0</td>\n",
       "      <td>0.253489</td>\n",
       "      <td>0.435050</td>\n",
       "      <td>0.0</td>\n",
       "      <td>0.0</td>\n",
       "      <td>0.0</td>\n",
       "      <td>1.0</td>\n",
       "      <td>1.0</td>\n",
       "    </tr>\n",
       "    <tr>\n",
       "      <th>referral</th>\n",
       "      <td>5231.0</td>\n",
       "      <td>0.104187</td>\n",
       "      <td>0.305532</td>\n",
       "      <td>0.0</td>\n",
       "      <td>0.0</td>\n",
       "      <td>0.0</td>\n",
       "      <td>0.0</td>\n",
       "      <td>1.0</td>\n",
       "    </tr>\n",
       "    <tr>\n",
       "      <th>other_campaign</th>\n",
       "      <td>5231.0</td>\n",
       "      <td>0.642325</td>\n",
       "      <td>0.479362</td>\n",
       "      <td>0.0</td>\n",
       "      <td>0.0</td>\n",
       "      <td>1.0</td>\n",
       "      <td>1.0</td>\n",
       "      <td>1.0</td>\n",
       "    </tr>\n",
       "    <tr>\n",
       "      <th>revenue</th>\n",
       "      <td>5231.0</td>\n",
       "      <td>219.150258</td>\n",
       "      <td>305.713499</td>\n",
       "      <td>0.0</td>\n",
       "      <td>0.0</td>\n",
       "      <td>38.0</td>\n",
       "      <td>363.0</td>\n",
       "      <td>999.0</td>\n",
       "    </tr>\n",
       "    <tr>\n",
       "      <th>sale</th>\n",
       "      <td>5231.0</td>\n",
       "      <td>0.543108</td>\n",
       "      <td>0.498186</td>\n",
       "      <td>0.0</td>\n",
       "      <td>0.0</td>\n",
       "      <td>1.0</td>\n",
       "      <td>1.0</td>\n",
       "      <td>1.0</td>\n",
       "    </tr>\n",
       "  </tbody>\n",
       "</table>\n",
       "</div>"
      ],
      "text/plain": [
       "                 count        mean         std  min  25%   50%    75%    max\n",
       "apple_device    5231.0    0.335882    0.472343  0.0  0.0   0.0    1.0    1.0\n",
       "country_US      5231.0    0.479832    0.499641  0.0  0.0   0.0    1.0    1.0\n",
       "cpc             5231.0    0.253489    0.435050  0.0  0.0   0.0    1.0    1.0\n",
       "referral        5231.0    0.104187    0.305532  0.0  0.0   0.0    0.0    1.0\n",
       "other_campaign  5231.0    0.642325    0.479362  0.0  0.0   1.0    1.0    1.0\n",
       "revenue         5231.0  219.150258  305.713499  0.0  0.0  38.0  363.0  999.0\n",
       "sale            5231.0    0.543108    0.498186  0.0  0.0   1.0    1.0    1.0"
      ]
     },
     "execution_count": 47,
     "metadata": {},
     "output_type": "execute_result"
    }
   ],
   "source": [
    "visits[['apple_device', 'country_US', 'cpc', 'referral', 'other_campaign', 'revenue', 'sale']].describe().transpose()"
   ]
  },
  {
   "cell_type": "code",
   "execution_count": 50,
   "metadata": {},
   "outputs": [
    {
     "data": {
      "text/plain": [
       "<matplotlib.axes._subplots.AxesSubplot at 0x7f9e75fac8e0>"
      ]
     },
     "execution_count": 50,
     "metadata": {},
     "output_type": "execute_result"
    },
    {
     "data": {
      "image/png": "[encoded data removed]",
      "text/plain": [
       "<Figure size 432x288 with 1 Axes>"
      ]
     },
     "metadata": {
      "needs_background": "light"
     },
     "output_type": "display_data"
    }
   ],
   "source": [
    "sns.countplot(x='apple_device', data=visits)"
   ]
  },
  {
   "cell_type": "code",
   "execution_count": 51,
   "metadata": {},
   "outputs": [
    {
     "data": {
      "text/plain": [
       "<matplotlib.axes._subplots.AxesSubplot at 0x7f9e76883850>"
      ]
     },
     "execution_count": 51,
     "metadata": {},
     "output_type": "execute_result"
    },
    {
     "data": {
      "image/png": "[encoded data removed]",
      "text/plain": [
       "<Figure size 432x288 with 1 Axes>"
      ]
     },
     "metadata": {
      "needs_background": "light"
     },
     "output_type": "display_data"
    }
   ],
   "source": [
    "sns.barplot(y='apple_device', data=visits)"
   ]
  },
  {
   "cell_type": "code",
   "execution_count": 54,
   "metadata": {},
   "outputs": [
    {
     "data": {
      "text/plain": [
       "<matplotlib.axes._subplots.AxesSubplot at 0x7f9e769ace20>"
      ]
     },
     "execution_count": 54,
     "metadata": {},
     "output_type": "execute_result"
    },
    {
     "data": {
      "image/png": "[encoded data removed]",
      "text/plain": [
       "<Figure size 432x288 with 1 Axes>"
      ]
     },
     "metadata": {
      "needs_background": "light"
     },
     "output_type": "display_data"
    }
   ],
   "source": [
    "sns.distplot(visits['apple_device']) # do not use it for binary variables! we cannot understand what it means from the chart"
   ]
  },
  {
   "cell_type": "code",
   "execution_count": 55,
   "metadata": {},
   "outputs": [
    {
     "data": {
      "text/plain": [
       "<matplotlib.axes._subplots.AxesSubplot at 0x7f9e720aab50>"
      ]
     },
     "execution_count": 55,
     "metadata": {},
     "output_type": "execute_result"
    },
    {
     "data": {
      "image/png": "[encoded data removed]",
      "text/plain": [
       "<Figure size 432x288 with 1 Axes>"
      ]
     },
     "metadata": {
      "needs_background": "light"
     },
     "output_type": "display_data"
    }
   ],
   "source": [
    "sns.countplot(x='cat_campaign', data=visits)"
   ]
  },
  {
   "cell_type": "code",
   "execution_count": 56,
   "metadata": {},
   "outputs": [
    {
     "data": {
      "text/plain": [
       "<matplotlib.axes._subplots.AxesSubplot at 0x7f9e76a714f0>"
      ]
     },
     "execution_count": 56,
     "metadata": {},
     "output_type": "execute_result"
    },
    {
     "data": {
      "image/png": "[encoded data removed]",
      "text/plain": [
       "<Figure size 432x288 with 1 Axes>"
      ]
     },
     "metadata": {
      "needs_background": "light"
     },
     "output_type": "display_data"
    }
   ],
   "source": [
    "sns.countplot(x='country_US', data=visits)"
   ]
  },
  {
   "cell_type": "code",
   "execution_count": 57,
   "metadata": {},
   "outputs": [
    {
     "data": {
      "text/plain": [
       "<matplotlib.axes._subplots.AxesSubplot at 0x7f9e76b1e3a0>"
      ]
     },
     "execution_count": 57,
     "metadata": {},
     "output_type": "execute_result"
    },
    {
     "data": {
      "image/png": "[encoded data removed]",
      "text/plain": [
       "<Figure size 432x288 with 1 Axes>"
      ]
     },
     "metadata": {
      "needs_background": "light"
     },
     "output_type": "display_data"
    }
   ],
   "source": [
    "sns.countplot(x='sale', data=visits)"
   ]
  },
  {
   "cell_type": "code",
   "execution_count": 58,
   "metadata": {},
   "outputs": [
    {
     "data": {
      "text/plain": [
       "<matplotlib.axes._subplots.AxesSubplot at 0x7f9e76da6100>"
      ]
     },
     "execution_count": 58,
     "metadata": {},
     "output_type": "execute_result"
    },
    {
     "data": {
      "image/png": "[encoded data removed]",
      "text/plain": [
       "<Figure size 432x288 with 1 Axes>"
      ]
     },
     "metadata": {
      "needs_background": "light"
     },
     "output_type": "display_data"
    }
   ],
   "source": [
    "sns.countplot(x='revenue', data=visits)"
   ]
  },
  {
   "cell_type": "code",
   "execution_count": 59,
   "metadata": {},
   "outputs": [
    {
     "data": {
      "text/plain": [
       "<matplotlib.axes._subplots.AxesSubplot at 0x7f9e76bbdd30>"
      ]
     },
     "execution_count": 59,
     "metadata": {},
     "output_type": "execute_result"
    },
    {
     "data": {
      "image/png": "[encoded data removed]",
      "text/plain": [
       "<Figure size 432x288 with 1 Axes>"
      ]
     },
     "metadata": {
      "needs_background": "light"
     },
     "output_type": "display_data"
    }
   ],
   "source": [
    "sns.barplot(y='revenue', data=visits)"
   ]
  },
  {
   "cell_type": "code",
   "execution_count": 60,
   "metadata": {},
   "outputs": [
    {
     "data": {
      "text/plain": [
       "<matplotlib.axes._subplots.AxesSubplot at 0x7f9e769cb700>"
      ]
     },
     "execution_count": 60,
     "metadata": {},
     "output_type": "execute_result"
    },
    {
     "data": {
      "image/png": "[encoded data removed]",
      "text/plain": [
       "<Figure size 432x288 with 1 Axes>"
      ]
     },
     "metadata": {
      "needs_background": "light"
     },
     "output_type": "display_data"
    }
   ],
   "source": [
    "sns.distplot(visits['revenue'])"
   ]
  },
  {
   "cell_type": "markdown",
   "metadata": {},
   "source": [
    "## Challenge 2\n",
    "\n",
    "For this challenge, we would like you to focus on sales (binary variable) as the DV.\n",
    "\n",
    "You need to test the hypotheses and make predictions for each campaign using ML. In other words, you need to:\n",
    "1. Create statistical models that (a) test whether the campaigns lead to a higher likelihood of a sale than the other campaigns, and (b) test whether the referral leads to a higher likelihood of a sale than the cpc campaign\n",
    "2. Use ML to create similar models (as in 1), and use them to run predictions (e.g., what is the likelihood of a sale if someone came to the website via the referral campaign? Or from the CPC campaign? Or from other campaigns?)\n",
    "3. Use LIME to explain the predictions created by the model, contrasting the importance of campaigns with the importance of device type and of location.\n",
    "\n",
    "Don't forget to interpret the results in MarkDown, and indicate whether your hypotheses were supported, not supported (or even rejected)."
   ]
  },
  {
   "cell_type": "code",
   "execution_count": null,
   "metadata": {},
   "outputs": [],
   "source": []
  },
  {
   "cell_type": "code",
   "execution_count": null,
   "metadata": {},
   "outputs": [],
   "source": []
  },
  {
   "cell_type": "code",
   "execution_count": null,
   "metadata": {},
   "outputs": [],
   "source": []
  },
  {
   "cell_type": "code",
   "execution_count": null,
   "metadata": {},
   "outputs": [],
   "source": []
  },
  {
   "cell_type": "code",
   "execution_count": null,
   "metadata": {},
   "outputs": [],
   "source": []
  },
  {
   "cell_type": "markdown",
   "metadata": {},
   "source": [
    "## Challenge 3\n",
    "\n",
    "For this challenge, we would like you to focus on revenue (continuous variable) as the DV.\n",
    "\n",
    "You need to test the hypotheses and make predictions for each campaign using ML. In other words, you need to:\n",
    "1. Create statistical models that (a) test whether the campaigns lead to a higher revenue than the other campaigns, and (b) test whether the referral leads to a higher revenue of a sale than the cpc campaign\n",
    "2. Use ML to create similar models (as in 1), and use them to run predictions (e.g., what is the expected revenue if someone came to the website via the referral campaign? Or from the CPC campaign? Or from other campaigns?)\n",
    "3. Use LIME to explain the predictions created by the model, contrasting the importance of campaigns with the importance of device type and of location.\n",
    "\n",
    "Don't forget to interpret the results in MarkDown, and indicate whether your hypotheses were supported, not supported (or even rejected)."
   ]
  },
  {
   "cell_type": "code",
   "execution_count": null,
   "metadata": {},
   "outputs": [],
   "source": []
  },
  {
   "cell_type": "markdown",
   "metadata": {},
   "source": [
    "### Important exception\n",
    "As LIME is a framework still in development, we are not sure if it will work in all computers and configurations. If by any chance you get an error message when running LIME, hand in the challenge anyway (showing the error message), and we will accept it as complete."
   ]
  },
  {
   "cell_type": "code",
   "execution_count": null,
   "metadata": {},
   "outputs": [],
   "source": []
  }
 ],
 "metadata": {
  "kernelspec": {
   "display_name": "Python 3",
   "language": "python",
   "name": "python3"
  },
  "language_info": {
   "codemirror_mode": {
    "name": "ipython",
    "version": 3
   },
   "file_extension": ".py",
   "mimetype": "text/x-python",
   "name": "python",
   "nbconvert_exporter": "python",
   "pygments_lexer": "ipython3",
   "version": "3.8.3"
  }
 },
 "nbformat": 4,
 "nbformat_minor": 4
}
