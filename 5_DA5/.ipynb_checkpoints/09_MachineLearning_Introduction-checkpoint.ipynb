{
 "cells": [
  {
   "cell_type": "markdown",
   "metadata": {},
   "source": [
    "# Modelling\n",
    "\n",
    "By the end of the tutorials of this week, you should acquire:\n",
    "\n",
    "**Knowledge on:**\n",
    "* Machine Learning: definition\n",
    "* The different types of ML: Supervised and Unsupervised\n",
    "* Machine Learning vs. (Frequentist) Statistics\n",
    "* Using stats for hypothesis testing - including refresh on dummy variables\n",
    "\n",
    "**Skills:**\n",
    "* Using scikit-learn for Supervised ML\n",
    "* Using statsmodels for Statistical testing\n",
    "* Running tests when you have categorical variables (non-dichotomous)"
   ]
  },
  {
   "cell_type": "markdown",
   "metadata": {},
   "source": [
    "# Modeling & Machine Learning - an introduction\n",
    "\n",
    "\n",
    "## Where are we in the course?\n",
    "\n",
    "After making progress in data understanding and preparation will discuss modelling and have a brief introduction to Machine Learning. While the Business Insights sessions (BI5 and BI6) discuss in more detail all the concepts, the Data Analysis sessions (DA5 and DA6) will show how to implement this in code.\n",
    "\n",
    "* **IMPORTANT:** The DA tutorials will just briefly discuss the main concepts around Machine Learning, and will assume that you already have done the BI readings (for the week).\n",
    "\n",
    "**Machine learning & statistics**\n",
    "* **Statistics**: use a model to figure out whether the hypothesis is accepted or not\n",
    "* **Machine learning**: creating a model that can make predictions on the basis of the data\n",
    " * applying statistics\n",
    "\n",
    "## Where are we in the data analysis process?\n",
    "\n",
    "<img src=\"https://upload.wikimedia.org/wikipedia/commons/thumb/b/b9/CRISP-DM_Process_Diagram.png/800px-CRISP-DM_Process_Diagram.png\" alt=\"Source: Wikipedia\">*Source: Wikipedia*\n",
    "\n",
    "\n",
    "## Machine Learning in Python\n",
    "\n",
    "<img src=\"http://scikit-learn.org/stable/_images/scikit-learn-logo-notext.png\">\n",
    "\n",
    "We will use the package [scikit-learn](http://scikit-learn.org/) to do Machine Learning in Python. This is one of the most widely used packages in Python for Machine Learning, and is quite flexible and complete when it comes to the types of models it can implement, or data that it can use.\n",
    "\n",
    "\n",
    "\n",
    "Scikit-learn is usually installed together with Python in your machine by anaconda. Before continuing, however, make sure that you have the latest version installed. To do so, go to Terminal on Mac, or Command Prompt/Line in Windows (run as an administrator), and type ```conda install scikit-learn``` . Conda will check if scikit-learn needs to be updated. \n",
    "\n",
    "* **Note:** [This video](https://www.youtube.com/watch?v=_wCs2vvBCTM) contains more information on how to update or install packages with conda.\n",
    "\n",
    "\n"
   ]
  },
  {
   "cell_type": "markdown",
   "metadata": {},
   "source": [
    "# The different types of ML\n",
    "\n",
    "Let's discuss the Sklearn Machine Learning Map:\n",
    "https://scikit-learn.org/stable/tutorial/machine_learning_map/index.html\n",
    "\n",
    "we use: regression based"
   ]
  },
  {
   "cell_type": "code",
   "execution_count": null,
   "metadata": {},
   "outputs": [],
   "source": []
  }
 ],
 "metadata": {
  "kernelspec": {
   "display_name": "Python 3",
   "language": "python",
   "name": "python3"
  },
  "language_info": {
   "codemirror_mode": {
    "name": "ipython",
    "version": 3
   },
   "file_extension": ".py",
   "mimetype": "text/x-python",
   "name": "python",
   "nbconvert_exporter": "python",
   "pygments_lexer": "ipython3",
   "version": "3.7.9"
  },
  "latex_envs": {
   "bibliofile": "biblio.bib",
   "cite_by": "apalike",
   "current_citInitial": 1,
   "eqLabelWithNumbers": true,
   "eqNumInitial": 0
  },
  "toc": {
   "base_numbering": 1,
   "nav_menu": {},
   "number_sections": true,
   "sideBar": true,
   "skip_h1_title": false,
   "title_cell": "Table of Contents",
   "title_sidebar": "Contents",
   "toc_cell": false,
   "toc_position": {},
   "toc_section_display": true,
   "toc_window_display": true
  }
 },
 "nbformat": 4,
 "nbformat_minor": 1
}
