{
 "cells": [
  {
   "cell_type": "markdown",
   "id": "racial-netscape",
   "metadata": {},
   "source": [
    "## Introduction"
   ]
  },
  {
   "cell_type": "code",
   "execution_count": null,
   "id": "binding-isaac",
   "metadata": {},
   "outputs": [],
   "source": []
  },
  {
   "cell_type": "markdown",
   "id": "brilliant-playback",
   "metadata": {},
   "source": [
    "## Hypothesis"
   ]
  },
  {
   "cell_type": "code",
   "execution_count": null,
   "id": "noble-force",
   "metadata": {},
   "outputs": [],
   "source": []
  },
  {
   "cell_type": "markdown",
   "id": "comfortable-friday",
   "metadata": {},
   "source": [
    "## Data Gathering"
   ]
  },
  {
   "cell_type": "code",
   "execution_count": null,
   "id": "neutral-demonstration",
   "metadata": {},
   "outputs": [],
   "source": []
  },
  {
   "cell_type": "markdown",
   "id": "magnetic-seeking",
   "metadata": {},
   "source": [
    "## Data Loading"
   ]
  },
  {
   "cell_type": "code",
   "execution_count": 1,
   "id": "working-burner",
   "metadata": {},
   "outputs": [],
   "source": [
    "import numpy as np\n",
    "import pandas as pd\n",
    "import matplotlib.pyplot as plt\n",
    "%matplotlib inline\n",
    "import seaborn as sns\n",
    "from sklearn.linear_model import LogisticRegression, LinearRegression\n",
    "import statsmodels.api as sm\n",
    "import lime\n",
    "from lime import lime_tabular"
   ]
  },
  {
   "cell_type": "code",
   "execution_count": 2,
   "id": "wicked-fruit",
   "metadata": {},
   "outputs": [],
   "source": [
    "users = pd.read_csv('AstridHe_users.csv')"
   ]
  },
  {
   "cell_type": "code",
   "execution_count": null,
   "id": "loved-station",
   "metadata": {},
   "outputs": [],
   "source": []
  },
  {
   "cell_type": "markdown",
   "id": "declared-demonstration",
   "metadata": {},
   "source": [
    "## Data Cleaning"
   ]
  },
  {
   "cell_type": "code",
   "execution_count": 3,
   "id": "statewide-pocket",
   "metadata": {},
   "outputs": [
    {
     "data": {
      "text/html": [
       "<div>\n",
       "<style scoped>\n",
       "    .dataframe tbody tr th:only-of-type {\n",
       "        vertical-align: middle;\n",
       "    }\n",
       "\n",
       "    .dataframe tbody tr th {\n",
       "        vertical-align: top;\n",
       "    }\n",
       "\n",
       "    .dataframe thead th {\n",
       "        text-align: right;\n",
       "    }\n",
       "</style>\n",
       "<table border=\"1\" class=\"dataframe\">\n",
       "  <thead>\n",
       "    <tr style=\"text-align: right;\">\n",
       "      <th></th>\n",
       "      <th>Unnamed: 0</th>\n",
       "      <th>user_id</th>\n",
       "      <th>gender</th>\n",
       "      <th>age</th>\n",
       "      <th>device</th>\n",
       "      <th>ad_1</th>\n",
       "      <th>click_1</th>\n",
       "      <th>watch_1</th>\n",
       "      <th>ad_2</th>\n",
       "      <th>click_2</th>\n",
       "      <th>...</th>\n",
       "      <th>watch_3</th>\n",
       "      <th>ad_4</th>\n",
       "      <th>click_4</th>\n",
       "      <th>watch_4</th>\n",
       "      <th>ad_5</th>\n",
       "      <th>click_5</th>\n",
       "      <th>watch_5</th>\n",
       "      <th>ad_6</th>\n",
       "      <th>click_6</th>\n",
       "      <th>watch_6</th>\n",
       "    </tr>\n",
       "  </thead>\n",
       "  <tbody>\n",
       "    <tr>\n",
       "      <th>0</th>\n",
       "      <td>0</td>\n",
       "      <td>NaN</td>\n",
       "      <td>f</td>\n",
       "      <td>26</td>\n",
       "      <td>blackberry</td>\n",
       "      <td>a118</td>\n",
       "      <td>NaN</td>\n",
       "      <td>9.0</td>\n",
       "      <td>a3</td>\n",
       "      <td>NaN</td>\n",
       "      <td>...</td>\n",
       "      <td>9.0</td>\n",
       "      <td>NaN</td>\n",
       "      <td>NaN</td>\n",
       "      <td>NaN</td>\n",
       "      <td>NaN</td>\n",
       "      <td>NaN</td>\n",
       "      <td>NaN</td>\n",
       "      <td>NaN</td>\n",
       "      <td>NaN</td>\n",
       "      <td>NaN</td>\n",
       "    </tr>\n",
       "    <tr>\n",
       "      <th>1</th>\n",
       "      <td>1</td>\n",
       "      <td>1.0</td>\n",
       "      <td>female</td>\n",
       "      <td>26</td>\n",
       "      <td>ios</td>\n",
       "      <td>a2</td>\n",
       "      <td>NaN</td>\n",
       "      <td>6.0</td>\n",
       "      <td>a85</td>\n",
       "      <td>NaN</td>\n",
       "      <td>...</td>\n",
       "      <td>12.0</td>\n",
       "      <td>a39</td>\n",
       "      <td>1.0</td>\n",
       "      <td>10.0</td>\n",
       "      <td>a95</td>\n",
       "      <td>1.0</td>\n",
       "      <td>11.0</td>\n",
       "      <td>a75</td>\n",
       "      <td>1.0</td>\n",
       "      <td>4.0</td>\n",
       "    </tr>\n",
       "    <tr>\n",
       "      <th>2</th>\n",
       "      <td>2</td>\n",
       "      <td>2.0</td>\n",
       "      <td>f</td>\n",
       "      <td>25</td>\n",
       "      <td>windows phone</td>\n",
       "      <td>a95</td>\n",
       "      <td>NaN</td>\n",
       "      <td>10.0</td>\n",
       "      <td>a26</td>\n",
       "      <td>1.0</td>\n",
       "      <td>...</td>\n",
       "      <td>7.0</td>\n",
       "      <td>NaN</td>\n",
       "      <td>NaN</td>\n",
       "      <td>NaN</td>\n",
       "      <td>NaN</td>\n",
       "      <td>NaN</td>\n",
       "      <td>NaN</td>\n",
       "      <td>NaN</td>\n",
       "      <td>NaN</td>\n",
       "      <td>NaN</td>\n",
       "    </tr>\n",
       "    <tr>\n",
       "      <th>3</th>\n",
       "      <td>3</td>\n",
       "      <td>3.0</td>\n",
       "      <td>f</td>\n",
       "      <td>25</td>\n",
       "      <td>android</td>\n",
       "      <td>a6</td>\n",
       "      <td>NaN</td>\n",
       "      <td>9.0</td>\n",
       "      <td>a43</td>\n",
       "      <td>NaN</td>\n",
       "      <td>...</td>\n",
       "      <td>6.0</td>\n",
       "      <td>NaN</td>\n",
       "      <td>NaN</td>\n",
       "      <td>NaN</td>\n",
       "      <td>NaN</td>\n",
       "      <td>NaN</td>\n",
       "      <td>NaN</td>\n",
       "      <td>NaN</td>\n",
       "      <td>NaN</td>\n",
       "      <td>NaN</td>\n",
       "    </tr>\n",
       "    <tr>\n",
       "      <th>4</th>\n",
       "      <td>4</td>\n",
       "      <td>4.0</td>\n",
       "      <td>female</td>\n",
       "      <td>27</td>\n",
       "      <td>ios</td>\n",
       "      <td>a39</td>\n",
       "      <td>NaN</td>\n",
       "      <td>7.0</td>\n",
       "      <td>a1</td>\n",
       "      <td>NaN</td>\n",
       "      <td>...</td>\n",
       "      <td>9.0</td>\n",
       "      <td>a76</td>\n",
       "      <td>NaN</td>\n",
       "      <td>8.0</td>\n",
       "      <td>a90</td>\n",
       "      <td>1.0</td>\n",
       "      <td>2.0</td>\n",
       "      <td>a26</td>\n",
       "      <td>NaN</td>\n",
       "      <td>11.0</td>\n",
       "    </tr>\n",
       "  </tbody>\n",
       "</table>\n",
       "<p>5 rows × 23 columns</p>\n",
       "</div>"
      ],
      "text/plain": [
       "   Unnamed: 0  user_id  gender  age         device  ad_1  click_1  watch_1  \\\n",
       "0           0      NaN       f   26     blackberry  a118      NaN      9.0   \n",
       "1           1      1.0  female   26            ios    a2      NaN      6.0   \n",
       "2           2      2.0       f   25  windows phone   a95      NaN     10.0   \n",
       "3           3      3.0       f   25        android    a6      NaN      9.0   \n",
       "4           4      4.0  female   27            ios   a39      NaN      7.0   \n",
       "\n",
       "  ad_2  click_2  ...  watch_3 ad_4  click_4  watch_4 ad_5  click_5  watch_5  \\\n",
       "0   a3      NaN  ...      9.0  NaN      NaN      NaN  NaN      NaN      NaN   \n",
       "1  a85      NaN  ...     12.0  a39      1.0     10.0  a95      1.0     11.0   \n",
       "2  a26      1.0  ...      7.0  NaN      NaN      NaN  NaN      NaN      NaN   \n",
       "3  a43      NaN  ...      6.0  NaN      NaN      NaN  NaN      NaN      NaN   \n",
       "4   a1      NaN  ...      9.0  a76      NaN      8.0  a90      1.0      2.0   \n",
       "\n",
       "  ad_6  click_6  watch_6  \n",
       "0  NaN      NaN      NaN  \n",
       "1  a75      1.0      4.0  \n",
       "2  NaN      NaN      NaN  \n",
       "3  NaN      NaN      NaN  \n",
       "4  a26      NaN     11.0  \n",
       "\n",
       "[5 rows x 23 columns]"
      ]
     },
     "execution_count": 3,
     "metadata": {},
     "output_type": "execute_result"
    }
   ],
   "source": [
    "users.head()"
   ]
  },
  {
   "cell_type": "markdown",
   "id": "maritime-amber",
   "metadata": {},
   "source": [
    "### Incorrect information: Gender"
   ]
  },
  {
   "cell_type": "code",
   "execution_count": 4,
   "id": "failing-worst",
   "metadata": {},
   "outputs": [
    {
     "data": {
      "text/plain": [
       "f         10096\n",
       "male       5067\n",
       "female     4989\n",
       "m          4936\n",
       "Name: gender, dtype: int64"
      ]
     },
     "execution_count": 4,
     "metadata": {},
     "output_type": "execute_result"
    }
   ],
   "source": [
    "# inspect gender column value\n",
    "users['gender'].value_counts()"
   ]
  },
  {
   "cell_type": "markdown",
   "id": "searching-christmas",
   "metadata": {},
   "source": [
    "There are different values in this column. Here, I recode the column, transforming ```f``` and ```female``` to value 1, and ```m``` and ```male``` to value 2."
   ]
  },
  {
   "cell_type": "code",
   "execution_count": 5,
   "id": "spectacular-onion",
   "metadata": {},
   "outputs": [],
   "source": [
    "# create a clearer variable for gender\n",
    "def generate_gender(row):\n",
    "    if row['gender'] == 'f':\n",
    "        row['sex'] = 1\n",
    "    if row['gender'] == 'female':\n",
    "        row['sex'] = 1\n",
    "    if row['gender'] == 'm':\n",
    "        row['sex'] = 0\n",
    "    if row['gender'] == 'male':\n",
    "        row['sex'] = 0\n",
    "    return row\n",
    "users = users.apply(generate_gender, axis=1)"
   ]
  },
  {
   "cell_type": "markdown",
   "id": "revolutionary-district",
   "metadata": {},
   "source": [
    "### New column: Condition"
   ]
  },
  {
   "cell_type": "markdown",
   "id": "attached-norwegian",
   "metadata": {},
   "source": [
    "I want to create a new column for test condition. The values in this column shows whether the user watched six ads continuously (labeled as ```6```) or three ads (labeled as ```3```)."
   ]
  },
  {
   "cell_type": "code",
   "execution_count": 6,
   "id": "express-diana",
   "metadata": {},
   "outputs": [],
   "source": [
    "# create a variable for test condition\n",
    "users['ad_4'] = users['ad_4'].fillna(0)\n",
    "def generate_condition(row):\n",
    "    if row['ad_4'] == 0:\n",
    "        row['condition'] = 3\n",
    "    else: \n",
    "        row['condition'] = 6\n",
    "    return row\n",
    "users = users.apply(generate_condition, axis=1)"
   ]
  },
  {
   "cell_type": "markdown",
   "id": "special-gravity",
   "metadata": {},
   "source": [
    "Because in the next section, I will run regression to test the hypotheses. Here I create a dummy variable for condition **six ads**."
   ]
  },
  {
   "cell_type": "code",
   "execution_count": 7,
   "id": "automotive-robin",
   "metadata": {},
   "outputs": [],
   "source": [
    "# create a dummy variable for test condition: three ads\n",
    "def generate_condum(row):\n",
    "    if row['ad_4'] == 0:\n",
    "        row['six_ads'] = 0\n",
    "    else: \n",
    "        row['six_ads'] = 1\n",
    "    return row\n",
    "users = users.apply(generate_condum, axis=1)"
   ]
  },
  {
   "cell_type": "code",
   "execution_count": null,
   "id": "applicable-panama",
   "metadata": {},
   "outputs": [],
   "source": []
  },
  {
   "cell_type": "markdown",
   "id": "relative-fiber",
   "metadata": {},
   "source": [
    "### Missing values"
   ]
  },
  {
   "cell_type": "code",
   "execution_count": 8,
   "id": "paperback-generation",
   "metadata": {},
   "outputs": [
    {
     "data": {
      "text/html": [
       "<div>\n",
       "<style scoped>\n",
       "    .dataframe tbody tr th:only-of-type {\n",
       "        vertical-align: middle;\n",
       "    }\n",
       "\n",
       "    .dataframe tbody tr th {\n",
       "        vertical-align: top;\n",
       "    }\n",
       "\n",
       "    .dataframe thead th {\n",
       "        text-align: right;\n",
       "    }\n",
       "</style>\n",
       "<table border=\"1\" class=\"dataframe\">\n",
       "  <thead>\n",
       "    <tr style=\"text-align: right;\">\n",
       "      <th></th>\n",
       "      <th>count</th>\n",
       "      <th>mean</th>\n",
       "      <th>std</th>\n",
       "      <th>min</th>\n",
       "      <th>25%</th>\n",
       "      <th>50%</th>\n",
       "      <th>75%</th>\n",
       "      <th>max</th>\n",
       "    </tr>\n",
       "  </thead>\n",
       "  <tbody>\n",
       "    <tr>\n",
       "      <th>Unnamed: 0</th>\n",
       "      <td>30000.0</td>\n",
       "      <td>14999.500000</td>\n",
       "      <td>8660.398374</td>\n",
       "      <td>0.0</td>\n",
       "      <td>7499.75</td>\n",
       "      <td>14999.5</td>\n",
       "      <td>22499.25</td>\n",
       "      <td>29999.0</td>\n",
       "    </tr>\n",
       "    <tr>\n",
       "      <th>age</th>\n",
       "      <td>30000.0</td>\n",
       "      <td>24.486233</td>\n",
       "      <td>3.002107</td>\n",
       "      <td>13.0</td>\n",
       "      <td>22.00</td>\n",
       "      <td>24.0</td>\n",
       "      <td>27.00</td>\n",
       "      <td>38.0</td>\n",
       "    </tr>\n",
       "    <tr>\n",
       "      <th>click_1</th>\n",
       "      <td>5221.0</td>\n",
       "      <td>1.000000</td>\n",
       "      <td>0.000000</td>\n",
       "      <td>1.0</td>\n",
       "      <td>1.00</td>\n",
       "      <td>1.0</td>\n",
       "      <td>1.00</td>\n",
       "      <td>1.0</td>\n",
       "    </tr>\n",
       "    <tr>\n",
       "      <th>click_2</th>\n",
       "      <td>5161.0</td>\n",
       "      <td>1.000000</td>\n",
       "      <td>0.000000</td>\n",
       "      <td>1.0</td>\n",
       "      <td>1.00</td>\n",
       "      <td>1.0</td>\n",
       "      <td>1.00</td>\n",
       "      <td>1.0</td>\n",
       "    </tr>\n",
       "    <tr>\n",
       "      <th>click_3</th>\n",
       "      <td>5235.0</td>\n",
       "      <td>1.000000</td>\n",
       "      <td>0.000000</td>\n",
       "      <td>1.0</td>\n",
       "      <td>1.00</td>\n",
       "      <td>1.0</td>\n",
       "      <td>1.00</td>\n",
       "      <td>1.0</td>\n",
       "    </tr>\n",
       "    <tr>\n",
       "      <th>click_4</th>\n",
       "      <td>2978.0</td>\n",
       "      <td>1.000000</td>\n",
       "      <td>0.000000</td>\n",
       "      <td>1.0</td>\n",
       "      <td>1.00</td>\n",
       "      <td>1.0</td>\n",
       "      <td>1.00</td>\n",
       "      <td>1.0</td>\n",
       "    </tr>\n",
       "    <tr>\n",
       "      <th>click_5</th>\n",
       "      <td>2962.0</td>\n",
       "      <td>1.000000</td>\n",
       "      <td>0.000000</td>\n",
       "      <td>1.0</td>\n",
       "      <td>1.00</td>\n",
       "      <td>1.0</td>\n",
       "      <td>1.00</td>\n",
       "      <td>1.0</td>\n",
       "    </tr>\n",
       "    <tr>\n",
       "      <th>click_6</th>\n",
       "      <td>2937.0</td>\n",
       "      <td>1.000000</td>\n",
       "      <td>0.000000</td>\n",
       "      <td>1.0</td>\n",
       "      <td>1.00</td>\n",
       "      <td>1.0</td>\n",
       "      <td>1.00</td>\n",
       "      <td>1.0</td>\n",
       "    </tr>\n",
       "    <tr>\n",
       "      <th>sex</th>\n",
       "      <td>25088.0</td>\n",
       "      <td>0.601283</td>\n",
       "      <td>0.489644</td>\n",
       "      <td>0.0</td>\n",
       "      <td>0.00</td>\n",
       "      <td>1.0</td>\n",
       "      <td>1.00</td>\n",
       "      <td>1.0</td>\n",
       "    </tr>\n",
       "    <tr>\n",
       "      <th>user_id</th>\n",
       "      <td>29999.0</td>\n",
       "      <td>15000.000000</td>\n",
       "      <td>8660.109699</td>\n",
       "      <td>1.0</td>\n",
       "      <td>7500.50</td>\n",
       "      <td>15000.0</td>\n",
       "      <td>22499.50</td>\n",
       "      <td>29999.0</td>\n",
       "    </tr>\n",
       "    <tr>\n",
       "      <th>watch_1</th>\n",
       "      <td>29888.0</td>\n",
       "      <td>9.114762</td>\n",
       "      <td>3.250458</td>\n",
       "      <td>1.0</td>\n",
       "      <td>7.00</td>\n",
       "      <td>9.0</td>\n",
       "      <td>11.00</td>\n",
       "      <td>22.0</td>\n",
       "    </tr>\n",
       "    <tr>\n",
       "      <th>watch_2</th>\n",
       "      <td>29868.0</td>\n",
       "      <td>9.103623</td>\n",
       "      <td>3.257492</td>\n",
       "      <td>1.0</td>\n",
       "      <td>7.00</td>\n",
       "      <td>9.0</td>\n",
       "      <td>11.00</td>\n",
       "      <td>23.0</td>\n",
       "    </tr>\n",
       "    <tr>\n",
       "      <th>watch_3</th>\n",
       "      <td>29882.0</td>\n",
       "      <td>9.098487</td>\n",
       "      <td>3.255777</td>\n",
       "      <td>1.0</td>\n",
       "      <td>7.00</td>\n",
       "      <td>9.0</td>\n",
       "      <td>11.00</td>\n",
       "      <td>22.0</td>\n",
       "    </tr>\n",
       "    <tr>\n",
       "      <th>watch_4</th>\n",
       "      <td>14836.0</td>\n",
       "      <td>9.552036</td>\n",
       "      <td>2.979096</td>\n",
       "      <td>1.0</td>\n",
       "      <td>8.00</td>\n",
       "      <td>10.0</td>\n",
       "      <td>12.00</td>\n",
       "      <td>21.0</td>\n",
       "    </tr>\n",
       "    <tr>\n",
       "      <th>watch_5</th>\n",
       "      <td>14840.0</td>\n",
       "      <td>9.483760</td>\n",
       "      <td>2.994774</td>\n",
       "      <td>1.0</td>\n",
       "      <td>7.00</td>\n",
       "      <td>9.0</td>\n",
       "      <td>12.00</td>\n",
       "      <td>21.0</td>\n",
       "    </tr>\n",
       "    <tr>\n",
       "      <th>watch_6</th>\n",
       "      <td>14832.0</td>\n",
       "      <td>9.549555</td>\n",
       "      <td>2.986649</td>\n",
       "      <td>1.0</td>\n",
       "      <td>8.00</td>\n",
       "      <td>10.0</td>\n",
       "      <td>12.00</td>\n",
       "      <td>21.0</td>\n",
       "    </tr>\n",
       "    <tr>\n",
       "      <th>condition</th>\n",
       "      <td>30000.0</td>\n",
       "      <td>4.485500</td>\n",
       "      <td>1.499955</td>\n",
       "      <td>3.0</td>\n",
       "      <td>3.00</td>\n",
       "      <td>3.0</td>\n",
       "      <td>6.00</td>\n",
       "      <td>6.0</td>\n",
       "    </tr>\n",
       "    <tr>\n",
       "      <th>six_ads</th>\n",
       "      <td>30000.0</td>\n",
       "      <td>0.495167</td>\n",
       "      <td>0.499985</td>\n",
       "      <td>0.0</td>\n",
       "      <td>0.00</td>\n",
       "      <td>0.0</td>\n",
       "      <td>1.00</td>\n",
       "      <td>1.0</td>\n",
       "    </tr>\n",
       "  </tbody>\n",
       "</table>\n",
       "</div>"
      ],
      "text/plain": [
       "              count          mean          std   min      25%      50%  \\\n",
       "Unnamed: 0  30000.0  14999.500000  8660.398374   0.0  7499.75  14999.5   \n",
       "age         30000.0     24.486233     3.002107  13.0    22.00     24.0   \n",
       "click_1      5221.0      1.000000     0.000000   1.0     1.00      1.0   \n",
       "click_2      5161.0      1.000000     0.000000   1.0     1.00      1.0   \n",
       "click_3      5235.0      1.000000     0.000000   1.0     1.00      1.0   \n",
       "click_4      2978.0      1.000000     0.000000   1.0     1.00      1.0   \n",
       "click_5      2962.0      1.000000     0.000000   1.0     1.00      1.0   \n",
       "click_6      2937.0      1.000000     0.000000   1.0     1.00      1.0   \n",
       "sex         25088.0      0.601283     0.489644   0.0     0.00      1.0   \n",
       "user_id     29999.0  15000.000000  8660.109699   1.0  7500.50  15000.0   \n",
       "watch_1     29888.0      9.114762     3.250458   1.0     7.00      9.0   \n",
       "watch_2     29868.0      9.103623     3.257492   1.0     7.00      9.0   \n",
       "watch_3     29882.0      9.098487     3.255777   1.0     7.00      9.0   \n",
       "watch_4     14836.0      9.552036     2.979096   1.0     8.00     10.0   \n",
       "watch_5     14840.0      9.483760     2.994774   1.0     7.00      9.0   \n",
       "watch_6     14832.0      9.549555     2.986649   1.0     8.00     10.0   \n",
       "condition   30000.0      4.485500     1.499955   3.0     3.00      3.0   \n",
       "six_ads     30000.0      0.495167     0.499985   0.0     0.00      0.0   \n",
       "\n",
       "                 75%      max  \n",
       "Unnamed: 0  22499.25  29999.0  \n",
       "age            27.00     38.0  \n",
       "click_1         1.00      1.0  \n",
       "click_2         1.00      1.0  \n",
       "click_3         1.00      1.0  \n",
       "click_4         1.00      1.0  \n",
       "click_5         1.00      1.0  \n",
       "click_6         1.00      1.0  \n",
       "sex             1.00      1.0  \n",
       "user_id     22499.50  29999.0  \n",
       "watch_1        11.00     22.0  \n",
       "watch_2        11.00     23.0  \n",
       "watch_3        11.00     22.0  \n",
       "watch_4        12.00     21.0  \n",
       "watch_5        12.00     21.0  \n",
       "watch_6        12.00     21.0  \n",
       "condition       6.00      6.0  \n",
       "six_ads         1.00      1.0  "
      ]
     },
     "execution_count": 8,
     "metadata": {},
     "output_type": "execute_result"
    }
   ],
   "source": [
    "# inspect all the columns to check if there is any incorrect information\n",
    "users.describe().transpose()"
   ]
  },
  {
   "cell_type": "markdown",
   "id": "spread-process",
   "metadata": {},
   "source": [
    "Now I deal with the missing values of the six ```click``` frequency related columns. According to the frequency table, there are about 3000 - 5000 rows marked with *clicked* (```1.0```), and other rows are missing values. In order to further process the variables, here I replace missing values with 0."
   ]
  },
  {
   "cell_type": "code",
   "execution_count": 9,
   "id": "enabling-breakfast",
   "metadata": {},
   "outputs": [],
   "source": [
    "# fill missing values in click frequency column with 0\n",
    "users[['click_1', 'click_2', 'click_3', 'click_4', 'click_5', 'click_6']] = users[['click_1', 'click_2', 'click_3', 'click_4', 'click_5', 'click_6']].fillna(0)"
   ]
  },
  {
   "cell_type": "markdown",
   "id": "swedish-cloud",
   "metadata": {},
   "source": [
    "For the ```watch``` time related columns, the minimum values are also ```1.0```, which indicate that the minimum watch time recorded is 1 second. Here, I also replace the missing values with 0, because the missing values shows that there were users watched the ads for less than 1 seconds."
   ]
  },
  {
   "cell_type": "code",
   "execution_count": 10,
   "id": "marked-attack",
   "metadata": {},
   "outputs": [],
   "source": [
    "# fill missing values in watch time column with 0\n",
    "users[['watch_1', 'watch_2', 'watch_3', 'watch_4', 'watch_5', 'watch_6']] = users[['watch_1', 'watch_2', 'watch_3', 'watch_4', 'watch_5', 'watch_6']].fillna(0)"
   ]
  },
  {
   "cell_type": "markdown",
   "id": "quiet-facing",
   "metadata": {},
   "source": [
    "In order to test the hypotheses, I calculate the sum of the ```click``` frequency related and the ```watch``` time related columns."
   ]
  },
  {
   "cell_type": "code",
   "execution_count": 11,
   "id": "pursuant-dominican",
   "metadata": {},
   "outputs": [],
   "source": [
    "# generate two columns for total click frequency and watch time\n",
    "users['click_freq'] = users['click_1'] + users['click_2'] + users['click_3'] + users['click_4'] + users['click_5'] + users['click_6'] \n",
    "users['watch_time'] = users['watch_1'] + users['watch_2'] + users['watch_3'] + users['watch_4'] + users['watch_5'] + users['watch_6'] "
   ]
  },
  {
   "cell_type": "markdown",
   "id": "modular-character",
   "metadata": {},
   "source": [
    "Because in the following sections, I want to compare the difference between the two conditions, and the number of ads watched by the users may influence their click frequency and total watch time. Therefore, I calculate the mean value of these two columns based on the number of ads the users watched in the test."
   ]
  },
  {
   "cell_type": "code",
   "execution_count": 12,
   "id": "refined-organization",
   "metadata": {},
   "outputs": [],
   "source": [
    "# generate two columns for average click frequency and watch time\n",
    "users['mean_click'] = users['click_freq'] / users['condition']\n",
    "users['mean_watch'] = users['watch_time'] / users['condition']"
   ]
  },
  {
   "cell_type": "markdown",
   "id": "earned-exchange",
   "metadata": {},
   "source": [
    "In order to visualize and analyze the two columns (```mean_click``` and ```mean_watch```) clearer, I round the columns."
   ]
  },
  {
   "cell_type": "code",
   "execution_count": 13,
   "id": "packed-national",
   "metadata": {},
   "outputs": [],
   "source": [
    "# round the new columns\n",
    "users[['mean_click', 'mean_watch']] = users[['mean_click', 'mean_watch']].round(decimals=2)"
   ]
  },
  {
   "cell_type": "markdown",
   "id": "behind-rugby",
   "metadata": {},
   "source": [
    "25088 out of 30000 users in the dataset have data in sex column. This means that there are nearly 5000 users did not indicate their gender when registered. Since the test analysis includes sex as a covariate, here I delete all rows that do not have sex data to use logistic regression in the next section."
   ]
  },
  {
   "cell_type": "code",
   "execution_count": 14,
   "id": "differential-principle",
   "metadata": {},
   "outputs": [],
   "source": [
    "# delete rows without sex data\n",
    "users = users.dropna(axis=0, subset=['sex'])"
   ]
  },
  {
   "cell_type": "code",
   "execution_count": null,
   "id": "bound-awareness",
   "metadata": {},
   "outputs": [],
   "source": []
  },
  {
   "cell_type": "markdown",
   "id": "ecological-romance",
   "metadata": {},
   "source": [
    "For protecting users' privacy, I delete the identifiable information: ```user_id```, and other unrelated variables."
   ]
  },
  {
   "cell_type": "code",
   "execution_count": 15,
   "id": "moral-amazon",
   "metadata": {},
   "outputs": [
    {
     "data": {
      "text/plain": [
       "Index(['Unnamed: 0', 'ad_1', 'ad_2', 'ad_3', 'ad_4', 'ad_5', 'ad_6', 'age',\n",
       "       'click_1', 'click_2', 'click_3', 'click_4', 'click_5', 'click_6',\n",
       "       'device', 'gender', 'sex', 'user_id', 'watch_1', 'watch_2', 'watch_3',\n",
       "       'watch_4', 'watch_5', 'watch_6', 'condition', 'six_ads', 'click_freq',\n",
       "       'watch_time', 'mean_click', 'mean_watch'],\n",
       "      dtype='object')"
      ]
     },
     "execution_count": 15,
     "metadata": {},
     "output_type": "execute_result"
    }
   ],
   "source": [
    "users.columns"
   ]
  },
  {
   "cell_type": "code",
   "execution_count": 16,
   "id": "brilliant-bullet",
   "metadata": {},
   "outputs": [
    {
     "data": {
      "text/html": [
       "<div>\n",
       "<style scoped>\n",
       "    .dataframe tbody tr th:only-of-type {\n",
       "        vertical-align: middle;\n",
       "    }\n",
       "\n",
       "    .dataframe tbody tr th {\n",
       "        vertical-align: top;\n",
       "    }\n",
       "\n",
       "    .dataframe thead th {\n",
       "        text-align: right;\n",
       "    }\n",
       "</style>\n",
       "<table border=\"1\" class=\"dataframe\">\n",
       "  <thead>\n",
       "    <tr style=\"text-align: right;\">\n",
       "      <th></th>\n",
       "      <th>age</th>\n",
       "      <th>sex</th>\n",
       "      <th>condition</th>\n",
       "      <th>six_ads</th>\n",
       "      <th>mean_click</th>\n",
       "      <th>mean_watch</th>\n",
       "      <th>click_freq</th>\n",
       "      <th>watch_time</th>\n",
       "    </tr>\n",
       "  </thead>\n",
       "  <tbody>\n",
       "    <tr>\n",
       "      <th>0</th>\n",
       "      <td>26</td>\n",
       "      <td>1.0</td>\n",
       "      <td>3</td>\n",
       "      <td>0</td>\n",
       "      <td>0.00</td>\n",
       "      <td>10.67</td>\n",
       "      <td>0.0</td>\n",
       "      <td>32.0</td>\n",
       "    </tr>\n",
       "    <tr>\n",
       "      <th>1</th>\n",
       "      <td>26</td>\n",
       "      <td>1.0</td>\n",
       "      <td>6</td>\n",
       "      <td>1</td>\n",
       "      <td>0.50</td>\n",
       "      <td>8.67</td>\n",
       "      <td>3.0</td>\n",
       "      <td>52.0</td>\n",
       "    </tr>\n",
       "    <tr>\n",
       "      <th>2</th>\n",
       "      <td>25</td>\n",
       "      <td>1.0</td>\n",
       "      <td>3</td>\n",
       "      <td>0</td>\n",
       "      <td>0.33</td>\n",
       "      <td>8.00</td>\n",
       "      <td>1.0</td>\n",
       "      <td>24.0</td>\n",
       "    </tr>\n",
       "    <tr>\n",
       "      <th>3</th>\n",
       "      <td>25</td>\n",
       "      <td>1.0</td>\n",
       "      <td>3</td>\n",
       "      <td>0</td>\n",
       "      <td>0.33</td>\n",
       "      <td>7.00</td>\n",
       "      <td>1.0</td>\n",
       "      <td>21.0</td>\n",
       "    </tr>\n",
       "    <tr>\n",
       "      <th>4</th>\n",
       "      <td>27</td>\n",
       "      <td>1.0</td>\n",
       "      <td>6</td>\n",
       "      <td>1</td>\n",
       "      <td>0.17</td>\n",
       "      <td>7.67</td>\n",
       "      <td>1.0</td>\n",
       "      <td>46.0</td>\n",
       "    </tr>\n",
       "  </tbody>\n",
       "</table>\n",
       "</div>"
      ],
      "text/plain": [
       "   age  sex  condition  six_ads  mean_click  mean_watch  click_freq  \\\n",
       "0   26  1.0          3        0        0.00       10.67         0.0   \n",
       "1   26  1.0          6        1        0.50        8.67         3.0   \n",
       "2   25  1.0          3        0        0.33        8.00         1.0   \n",
       "3   25  1.0          3        0        0.33        7.00         1.0   \n",
       "4   27  1.0          6        1        0.17        7.67         1.0   \n",
       "\n",
       "   watch_time  \n",
       "0        32.0  \n",
       "1        52.0  \n",
       "2        24.0  \n",
       "3        21.0  \n",
       "4        46.0  "
      ]
     },
     "execution_count": 16,
     "metadata": {},
     "output_type": "execute_result"
    }
   ],
   "source": [
    "# delete unrelated columns\n",
    "users = users[['age', 'sex', 'condition', 'six_ads', 'mean_click', 'mean_watch', 'click_freq', 'watch_time']]\n",
    "users.head()"
   ]
  },
  {
   "cell_type": "markdown",
   "id": "ordinary-trick",
   "metadata": {},
   "source": [
    "The data is cleaned."
   ]
  },
  {
   "cell_type": "markdown",
   "id": "fresh-seafood",
   "metadata": {},
   "source": [
    "## Data Exploration and Evaluation"
   ]
  },
  {
   "cell_type": "markdown",
   "id": "tender-schema",
   "metadata": {},
   "source": [
    "### Descriptive information and univariate visualization"
   ]
  },
  {
   "cell_type": "markdown",
   "id": "copyrighted-garbage",
   "metadata": {},
   "source": [
    "#### Demographics"
   ]
  },
  {
   "cell_type": "code",
   "execution_count": 17,
   "id": "alike-borough",
   "metadata": {},
   "outputs": [
    {
     "data": {
      "text/plain": [
       "count    25088.000000\n",
       "mean        24.472178\n",
       "std          3.008860\n",
       "min         13.000000\n",
       "25%         22.000000\n",
       "50%         24.000000\n",
       "75%         27.000000\n",
       "max         37.000000\n",
       "Name: age, dtype: float64"
      ]
     },
     "execution_count": 17,
     "metadata": {},
     "output_type": "execute_result"
    }
   ],
   "source": [
    "# age\n",
    "users['age'].describe()"
   ]
  },
  {
   "cell_type": "code",
   "execution_count": 18,
   "id": "increased-lottery",
   "metadata": {},
   "outputs": [
    {
     "data": {
      "text/plain": [
       "<AxesSubplot:xlabel='age'>"
      ]
     },
     "execution_count": 18,
     "metadata": {},
     "output_type": "execute_result"
    },
    {
     "data": {
      "image/png": "[encoded data removed]",
      "text/plain": [
       "<Figure size 432x288 with 1 Axes>"
      ]
     },
     "metadata": {},
     "output_type": "display_data"
    }
   ],
   "source": [
    "sns.set_theme(style=\"whitegrid\")\n",
    "sns.boxplot(x = users['age'])"
   ]
  },
  {
   "cell_type": "markdown",
   "id": "increased-entry",
   "metadata": {},
   "source": [
    "The average age of the users in this dataset is 24.5 years old. The youngest participant of the user is 13 years old while the oldest is 37 years old. The majority of the participants age between 22 and 27."
   ]
  },
  {
   "cell_type": "code",
   "execution_count": 19,
   "id": "interpreted-beads",
   "metadata": {},
   "outputs": [
    {
     "data": {
      "text/plain": [
       "1.0    15085\n",
       "0.0    10003\n",
       "Name: sex, dtype: int64"
      ]
     },
     "execution_count": 19,
     "metadata": {},
     "output_type": "execute_result"
    }
   ],
   "source": [
    "# sex\n",
    "users['sex'].value_counts()"
   ]
  },
  {
   "cell_type": "code",
   "execution_count": 20,
   "id": "sophisticated-examination",
   "metadata": {},
   "outputs": [
    {
     "data": {
      "text/plain": [
       "<AxesSubplot:xlabel='sex', ylabel='count'>"
      ]
     },
     "execution_count": 20,
     "metadata": {},
     "output_type": "execute_result"
    },
    {
     "data": {
      "image/png": "[encoded data removed]",
      "text/plain": [
       "<Figure size 432x288 with 1 Axes>"
      ]
     },
     "metadata": {},
     "output_type": "display_data"
    }
   ],
   "source": [
    "sns.countplot(x = users['sex'])"
   ]
  },
  {
   "cell_type": "markdown",
   "id": "appointed-recipient",
   "metadata": {},
   "source": [
    "There are 15085 female users and 10003 male users participated in the test. The gender distribution, though not equal, is not imbalanced."
   ]
  },
  {
   "cell_type": "markdown",
   "id": "compressed-explorer",
   "metadata": {},
   "source": [
    "#### IV: Condition"
   ]
  },
  {
   "cell_type": "markdown",
   "id": "english-supplement",
   "metadata": {},
   "source": [
    "The IV of the test indicates whether the participants watched three or six advertisements in a row."
   ]
  },
  {
   "cell_type": "code",
   "execution_count": 21,
   "id": "enhanced-procurement",
   "metadata": {},
   "outputs": [
    {
     "data": {
      "text/plain": [
       "3    12702\n",
       "6    12386\n",
       "Name: condition, dtype: int64"
      ]
     },
     "execution_count": 21,
     "metadata": {},
     "output_type": "execute_result"
    }
   ],
   "source": [
    "# condition\n",
    "users['condition'].value_counts()"
   ]
  },
  {
   "cell_type": "code",
   "execution_count": 22,
   "id": "american-nepal",
   "metadata": {},
   "outputs": [
    {
     "data": {
      "text/plain": [
       "<AxesSubplot:xlabel='condition', ylabel='count'>"
      ]
     },
     "execution_count": 22,
     "metadata": {},
     "output_type": "execute_result"
    },
    {
     "data": {
      "image/png": "[encoded data removed]",
      "text/plain": [
       "<Figure size 432x288 with 1 Axes>"
      ]
     },
     "metadata": {},
     "output_type": "display_data"
    }
   ],
   "source": [
    "sns.countplot(x = users['condition'])"
   ]
  },
  {
   "cell_type": "markdown",
   "id": "exterior-shopping",
   "metadata": {},
   "source": [
    "There were similar number of participants engaged in the two test conditions: 12702 users watched three ads and 12386 users watched six ads during the test. The two conditions of this A/B test is equally distributed."
   ]
  },
  {
   "cell_type": "markdown",
   "id": "pleasant-welsh",
   "metadata": {},
   "source": [
    "#### DV: Click frequency and Watch time"
   ]
  },
  {
   "cell_type": "markdown",
   "id": "looking-april",
   "metadata": {},
   "source": [
    "There are two DVs in the test: \n",
    "* **Click frequency** (```click_freq```): This variable shows how many times the users clicked the advertisements during the test. For each advertisement, if the user clicked the link, the value of the according variable turns to ```1.0```.\n",
    "* **Watch time** (```watch_time```): This variable indicates the time for the users to watch the ads. When an advertisement started, the time started to count, and the counting stopped when the user turned to the next video. The time was counted in seconds."
   ]
  },
  {
   "cell_type": "code",
   "execution_count": 23,
   "id": "ecological-addition",
   "metadata": {},
   "outputs": [
    {
     "data": {
      "text/plain": [
       "0.0    11119\n",
       "1.0     8955\n",
       "2.0     3737\n",
       "3.0     1060\n",
       "4.0      203\n",
       "5.0       11\n",
       "6.0        3\n",
       "Name: click_freq, dtype: int64"
      ]
     },
     "execution_count": 23,
     "metadata": {},
     "output_type": "execute_result"
    }
   ],
   "source": [
    "# click frequency - total\n",
    "users['click_freq'].value_counts()"
   ]
  },
  {
   "cell_type": "code",
   "execution_count": 24,
   "id": "arabic-correlation",
   "metadata": {},
   "outputs": [
    {
     "data": {
      "text/plain": [
       "<AxesSubplot:xlabel='click_freq', ylabel='count'>"
      ]
     },
     "execution_count": 24,
     "metadata": {},
     "output_type": "execute_result"
    },
    {
     "data": {
      "image/png": "[encoded data removed]",
      "text/plain": [
       "<Figure size 432x288 with 1 Axes>"
      ]
     },
     "metadata": {},
     "output_type": "display_data"
    }
   ],
   "source": [
    "sns.countplot(x = users['click_freq'])"
   ]
  },
  {
   "cell_type": "markdown",
   "id": "caring-breeding",
   "metadata": {},
   "source": [
    "In this A/B test, when watching the continuous advertisements, over half of (55.7%) the participants clicked the ads, indicating a very high CTR (click-through rate) of the platform. This data should be used by the company as an advantage to attract advertisers.  \n",
    "The majority (80%) of users either clicked no ads or clicked the ads once. "
   ]
  },
  {
   "cell_type": "code",
   "execution_count": 25,
   "id": "infectious-configuration",
   "metadata": {},
   "outputs": [
    {
     "data": {
      "text/plain": [
       "0.00    11119\n",
       "0.33     7158\n",
       "0.17     4812\n",
       "0.50     1026\n",
       "0.67      925\n",
       "1.00       37\n",
       "0.83       11\n",
       "Name: mean_click, dtype: int64"
      ]
     },
     "execution_count": 25,
     "metadata": {},
     "output_type": "execute_result"
    }
   ],
   "source": [
    "# click frequency - average\n",
    "users['mean_click'].value_counts()"
   ]
  },
  {
   "cell_type": "code",
   "execution_count": 26,
   "id": "hispanic-shanghai",
   "metadata": {},
   "outputs": [
    {
     "data": {
      "text/plain": [
       "<AxesSubplot:xlabel='mean_click', ylabel='count'>"
      ]
     },
     "execution_count": 26,
     "metadata": {},
     "output_type": "execute_result"
    },
    {
     "data": {
      "image/png": "[encoded data removed]",
      "text/plain": [
       "<Figure size 432x288 with 1 Axes>"
      ]
     },
     "metadata": {},
     "output_type": "display_data"
    }
   ],
   "source": [
    "sns.countplot(x = users['mean_click'])"
   ]
  },
  {
   "cell_type": "markdown",
   "id": "latin-kentucky",
   "metadata": {},
   "source": [
    "The average value shows that nearly half (47.7%) of the participants clicked 0.17 or 0.33 times into the link of the ads in the test."
   ]
  },
  {
   "cell_type": "code",
   "execution_count": 27,
   "id": "dramatic-preliminary",
   "metadata": {},
   "outputs": [
    {
     "data": {
      "text/plain": [
       "count    25088.000000\n",
       "mean        41.302415\n",
       "std         16.915169\n",
       "min          5.000000\n",
       "25%         26.000000\n",
       "50%         39.000000\n",
       "75%         57.000000\n",
       "max         94.000000\n",
       "Name: watch_time, dtype: float64"
      ]
     },
     "execution_count": 27,
     "metadata": {},
     "output_type": "execute_result"
    }
   ],
   "source": [
    "# watch time - total\n",
    "users['watch_time'].describe()"
   ]
  },
  {
   "cell_type": "code",
   "execution_count": 28,
   "id": "suffering-challenge",
   "metadata": {},
   "outputs": [
    {
     "name": "stderr",
     "output_type": "stream",
     "text": [
      "/opt/anaconda3/lib/python3.7/site-packages/seaborn/distributions.py:2557: FutureWarning: `distplot` is a deprecated function and will be removed in a future version. Please adapt your code to use either `displot` (a figure-level function with similar flexibility) or `histplot` (an axes-level function for histograms).\n",
      "  warnings.warn(msg, FutureWarning)\n"
     ]
    },
    {
     "data": {
      "text/plain": [
       "<AxesSubplot:ylabel='Density'>"
      ]
     },
     "execution_count": 28,
     "metadata": {},
     "output_type": "execute_result"
    },
    {
     "data": {
      "image/png": "[encoded data removed]",
      "text/plain": [
       "<Figure size 432x288 with 1 Axes>"
      ]
     },
     "metadata": {},
     "output_type": "display_data"
    }
   ],
   "source": [
    "sns.distplot(x = users['watch_time'])"
   ]
  },
  {
   "cell_type": "markdown",
   "id": "piano-programming",
   "metadata": {},
   "source": [
    "On average, the participants spent about 40 seconds on watching all ads in the test. There were users who did not care about the ads, and spent 5 seconds jumping all advertisements, and there were users nearly watched all ads from the beginning to the end. The histogram of the watch time shows that the values gather around two areas — the majority of the users spent about either 20-35 seconds or 45-63 seconds on watching advertisements. The distribution indicates that the watch time were influenced by the number of ads the users watched. Therefore, it is necessary to calculate the mean watch time of the users."
   ]
  },
  {
   "cell_type": "code",
   "execution_count": 29,
   "id": "afraid-homeless",
   "metadata": {},
   "outputs": [
    {
     "data": {
      "text/plain": [
       "count    25088.000000\n",
       "mean         9.076044\n",
       "std          1.721457\n",
       "min          1.670000\n",
       "25%          8.000000\n",
       "50%          9.170000\n",
       "75%         10.170000\n",
       "max         16.000000\n",
       "Name: mean_watch, dtype: float64"
      ]
     },
     "execution_count": 29,
     "metadata": {},
     "output_type": "execute_result"
    }
   ],
   "source": [
    "# watch time - average\n",
    "users['mean_watch'].describe()"
   ]
  },
  {
   "cell_type": "code",
   "execution_count": 30,
   "id": "utility-blade",
   "metadata": {},
   "outputs": [
    {
     "name": "stderr",
     "output_type": "stream",
     "text": [
      "/opt/anaconda3/lib/python3.7/site-packages/seaborn/distributions.py:2557: FutureWarning: `distplot` is a deprecated function and will be removed in a future version. Please adapt your code to use either `displot` (a figure-level function with similar flexibility) or `histplot` (an axes-level function for histograms).\n",
      "  warnings.warn(msg, FutureWarning)\n"
     ]
    },
    {
     "data": {
      "text/plain": [
       "<AxesSubplot:ylabel='Density'>"
      ]
     },
     "execution_count": 30,
     "metadata": {},
     "output_type": "execute_result"
    },
    {
     "data": {
      "image/png": "[encoded data removed]",
      "text/plain": [
       "<Figure size 432x288 with 1 Axes>"
      ]
     },
     "metadata": {},
     "output_type": "display_data"
    }
   ],
   "source": [
    "sns.distplot(x = users['mean_watch'])"
   ]
  },
  {
   "cell_type": "markdown",
   "id": "received-cricket",
   "metadata": {},
   "source": [
    "In the test, each user spent about 9 seconds on each advertisement. Some users jumped to the next video without grabbing the meaning of the advertisement (they spent less than 2 seconds on it), while some watched the whole video. The data is also powerful to attract the advertisers, because it shows that the users watch each advertisement for a rather long time."
   ]
  },
  {
   "cell_type": "code",
   "execution_count": null,
   "id": "behind-novel",
   "metadata": {},
   "outputs": [],
   "source": []
  },
  {
   "cell_type": "markdown",
   "id": "addressed-thailand",
   "metadata": {},
   "source": [
    "### Bivariate relationships"
   ]
  },
  {
   "cell_type": "markdown",
   "id": "endangered-cycling",
   "metadata": {},
   "source": [
    "#### IV & DV: Condition + Click frequency / Watch time"
   ]
  },
  {
   "cell_type": "code",
   "execution_count": 31,
   "id": "peaceful-fitness",
   "metadata": {},
   "outputs": [
    {
     "data": {
      "text/html": [
       "<div>\n",
       "<style scoped>\n",
       "    .dataframe tbody tr th:only-of-type {\n",
       "        vertical-align: middle;\n",
       "    }\n",
       "\n",
       "    .dataframe tbody tr th {\n",
       "        vertical-align: top;\n",
       "    }\n",
       "\n",
       "    .dataframe thead th {\n",
       "        text-align: right;\n",
       "    }\n",
       "</style>\n",
       "<table border=\"1\" class=\"dataframe\">\n",
       "  <thead>\n",
       "    <tr style=\"text-align: right;\">\n",
       "      <th></th>\n",
       "      <th>mean_click</th>\n",
       "    </tr>\n",
       "    <tr>\n",
       "      <th>condition</th>\n",
       "      <th></th>\n",
       "    </tr>\n",
       "  </thead>\n",
       "  <tbody>\n",
       "    <tr>\n",
       "      <th>3</th>\n",
       "      <td>0.148396</td>\n",
       "    </tr>\n",
       "    <tr>\n",
       "      <th>6</th>\n",
       "      <td>0.199752</td>\n",
       "    </tr>\n",
       "  </tbody>\n",
       "</table>\n",
       "</div>"
      ],
      "text/plain": [
       "           mean_click\n",
       "condition            \n",
       "3            0.148396\n",
       "6            0.199752"
      ]
     },
     "execution_count": 31,
     "metadata": {},
     "output_type": "execute_result"
    }
   ],
   "source": [
    "# condition + click frequency\n",
    "users.groupby('condition').agg({'mean_click':'mean'})"
   ]
  },
  {
   "cell_type": "code",
   "execution_count": 32,
   "id": "living-jersey",
   "metadata": {},
   "outputs": [
    {
     "data": {
      "text/plain": [
       "[Text(0, 0.5, 'Mean Click Frequency')]"
      ]
     },
     "execution_count": 32,
     "metadata": {},
     "output_type": "execute_result"
    },
    {
     "data": {
      "image/png": "[encoded data removed]",
      "text/plain": [
       "<Figure size 432x288 with 1 Axes>"
      ]
     },
     "metadata": {},
     "output_type": "display_data"
    }
   ],
   "source": [
    "cond_click = sns.barplot(x = 'condition', y = 'mean_click', data = users)\n",
    "cond_click.set(ylabel = 'Mean Click Frequency')"
   ]
  },
  {
   "cell_type": "markdown",
   "id": "optional-athens",
   "metadata": {},
   "source": [
    "The Douyin users that watched six ads in a row in the test has, on average, higher click frequency than users watched three ads. The confidence invervals in the plot indicate that although the average click frequencies for the two groups are not high (far less than 0.5), the difference between the two groups is statisctially significant. "
   ]
  },
  {
   "cell_type": "code",
   "execution_count": null,
   "id": "american-cattle",
   "metadata": {},
   "outputs": [],
   "source": []
  },
  {
   "cell_type": "code",
   "execution_count": 33,
   "id": "second-germany",
   "metadata": {},
   "outputs": [
    {
     "data": {
      "text/html": [
       "<div>\n",
       "<style scoped>\n",
       "    .dataframe tbody tr th:only-of-type {\n",
       "        vertical-align: middle;\n",
       "    }\n",
       "\n",
       "    .dataframe tbody tr th {\n",
       "        vertical-align: top;\n",
       "    }\n",
       "\n",
       "    .dataframe thead th {\n",
       "        text-align: right;\n",
       "    }\n",
       "</style>\n",
       "<table border=\"1\" class=\"dataframe\">\n",
       "  <thead>\n",
       "    <tr style=\"text-align: right;\">\n",
       "      <th></th>\n",
       "      <th>min</th>\n",
       "      <th>max</th>\n",
       "      <th>mean</th>\n",
       "    </tr>\n",
       "    <tr>\n",
       "      <th>condition</th>\n",
       "      <th></th>\n",
       "      <th></th>\n",
       "      <th></th>\n",
       "    </tr>\n",
       "  </thead>\n",
       "  <tbody>\n",
       "    <tr>\n",
       "      <th>3</th>\n",
       "      <td>1.67</td>\n",
       "      <td>16.00</td>\n",
       "      <td>8.660161</td>\n",
       "    </tr>\n",
       "    <tr>\n",
       "      <th>6</th>\n",
       "      <td>5.00</td>\n",
       "      <td>15.67</td>\n",
       "      <td>9.502537</td>\n",
       "    </tr>\n",
       "  </tbody>\n",
       "</table>\n",
       "</div>"
      ],
      "text/plain": [
       "            min    max      mean\n",
       "condition                       \n",
       "3          1.67  16.00  8.660161\n",
       "6          5.00  15.67  9.502537"
      ]
     },
     "execution_count": 33,
     "metadata": {},
     "output_type": "execute_result"
    }
   ],
   "source": [
    "# condition + watch time\n",
    "users.groupby('condition')['mean_watch'].agg([min, max, np.mean])"
   ]
  },
  {
   "cell_type": "code",
   "execution_count": 34,
   "id": "breathing-stock",
   "metadata": {},
   "outputs": [
    {
     "data": {
      "text/plain": [
       "[Text(0, 0.5, 'Mean Watch Time')]"
      ]
     },
     "execution_count": 34,
     "metadata": {},
     "output_type": "execute_result"
    },
    {
     "data": {
      "image/png": "[encoded data removed]",
      "text/plain": [
       "<Figure size 432x288 with 1 Axes>"
      ]
     },
     "metadata": {},
     "output_type": "display_data"
    }
   ],
   "source": [
    "cond_watch = sns.barplot(x = 'condition', y = 'mean_watch', data = users)\n",
    "cond_watch.set(ylabel = 'Mean Watch Time')"
   ]
  },
  {
   "cell_type": "markdown",
   "id": "unnecessary-murder",
   "metadata": {},
   "source": [
    "The users participated in the test that in the six ads condition also show longer ads watch time comparing with users in the three ads condition: they watched each advertisement for on average nearly one more second. The confidence intervals here show that the difference of the watch time between the two conditions is also statistically significant. The result indicates that, in the test, the effectiveness of the ads was influenced by the number of ads watched by the users."
   ]
  },
  {
   "cell_type": "code",
   "execution_count": null,
   "id": "contained-possession",
   "metadata": {},
   "outputs": [],
   "source": []
  },
  {
   "cell_type": "markdown",
   "id": "classical-lawyer",
   "metadata": {},
   "source": [
    "#### Covariates & DV: Age / Gender + Click frequency / Watch time"
   ]
  },
  {
   "cell_type": "code",
   "execution_count": 35,
   "id": "later-denial",
   "metadata": {},
   "outputs": [
    {
     "data": {
      "text/plain": [
       "[Text(0, 0.5, 'Mean Click Frequency')]"
      ]
     },
     "execution_count": 35,
     "metadata": {},
     "output_type": "execute_result"
    },
    {
     "data": {
      "image/png": "[encoded data removed]",
      "text/plain": [
       "<Figure size 432x288 with 1 Axes>"
      ]
     },
     "metadata": {},
     "output_type": "display_data"
    }
   ],
   "source": [
    "# age + click frequency\n",
    "age_click = sns.lineplot(x = 'age', y = 'mean_click', data = users)\n",
    "age_click.set(ylabel = 'Mean Click Frequency')"
   ]
  },
  {
   "cell_type": "markdown",
   "id": "copyrighted-feeling",
   "metadata": {},
   "source": [
    "Users in different ages have similar frequency to click the link in an ad, while the frequency is slightly higher for users less than 15 years old and for users at about 34 years old. The confidence invertal shows that the differences for the mean click frequency are slight and not statistically significant."
   ]
  },
  {
   "cell_type": "code",
   "execution_count": null,
   "id": "brutal-holly",
   "metadata": {},
   "outputs": [],
   "source": []
  },
  {
   "cell_type": "code",
   "execution_count": 36,
   "id": "humanitarian-pulse",
   "metadata": {},
   "outputs": [
    {
     "data": {
      "text/plain": [
       "[Text(0, 0.5, 'Mean Watch time')]"
      ]
     },
     "execution_count": 36,
     "metadata": {},
     "output_type": "execute_result"
    },
    {
     "data": {
      "image/png": "[encoded data removed]",
      "text/plain": [
       "<Figure size 432x288 with 1 Axes>"
      ]
     },
     "metadata": {},
     "output_type": "display_data"
    }
   ],
   "source": [
    "# age + watch time\n",
    "age_watch = sns.lineplot(x = 'age', y = 'mean_watch', data = users)\n",
    "age_watch.set(ylabel = 'Mean Watch time')"
   ]
  },
  {
   "cell_type": "markdown",
   "id": "artistic-monster",
   "metadata": {},
   "source": [
    "The watch times for users between 15 and about 34 years old are similar: the average watch time of the users is about 9 seconds. The plot shows that the users younger than 15 years old have higher watch time, but the difference is small. The users aged 35 also spent longer for each ad, and this difference is statistically significant."
   ]
  },
  {
   "cell_type": "code",
   "execution_count": null,
   "id": "advisory-presence",
   "metadata": {},
   "outputs": [],
   "source": []
  },
  {
   "cell_type": "code",
   "execution_count": 37,
   "id": "exciting-gothic",
   "metadata": {},
   "outputs": [
    {
     "data": {
      "text/html": [
       "<div>\n",
       "<style scoped>\n",
       "    .dataframe tbody tr th:only-of-type {\n",
       "        vertical-align: middle;\n",
       "    }\n",
       "\n",
       "    .dataframe tbody tr th {\n",
       "        vertical-align: top;\n",
       "    }\n",
       "\n",
       "    .dataframe thead th {\n",
       "        text-align: right;\n",
       "    }\n",
       "</style>\n",
       "<table border=\"1\" class=\"dataframe\">\n",
       "  <thead>\n",
       "    <tr style=\"text-align: right;\">\n",
       "      <th></th>\n",
       "      <th>mean_click</th>\n",
       "    </tr>\n",
       "    <tr>\n",
       "      <th>sex</th>\n",
       "      <th></th>\n",
       "    </tr>\n",
       "  </thead>\n",
       "  <tbody>\n",
       "    <tr>\n",
       "      <th>0.0</th>\n",
       "      <td>0.172824</td>\n",
       "    </tr>\n",
       "    <tr>\n",
       "      <th>1.0</th>\n",
       "      <td>0.174365</td>\n",
       "    </tr>\n",
       "  </tbody>\n",
       "</table>\n",
       "</div>"
      ],
      "text/plain": [
       "     mean_click\n",
       "sex            \n",
       "0.0    0.172824\n",
       "1.0    0.174365"
      ]
     },
     "execution_count": 37,
     "metadata": {},
     "output_type": "execute_result"
    }
   ],
   "source": [
    "# gender + click frequency\n",
    "users.groupby('sex').agg({'mean_click':'mean'})"
   ]
  },
  {
   "cell_type": "code",
   "execution_count": 38,
   "id": "prerequisite-tourism",
   "metadata": {},
   "outputs": [
    {
     "data": {
      "text/plain": [
       "[Text(0.5, 0, 'Gender'), Text(0, 0.5, 'Mean Click Frequency')]"
      ]
     },
     "execution_count": 38,
     "metadata": {},
     "output_type": "execute_result"
    },
    {
     "data": {
      "image/png": "[encoded data removed]",
      "text/plain": [
       "<Figure size 432x288 with 1 Axes>"
      ]
     },
     "metadata": {},
     "output_type": "display_data"
    }
   ],
   "source": [
    "gender_click = sns.barplot(x = 'sex', y = 'mean_click', data = users)\n",
    "gender_click.set(xlabel = 'Gender', ylabel = 'Mean Click Frequency')"
   ]
  },
  {
   "cell_type": "markdown",
   "id": "reserved-poultry",
   "metadata": {},
   "source": [
    "The difference of click frequency caused by different gender is small. Female and male users had similar click frequency during the test."
   ]
  },
  {
   "cell_type": "code",
   "execution_count": null,
   "id": "constant-knock",
   "metadata": {},
   "outputs": [],
   "source": []
  },
  {
   "cell_type": "code",
   "execution_count": 39,
   "id": "lucky-thesis",
   "metadata": {},
   "outputs": [
    {
     "data": {
      "text/html": [
       "<div>\n",
       "<style scoped>\n",
       "    .dataframe tbody tr th:only-of-type {\n",
       "        vertical-align: middle;\n",
       "    }\n",
       "\n",
       "    .dataframe tbody tr th {\n",
       "        vertical-align: top;\n",
       "    }\n",
       "\n",
       "    .dataframe thead th {\n",
       "        text-align: right;\n",
       "    }\n",
       "</style>\n",
       "<table border=\"1\" class=\"dataframe\">\n",
       "  <thead>\n",
       "    <tr style=\"text-align: right;\">\n",
       "      <th></th>\n",
       "      <th>min</th>\n",
       "      <th>max</th>\n",
       "      <th>mean</th>\n",
       "    </tr>\n",
       "    <tr>\n",
       "      <th>sex</th>\n",
       "      <th></th>\n",
       "      <th></th>\n",
       "      <th></th>\n",
       "    </tr>\n",
       "  </thead>\n",
       "  <tbody>\n",
       "    <tr>\n",
       "      <th>0.0</th>\n",
       "      <td>2.00</td>\n",
       "      <td>16.0</td>\n",
       "      <td>9.065344</td>\n",
       "    </tr>\n",
       "    <tr>\n",
       "      <th>1.0</th>\n",
       "      <td>1.67</td>\n",
       "      <td>16.0</td>\n",
       "      <td>9.083138</td>\n",
       "    </tr>\n",
       "  </tbody>\n",
       "</table>\n",
       "</div>"
      ],
      "text/plain": [
       "      min   max      mean\n",
       "sex                      \n",
       "0.0  2.00  16.0  9.065344\n",
       "1.0  1.67  16.0  9.083138"
      ]
     },
     "execution_count": 39,
     "metadata": {},
     "output_type": "execute_result"
    }
   ],
   "source": [
    "# gender + watch time\n",
    "users.groupby('sex')['mean_watch'].agg([min, max, np.mean])"
   ]
  },
  {
   "cell_type": "code",
   "execution_count": 40,
   "id": "traditional-budget",
   "metadata": {},
   "outputs": [
    {
     "data": {
      "text/plain": [
       "[Text(0.5, 0, 'Gender'), Text(0, 0.5, 'Mean Watch Time')]"
      ]
     },
     "execution_count": 40,
     "metadata": {},
     "output_type": "execute_result"
    },
    {
     "data": {
      "image/png": "[encoded data removed]",
      "text/plain": [
       "<Figure size 432x288 with 1 Axes>"
      ]
     },
     "metadata": {},
     "output_type": "display_data"
    }
   ],
   "source": [
    "gender_watch = sns.barplot(x = 'sex', y = 'mean_watch', data = users)\n",
    "gender_watch.set(xlabel = 'Gender', ylabel='Mean Watch Time')"
   ]
  },
  {
   "cell_type": "markdown",
   "id": "designed-singles",
   "metadata": {},
   "source": [
    "The difference of watch time is also small for two gender groups. The result shows that gender has small effect on influencing the effectiveness of the advertisements on Douyin."
   ]
  },
  {
   "cell_type": "markdown",
   "id": "balanced-dinner",
   "metadata": {},
   "source": [
    "Overall, the dataset is balanced for users gender, age and test conditions. It can be hard for the test result to cause biases to different users, because the result would be used to distribute ads, not used to select Douyin users."
   ]
  },
  {
   "cell_type": "code",
   "execution_count": null,
   "id": "recent-singing",
   "metadata": {},
   "outputs": [],
   "source": []
  },
  {
   "cell_type": "markdown",
   "id": "directed-irrigation",
   "metadata": {},
   "source": [
    "## Modelling and Hypotheses Testing"
   ]
  },
  {
   "cell_type": "markdown",
   "id": "black-ideal",
   "metadata": {},
   "source": [
    "**Take 80% data!**\n",
    "H1a: logit regression\n",
    "H1b: linear regression"
   ]
  },
  {
   "cell_type": "markdown",
   "id": "cordless-council",
   "metadata": {},
   "source": [
    "#### Regression"
   ]
  },
  {
   "cell_type": "code",
   "execution_count": 44,
   "id": "seventh-zoning",
   "metadata": {},
   "outputs": [
    {
     "name": "stdout",
     "output_type": "stream",
     "text": [
      "Optimization terminated successfully.\n",
      "         Current function value: 0.343975\n",
      "         Iterations 6\n",
      "                           Logit Regression Results                           \n",
      "==============================================================================\n",
      "Dep. Variable:             mean_click   No. Observations:                25088\n",
      "Model:                          Logit   Df Residuals:                    25084\n",
      "Method:                           MLE   Df Model:                            3\n",
      "Date:                Sun, 14 Mar 2021   Pseudo R-squ.:                  -1.177\n",
      "Time:                        16:27:38   Log-Likelihood:                -8629.7\n",
      "converged:                       True   LL-Null:                       -3964.1\n",
      "Covariance Type:            nonrobust   LLR p-value:                     1.000\n",
      "==============================================================================\n",
      "                 coef    std err          z      P>|z|      [0.025      0.975]\n",
      "------------------------------------------------------------------------------\n",
      "const         -1.6808      0.140    -12.041      0.000      -1.954      -1.407\n",
      "six_ads        0.3594      0.034     10.701      0.000       0.294       0.425\n",
      "sex            0.0134      0.034      0.393      0.694      -0.053       0.080\n",
      "age           -0.0030      0.006     -0.549      0.583      -0.014       0.008\n",
      "==============================================================================\n"
     ]
    }
   ],
   "source": [
    "# H1a: mean click frequency\n",
    "logit_click = sm.Logit(users['mean_click'], sm.add_constant(users[['six_ads', 'sex', 'age']]))\n",
    "result_click = logit_click.fit()\n",
    "print(result_click.summary())"
   ]
  },
  {
   "cell_type": "code",
   "execution_count": null,
   "id": "weekly-original",
   "metadata": {},
   "outputs": [],
   "source": []
  },
  {
   "cell_type": "code",
   "execution_count": null,
   "id": "spare-growth",
   "metadata": {},
   "outputs": [],
   "source": []
  },
  {
   "cell_type": "code",
   "execution_count": 45,
   "id": "parliamentary-night",
   "metadata": {},
   "outputs": [
    {
     "name": "stdout",
     "output_type": "stream",
     "text": [
      "                            OLS Regression Results                            \n",
      "==============================================================================\n",
      "Dep. Variable:             mean_watch   R-squared:                       0.060\n",
      "Model:                            OLS   Adj. R-squared:                  0.060\n",
      "Method:                 Least Squares   F-statistic:                     532.9\n",
      "Date:                Sun, 14 Mar 2021   Prob (F-statistic):               0.00\n",
      "Time:                        16:27:41   Log-Likelihood:                -48450.\n",
      "No. Observations:               25088   AIC:                         9.691e+04\n",
      "Df Residuals:                   25084   BIC:                         9.694e+04\n",
      "Df Model:                           3                                         \n",
      "Covariance Type:            nonrobust                                         \n",
      "==============================================================================\n",
      "                 coef    std err          t      P>|t|      [0.025      0.975]\n",
      "------------------------------------------------------------------------------\n",
      "const          8.6956      0.088     98.889      0.000       8.523       8.868\n",
      "six_ads        0.8425      0.021     39.969      0.000       0.801       0.884\n",
      "sex            0.0238      0.022      1.106      0.269      -0.018       0.066\n",
      "age           -0.0020      0.004     -0.581      0.561      -0.009       0.005\n",
      "==============================================================================\n",
      "Omnibus:                      208.962   Durbin-Watson:                   2.017\n",
      "Prob(Omnibus):                  0.000   Jarque-Bera (JB):              306.574\n",
      "Skew:                           0.086   Prob(JB):                     2.68e-67\n",
      "Kurtosis:                       3.513   Cond. No.                         206.\n",
      "==============================================================================\n",
      "\n",
      "Notes:\n",
      "[1] Standard Errors assume that the covariance matrix of the errors is correctly specified.\n"
     ]
    }
   ],
   "source": [
    "# H1b: mean watch time\n",
    "ols_watch = sm.OLS(users['mean_watch'], sm.add_constant(users[['six_ads', 'sex', 'age']]))\n",
    "result_watch = ols_watch.fit()\n",
    "print(result_watch.summary())"
   ]
  },
  {
   "cell_type": "code",
   "execution_count": null,
   "id": "standing-combination",
   "metadata": {},
   "outputs": [],
   "source": []
  },
  {
   "cell_type": "markdown",
   "id": "separated-cooking",
   "metadata": {},
   "source": [
    "#### ML"
   ]
  },
  {
   "cell_type": "code",
   "execution_count": 46,
   "id": "framed-wagon",
   "metadata": {},
   "outputs": [
    {
     "ename": "ValueError",
     "evalue": "Unknown label type: 'continuous'",
     "output_type": "error",
     "traceback": [
      "\u001b[0;31m---------------------------------------------------------------------------\u001b[0m",
      "\u001b[0;31mValueError\u001b[0m                                Traceback (most recent call last)",
      "\u001b[0;32m<ipython-input-46-38c17eab932e>\u001b[0m in \u001b[0;36m<module>\u001b[0;34m\u001b[0m\n\u001b[1;32m      1\u001b[0m \u001b[0;31m# predict mean click frequency\u001b[0m\u001b[0;34m\u001b[0m\u001b[0;34m\u001b[0m\u001b[0;34m\u001b[0m\u001b[0m\n\u001b[1;32m      2\u001b[0m \u001b[0mlogit_click\u001b[0m \u001b[0;34m=\u001b[0m \u001b[0mLogisticRegression\u001b[0m\u001b[0;34m(\u001b[0m\u001b[0mmax_iter\u001b[0m\u001b[0;34m=\u001b[0m\u001b[0;36m1000\u001b[0m\u001b[0;34m,\u001b[0m \u001b[0mfit_intercept\u001b[0m \u001b[0;34m=\u001b[0m \u001b[0;32mTrue\u001b[0m\u001b[0;34m)\u001b[0m\u001b[0;34m\u001b[0m\u001b[0;34m\u001b[0m\u001b[0m\n\u001b[0;32m----> 3\u001b[0;31m \u001b[0mlogit_click\u001b[0m\u001b[0;34m.\u001b[0m\u001b[0mfit\u001b[0m\u001b[0;34m(\u001b[0m\u001b[0musers\u001b[0m\u001b[0;34m[\u001b[0m\u001b[0;34m[\u001b[0m\u001b[0;34m'six_ads'\u001b[0m\u001b[0;34m,\u001b[0m \u001b[0;34m'sex'\u001b[0m\u001b[0;34m,\u001b[0m \u001b[0;34m'age'\u001b[0m\u001b[0;34m]\u001b[0m\u001b[0;34m]\u001b[0m\u001b[0;34m,\u001b[0m \u001b[0musers\u001b[0m\u001b[0;34m[\u001b[0m\u001b[0;34m'mean_click'\u001b[0m\u001b[0;34m]\u001b[0m\u001b[0;34m)\u001b[0m\u001b[0;34m\u001b[0m\u001b[0;34m\u001b[0m\u001b[0m\n\u001b[0m",
      "\u001b[0;32m/opt/anaconda3/lib/python3.7/site-packages/sklearn/linear_model/_logistic.py\u001b[0m in \u001b[0;36mfit\u001b[0;34m(self, X, y, sample_weight)\u001b[0m\n\u001b[1;32m   1343\u001b[0m                                    \u001b[0morder\u001b[0m\u001b[0;34m=\u001b[0m\u001b[0;34m\"C\"\u001b[0m\u001b[0;34m,\u001b[0m\u001b[0;34m\u001b[0m\u001b[0;34m\u001b[0m\u001b[0m\n\u001b[1;32m   1344\u001b[0m                                    accept_large_sparse=solver != 'liblinear')\n\u001b[0;32m-> 1345\u001b[0;31m         \u001b[0mcheck_classification_targets\u001b[0m\u001b[0;34m(\u001b[0m\u001b[0my\u001b[0m\u001b[0;34m)\u001b[0m\u001b[0;34m\u001b[0m\u001b[0;34m\u001b[0m\u001b[0m\n\u001b[0m\u001b[1;32m   1346\u001b[0m         \u001b[0mself\u001b[0m\u001b[0;34m.\u001b[0m\u001b[0mclasses_\u001b[0m \u001b[0;34m=\u001b[0m \u001b[0mnp\u001b[0m\u001b[0;34m.\u001b[0m\u001b[0munique\u001b[0m\u001b[0;34m(\u001b[0m\u001b[0my\u001b[0m\u001b[0;34m)\u001b[0m\u001b[0;34m\u001b[0m\u001b[0;34m\u001b[0m\u001b[0m\n\u001b[1;32m   1347\u001b[0m \u001b[0;34m\u001b[0m\u001b[0m\n",
      "\u001b[0;32m/opt/anaconda3/lib/python3.7/site-packages/sklearn/utils/multiclass.py\u001b[0m in \u001b[0;36mcheck_classification_targets\u001b[0;34m(y)\u001b[0m\n\u001b[1;32m    170\u001b[0m     if y_type not in ['binary', 'multiclass', 'multiclass-multioutput',\n\u001b[1;32m    171\u001b[0m                       'multilabel-indicator', 'multilabel-sequences']:\n\u001b[0;32m--> 172\u001b[0;31m         \u001b[0;32mraise\u001b[0m \u001b[0mValueError\u001b[0m\u001b[0;34m(\u001b[0m\u001b[0;34m\"Unknown label type: %r\"\u001b[0m \u001b[0;34m%\u001b[0m \u001b[0my_type\u001b[0m\u001b[0;34m)\u001b[0m\u001b[0;34m\u001b[0m\u001b[0;34m\u001b[0m\u001b[0m\n\u001b[0m\u001b[1;32m    173\u001b[0m \u001b[0;34m\u001b[0m\u001b[0m\n\u001b[1;32m    174\u001b[0m \u001b[0;34m\u001b[0m\u001b[0m\n",
      "\u001b[0;31mValueError\u001b[0m: Unknown label type: 'continuous'"
     ]
    }
   ],
   "source": [
    "# predict mean click frequency\n",
    "logit_click = LogisticRegression(max_iter=1000, fit_intercept = True)\n",
    "logit_click.fit(users[['six_ads', 'sex', 'age']], users['mean_click'])"
   ]
  },
  {
   "cell_type": "code",
   "execution_count": null,
   "id": "separate-alaska",
   "metadata": {},
   "outputs": [],
   "source": []
  },
  {
   "cell_type": "code",
   "execution_count": null,
   "id": "backed-zealand",
   "metadata": {},
   "outputs": [],
   "source": []
  },
  {
   "cell_type": "markdown",
   "id": "political-bronze",
   "metadata": {},
   "source": [
    "#### LIME"
   ]
  },
  {
   "cell_type": "code",
   "execution_count": null,
   "id": "spread-cookbook",
   "metadata": {},
   "outputs": [],
   "source": []
  }
 ],
 "metadata": {
  "kernelspec": {
   "display_name": "Python 3",
   "language": "python",
   "name": "python3"
  },
  "language_info": {
   "codemirror_mode": {
    "name": "ipython",
    "version": 3
   },
   "file_extension": ".py",
   "mimetype": "text/x-python",
   "name": "python",
   "nbconvert_exporter": "python",
   "pygments_lexer": "ipython3",
   "version": "3.7.9"
  },
  "toc": {
   "base_numbering": 1,
   "nav_menu": {},
   "number_sections": true,
   "sideBar": true,
   "skip_h1_title": false,
   "title_cell": "Table of Contents",
   "title_sidebar": "Contents",
   "toc_cell": false,
   "toc_position": {},
   "toc_section_display": true,
   "toc_window_display": true
  }
 },
 "nbformat": 4,
 "nbformat_minor": 5
}
