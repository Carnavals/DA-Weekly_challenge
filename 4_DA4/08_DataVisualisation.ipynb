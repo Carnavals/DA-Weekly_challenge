{
 "cells": [
  {
   "cell_type": "markdown",
   "metadata": {},
   "source": [
    "# Data Visualization\n",
    "\n",
    "By the end of the tutorials of this week, you should acquire:\n",
    "\n",
    "**Knowledge on:**\n",
    "* Considerations about **unit of analysis**\n",
    "* Descriptive exploration of data to answer RQ\n",
    "* Univariate data visualization \n",
    "* Bivariate data visualization\n",
    "* Reporting and interpretation\n",
    "\n",
    "**Skills:**\n",
    "* .drop_duplicates()\n",
    "* .describe(), .value_counts()\n",
    "* Using Seaborn \n",
    "* Choosing the appropriate chart for visualizations\n",
    "* Interpreting visualizations and descriptives\n",
    "* Writing up report in Markdown"
   ]
  },
  {
   "cell_type": "markdown",
   "metadata": {},
   "source": [
    "# Before starting: Installing seaborn\n",
    "\n",
    "In terminal (or Anaconda Prompt), type:\n",
    "\n",
    "```conda install seaborn```\n"
   ]
  },
  {
   "cell_type": "markdown",
   "metadata": {},
   "source": [
    "# What we will do today?\n",
    "\n",
    "We will continue with the research questions we had for DA3, and the dataset that we prepared for this analysis. However, there were two important things that we missed (also in our RQs):\n",
    "* Sentiment of the comments posted under each video\n",
    "* The number of shares that each video received\n",
    "\n",
    "So our RQ's now are:\n",
    "* RQ1. To what extent does the sentiment expressed in the title of the video influence user engagement (views, likes, dislikes **and shares**)?\n",
    "* RQ2. To what extent does the sentiment expressed in the title of the video vary depending on the category in which the video is published?\n",
    "* RQ3. To what extent does the sentiment expressed in the title of the video vary depending on whether Greta Thunberg is mentioned?\n",
    "* RQ3a. To what extent the category of the video is related to mentions of Greta Thunberg on the title?\n",
    "* RQ4. To what extent does the **sentiment expressed in the comments of each video** vary depending on whether Greta Thunberg is mentioned in the video title?\n",
    "\n",
    "*Note: I am sure that the research question you'll write for Assignment 1 will be a lot more interesting - and written in a much better way ;-)*\n",
    "\n",
    "\n"
   ]
  },
  {
   "cell_type": "markdown",
   "metadata": {},
   "source": [
    "## Loading the modules we need\n",
    "\n",
    "Please note how we are now also loading seaborn (a data visualization module). We also include the ```%matplotlib inline``` to tell Jupyter Notebook to show the charts in the notebook itself."
   ]
  },
  {
   "cell_type": "code",
   "execution_count": 2,
   "metadata": {},
   "outputs": [],
   "source": [
    "import pandas as pd\n",
    "import seaborn as sns\n",
    "pd.set_option('display.float_format', lambda x: '%.3f' % x) # numbers are shown in the float format, not the scientific format.\n",
    "%matplotlib inline # the charts show in the notebook, not in a new window"
   ]
  },
  {
   "cell_type": "markdown",
   "metadata": {},
   "source": [
    "## Loading the data"
   ]
  },
  {
   "cell_type": "code",
   "execution_count": 3,
   "metadata": {},
   "outputs": [],
   "source": [
    "videos = pd.read_pickle('videos_sent.pkl')"
   ]
  },
  {
   "cell_type": "code",
   "execution_count": 4,
   "metadata": {},
   "outputs": [],
   "source": [
    "comments = pd.read_pickle('video_comments.pkl')"
   ]
  },
  {
   "cell_type": "code",
   "execution_count": 5,
   "metadata": {},
   "outputs": [],
   "source": [
    "shares = pd.read_pickle('video_shares.pkl')"
   ]
  },
  {
   "cell_type": "markdown",
   "metadata": {},
   "source": [
    "### Important!\n",
    "\n",
    "The comments and the shares dataset are simulated data. We could collect (video by video) the comments using the YouTube Data Tools from DMI, but shares are actually not available. Please keep this in mind for A1."
   ]
  },
  {
   "cell_type": "markdown",
   "metadata": {},
   "source": [
    "## Data inspection\n",
    "\n",
    "Here you should follow the steps in DA3. I will just do a brief check of some key elements of the data."
   ]
  },
  {
   "cell_type": "code",
   "execution_count": 6,
   "metadata": {},
   "outputs": [
    {
     "data": {
      "text/plain": [
       "(244, 116853, 220)"
      ]
     },
     "execution_count": 6,
     "metadata": {},
     "output_type": "execute_result"
    }
   ],
   "source": [
    "len(videos), len(comments), len(shares)"
   ]
  },
  {
   "cell_type": "code",
   "execution_count": 7,
   "metadata": {},
   "outputs": [
    {
     "data": {
      "text/plain": [
       "Index(['position', 'channelId', 'channelTitle', 'videoId', 'publishedAt',\n",
       "       'publishedAtSQL', 'videoTitle', 'videoDescription', 'videoCategoryId',\n",
       "       'videoCategoryLabel', 'duration', 'durationSec', 'dimension',\n",
       "       'definition', 'caption', 'thumbnail_maxres', 'licensedContent',\n",
       "       'viewCount', 'likeCount', 'dislikeCount', 'favoriteCount',\n",
       "       'commentCount', 'lang_title', 'text', 'negative', 'positive', 'neutral',\n",
       "       'category', 'Greta'],\n",
       "      dtype='object')"
      ]
     },
     "execution_count": 7,
     "metadata": {},
     "output_type": "execute_result"
    }
   ],
   "source": [
    "videos.columns"
   ]
  },
  {
   "cell_type": "code",
   "execution_count": 8,
   "metadata": {},
   "outputs": [
    {
     "data": {
      "text/plain": [
       "Index(['commentId', 'negative', 'neutral', 'positive', 'videoId'], dtype='object')"
      ]
     },
     "execution_count": 8,
     "metadata": {},
     "output_type": "execute_result"
    }
   ],
   "source": [
    "comments.columns"
   ]
  },
  {
   "cell_type": "code",
   "execution_count": 9,
   "metadata": {},
   "outputs": [
    {
     "data": {
      "text/plain": [
       "Index(['VideoID', 'shares'], dtype='object')"
      ]
     },
     "execution_count": 9,
     "metadata": {},
     "output_type": "execute_result"
    }
   ],
   "source": [
    "shares.columns"
   ]
  },
  {
   "cell_type": "markdown",
   "metadata": {},
   "source": [
    "# Data Cleaning\n",
    "\n",
    "### Important note:\n",
    "Here I will only run (very quickly) some of the steps that we also saw on DA3. Please keep in mind that this is not comprehensive, and that actually some of the items being done here are incomplete. You'll need to be more thorough for A1 - and potentially also for the Weekly Challenges :-)"
   ]
  },
  {
   "cell_type": "code",
   "execution_count": 10,
   "metadata": {},
   "outputs": [],
   "source": [
    "videos['positive'] = videos['positive'].apply(pd.to_numeric)"
   ]
  },
  {
   "cell_type": "markdown",
   "metadata": {},
   "source": [
    "### Merging videos with shares"
   ]
  },
  {
   "cell_type": "code",
   "execution_count": 11,
   "metadata": {},
   "outputs": [
    {
     "data": {
      "text/plain": [
       "position                            int64\n",
       "channelId                          object\n",
       "channelTitle                       object\n",
       "videoId                            object\n",
       "publishedAt           datetime64[ns, UTC]\n",
       "publishedAtSQL                     object\n",
       "videoTitle                         object\n",
       "videoDescription                   object\n",
       "videoCategoryId                     int64\n",
       "videoCategoryLabel                 object\n",
       "duration                           object\n",
       "durationSec                         int64\n",
       "dimension                          object\n",
       "definition                         object\n",
       "caption                              bool\n",
       "thumbnail_maxres                   object\n",
       "licensedContent                   float64\n",
       "viewCount                           int64\n",
       "likeCount                         float64\n",
       "dislikeCount                      float64\n",
       "favoriteCount                       int64\n",
       "commentCount                      float64\n",
       "lang_title                         object\n",
       "text                               object\n",
       "negative                           object\n",
       "positive                            int64\n",
       "neutral                            object\n",
       "category                           object\n",
       "Greta                               int64\n",
       "dtype: object"
      ]
     },
     "execution_count": 11,
     "metadata": {},
     "output_type": "execute_result"
    }
   ],
   "source": [
    "videos.dtypes"
   ]
  },
  {
   "cell_type": "code",
   "execution_count": 12,
   "metadata": {},
   "outputs": [
    {
     "data": {
      "text/plain": [
       "VideoID    object\n",
       "shares     object\n",
       "dtype: object"
      ]
     },
     "execution_count": 12,
     "metadata": {},
     "output_type": "execute_result"
    }
   ],
   "source": [
    "shares.dtypes"
   ]
  },
  {
   "cell_type": "code",
   "execution_count": 13,
   "metadata": {},
   "outputs": [],
   "source": [
    "shares = shares.rename(columns={'VideoID': 'videoId'})"
   ]
  },
  {
   "cell_type": "code",
   "execution_count": 14,
   "metadata": {},
   "outputs": [],
   "source": [
    "shares['shares'] = shares['shares'].apply(pd.to_numeric)"
   ]
  },
  {
   "cell_type": "code",
   "execution_count": 15,
   "metadata": {},
   "outputs": [
    {
     "data": {
      "text/plain": [
       "videoId    object\n",
       "shares      int64\n",
       "dtype: object"
      ]
     },
     "execution_count": 15,
     "metadata": {},
     "output_type": "execute_result"
    }
   ],
   "source": [
    "shares.dtypes"
   ]
  },
  {
   "cell_type": "code",
   "execution_count": 16,
   "metadata": {},
   "outputs": [
    {
     "data": {
      "text/plain": [
       "(244, 220)"
      ]
     },
     "execution_count": 16,
     "metadata": {},
     "output_type": "execute_result"
    }
   ],
   "source": [
    "len(videos), len(videos.merge(shares, on='videoId'))"
   ]
  },
  {
   "cell_type": "markdown",
   "metadata": {},
   "source": [
    "There's something wrong here - the number of videos when merged with shares is smaller than the total number of videos. This is something that will likely happen with retweets and tweets. For the Weekly Challenges, you'll need to investigate this further and come up with a solution.\n",
    "\n",
    "**Tip:** Check out the descriptives for shares, and consider whether the merge should be done on right, left, or without specifying the details. For more information, check the FAQ video on merging. \n",
    "\n",
    "For now, I will just go ahead - and I am doing it wrong :-)"
   ]
  },
  {
   "cell_type": "code",
   "execution_count": 17,
   "metadata": {},
   "outputs": [],
   "source": [
    "videos_shares = videos.merge(shares, on='videoId')"
   ]
  },
  {
   "cell_type": "markdown",
   "metadata": {},
   "source": [
    "## Merging comments with video-level information\n",
    "\n",
    "An important consideration here is the unit of analysis. RQ4 seems to imply that the unit of analysis (unlike other RQ's) is *each comment* instead of *each video*. So I will merge comments with the video information."
   ]
  },
  {
   "cell_type": "code",
   "execution_count": 18,
   "metadata": {},
   "outputs": [
    {
     "data": {
      "text/plain": [
       "commentId    object\n",
       "negative      int64\n",
       "neutral       int64\n",
       "positive      int64\n",
       "videoId      object\n",
       "dtype: object"
      ]
     },
     "execution_count": 18,
     "metadata": {},
     "output_type": "execute_result"
    }
   ],
   "source": [
    "comments.dtypes"
   ]
  },
  {
   "cell_type": "code",
   "execution_count": 19,
   "metadata": {},
   "outputs": [
    {
     "data": {
      "text/plain": [
       "position                            int64\n",
       "channelId                          object\n",
       "channelTitle                       object\n",
       "videoId                            object\n",
       "publishedAt           datetime64[ns, UTC]\n",
       "publishedAtSQL                     object\n",
       "videoTitle                         object\n",
       "videoDescription                   object\n",
       "videoCategoryId                     int64\n",
       "videoCategoryLabel                 object\n",
       "duration                           object\n",
       "durationSec                         int64\n",
       "dimension                          object\n",
       "definition                         object\n",
       "caption                              bool\n",
       "thumbnail_maxres                   object\n",
       "licensedContent                   float64\n",
       "viewCount                           int64\n",
       "likeCount                         float64\n",
       "dislikeCount                      float64\n",
       "favoriteCount                       int64\n",
       "commentCount                      float64\n",
       "lang_title                         object\n",
       "text                               object\n",
       "negative                           object\n",
       "positive                            int64\n",
       "neutral                            object\n",
       "category                           object\n",
       "Greta                               int64\n",
       "dtype: object"
      ]
     },
     "execution_count": 19,
     "metadata": {},
     "output_type": "execute_result"
    }
   ],
   "source": [
    "videos.dtypes"
   ]
  },
  {
   "cell_type": "code",
   "execution_count": 20,
   "metadata": {},
   "outputs": [
    {
     "data": {
      "text/plain": [
       "0    sGHq_EwXDn8\n",
       "1    PRtn1W2RAVU\n",
       "2    2CQvBGSiDvw\n",
       "3    Cbwv1jg4gZU\n",
       "4    cWsCX_yxXqw\n",
       "Name: videoId, dtype: object"
      ]
     },
     "execution_count": 20,
     "metadata": {},
     "output_type": "execute_result"
    }
   ],
   "source": [
    "videos['videoId'].head()"
   ]
  },
  {
   "cell_type": "code",
   "execution_count": 21,
   "metadata": {},
   "outputs": [
    {
     "data": {
      "text/html": [
       "<div>\n",
       "<style scoped>\n",
       "    .dataframe tbody tr th:only-of-type {\n",
       "        vertical-align: middle;\n",
       "    }\n",
       "\n",
       "    .dataframe tbody tr th {\n",
       "        vertical-align: top;\n",
       "    }\n",
       "\n",
       "    .dataframe thead th {\n",
       "        text-align: right;\n",
       "    }\n",
       "</style>\n",
       "<table border=\"1\" class=\"dataframe\">\n",
       "  <thead>\n",
       "    <tr style=\"text-align: right;\">\n",
       "      <th></th>\n",
       "      <th>commentId</th>\n",
       "      <th>negative</th>\n",
       "      <th>neutral</th>\n",
       "      <th>positive</th>\n",
       "      <th>videoId</th>\n",
       "    </tr>\n",
       "  </thead>\n",
       "  <tbody>\n",
       "    <tr>\n",
       "      <th>0</th>\n",
       "      <td>sGHq_EwXDn8_245454</td>\n",
       "      <td>0</td>\n",
       "      <td>1</td>\n",
       "      <td>3</td>\n",
       "      <td>sGHq_EwXDn8</td>\n",
       "    </tr>\n",
       "    <tr>\n",
       "      <th>1</th>\n",
       "      <td>sGHq_EwXDn8_245455</td>\n",
       "      <td>-1</td>\n",
       "      <td>0</td>\n",
       "      <td>0</td>\n",
       "      <td>sGHq_EwXDn8</td>\n",
       "    </tr>\n",
       "    <tr>\n",
       "      <th>2</th>\n",
       "      <td>sGHq_EwXDn8_245456</td>\n",
       "      <td>-4</td>\n",
       "      <td>0</td>\n",
       "      <td>0</td>\n",
       "      <td>sGHq_EwXDn8</td>\n",
       "    </tr>\n",
       "    <tr>\n",
       "      <th>3</th>\n",
       "      <td>sGHq_EwXDn8_245457</td>\n",
       "      <td>-5</td>\n",
       "      <td>0</td>\n",
       "      <td>3</td>\n",
       "      <td>sGHq_EwXDn8</td>\n",
       "    </tr>\n",
       "    <tr>\n",
       "      <th>4</th>\n",
       "      <td>sGHq_EwXDn8_245458</td>\n",
       "      <td>-5</td>\n",
       "      <td>1</td>\n",
       "      <td>1</td>\n",
       "      <td>sGHq_EwXDn8</td>\n",
       "    </tr>\n",
       "  </tbody>\n",
       "</table>\n",
       "</div>"
      ],
      "text/plain": [
       "            commentId  negative  neutral  positive      videoId\n",
       "0  sGHq_EwXDn8_245454         0        1         3  sGHq_EwXDn8\n",
       "1  sGHq_EwXDn8_245455        -1        0         0  sGHq_EwXDn8\n",
       "2  sGHq_EwXDn8_245456        -4        0         0  sGHq_EwXDn8\n",
       "3  sGHq_EwXDn8_245457        -5        0         3  sGHq_EwXDn8\n",
       "4  sGHq_EwXDn8_245458        -5        1         1  sGHq_EwXDn8"
      ]
     },
     "execution_count": 21,
     "metadata": {},
     "output_type": "execute_result"
    }
   ],
   "source": [
    "comments.head()"
   ]
  },
  {
   "cell_type": "code",
   "execution_count": 22,
   "metadata": {},
   "outputs": [
    {
     "data": {
      "text/plain": [
       "(244, 116853, 116853)"
      ]
     },
     "execution_count": 22,
     "metadata": {},
     "output_type": "execute_result"
    }
   ],
   "source": [
    "len(videos), len(comments), len(comments.merge(videos, on='videoId'))"
   ]
  },
  {
   "cell_type": "markdown",
   "metadata": {},
   "source": [
    "**Tip:** I will merge comments with videos, but will select only a few relevant colummns. This makes the dataset clearer, and also prevents confusion with the data (e.g., there are sentiment columns for the video, and for the comment, and I actually only want the comment)."
   ]
  },
  {
   "cell_type": "code",
   "execution_count": 23,
   "metadata": {},
   "outputs": [],
   "source": [
    "comments = comments.merge(videos[['videoId', 'videoTitle', 'Greta']], on='videoId')"
   ]
  },
  {
   "cell_type": "code",
   "execution_count": 24,
   "metadata": {},
   "outputs": [
    {
     "data": {
      "text/html": [
       "<div>\n",
       "<style scoped>\n",
       "    .dataframe tbody tr th:only-of-type {\n",
       "        vertical-align: middle;\n",
       "    }\n",
       "\n",
       "    .dataframe tbody tr th {\n",
       "        vertical-align: top;\n",
       "    }\n",
       "\n",
       "    .dataframe thead th {\n",
       "        text-align: right;\n",
       "    }\n",
       "</style>\n",
       "<table border=\"1\" class=\"dataframe\">\n",
       "  <thead>\n",
       "    <tr style=\"text-align: right;\">\n",
       "      <th></th>\n",
       "      <th>commentId</th>\n",
       "      <th>negative</th>\n",
       "      <th>neutral</th>\n",
       "      <th>positive</th>\n",
       "      <th>videoId</th>\n",
       "      <th>videoTitle</th>\n",
       "      <th>Greta</th>\n",
       "    </tr>\n",
       "  </thead>\n",
       "  <tbody>\n",
       "    <tr>\n",
       "      <th>0</th>\n",
       "      <td>sGHq_EwXDn8_245454</td>\n",
       "      <td>0</td>\n",
       "      <td>1</td>\n",
       "      <td>3</td>\n",
       "      <td>sGHq_EwXDn8</td>\n",
       "      <td>Australia’s Policies Going in Wrong Direction ...</td>\n",
       "      <td>0</td>\n",
       "    </tr>\n",
       "    <tr>\n",
       "      <th>1</th>\n",
       "      <td>sGHq_EwXDn8_245455</td>\n",
       "      <td>-1</td>\n",
       "      <td>0</td>\n",
       "      <td>0</td>\n",
       "      <td>sGHq_EwXDn8</td>\n",
       "      <td>Australia’s Policies Going in Wrong Direction ...</td>\n",
       "      <td>0</td>\n",
       "    </tr>\n",
       "    <tr>\n",
       "      <th>2</th>\n",
       "      <td>sGHq_EwXDn8_245456</td>\n",
       "      <td>-4</td>\n",
       "      <td>0</td>\n",
       "      <td>0</td>\n",
       "      <td>sGHq_EwXDn8</td>\n",
       "      <td>Australia’s Policies Going in Wrong Direction ...</td>\n",
       "      <td>0</td>\n",
       "    </tr>\n",
       "    <tr>\n",
       "      <th>3</th>\n",
       "      <td>sGHq_EwXDn8_245457</td>\n",
       "      <td>-5</td>\n",
       "      <td>0</td>\n",
       "      <td>3</td>\n",
       "      <td>sGHq_EwXDn8</td>\n",
       "      <td>Australia’s Policies Going in Wrong Direction ...</td>\n",
       "      <td>0</td>\n",
       "    </tr>\n",
       "    <tr>\n",
       "      <th>4</th>\n",
       "      <td>sGHq_EwXDn8_245458</td>\n",
       "      <td>-5</td>\n",
       "      <td>1</td>\n",
       "      <td>1</td>\n",
       "      <td>sGHq_EwXDn8</td>\n",
       "      <td>Australia’s Policies Going in Wrong Direction ...</td>\n",
       "      <td>0</td>\n",
       "    </tr>\n",
       "  </tbody>\n",
       "</table>\n",
       "</div>"
      ],
      "text/plain": [
       "            commentId  negative  neutral  positive      videoId  \\\n",
       "0  sGHq_EwXDn8_245454         0        1         3  sGHq_EwXDn8   \n",
       "1  sGHq_EwXDn8_245455        -1        0         0  sGHq_EwXDn8   \n",
       "2  sGHq_EwXDn8_245456        -4        0         0  sGHq_EwXDn8   \n",
       "3  sGHq_EwXDn8_245457        -5        0         3  sGHq_EwXDn8   \n",
       "4  sGHq_EwXDn8_245458        -5        1         1  sGHq_EwXDn8   \n",
       "\n",
       "                                          videoTitle  Greta  \n",
       "0  Australia’s Policies Going in Wrong Direction ...      0  \n",
       "1  Australia’s Policies Going in Wrong Direction ...      0  \n",
       "2  Australia’s Policies Going in Wrong Direction ...      0  \n",
       "3  Australia’s Policies Going in Wrong Direction ...      0  \n",
       "4  Australia’s Policies Going in Wrong Direction ...      0  "
      ]
     },
     "execution_count": 24,
     "metadata": {},
     "output_type": "execute_result"
    }
   ],
   "source": [
    "comments.head()"
   ]
  },
  {
   "cell_type": "markdown",
   "metadata": {},
   "source": [
    "## Merging comment-level information with videos\n",
    "\n",
    "Let's say I want to do this the other way round: I want to have, per video, the average level of sentiment in the comments. Now my unit of analysis is *the video* and not *each comment*. So how do I get there?\n",
    "\n",
    "I'll run this only with positive for this demonstration. Ideally you'd run this with an aggregate of sentiment instead."
   ]
  },
  {
   "cell_type": "code",
   "execution_count": 25,
   "metadata": {},
   "outputs": [],
   "source": [
    "average_per_video = comments.groupby('videoId')['positive'].mean()"
   ]
  },
  {
   "cell_type": "code",
   "execution_count": 26,
   "metadata": {},
   "outputs": [
    {
     "data": {
      "text/html": [
       "<div>\n",
       "<style scoped>\n",
       "    .dataframe tbody tr th:only-of-type {\n",
       "        vertical-align: middle;\n",
       "    }\n",
       "\n",
       "    .dataframe tbody tr th {\n",
       "        vertical-align: top;\n",
       "    }\n",
       "\n",
       "    .dataframe thead th {\n",
       "        text-align: right;\n",
       "    }\n",
       "</style>\n",
       "<table border=\"1\" class=\"dataframe\">\n",
       "  <thead>\n",
       "    <tr style=\"text-align: right;\">\n",
       "      <th></th>\n",
       "      <th>positive</th>\n",
       "    </tr>\n",
       "    <tr>\n",
       "      <th>videoId</th>\n",
       "      <th></th>\n",
       "    </tr>\n",
       "  </thead>\n",
       "  <tbody>\n",
       "    <tr>\n",
       "      <th>-4k3AzfYuJg</th>\n",
       "      <td>2.436</td>\n",
       "    </tr>\n",
       "    <tr>\n",
       "      <th>-61c8EQ8qro</th>\n",
       "      <td>2.610</td>\n",
       "    </tr>\n",
       "    <tr>\n",
       "      <th>-BvcToPZCLI</th>\n",
       "      <td>2.528</td>\n",
       "    </tr>\n",
       "    <tr>\n",
       "      <th>-PSR_OutuIw</th>\n",
       "      <td>2.576</td>\n",
       "    </tr>\n",
       "    <tr>\n",
       "      <th>-fkCo_trbT8</th>\n",
       "      <td>2.575</td>\n",
       "    </tr>\n",
       "  </tbody>\n",
       "</table>\n",
       "</div>"
      ],
      "text/plain": [
       "             positive\n",
       "videoId              \n",
       "-4k3AzfYuJg     2.436\n",
       "-61c8EQ8qro     2.610\n",
       "-BvcToPZCLI     2.528\n",
       "-PSR_OutuIw     2.576\n",
       "-fkCo_trbT8     2.575"
      ]
     },
     "execution_count": 26,
     "metadata": {},
     "output_type": "execute_result"
    }
   ],
   "source": [
    "pd.DataFrame(average_per_video).head()"
   ]
  },
  {
   "cell_type": "code",
   "execution_count": 27,
   "metadata": {},
   "outputs": [],
   "source": [
    "average_per_video = pd.DataFrame(average_per_video)"
   ]
  },
  {
   "cell_type": "code",
   "execution_count": 28,
   "metadata": {},
   "outputs": [
    {
     "data": {
      "text/html": [
       "<div>\n",
       "<style scoped>\n",
       "    .dataframe tbody tr th:only-of-type {\n",
       "        vertical-align: middle;\n",
       "    }\n",
       "\n",
       "    .dataframe tbody tr th {\n",
       "        vertical-align: top;\n",
       "    }\n",
       "\n",
       "    .dataframe thead th {\n",
       "        text-align: right;\n",
       "    }\n",
       "</style>\n",
       "<table border=\"1\" class=\"dataframe\">\n",
       "  <thead>\n",
       "    <tr style=\"text-align: right;\">\n",
       "      <th></th>\n",
       "      <th>videoId</th>\n",
       "      <th>positive</th>\n",
       "    </tr>\n",
       "  </thead>\n",
       "  <tbody>\n",
       "    <tr>\n",
       "      <th>0</th>\n",
       "      <td>-4k3AzfYuJg</td>\n",
       "      <td>2.436</td>\n",
       "    </tr>\n",
       "    <tr>\n",
       "      <th>1</th>\n",
       "      <td>-61c8EQ8qro</td>\n",
       "      <td>2.610</td>\n",
       "    </tr>\n",
       "    <tr>\n",
       "      <th>2</th>\n",
       "      <td>-BvcToPZCLI</td>\n",
       "      <td>2.528</td>\n",
       "    </tr>\n",
       "    <tr>\n",
       "      <th>3</th>\n",
       "      <td>-PSR_OutuIw</td>\n",
       "      <td>2.576</td>\n",
       "    </tr>\n",
       "    <tr>\n",
       "      <th>4</th>\n",
       "      <td>-fkCo_trbT8</td>\n",
       "      <td>2.575</td>\n",
       "    </tr>\n",
       "    <tr>\n",
       "      <th>...</th>\n",
       "      <td>...</td>\n",
       "      <td>...</td>\n",
       "    </tr>\n",
       "    <tr>\n",
       "      <th>239</th>\n",
       "      <td>yyAuWeoTm2s</td>\n",
       "      <td>2.697</td>\n",
       "    </tr>\n",
       "    <tr>\n",
       "      <th>240</th>\n",
       "      <td>z9ALFf6eQI0</td>\n",
       "      <td>2.467</td>\n",
       "    </tr>\n",
       "    <tr>\n",
       "      <th>241</th>\n",
       "      <td>zIvjHSvzFLU</td>\n",
       "      <td>2.508</td>\n",
       "    </tr>\n",
       "    <tr>\n",
       "      <th>242</th>\n",
       "      <td>zMQ0xQrgBms</td>\n",
       "      <td>2.455</td>\n",
       "    </tr>\n",
       "    <tr>\n",
       "      <th>243</th>\n",
       "      <td>zvOcuZ3-FO8</td>\n",
       "      <td>2.552</td>\n",
       "    </tr>\n",
       "  </tbody>\n",
       "</table>\n",
       "<p>244 rows × 2 columns</p>\n",
       "</div>"
      ],
      "text/plain": [
       "         videoId  positive\n",
       "0    -4k3AzfYuJg     2.436\n",
       "1    -61c8EQ8qro     2.610\n",
       "2    -BvcToPZCLI     2.528\n",
       "3    -PSR_OutuIw     2.576\n",
       "4    -fkCo_trbT8     2.575\n",
       "..           ...       ...\n",
       "239  yyAuWeoTm2s     2.697\n",
       "240  z9ALFf6eQI0     2.467\n",
       "241  zIvjHSvzFLU     2.508\n",
       "242  zMQ0xQrgBms     2.455\n",
       "243  zvOcuZ3-FO8     2.552\n",
       "\n",
       "[244 rows x 2 columns]"
      ]
     },
     "execution_count": 28,
     "metadata": {},
     "output_type": "execute_result"
    }
   ],
   "source": [
    "average_per_video.reset_index()"
   ]
  },
  {
   "cell_type": "code",
   "execution_count": 29,
   "metadata": {},
   "outputs": [],
   "source": [
    "average_per_video = average_per_video.reset_index()"
   ]
  },
  {
   "cell_type": "code",
   "execution_count": 30,
   "metadata": {},
   "outputs": [],
   "source": [
    "average_per_video = average_per_video.rename(columns={'positive': 'average comment positivity'})"
   ]
  },
  {
   "cell_type": "code",
   "execution_count": 31,
   "metadata": {},
   "outputs": [
    {
     "data": {
      "text/html": [
       "<div>\n",
       "<style scoped>\n",
       "    .dataframe tbody tr th:only-of-type {\n",
       "        vertical-align: middle;\n",
       "    }\n",
       "\n",
       "    .dataframe tbody tr th {\n",
       "        vertical-align: top;\n",
       "    }\n",
       "\n",
       "    .dataframe thead th {\n",
       "        text-align: right;\n",
       "    }\n",
       "</style>\n",
       "<table border=\"1\" class=\"dataframe\">\n",
       "  <thead>\n",
       "    <tr style=\"text-align: right;\">\n",
       "      <th></th>\n",
       "      <th>videoId</th>\n",
       "      <th>average comment positivity</th>\n",
       "    </tr>\n",
       "  </thead>\n",
       "  <tbody>\n",
       "    <tr>\n",
       "      <th>0</th>\n",
       "      <td>-4k3AzfYuJg</td>\n",
       "      <td>2.436</td>\n",
       "    </tr>\n",
       "    <tr>\n",
       "      <th>1</th>\n",
       "      <td>-61c8EQ8qro</td>\n",
       "      <td>2.610</td>\n",
       "    </tr>\n",
       "    <tr>\n",
       "      <th>2</th>\n",
       "      <td>-BvcToPZCLI</td>\n",
       "      <td>2.528</td>\n",
       "    </tr>\n",
       "    <tr>\n",
       "      <th>3</th>\n",
       "      <td>-PSR_OutuIw</td>\n",
       "      <td>2.576</td>\n",
       "    </tr>\n",
       "    <tr>\n",
       "      <th>4</th>\n",
       "      <td>-fkCo_trbT8</td>\n",
       "      <td>2.575</td>\n",
       "    </tr>\n",
       "  </tbody>\n",
       "</table>\n",
       "</div>"
      ],
      "text/plain": [
       "       videoId  average comment positivity\n",
       "0  -4k3AzfYuJg                       2.436\n",
       "1  -61c8EQ8qro                       2.610\n",
       "2  -BvcToPZCLI                       2.528\n",
       "3  -PSR_OutuIw                       2.576\n",
       "4  -fkCo_trbT8                       2.575"
      ]
     },
     "execution_count": 31,
     "metadata": {},
     "output_type": "execute_result"
    }
   ],
   "source": [
    "average_per_video.head()"
   ]
  },
  {
   "cell_type": "code",
   "execution_count": 32,
   "metadata": {},
   "outputs": [
    {
     "data": {
      "text/plain": [
       "(220, 244, 220)"
      ]
     },
     "execution_count": 32,
     "metadata": {},
     "output_type": "execute_result"
    }
   ],
   "source": [
    "len(videos_shares), len(average_per_video), len(videos_shares.merge(average_per_video))"
   ]
  },
  {
   "cell_type": "code",
   "execution_count": 33,
   "metadata": {},
   "outputs": [],
   "source": [
    "videos_shares = videos_shares.merge(average_per_video)"
   ]
  },
  {
   "cell_type": "code",
   "execution_count": 34,
   "metadata": {},
   "outputs": [
    {
     "data": {
      "text/html": [
       "<div>\n",
       "<style scoped>\n",
       "    .dataframe tbody tr th:only-of-type {\n",
       "        vertical-align: middle;\n",
       "    }\n",
       "\n",
       "    .dataframe tbody tr th {\n",
       "        vertical-align: top;\n",
       "    }\n",
       "\n",
       "    .dataframe thead th {\n",
       "        text-align: right;\n",
       "    }\n",
       "</style>\n",
       "<table border=\"1\" class=\"dataframe\">\n",
       "  <thead>\n",
       "    <tr style=\"text-align: right;\">\n",
       "      <th></th>\n",
       "      <th>position</th>\n",
       "      <th>channelId</th>\n",
       "      <th>channelTitle</th>\n",
       "      <th>videoId</th>\n",
       "      <th>publishedAt</th>\n",
       "      <th>publishedAtSQL</th>\n",
       "      <th>videoTitle</th>\n",
       "      <th>videoDescription</th>\n",
       "      <th>videoCategoryId</th>\n",
       "      <th>videoCategoryLabel</th>\n",
       "      <th>...</th>\n",
       "      <th>commentCount</th>\n",
       "      <th>lang_title</th>\n",
       "      <th>text</th>\n",
       "      <th>negative</th>\n",
       "      <th>positive</th>\n",
       "      <th>neutral</th>\n",
       "      <th>category</th>\n",
       "      <th>Greta</th>\n",
       "      <th>shares</th>\n",
       "      <th>average comment positivity</th>\n",
       "    </tr>\n",
       "  </thead>\n",
       "  <tbody>\n",
       "    <tr>\n",
       "      <th>0</th>\n",
       "      <td>1</td>\n",
       "      <td>UCIALMKvObZNtJ6AmdCLP7Lg</td>\n",
       "      <td>Bloomberg Markets and Finance</td>\n",
       "      <td>sGHq_EwXDn8</td>\n",
       "      <td>2020-01-24 04:15:28+00:00</td>\n",
       "      <td>2020-01-24 04:15:28</td>\n",
       "      <td>Australia’s Policies Going in Wrong Direction ...</td>\n",
       "      <td>Jan.23 -- Michael Mann, distinguished professo...</td>\n",
       "      <td>25</td>\n",
       "      <td>News &amp; Politics</td>\n",
       "      <td>...</td>\n",
       "      <td>57.000</td>\n",
       "      <td>en</td>\n",
       "      <td>Australia’s Policies Going in Wrong Direction ...</td>\n",
       "      <td>-1</td>\n",
       "      <td>1</td>\n",
       "      <td>0</td>\n",
       "      <td>News &amp; Politics</td>\n",
       "      <td>0</td>\n",
       "      <td>3374990</td>\n",
       "      <td>2.562</td>\n",
       "    </tr>\n",
       "    <tr>\n",
       "      <th>1</th>\n",
       "      <td>2</td>\n",
       "      <td>UCb1Ti1WKPauPpXkYKVHNpsw</td>\n",
       "      <td>LBC</td>\n",
       "      <td>PRtn1W2RAVU</td>\n",
       "      <td>2020-01-23 10:32:38+00:00</td>\n",
       "      <td>2020-01-23 10:32:38</td>\n",
       "      <td>Nigel Farage compares President Trump and Prin...</td>\n",
       "      <td>This is Nigel Farage's reaction to President T...</td>\n",
       "      <td>25</td>\n",
       "      <td>News &amp; Politics</td>\n",
       "      <td>...</td>\n",
       "      <td>1093.000</td>\n",
       "      <td>en</td>\n",
       "      <td>Nigel Farage compares President Trump and Prin...</td>\n",
       "      <td>-1</td>\n",
       "      <td>1</td>\n",
       "      <td>0</td>\n",
       "      <td>News &amp; Politics</td>\n",
       "      <td>0</td>\n",
       "      <td>2245805</td>\n",
       "      <td>2.506</td>\n",
       "    </tr>\n",
       "    <tr>\n",
       "      <th>2</th>\n",
       "      <td>3</td>\n",
       "      <td>UC-SJ6nODDmufqBzPBwCvYvQ</td>\n",
       "      <td>CBS This Morning</td>\n",
       "      <td>2CQvBGSiDvw</td>\n",
       "      <td>2019-12-23 13:38:55+00:00</td>\n",
       "      <td>2019-12-23 13:38:55</td>\n",
       "      <td>Climate change in the 2020s: What impacts to e...</td>\n",
       "      <td>In our series The 2020's, we're exploring the ...</td>\n",
       "      <td>25</td>\n",
       "      <td>News &amp; Politics</td>\n",
       "      <td>...</td>\n",
       "      <td>618.000</td>\n",
       "      <td>en</td>\n",
       "      <td>Climate change in the 2020s: What impacts to e...</td>\n",
       "      <td>-1</td>\n",
       "      <td>1</td>\n",
       "      <td>0</td>\n",
       "      <td>News &amp; Politics</td>\n",
       "      <td>0</td>\n",
       "      <td>3969230</td>\n",
       "      <td>2.600</td>\n",
       "    </tr>\n",
       "    <tr>\n",
       "      <th>3</th>\n",
       "      <td>4</td>\n",
       "      <td>UCcyq283he07B7_KUX07mmtA</td>\n",
       "      <td>Business Insider</td>\n",
       "      <td>Cbwv1jg4gZU</td>\n",
       "      <td>2020-01-22 22:28:34+00:00</td>\n",
       "      <td>2020-01-22 22:28:34</td>\n",
       "      <td>Solution To Climate Change Is To Make It Profi...</td>\n",
       "      <td>Environmental problems rose to the top of the ...</td>\n",
       "      <td>25</td>\n",
       "      <td>News &amp; Politics</td>\n",
       "      <td>...</td>\n",
       "      <td>166.000</td>\n",
       "      <td>en</td>\n",
       "      <td>Solution To Climate Change Is To Make It Profi...</td>\n",
       "      <td>-1</td>\n",
       "      <td>1</td>\n",
       "      <td>0</td>\n",
       "      <td>News &amp; Politics</td>\n",
       "      <td>0</td>\n",
       "      <td>1331609</td>\n",
       "      <td>2.436</td>\n",
       "    </tr>\n",
       "    <tr>\n",
       "      <th>4</th>\n",
       "      <td>5</td>\n",
       "      <td>UCWafKqurzE49MzZ6eHFwXvQ</td>\n",
       "      <td>EconClips</td>\n",
       "      <td>cWsCX_yxXqw</td>\n",
       "      <td>2020-01-22 20:01:12+00:00</td>\n",
       "      <td>2020-01-22 20:01:12</td>\n",
       "      <td>🌤 Climate Change from the Economic Point of View</td>\n",
       "      <td>Climate change from the economic point of view...</td>\n",
       "      <td>27</td>\n",
       "      <td>Education</td>\n",
       "      <td>...</td>\n",
       "      <td>74.000</td>\n",
       "      <td>en</td>\n",
       "      <td>🌤 Climate Change from the Economic Point of View</td>\n",
       "      <td>-1</td>\n",
       "      <td>1</td>\n",
       "      <td>0</td>\n",
       "      <td>Education, Science and Technology</td>\n",
       "      <td>0</td>\n",
       "      <td>2520057</td>\n",
       "      <td>2.571</td>\n",
       "    </tr>\n",
       "  </tbody>\n",
       "</table>\n",
       "<p>5 rows × 31 columns</p>\n",
       "</div>"
      ],
      "text/plain": [
       "   position                 channelId                   channelTitle  \\\n",
       "0         1  UCIALMKvObZNtJ6AmdCLP7Lg  Bloomberg Markets and Finance   \n",
       "1         2  UCb1Ti1WKPauPpXkYKVHNpsw                            LBC   \n",
       "2         3  UC-SJ6nODDmufqBzPBwCvYvQ               CBS This Morning   \n",
       "3         4  UCcyq283he07B7_KUX07mmtA               Business Insider   \n",
       "4         5  UCWafKqurzE49MzZ6eHFwXvQ                      EconClips   \n",
       "\n",
       "       videoId               publishedAt       publishedAtSQL  \\\n",
       "0  sGHq_EwXDn8 2020-01-24 04:15:28+00:00  2020-01-24 04:15:28   \n",
       "1  PRtn1W2RAVU 2020-01-23 10:32:38+00:00  2020-01-23 10:32:38   \n",
       "2  2CQvBGSiDvw 2019-12-23 13:38:55+00:00  2019-12-23 13:38:55   \n",
       "3  Cbwv1jg4gZU 2020-01-22 22:28:34+00:00  2020-01-22 22:28:34   \n",
       "4  cWsCX_yxXqw 2020-01-22 20:01:12+00:00  2020-01-22 20:01:12   \n",
       "\n",
       "                                          videoTitle  \\\n",
       "0  Australia’s Policies Going in Wrong Direction ...   \n",
       "1  Nigel Farage compares President Trump and Prin...   \n",
       "2  Climate change in the 2020s: What impacts to e...   \n",
       "3  Solution To Climate Change Is To Make It Profi...   \n",
       "4   🌤 Climate Change from the Economic Point of View   \n",
       "\n",
       "                                    videoDescription  videoCategoryId  \\\n",
       "0  Jan.23 -- Michael Mann, distinguished professo...               25   \n",
       "1  This is Nigel Farage's reaction to President T...               25   \n",
       "2  In our series The 2020's, we're exploring the ...               25   \n",
       "3  Environmental problems rose to the top of the ...               25   \n",
       "4  Climate change from the economic point of view...               27   \n",
       "\n",
       "  videoCategoryLabel  ... commentCount  lang_title  \\\n",
       "0    News & Politics  ...       57.000          en   \n",
       "1    News & Politics  ...     1093.000          en   \n",
       "2    News & Politics  ...      618.000          en   \n",
       "3    News & Politics  ...      166.000          en   \n",
       "4          Education  ...       74.000          en   \n",
       "\n",
       "                                                text negative  positive  \\\n",
       "0  Australia’s Policies Going in Wrong Direction ...       -1         1   \n",
       "1  Nigel Farage compares President Trump and Prin...       -1         1   \n",
       "2  Climate change in the 2020s: What impacts to e...       -1         1   \n",
       "3  Solution To Climate Change Is To Make It Profi...       -1         1   \n",
       "4   🌤 Climate Change from the Economic Point of View       -1         1   \n",
       "\n",
       "  neutral                           category  Greta   shares  \\\n",
       "0       0                    News & Politics      0  3374990   \n",
       "1       0                    News & Politics      0  2245805   \n",
       "2       0                    News & Politics      0  3969230   \n",
       "3       0                    News & Politics      0  1331609   \n",
       "4       0  Education, Science and Technology      0  2520057   \n",
       "\n",
       "   average comment positivity  \n",
       "0                       2.562  \n",
       "1                       2.506  \n",
       "2                       2.600  \n",
       "3                       2.436  \n",
       "4                       2.571  \n",
       "\n",
       "[5 rows x 31 columns]"
      ]
     },
     "execution_count": 34,
     "metadata": {},
     "output_type": "execute_result"
    }
   ],
   "source": [
    "videos_shares.head()"
   ]
  },
  {
   "cell_type": "markdown",
   "metadata": {},
   "source": [
    "# Data Exploration\n",
    "\n",
    "The data exploration is the moment in which - **after all the data cleaning is done** - you can see how the data finally look like, and report this out to the stakeholders reading your report. It is important that:\n",
    "* You provide enough information so that the stakeholder understands how the important variables look like\n",
    "* You provide **only** the relevant information, to prevent *confusing* the stakeholder\n",
    "* You provide explanations in MarkDown, including (a) the definition of the variables and (b) the interpretation of the exploration\n",
    "\n",
    "I will not make a complete example here - this is something you need to work out for A1 - but I will demonstrate some key aspects you need to consider. Keep in mind your own report (and even the weekly challenge) needs to contain text in MarkDown meeting the requirements above.\n",
    "\n"
   ]
  },
  {
   "cell_type": "markdown",
   "metadata": {},
   "source": [
    "I will focus on only thre RQs for this example: \n",
    "* RQ1. To what extent does the sentiment expressed in the title of the video influence user engagement (views, ~~likes, dislikes~~ and shares)?\n",
    "* RQ3. To what extent does the sentiment expressed in the title of the video vary depending on whether Greta Thunberg is mentioned?\n",
    "* RQ3a. To what extent the category of the video is related to mentions of Greta Thunberg on the title?"
   ]
  },
  {
   "cell_type": "markdown",
   "metadata": {},
   "source": [
    "### Let's first consider the variables we have in the RQs:\n",
    "* Sentiment (positivity for now): interval (or continuous)\n",
    "* Views: continuous\n",
    "* Shares: continuous\n",
    "* Category of the video: categorical (multiple options)\n",
    "* Mentions to Greta: binary (dichotomous)\n",
    "\n",
    "This influences how we describe the variables, and how we visualize them (alone, and combined)\n",
    "\n",
    "## Descriptives"
   ]
  },
  {
   "cell_type": "code",
   "execution_count": 35,
   "metadata": {},
   "outputs": [
    {
     "data": {
      "text/html": [
       "<div>\n",
       "<style scoped>\n",
       "    .dataframe tbody tr th:only-of-type {\n",
       "        vertical-align: middle;\n",
       "    }\n",
       "\n",
       "    .dataframe tbody tr th {\n",
       "        vertical-align: top;\n",
       "    }\n",
       "\n",
       "    .dataframe thead th {\n",
       "        text-align: right;\n",
       "    }\n",
       "</style>\n",
       "<table border=\"1\" class=\"dataframe\">\n",
       "  <thead>\n",
       "    <tr style=\"text-align: right;\">\n",
       "      <th></th>\n",
       "      <th>positive</th>\n",
       "      <th>viewCount</th>\n",
       "      <th>shares</th>\n",
       "    </tr>\n",
       "  </thead>\n",
       "  <tbody>\n",
       "    <tr>\n",
       "      <th>count</th>\n",
       "      <td>220.000</td>\n",
       "      <td>220.000</td>\n",
       "      <td>220.000</td>\n",
       "    </tr>\n",
       "    <tr>\n",
       "      <th>mean</th>\n",
       "      <td>1.059</td>\n",
       "      <td>223608.900</td>\n",
       "      <td>3206132.573</td>\n",
       "    </tr>\n",
       "    <tr>\n",
       "      <th>std</th>\n",
       "      <td>0.272</td>\n",
       "      <td>613234.076</td>\n",
       "      <td>1733985.205</td>\n",
       "    </tr>\n",
       "    <tr>\n",
       "      <th>min</th>\n",
       "      <td>1.000</td>\n",
       "      <td>19.000</td>\n",
       "      <td>1781.000</td>\n",
       "    </tr>\n",
       "    <tr>\n",
       "      <th>25%</th>\n",
       "      <td>1.000</td>\n",
       "      <td>6155.250</td>\n",
       "      <td>1940747.250</td>\n",
       "    </tr>\n",
       "    <tr>\n",
       "      <th>50%</th>\n",
       "      <td>1.000</td>\n",
       "      <td>34411.500</td>\n",
       "      <td>3522353.500</td>\n",
       "    </tr>\n",
       "    <tr>\n",
       "      <th>75%</th>\n",
       "      <td>1.000</td>\n",
       "      <td>148781.250</td>\n",
       "      <td>4660823.500</td>\n",
       "    </tr>\n",
       "    <tr>\n",
       "      <th>max</th>\n",
       "      <td>3.000</td>\n",
       "      <td>5212827.000</td>\n",
       "      <td>5998900.000</td>\n",
       "    </tr>\n",
       "  </tbody>\n",
       "</table>\n",
       "</div>"
      ],
      "text/plain": [
       "       positive   viewCount      shares\n",
       "count   220.000     220.000     220.000\n",
       "mean      1.059  223608.900 3206132.573\n",
       "std       0.272  613234.076 1733985.205\n",
       "min       1.000      19.000    1781.000\n",
       "25%       1.000    6155.250 1940747.250\n",
       "50%       1.000   34411.500 3522353.500\n",
       "75%       1.000  148781.250 4660823.500\n",
       "max       3.000 5212827.000 5998900.000"
      ]
     },
     "execution_count": 35,
     "metadata": {},
     "output_type": "execute_result"
    }
   ],
   "source": [
    "videos_shares[['positive', 'viewCount', 'shares']].describe()"
   ]
  },
  {
   "cell_type": "code",
   "execution_count": 36,
   "metadata": {},
   "outputs": [
    {
     "data": {
      "text/plain": [
       "0   0.891\n",
       "1   0.109\n",
       "Name: Greta, dtype: float64"
      ]
     },
     "execution_count": 36,
     "metadata": {},
     "output_type": "execute_result"
    }
   ],
   "source": [
    "videos_shares['Greta'].value_counts(normalize=True)"
   ]
  },
  {
   "cell_type": "code",
   "execution_count": 37,
   "metadata": {},
   "outputs": [
    {
     "data": {
      "text/plain": [
       "News & Politics                     0.595\n",
       "Other                               0.150\n",
       "Education, Science and Technology   0.114\n",
       "Science & Technology                0.091\n",
       "Nonprofits & Activism               0.050\n",
       "Name: category, dtype: float64"
      ]
     },
     "execution_count": 37,
     "metadata": {},
     "output_type": "execute_result"
    }
   ],
   "source": [
    "videos_shares['category'].value_counts(normalize=True)"
   ]
  },
  {
   "cell_type": "markdown",
   "metadata": {},
   "source": [
    "#### Important tip:\n",
    "For every descriptive you are giving, you should have one MarkDown cell **before** it explaining \n",
    "1. what is being done\n",
    "2. defining what the variable is  \n",
    "and another **after** it to \n",
    "1. interpret the results (preferably using APA format)."
   ]
  },
  {
   "cell_type": "markdown",
   "metadata": {},
   "source": [
    "## Univariate visualizations\n",
    "\n",
    "For every variable in a RQ (i.e., a key variable), I need to create (and interpret) a univariate visualisation. We'll use the seaborn package for this. And make sure to watch the FAQ video on selecting the right chart to understand this further.\n",
    "* visualize one variable (the key variables) alone"
   ]
  },
  {
   "cell_type": "code",
   "execution_count": 38,
   "metadata": {},
   "outputs": [
    {
     "name": "stderr",
     "output_type": "stream",
     "text": [
      "/opt/anaconda3/lib/python3.7/site-packages/seaborn/distributions.py:2557: FutureWarning: `distplot` is a deprecated function and will be removed in a future version. Please adapt your code to use either `displot` (a figure-level function with similar flexibility) or `histplot` (an axes-level function for histograms).\n",
      "  warnings.warn(msg, FutureWarning)\n"
     ]
    },
    {
     "data": {
      "text/plain": [
       "<AxesSubplot:xlabel='positive', ylabel='Density'>"
      ]
     },
     "execution_count": 38,
     "metadata": {},
     "output_type": "execute_result"
    },
    {
     "data": {
      "image/png": "[encoded data removed]",
      "text/plain": [
       "<Figure size 432x288 with 1 Axes>"
      ]
     },
     "metadata": {
      "needs_background": "light"
     },
     "output_type": "display_data"
    }
   ],
   "source": [
    "sns.distplot(videos_shares['positive'])"
   ]
  },
  {
   "cell_type": "code",
   "execution_count": 49,
   "metadata": {},
   "outputs": [
    {
     "data": {
      "text/plain": [
       "<AxesSubplot:ylabel='positive'>"
      ]
     },
     "execution_count": 49,
     "metadata": {},
     "output_type": "execute_result"
    },
    {
     "data": {
      "image/png": "[encoded data removed]",
      "text/plain": [
       "<Figure size 432x288 with 1 Axes>"
      ]
     },
     "metadata": {
      "needs_background": "light"
     },
     "output_type": "display_data"
    }
   ],
   "source": [
    "sns.barplot(y=videos_shares['positive'])\n",
    "# define y: to have a vertical chart"
   ]
  },
  {
   "cell_type": "code",
   "execution_count": 45,
   "metadata": {},
   "outputs": [
    {
     "name": "stderr",
     "output_type": "stream",
     "text": [
      "/opt/anaconda3/lib/python3.7/site-packages/seaborn/distributions.py:2557: FutureWarning: `distplot` is a deprecated function and will be removed in a future version. Please adapt your code to use either `displot` (a figure-level function with similar flexibility) or `histplot` (an axes-level function for histograms).\n",
      "  warnings.warn(msg, FutureWarning)\n"
     ]
    },
    {
     "data": {
      "text/plain": [
       "<AxesSubplot:xlabel='viewCount', ylabel='Density'>"
      ]
     },
     "execution_count": 45,
     "metadata": {},
     "output_type": "execute_result"
    },
    {
     "data": {
      "image/png": "[encoded data removed]",
      "text/plain": [
       "<Figure size 432x288 with 1 Axes>"
      ]
     },
     "metadata": {
      "needs_background": "light"
     },
     "output_type": "display_data"
    }
   ],
   "source": [
    "sns.distplot(videos_shares['viewCount'])"
   ]
  },
  {
   "cell_type": "code",
   "execution_count": 46,
   "metadata": {},
   "outputs": [
    {
     "name": "stderr",
     "output_type": "stream",
     "text": [
      "/opt/anaconda3/lib/python3.7/site-packages/seaborn/distributions.py:2557: FutureWarning: `distplot` is a deprecated function and will be removed in a future version. Please adapt your code to use either `displot` (a figure-level function with similar flexibility) or `histplot` (an axes-level function for histograms).\n",
      "  warnings.warn(msg, FutureWarning)\n"
     ]
    },
    {
     "data": {
      "text/plain": [
       "<AxesSubplot:xlabel='shares', ylabel='Density'>"
      ]
     },
     "execution_count": 46,
     "metadata": {},
     "output_type": "execute_result"
    },
    {
     "data": {
      "image/png": "[encoded data removed]",
      "text/plain": [
       "<Figure size 432x288 with 1 Axes>"
      ]
     },
     "metadata": {
      "needs_background": "light"
     },
     "output_type": "display_data"
    }
   ],
   "source": [
    "sns.distplot(videos_shares['shares'])"
   ]
  },
  {
   "cell_type": "code",
   "execution_count": 91,
   "metadata": {},
   "outputs": [
    {
     "data": {
      "text/plain": [
       "<matplotlib.axes._subplots.AxesSubplot at 0x1a276f7dd0>"
      ]
     },
     "execution_count": 91,
     "metadata": {},
     "output_type": "execute_result"
    },
    {
     "data": {
      "image/png": "[encoded data removed]",
      "text/plain": [
       "<Figure size 432x288 with 1 Axes>"
      ]
     },
     "metadata": {
      "needs_background": "light"
     },
     "output_type": "display_data"
    }
   ],
   "source": [
    "sns.countplot(x='Greta', data=videos_shares)"
   ]
  },
  {
   "cell_type": "code",
   "execution_count": 93,
   "metadata": {},
   "outputs": [
    {
     "data": {
      "text/plain": [
       "<matplotlib.axes._subplots.AxesSubplot at 0x1a2788b610>"
      ]
     },
     "execution_count": 93,
     "metadata": {},
     "output_type": "execute_result"
    },
    {
     "data": {
      "image/png": "[encoded data removed]",
      "text/plain": [
       "<Figure size 432x288 with 1 Axes>"
      ]
     },
     "metadata": {
      "needs_background": "light"
     },
     "output_type": "display_data"
    }
   ],
   "source": [
    "sns.countplot(y='category', data=videos_shares)"
   ]
  },
  {
   "cell_type": "markdown",
   "metadata": {},
   "source": [
    "## Bivariate visualizations\n",
    "\n",
    "For every relationship in a RQ (i.e., an IV vs. a DV), I need to create (and interpret) a bivariate visualisation. "
   ]
  },
  {
   "cell_type": "markdown",
   "metadata": {},
   "source": [
    "RQ1. To what extent does the sentiment expressed in the title of the video influence user engagement (views, ~~likes, dislikes~~ and shares)?"
   ]
  },
  {
   "cell_type": "code",
   "execution_count": 50,
   "metadata": {},
   "outputs": [
    {
     "data": {
      "text/plain": [
       "<AxesSubplot:xlabel='positive', ylabel='viewCount'>"
      ]
     },
     "execution_count": 50,
     "metadata": {},
     "output_type": "execute_result"
    },
    {
     "data": {
      "image/png": "[encoded data removed]",
      "text/plain": [
       "<Figure size 432x288 with 1 Axes>"
      ]
     },
     "metadata": {
      "needs_background": "light"
     },
     "output_type": "display_data"
    }
   ],
   "source": [
    "sns.regplot(x='positive', y='viewCount', data=videos_shares)\n",
    "# regplot: regression plot"
   ]
  },
  {
   "cell_type": "code",
   "execution_count": 51,
   "metadata": {},
   "outputs": [
    {
     "data": {
      "text/plain": [
       "<AxesSubplot:xlabel='positive', ylabel='shares'>"
      ]
     },
     "execution_count": 51,
     "metadata": {},
     "output_type": "execute_result"
    },
    {
     "data": {
      "image/png": "[encoded data removed]",
      "text/plain": [
       "<Figure size 432x288 with 1 Axes>"
      ]
     },
     "metadata": {
      "needs_background": "light"
     },
     "output_type": "display_data"
    }
   ],
   "source": [
    "sns.regplot(x='positive', y='shares', data=videos_shares)"
   ]
  },
  {
   "cell_type": "markdown",
   "metadata": {},
   "source": [
    "1. some kind of negative relationship, but not necessarily statistically significant\n",
    "2. outliers are problems\n",
    "3. if there is a relationship, the relationship is not clear"
   ]
  },
  {
   "cell_type": "markdown",
   "metadata": {},
   "source": [
    "RQ3. To what extent does the sentiment expressed in the title of the video vary depending on whether Greta Thunberg is mentioned?"
   ]
  },
  {
   "cell_type": "code",
   "execution_count": 54,
   "metadata": {},
   "outputs": [
    {
     "data": {
      "text/plain": [
       "<AxesSubplot:xlabel='Greta', ylabel='positive'>"
      ]
     },
     "execution_count": 54,
     "metadata": {},
     "output_type": "execute_result"
    },
    {
     "data": {
      "image/png": "[encoded data removed]",
      "text/plain": [
       "<Figure size 432x288 with 1 Axes>"
      ]
     },
     "metadata": {
      "needs_background": "light"
     },
     "output_type": "display_data"
    }
   ],
   "source": [
    "sns.barplot(x='Greta', y='positive', data=videos_shares)\n",
    "# put `positive` on the y-axis because it is continuous"
   ]
  },
  {
   "cell_type": "markdown",
   "metadata": {},
   "source": [
    "RQ3a. To what extent the category of the video is related to mentions of Greta Thunberg on the title?"
   ]
  },
  {
   "cell_type": "code",
   "execution_count": 55,
   "metadata": {},
   "outputs": [
    {
     "data": {
      "text/plain": [
       "<AxesSubplot:xlabel='category', ylabel='Greta'>"
      ]
     },
     "execution_count": 55,
     "metadata": {},
     "output_type": "execute_result"
    },
    {
     "data": {
      "image/png": "[encoded data removed]",
      "text/plain": [
       "<Figure size 432x288 with 1 Axes>"
      ]
     },
     "metadata": {
      "needs_background": "light"
     },
     "output_type": "display_data"
    }
   ],
   "source": [
    "sns.barplot(x='category', y='Greta', data=videos_shares)"
   ]
  },
  {
   "cell_type": "code",
   "execution_count": 56,
   "metadata": {},
   "outputs": [
    {
     "data": {
      "text/plain": [
       "<AxesSubplot:xlabel='Greta', ylabel='category'>"
      ]
     },
     "execution_count": 56,
     "metadata": {},
     "output_type": "execute_result"
    },
    {
     "data": {
      "image/png": "[encoded data removed]",
      "text/plain": [
       "<Figure size 432x288 with 1 Axes>"
      ]
     },
     "metadata": {
      "needs_background": "light"
     },
     "output_type": "display_data"
    }
   ],
   "source": [
    "sns.barplot(y='category', x='Greta', data=videos_shares)"
   ]
  },
  {
   "cell_type": "markdown",
   "metadata": {
    "collapsed": true
   },
   "source": [
    "#### Important tip:\n",
    "For every chart you are creating, you should have one MarkDown cell before it explaining what is being done - and defining what the variable is - and another after it to interpret the results of the chart. For A1, you can consider **combining descriptives and univariate visualisations in one section** and **bivariate visualisations in another**, for example, but you need to make sure that it is clear to the reader what is going on."
   ]
  },
  {
   "cell_type": "code",
   "execution_count": null,
   "metadata": {},
   "outputs": [],
   "source": []
  }
 ],
 "metadata": {
  "kernelspec": {
   "display_name": "Python 3",
   "language": "python",
   "name": "python3"
  },
  "language_info": {
   "codemirror_mode": {
    "name": "ipython",
    "version": 3
   },
   "file_extension": ".py",
   "mimetype": "text/x-python",
   "name": "python",
   "nbconvert_exporter": "python",
   "pygments_lexer": "ipython3",
   "version": "3.7.9"
  },
  "toc": {
   "base_numbering": 1,
   "nav_menu": {},
   "number_sections": true,
   "sideBar": true,
   "skip_h1_title": false,
   "title_cell": "Table of Contents",
   "title_sidebar": "Contents",
   "toc_cell": false,
   "toc_position": {},
   "toc_section_display": true,
   "toc_window_display": true
  }
 },
 "nbformat": 4,
 "nbformat_minor": 2
}
