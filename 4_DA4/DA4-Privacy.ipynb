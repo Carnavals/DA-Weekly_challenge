{
 "cells": [
  {
   "cell_type": "markdown",
   "metadata": {},
   "source": [
    "# DA4. Some considerations on privacy\n",
    "\n",
    "The data we are using is collected using the Twitter streaming API - and contains only public tweets. That does not mean we should forego privacy considerations here (among other normative and ethical implications that we should of course also carefully consider). \n",
    "\n",
    "\n",
    "## A \"dilemma\"\n",
    "\n",
    "* Open Science and replicability\n",
    "* Privacy protection\n",
    "\n",
    "## Some considerations\n",
    "\n",
    "* Data minimization\n",
    "* Data anonymization\n",
    "* Data pseudonimization\n",
    "* Profiling\n"
   ]
  },
  {
   "cell_type": "markdown",
   "metadata": {},
   "source": [
    "To run this code, I am also using a Twitter text parser to detect usernames in the text (https://github.com/edmondburnett/twitter-text-python).\n",
    "\n",
    "To install it:\n",
    "```pip install twitter-text-python```"
   ]
  },
  {
   "cell_type": "code",
   "execution_count": 1,
   "metadata": {},
   "outputs": [],
   "source": [
    "import pandas as pd\n",
    "from ttp import ttp\n",
    "p = ttp.Parser()"
   ]
  },
  {
   "cell_type": "code",
   "execution_count": 3,
   "metadata": {},
   "outputs": [
    {
     "ename": "FileNotFoundError",
     "evalue": "[Errno 2] No such file or directory: 'TheoAraujo_export.pkl.zip'",
     "output_type": "error",
     "traceback": [
      "\u001b[0;31m---------------------------------------------------------------------------\u001b[0m",
      "\u001b[0;31mFileNotFoundError\u001b[0m                         Traceback (most recent call last)",
      "\u001b[0;32m<ipython-input-3-6c170dd8f4c6>\u001b[0m in \u001b[0;36m<module>\u001b[0;34m\u001b[0m\n\u001b[0;32m----> 1\u001b[0;31m \u001b[0mdf\u001b[0m \u001b[0;34m=\u001b[0m \u001b[0mpd\u001b[0m\u001b[0;34m.\u001b[0m\u001b[0mread_pickle\u001b[0m\u001b[0;34m(\u001b[0m\u001b[0;34m'TheoAraujo_export.pkl.zip'\u001b[0m\u001b[0;34m)\u001b[0m\u001b[0;34m\u001b[0m\u001b[0;34m\u001b[0m\u001b[0m\n\u001b[0m",
      "\u001b[0;32m/opt/anaconda3/lib/python3.7/site-packages/pandas/io/pickle.py\u001b[0m in \u001b[0;36mread_pickle\u001b[0;34m(filepath_or_buffer, compression, storage_options)\u001b[0m\n\u001b[1;32m    176\u001b[0m         \u001b[0mcompression\u001b[0m\u001b[0;34m=\u001b[0m\u001b[0mcompression\u001b[0m\u001b[0;34m,\u001b[0m\u001b[0;34m\u001b[0m\u001b[0;34m\u001b[0m\u001b[0m\n\u001b[1;32m    177\u001b[0m         \u001b[0mis_text\u001b[0m\u001b[0;34m=\u001b[0m\u001b[0;32mFalse\u001b[0m\u001b[0;34m,\u001b[0m\u001b[0;34m\u001b[0m\u001b[0;34m\u001b[0m\u001b[0m\n\u001b[0;32m--> 178\u001b[0;31m         \u001b[0mstorage_options\u001b[0m\u001b[0;34m=\u001b[0m\u001b[0mstorage_options\u001b[0m\u001b[0;34m,\u001b[0m\u001b[0;34m\u001b[0m\u001b[0;34m\u001b[0m\u001b[0m\n\u001b[0m\u001b[1;32m    179\u001b[0m     ) as handles:\n\u001b[1;32m    180\u001b[0m \u001b[0;34m\u001b[0m\u001b[0m\n",
      "\u001b[0;32m/opt/anaconda3/lib/python3.7/site-packages/pandas/io/common.py\u001b[0m in \u001b[0;36mget_handle\u001b[0;34m(path_or_buf, mode, encoding, compression, memory_map, is_text, errors, storage_options)\u001b[0m\n\u001b[1;32m    606\u001b[0m         \u001b[0;31m# ZIP Compression\u001b[0m\u001b[0;34m\u001b[0m\u001b[0;34m\u001b[0m\u001b[0;34m\u001b[0m\u001b[0m\n\u001b[1;32m    607\u001b[0m         \u001b[0;32melif\u001b[0m \u001b[0mcompression\u001b[0m \u001b[0;34m==\u001b[0m \u001b[0;34m\"zip\"\u001b[0m\u001b[0;34m:\u001b[0m\u001b[0;34m\u001b[0m\u001b[0;34m\u001b[0m\u001b[0m\n\u001b[0;32m--> 608\u001b[0;31m             \u001b[0mhandle\u001b[0m \u001b[0;34m=\u001b[0m \u001b[0m_BytesZipFile\u001b[0m\u001b[0;34m(\u001b[0m\u001b[0mhandle\u001b[0m\u001b[0;34m,\u001b[0m \u001b[0mioargs\u001b[0m\u001b[0;34m.\u001b[0m\u001b[0mmode\u001b[0m\u001b[0;34m,\u001b[0m \u001b[0;34m**\u001b[0m\u001b[0mcompression_args\u001b[0m\u001b[0;34m)\u001b[0m\u001b[0;34m\u001b[0m\u001b[0;34m\u001b[0m\u001b[0m\n\u001b[0m\u001b[1;32m    609\u001b[0m             \u001b[0;32mif\u001b[0m \u001b[0mhandle\u001b[0m\u001b[0;34m.\u001b[0m\u001b[0mmode\u001b[0m \u001b[0;34m==\u001b[0m \u001b[0;34m\"r\"\u001b[0m\u001b[0;34m:\u001b[0m\u001b[0;34m\u001b[0m\u001b[0;34m\u001b[0m\u001b[0m\n\u001b[1;32m    610\u001b[0m                 \u001b[0mhandles\u001b[0m\u001b[0;34m.\u001b[0m\u001b[0mappend\u001b[0m\u001b[0;34m(\u001b[0m\u001b[0mhandle\u001b[0m\u001b[0;34m)\u001b[0m\u001b[0;34m\u001b[0m\u001b[0;34m\u001b[0m\u001b[0m\n",
      "\u001b[0;32m/opt/anaconda3/lib/python3.7/site-packages/pandas/io/common.py\u001b[0m in \u001b[0;36m__init__\u001b[0;34m(self, file, mode, archive_name, **kwargs)\u001b[0m\n\u001b[1;32m    718\u001b[0m         \u001b[0mkwargs_zip\u001b[0m\u001b[0;34m.\u001b[0m\u001b[0mupdate\u001b[0m\u001b[0;34m(\u001b[0m\u001b[0mkwargs\u001b[0m\u001b[0;34m)\u001b[0m\u001b[0;34m\u001b[0m\u001b[0;34m\u001b[0m\u001b[0m\n\u001b[1;32m    719\u001b[0m \u001b[0;34m\u001b[0m\u001b[0m\n\u001b[0;32m--> 720\u001b[0;31m         \u001b[0msuper\u001b[0m\u001b[0;34m(\u001b[0m\u001b[0;34m)\u001b[0m\u001b[0;34m.\u001b[0m\u001b[0m__init__\u001b[0m\u001b[0;34m(\u001b[0m\u001b[0mfile\u001b[0m\u001b[0;34m,\u001b[0m \u001b[0mmode\u001b[0m\u001b[0;34m,\u001b[0m \u001b[0;34m**\u001b[0m\u001b[0mkwargs_zip\u001b[0m\u001b[0;34m)\u001b[0m  \u001b[0;31m# type: ignore[arg-type]\u001b[0m\u001b[0;34m\u001b[0m\u001b[0;34m\u001b[0m\u001b[0m\n\u001b[0m\u001b[1;32m    721\u001b[0m \u001b[0;34m\u001b[0m\u001b[0m\n\u001b[1;32m    722\u001b[0m     \u001b[0;32mdef\u001b[0m \u001b[0mwrite\u001b[0m\u001b[0;34m(\u001b[0m\u001b[0mself\u001b[0m\u001b[0;34m,\u001b[0m \u001b[0mdata\u001b[0m\u001b[0;34m)\u001b[0m\u001b[0;34m:\u001b[0m\u001b[0;34m\u001b[0m\u001b[0;34m\u001b[0m\u001b[0m\n",
      "\u001b[0;32m/opt/anaconda3/lib/python3.7/zipfile.py\u001b[0m in \u001b[0;36m__init__\u001b[0;34m(self, file, mode, compression, allowZip64, compresslevel)\u001b[0m\n\u001b[1;32m   1238\u001b[0m             \u001b[0;32mwhile\u001b[0m \u001b[0;32mTrue\u001b[0m\u001b[0;34m:\u001b[0m\u001b[0;34m\u001b[0m\u001b[0;34m\u001b[0m\u001b[0m\n\u001b[1;32m   1239\u001b[0m                 \u001b[0;32mtry\u001b[0m\u001b[0;34m:\u001b[0m\u001b[0;34m\u001b[0m\u001b[0;34m\u001b[0m\u001b[0m\n\u001b[0;32m-> 1240\u001b[0;31m                     \u001b[0mself\u001b[0m\u001b[0;34m.\u001b[0m\u001b[0mfp\u001b[0m \u001b[0;34m=\u001b[0m \u001b[0mio\u001b[0m\u001b[0;34m.\u001b[0m\u001b[0mopen\u001b[0m\u001b[0;34m(\u001b[0m\u001b[0mfile\u001b[0m\u001b[0;34m,\u001b[0m \u001b[0mfilemode\u001b[0m\u001b[0;34m)\u001b[0m\u001b[0;34m\u001b[0m\u001b[0;34m\u001b[0m\u001b[0m\n\u001b[0m\u001b[1;32m   1241\u001b[0m                 \u001b[0;32mexcept\u001b[0m \u001b[0mOSError\u001b[0m\u001b[0;34m:\u001b[0m\u001b[0;34m\u001b[0m\u001b[0;34m\u001b[0m\u001b[0m\n\u001b[1;32m   1242\u001b[0m                     \u001b[0;32mif\u001b[0m \u001b[0mfilemode\u001b[0m \u001b[0;32min\u001b[0m \u001b[0mmodeDict\u001b[0m\u001b[0;34m:\u001b[0m\u001b[0;34m\u001b[0m\u001b[0;34m\u001b[0m\u001b[0m\n",
      "\u001b[0;31mFileNotFoundError\u001b[0m: [Errno 2] No such file or directory: 'TheoAraujo_export.pkl.zip'"
     ]
    }
   ],
   "source": [
    "df = pd.read_pickle('/Users/theo/Documents/AssignmentsDA/3_DA3/TheoAraujo_export.pkl.zip')"
   ]
  },
  {
   "cell_type": "code",
   "execution_count": 3,
   "metadata": {},
   "outputs": [
    {
     "data": {
      "text/plain": [
       "89858"
      ]
     },
     "execution_count": 3,
     "metadata": {},
     "output_type": "execute_result"
    }
   ],
   "source": [
    "len(df)"
   ]
  },
  {
   "cell_type": "code",
   "execution_count": 4,
   "metadata": {},
   "outputs": [
    {
     "data": {
      "text/plain": [
       "Index(['id', 'created_at', 'from_user_name', 'from_user_id', 'from_user_lang',\n",
       "       'from_user_tweetcount', 'from_user_followercount',\n",
       "       'from_user_friendcount', 'from_user_listed', 'from_user_realname',\n",
       "       'from_user_utcoffset', 'from_user_timezone', 'from_user_description',\n",
       "       'from_user_url', 'from_user_verified', 'from_user_profile_image_url',\n",
       "       'from_user_created_at', 'from_user_withheld_scope',\n",
       "       'from_user_favourites_count', 'source', 'location', 'geo_lat',\n",
       "       'geo_lng', 'text', 'retweet_id', 'retweet_count', 'favorite_count',\n",
       "       'to_user_id', 'to_user_name', 'in_reply_to_status_id', 'filter_level',\n",
       "       'lang', 'possibly_sensitive', 'quoted_status_id', 'withheld_copyright',\n",
       "       'withheld_scope'],\n",
       "      dtype='object')"
      ]
     },
     "execution_count": 4,
     "metadata": {},
     "output_type": "execute_result"
    }
   ],
   "source": [
    "df.columns"
   ]
  },
  {
   "cell_type": "markdown",
   "metadata": {},
   "source": [
    "## Data minimization\n",
    "\n",
    "* What is my RQ?\n",
    "* Which variables are required to answer my RQ?\n",
    "\n",
    "Whatever else is not needed - especially if it contains personally identifiable data - I should **delete**."
   ]
  },
  {
   "cell_type": "code",
   "execution_count": 5,
   "metadata": {},
   "outputs": [],
   "source": [
    "df = df[['id', 'created_at', 'from_user_name', 'from_user_lang', 'from_user_followercount',\n",
    "       'from_user_friendcount', 'from_user_verified', 'from_user_description', 'text', 'lang']]"
   ]
  },
  {
   "cell_type": "markdown",
   "metadata": {},
   "source": [
    "## Data pseudonimisation\n",
    "\n",
    "Usernames may be relevant here - at least knowing that two tweets are from the same user. That said, for almost all research I do not need to know who the users are (in principle). In some contexts, I may need to know however if a public figure or organization is tweeting (and who they are).\n",
    "* look at the user name\n",
    "\n",
    "**Note:** there are more elegant ways to pseudonimise the data (e.g., encryption), but I am using here some alternatives here that also get the job done. \n",
    "\n",
    "### Creating a general dictionary for all users in the dataset\n",
    "\n",
    "First in the from_user_name column.\n",
    "\n"
   ]
  },
  {
   "cell_type": "code",
   "execution_count": 6,
   "metadata": {},
   "outputs": [],
   "source": [
    "users = df[['from_user_name', 'from_user_verified']].drop_duplicates()"
   ]
  },
  {
   "cell_type": "code",
   "execution_count": 7,
   "metadata": {},
   "outputs": [
    {
     "data": {
      "text/html": [
       "<div>\n",
       "<style scoped>\n",
       "    .dataframe tbody tr th:only-of-type {\n",
       "        vertical-align: middle;\n",
       "    }\n",
       "\n",
       "    .dataframe tbody tr th {\n",
       "        vertical-align: top;\n",
       "    }\n",
       "\n",
       "    .dataframe thead th {\n",
       "        text-align: right;\n",
       "    }\n",
       "</style>\n",
       "<table border=\"1\" class=\"dataframe\">\n",
       "  <thead>\n",
       "    <tr style=\"text-align: right;\">\n",
       "      <th></th>\n",
       "      <th>from_user_name</th>\n",
       "      <th>from_user_verified</th>\n",
       "    </tr>\n",
       "  </thead>\n",
       "  <tbody>\n",
       "    <tr>\n",
       "      <th>0</th>\n",
       "      <td>icrowdnewswire</td>\n",
       "      <td>0</td>\n",
       "    </tr>\n",
       "    <tr>\n",
       "      <th>1</th>\n",
       "      <td>sandipk47733795</td>\n",
       "      <td>0</td>\n",
       "    </tr>\n",
       "    <tr>\n",
       "      <th>2</th>\n",
       "      <td>syabm97</td>\n",
       "      <td>0</td>\n",
       "    </tr>\n",
       "    <tr>\n",
       "      <th>3</th>\n",
       "      <td>JRuizAlt</td>\n",
       "      <td>0</td>\n",
       "    </tr>\n",
       "    <tr>\n",
       "      <th>4</th>\n",
       "      <td>AndyTheGuttler</td>\n",
       "      <td>0</td>\n",
       "    </tr>\n",
       "  </tbody>\n",
       "</table>\n",
       "</div>"
      ],
      "text/plain": [
       "    from_user_name  from_user_verified\n",
       "0   icrowdnewswire                   0\n",
       "1  sandipk47733795                   0\n",
       "2          syabm97                   0\n",
       "3         JRuizAlt                   0\n",
       "4   AndyTheGuttler                   0"
      ]
     },
     "execution_count": 7,
     "metadata": {},
     "output_type": "execute_result"
    }
   ],
   "source": [
    "users.head()"
   ]
  },
  {
   "cell_type": "markdown",
   "metadata": {},
   "source": [
    "Using the index to create a unique id"
   ]
  },
  {
   "cell_type": "code",
   "execution_count": 8,
   "metadata": {},
   "outputs": [],
   "source": [
    "users = users.reset_index()"
   ]
  },
  {
   "cell_type": "code",
   "execution_count": 9,
   "metadata": {},
   "outputs": [
    {
     "data": {
      "text/html": [
       "<div>\n",
       "<style scoped>\n",
       "    .dataframe tbody tr th:only-of-type {\n",
       "        vertical-align: middle;\n",
       "    }\n",
       "\n",
       "    .dataframe tbody tr th {\n",
       "        vertical-align: top;\n",
       "    }\n",
       "\n",
       "    .dataframe thead th {\n",
       "        text-align: right;\n",
       "    }\n",
       "</style>\n",
       "<table border=\"1\" class=\"dataframe\">\n",
       "  <thead>\n",
       "    <tr style=\"text-align: right;\">\n",
       "      <th></th>\n",
       "      <th>index</th>\n",
       "      <th>from_user_name</th>\n",
       "      <th>from_user_verified</th>\n",
       "    </tr>\n",
       "  </thead>\n",
       "  <tbody>\n",
       "    <tr>\n",
       "      <th>0</th>\n",
       "      <td>0</td>\n",
       "      <td>icrowdnewswire</td>\n",
       "      <td>0</td>\n",
       "    </tr>\n",
       "    <tr>\n",
       "      <th>1</th>\n",
       "      <td>1</td>\n",
       "      <td>sandipk47733795</td>\n",
       "      <td>0</td>\n",
       "    </tr>\n",
       "    <tr>\n",
       "      <th>2</th>\n",
       "      <td>2</td>\n",
       "      <td>syabm97</td>\n",
       "      <td>0</td>\n",
       "    </tr>\n",
       "    <tr>\n",
       "      <th>3</th>\n",
       "      <td>3</td>\n",
       "      <td>JRuizAlt</td>\n",
       "      <td>0</td>\n",
       "    </tr>\n",
       "    <tr>\n",
       "      <th>4</th>\n",
       "      <td>4</td>\n",
       "      <td>AndyTheGuttler</td>\n",
       "      <td>0</td>\n",
       "    </tr>\n",
       "  </tbody>\n",
       "</table>\n",
       "</div>"
      ],
      "text/plain": [
       "   index   from_user_name  from_user_verified\n",
       "0      0   icrowdnewswire                   0\n",
       "1      1  sandipk47733795                   0\n",
       "2      2          syabm97                   0\n",
       "3      3         JRuizAlt                   0\n",
       "4      4   AndyTheGuttler                   0"
      ]
     },
     "execution_count": 9,
     "metadata": {},
     "output_type": "execute_result"
    }
   ],
   "source": [
    "users.head()"
   ]
  },
  {
   "cell_type": "code",
   "execution_count": 10,
   "metadata": {},
   "outputs": [],
   "source": [
    "users = users.rename(columns={'index': 'pseudID'})"
   ]
  },
  {
   "cell_type": "code",
   "execution_count": 11,
   "metadata": {},
   "outputs": [
    {
     "data": {
      "text/html": [
       "<div>\n",
       "<style scoped>\n",
       "    .dataframe tbody tr th:only-of-type {\n",
       "        vertical-align: middle;\n",
       "    }\n",
       "\n",
       "    .dataframe tbody tr th {\n",
       "        vertical-align: top;\n",
       "    }\n",
       "\n",
       "    .dataframe thead th {\n",
       "        text-align: right;\n",
       "    }\n",
       "</style>\n",
       "<table border=\"1\" class=\"dataframe\">\n",
       "  <thead>\n",
       "    <tr style=\"text-align: right;\">\n",
       "      <th></th>\n",
       "      <th>pseudID</th>\n",
       "      <th>from_user_name</th>\n",
       "      <th>from_user_verified</th>\n",
       "    </tr>\n",
       "  </thead>\n",
       "  <tbody>\n",
       "    <tr>\n",
       "      <th>0</th>\n",
       "      <td>0</td>\n",
       "      <td>icrowdnewswire</td>\n",
       "      <td>0</td>\n",
       "    </tr>\n",
       "    <tr>\n",
       "      <th>1</th>\n",
       "      <td>1</td>\n",
       "      <td>sandipk47733795</td>\n",
       "      <td>0</td>\n",
       "    </tr>\n",
       "    <tr>\n",
       "      <th>2</th>\n",
       "      <td>2</td>\n",
       "      <td>syabm97</td>\n",
       "      <td>0</td>\n",
       "    </tr>\n",
       "    <tr>\n",
       "      <th>3</th>\n",
       "      <td>3</td>\n",
       "      <td>JRuizAlt</td>\n",
       "      <td>0</td>\n",
       "    </tr>\n",
       "    <tr>\n",
       "      <th>4</th>\n",
       "      <td>4</td>\n",
       "      <td>AndyTheGuttler</td>\n",
       "      <td>0</td>\n",
       "    </tr>\n",
       "  </tbody>\n",
       "</table>\n",
       "</div>"
      ],
      "text/plain": [
       "   pseudID   from_user_name  from_user_verified\n",
       "0        0   icrowdnewswire                   0\n",
       "1        1  sandipk47733795                   0\n",
       "2        2          syabm97                   0\n",
       "3        3         JRuizAlt                   0\n",
       "4        4   AndyTheGuttler                   0"
      ]
     },
     "execution_count": 11,
     "metadata": {},
     "output_type": "execute_result"
    }
   ],
   "source": [
    "users.head()"
   ]
  },
  {
   "cell_type": "code",
   "execution_count": 12,
   "metadata": {},
   "outputs": [],
   "source": [
    "def correct_verified(row):\n",
    "    if row['from_user_verified'] == 1:\n",
    "        row['pseudID'] = row['from_user_name']\n",
    "    return row"
   ]
  },
  {
   "cell_type": "code",
   "execution_count": 13,
   "metadata": {},
   "outputs": [],
   "source": [
    "users = users.apply(correct_verified, axis=1)"
   ]
  },
  {
   "cell_type": "code",
   "execution_count": 14,
   "metadata": {},
   "outputs": [
    {
     "data": {
      "text/html": [
       "<div>\n",
       "<style scoped>\n",
       "    .dataframe tbody tr th:only-of-type {\n",
       "        vertical-align: middle;\n",
       "    }\n",
       "\n",
       "    .dataframe tbody tr th {\n",
       "        vertical-align: top;\n",
       "    }\n",
       "\n",
       "    .dataframe thead th {\n",
       "        text-align: right;\n",
       "    }\n",
       "</style>\n",
       "<table border=\"1\" class=\"dataframe\">\n",
       "  <thead>\n",
       "    <tr style=\"text-align: right;\">\n",
       "      <th></th>\n",
       "      <th>pseudID</th>\n",
       "      <th>from_user_name</th>\n",
       "      <th>from_user_verified</th>\n",
       "    </tr>\n",
       "  </thead>\n",
       "  <tbody>\n",
       "    <tr>\n",
       "      <th>0</th>\n",
       "      <td>0</td>\n",
       "      <td>icrowdnewswire</td>\n",
       "      <td>0</td>\n",
       "    </tr>\n",
       "    <tr>\n",
       "      <th>1</th>\n",
       "      <td>1</td>\n",
       "      <td>sandipk47733795</td>\n",
       "      <td>0</td>\n",
       "    </tr>\n",
       "    <tr>\n",
       "      <th>2</th>\n",
       "      <td>2</td>\n",
       "      <td>syabm97</td>\n",
       "      <td>0</td>\n",
       "    </tr>\n",
       "    <tr>\n",
       "      <th>3</th>\n",
       "      <td>3</td>\n",
       "      <td>JRuizAlt</td>\n",
       "      <td>0</td>\n",
       "    </tr>\n",
       "    <tr>\n",
       "      <th>4</th>\n",
       "      <td>4</td>\n",
       "      <td>AndyTheGuttler</td>\n",
       "      <td>0</td>\n",
       "    </tr>\n",
       "  </tbody>\n",
       "</table>\n",
       "</div>"
      ],
      "text/plain": [
       "  pseudID   from_user_name  from_user_verified\n",
       "0       0   icrowdnewswire                   0\n",
       "1       1  sandipk47733795                   0\n",
       "2       2          syabm97                   0\n",
       "3       3         JRuizAlt                   0\n",
       "4       4   AndyTheGuttler                   0"
      ]
     },
     "execution_count": 14,
     "metadata": {},
     "output_type": "execute_result"
    }
   ],
   "source": [
    "users[users['from_user_verified']==0].head()"
   ]
  },
  {
   "cell_type": "code",
   "execution_count": 15,
   "metadata": {},
   "outputs": [
    {
     "data": {
      "text/html": [
       "<div>\n",
       "<style scoped>\n",
       "    .dataframe tbody tr th:only-of-type {\n",
       "        vertical-align: middle;\n",
       "    }\n",
       "\n",
       "    .dataframe tbody tr th {\n",
       "        vertical-align: top;\n",
       "    }\n",
       "\n",
       "    .dataframe thead th {\n",
       "        text-align: right;\n",
       "    }\n",
       "</style>\n",
       "<table border=\"1\" class=\"dataframe\">\n",
       "  <thead>\n",
       "    <tr style=\"text-align: right;\">\n",
       "      <th></th>\n",
       "      <th>pseudID</th>\n",
       "      <th>from_user_name</th>\n",
       "      <th>from_user_verified</th>\n",
       "    </tr>\n",
       "  </thead>\n",
       "  <tbody>\n",
       "    <tr>\n",
       "      <th>219</th>\n",
       "      <td>abo1fares</td>\n",
       "      <td>abo1fares</td>\n",
       "      <td>1</td>\n",
       "    </tr>\n",
       "    <tr>\n",
       "      <th>354</th>\n",
       "      <td>Braden_Keith</td>\n",
       "      <td>Braden_Keith</td>\n",
       "      <td>1</td>\n",
       "    </tr>\n",
       "    <tr>\n",
       "      <th>440</th>\n",
       "      <td>getcerebral</td>\n",
       "      <td>getcerebral</td>\n",
       "      <td>1</td>\n",
       "    </tr>\n",
       "    <tr>\n",
       "      <th>484</th>\n",
       "      <td>sree</td>\n",
       "      <td>sree</td>\n",
       "      <td>1</td>\n",
       "    </tr>\n",
       "    <tr>\n",
       "      <th>519</th>\n",
       "      <td>NewsCEO</td>\n",
       "      <td>NewsCEO</td>\n",
       "      <td>1</td>\n",
       "    </tr>\n",
       "  </tbody>\n",
       "</table>\n",
       "</div>"
      ],
      "text/plain": [
       "          pseudID from_user_name  from_user_verified\n",
       "219     abo1fares      abo1fares                   1\n",
       "354  Braden_Keith   Braden_Keith                   1\n",
       "440   getcerebral    getcerebral                   1\n",
       "484          sree           sree                   1\n",
       "519       NewsCEO        NewsCEO                   1"
      ]
     },
     "execution_count": 15,
     "metadata": {},
     "output_type": "execute_result"
    }
   ],
   "source": [
    "users[users['from_user_verified']==1].head()"
   ]
  },
  {
   "cell_type": "markdown",
   "metadata": {},
   "source": [
    "Transforming this dataframe in a dictionary:"
   ]
  },
  {
   "cell_type": "code",
   "execution_count": 16,
   "metadata": {},
   "outputs": [],
   "source": [
    "userids = {}\n",
    "for from_user_name, pseudID in users[['from_user_name', 'pseudID']].values.tolist():\n",
    "    from_user_name = str(from_user_name).lower()\n",
    "    userids[from_user_name] = str(pseudID).lower()"
   ]
  },
  {
   "cell_type": "code",
   "execution_count": 17,
   "metadata": {},
   "outputs": [
    {
     "data": {
      "text/plain": [
       "'sree'"
      ]
     },
     "execution_count": 17,
     "metadata": {},
     "output_type": "execute_result"
    }
   ],
   "source": [
    "userids['sree']"
   ]
  },
  {
   "cell_type": "code",
   "execution_count": 18,
   "metadata": {},
   "outputs": [
    {
     "data": {
      "text/plain": [
       "'braden_keith'"
      ]
     },
     "execution_count": 18,
     "metadata": {},
     "output_type": "execute_result"
    }
   ],
   "source": [
    "userids['braden_keith']"
   ]
  },
  {
   "cell_type": "code",
   "execution_count": 19,
   "metadata": {},
   "outputs": [
    {
     "data": {
      "text/plain": [
       "'1'"
      ]
     },
     "execution_count": 19,
     "metadata": {},
     "output_type": "execute_result"
    }
   ],
   "source": [
    "userids['sandipk47733795']"
   ]
  },
  {
   "cell_type": "markdown",
   "metadata": {},
   "source": [
    "Getting all mentions in the text, and adding the users to the dictionary"
   ]
  },
  {
   "cell_type": "code",
   "execution_count": 20,
   "metadata": {},
   "outputs": [],
   "source": [
    "counter = len(users)"
   ]
  },
  {
   "cell_type": "code",
   "execution_count": 21,
   "metadata": {},
   "outputs": [
    {
     "data": {
      "text/plain": [
       "74877"
      ]
     },
     "execution_count": 21,
     "metadata": {},
     "output_type": "execute_result"
    }
   ],
   "source": [
    "counter"
   ]
  },
  {
   "cell_type": "code",
   "execution_count": 22,
   "metadata": {},
   "outputs": [],
   "source": [
    "for text in df['text'].unique().tolist():\n",
    "    text_parsed = p.parse(text)\n",
    "    users_in_text = text_parsed.users\n",
    "    users_in_text = [str(user_in_text).lower() for user_in_text in users_in_text]\n",
    "    for user_in_text in users_in_text:\n",
    "        if user_in_text not in userids.keys():\n",
    "            userids[user_in_text] = counter\n",
    "            counter += 1"
   ]
  },
  {
   "cell_type": "code",
   "execution_count": 23,
   "metadata": {},
   "outputs": [
    {
     "data": {
      "text/plain": [
       "93541"
      ]
     },
     "execution_count": 23,
     "metadata": {},
     "output_type": "execute_result"
    }
   ],
   "source": [
    "len(userids)"
   ]
  },
  {
   "cell_type": "markdown",
   "metadata": {},
   "source": [
    "Editing the text to replace mentions by pseudIDs"
   ]
  },
  {
   "cell_type": "code",
   "execution_count": 24,
   "metadata": {},
   "outputs": [],
   "source": [
    "def pseudonimise_text(text):\n",
    "    import re\n",
    "    text_parsed = p.parse(text)\n",
    "    users_in_text = text_parsed.users\n",
    "    users_in_text = [str(user_in_text).lower() for user_in_text in users_in_text]\n",
    "    for user_in_text in users_in_text:\n",
    "        replacer = re.compile(re.escape(user_in_text), re.IGNORECASE)\n",
    "        text = replacer.sub(str(userids[user_in_text]), text)\n",
    "    return text\n",
    "            \n",
    "    "
   ]
  },
  {
   "cell_type": "code",
   "execution_count": 25,
   "metadata": {},
   "outputs": [],
   "source": [
    "df['text_p'] = df['text'].apply(pseudonimise_text)"
   ]
  },
  {
   "cell_type": "code",
   "execution_count": 26,
   "metadata": {},
   "outputs": [
    {
     "data": {
      "text/html": [
       "<div>\n",
       "<style scoped>\n",
       "    .dataframe tbody tr th:only-of-type {\n",
       "        vertical-align: middle;\n",
       "    }\n",
       "\n",
       "    .dataframe tbody tr th {\n",
       "        vertical-align: top;\n",
       "    }\n",
       "\n",
       "    .dataframe thead th {\n",
       "        text-align: right;\n",
       "    }\n",
       "</style>\n",
       "<table border=\"1\" class=\"dataframe\">\n",
       "  <thead>\n",
       "    <tr style=\"text-align: right;\">\n",
       "      <th></th>\n",
       "      <th>text</th>\n",
       "      <th>text_p</th>\n",
       "    </tr>\n",
       "  </thead>\n",
       "  <tbody>\n",
       "    <tr>\n",
       "      <th>0</th>\n",
       "      <td>How To Understand the @Spotify Algorithm and G...</td>\n",
       "      <td>How To Understand the @74877 Algorithm and Get...</td>\n",
       "    </tr>\n",
       "    <tr>\n",
       "      <th>1</th>\n",
       "      <td>RT @Tejasvi_Surya: Shri RL Kashyap, a noted ma...</td>\n",
       "      <td>RT @74878: Shri RL Kashyap, a noted mathematic...</td>\n",
       "    </tr>\n",
       "    <tr>\n",
       "      <th>2</th>\n",
       "      <td>RT @okedkama: Sebab facebook algorithm memang ...</td>\n",
       "      <td>RT @74879: Sebab facebook algorithm memang blo...</td>\n",
       "    </tr>\n",
       "    <tr>\n",
       "      <th>3</th>\n",
       "      <td>RT @KyleMorgenstein: what’s wild about this sh...</td>\n",
       "      <td>RT @74880: what’s wild about this shit is how ...</td>\n",
       "    </tr>\n",
       "    <tr>\n",
       "      <th>4</th>\n",
       "      <td>@happYord It doesn't \"mean\" anything lol, it d...</td>\n",
       "      <td>@74881 It doesn't \"mean\" anything lol, it does...</td>\n",
       "    </tr>\n",
       "  </tbody>\n",
       "</table>\n",
       "</div>"
      ],
      "text/plain": [
       "                                                text  \\\n",
       "0  How To Understand the @Spotify Algorithm and G...   \n",
       "1  RT @Tejasvi_Surya: Shri RL Kashyap, a noted ma...   \n",
       "2  RT @okedkama: Sebab facebook algorithm memang ...   \n",
       "3  RT @KyleMorgenstein: what’s wild about this sh...   \n",
       "4  @happYord It doesn't \"mean\" anything lol, it d...   \n",
       "\n",
       "                                              text_p  \n",
       "0  How To Understand the @74877 Algorithm and Get...  \n",
       "1  RT @74878: Shri RL Kashyap, a noted mathematic...  \n",
       "2  RT @74879: Sebab facebook algorithm memang blo...  \n",
       "3  RT @74880: what’s wild about this shit is how ...  \n",
       "4  @74881 It doesn't \"mean\" anything lol, it does...  "
      ]
     },
     "execution_count": 26,
     "metadata": {},
     "output_type": "execute_result"
    }
   ],
   "source": [
    "df[['text', 'text_p']].head()"
   ]
  },
  {
   "cell_type": "code",
   "execution_count": 27,
   "metadata": {},
   "outputs": [],
   "source": [
    "del df['text']"
   ]
  },
  {
   "cell_type": "markdown",
   "metadata": {},
   "source": [
    "## Now pseudonimizing the from_user_name column"
   ]
  },
  {
   "cell_type": "code",
   "execution_count": 28,
   "metadata": {},
   "outputs": [],
   "source": [
    "def pseudonimise_user(row):\n",
    "    row['pseudID'] = userids[str(row['from_user_name']).lower()]\n",
    "    if row['from_user_verified'] == 1:\n",
    "        return row\n",
    "    else:\n",
    "        row['from_user_description'] = 'removed'\n",
    "        return row\n",
    "        "
   ]
  },
  {
   "cell_type": "code",
   "execution_count": 29,
   "metadata": {},
   "outputs": [],
   "source": [
    "df = df.apply(pseudonimise_user, axis=1)"
   ]
  },
  {
   "cell_type": "code",
   "execution_count": 30,
   "metadata": {},
   "outputs": [
    {
     "data": {
      "text/html": [
       "<div>\n",
       "<style scoped>\n",
       "    .dataframe tbody tr th:only-of-type {\n",
       "        vertical-align: middle;\n",
       "    }\n",
       "\n",
       "    .dataframe tbody tr th {\n",
       "        vertical-align: top;\n",
       "    }\n",
       "\n",
       "    .dataframe thead th {\n",
       "        text-align: right;\n",
       "    }\n",
       "</style>\n",
       "<table border=\"1\" class=\"dataframe\">\n",
       "  <thead>\n",
       "    <tr style=\"text-align: right;\">\n",
       "      <th></th>\n",
       "      <th>id</th>\n",
       "      <th>created_at</th>\n",
       "      <th>from_user_name</th>\n",
       "      <th>from_user_lang</th>\n",
       "      <th>from_user_followercount</th>\n",
       "      <th>from_user_friendcount</th>\n",
       "      <th>from_user_verified</th>\n",
       "      <th>from_user_description</th>\n",
       "      <th>lang</th>\n",
       "      <th>text_p</th>\n",
       "      <th>pseudID</th>\n",
       "    </tr>\n",
       "  </thead>\n",
       "  <tbody>\n",
       "    <tr>\n",
       "      <th>0</th>\n",
       "      <td>1354112097425235969</td>\n",
       "      <td>2021-01-26 17:00:56</td>\n",
       "      <td>icrowdnewswire</td>\n",
       "      <td>None</td>\n",
       "      <td>1277</td>\n",
       "      <td>4031</td>\n",
       "      <td>0</td>\n",
       "      <td>removed</td>\n",
       "      <td>en</td>\n",
       "      <td>How To Understand the @74877 Algorithm and Get...</td>\n",
       "      <td>0</td>\n",
       "    </tr>\n",
       "    <tr>\n",
       "      <th>1</th>\n",
       "      <td>1354112111723462657</td>\n",
       "      <td>2021-01-26 17:01:00</td>\n",
       "      <td>sandipk47733795</td>\n",
       "      <td>None</td>\n",
       "      <td>5</td>\n",
       "      <td>25</td>\n",
       "      <td>0</td>\n",
       "      <td>removed</td>\n",
       "      <td>en</td>\n",
       "      <td>RT @74878: Shri RL Kashyap, a noted mathematic...</td>\n",
       "      <td>1</td>\n",
       "    </tr>\n",
       "    <tr>\n",
       "      <th>2</th>\n",
       "      <td>1354112119994638336</td>\n",
       "      <td>2021-01-26 17:01:02</td>\n",
       "      <td>syabm97</td>\n",
       "      <td>None</td>\n",
       "      <td>370</td>\n",
       "      <td>454</td>\n",
       "      <td>0</td>\n",
       "      <td>removed</td>\n",
       "      <td>in</td>\n",
       "      <td>RT @74879: Sebab facebook algorithm memang blo...</td>\n",
       "      <td>2</td>\n",
       "    </tr>\n",
       "    <tr>\n",
       "      <th>3</th>\n",
       "      <td>1354112134708228096</td>\n",
       "      <td>2021-01-26 17:01:05</td>\n",
       "      <td>JRuizAlt</td>\n",
       "      <td>None</td>\n",
       "      <td>268</td>\n",
       "      <td>1006</td>\n",
       "      <td>0</td>\n",
       "      <td>removed</td>\n",
       "      <td>en</td>\n",
       "      <td>RT @74880: what’s wild about this shit is how ...</td>\n",
       "      <td>3</td>\n",
       "    </tr>\n",
       "    <tr>\n",
       "      <th>4</th>\n",
       "      <td>1354112251968499713</td>\n",
       "      <td>2021-01-26 17:01:33</td>\n",
       "      <td>AndyTheGuttler</td>\n",
       "      <td>None</td>\n",
       "      <td>67</td>\n",
       "      <td>57</td>\n",
       "      <td>0</td>\n",
       "      <td>removed</td>\n",
       "      <td>en</td>\n",
       "      <td>@74881 It doesn't \"mean\" anything lol, it does...</td>\n",
       "      <td>4</td>\n",
       "    </tr>\n",
       "  </tbody>\n",
       "</table>\n",
       "</div>"
      ],
      "text/plain": [
       "                    id          created_at   from_user_name from_user_lang  \\\n",
       "0  1354112097425235969 2021-01-26 17:00:56   icrowdnewswire           None   \n",
       "1  1354112111723462657 2021-01-26 17:01:00  sandipk47733795           None   \n",
       "2  1354112119994638336 2021-01-26 17:01:02          syabm97           None   \n",
       "3  1354112134708228096 2021-01-26 17:01:05         JRuizAlt           None   \n",
       "4  1354112251968499713 2021-01-26 17:01:33   AndyTheGuttler           None   \n",
       "\n",
       "   from_user_followercount  from_user_friendcount  from_user_verified  \\\n",
       "0                     1277                   4031                   0   \n",
       "1                        5                     25                   0   \n",
       "2                      370                    454                   0   \n",
       "3                      268                   1006                   0   \n",
       "4                       67                     57                   0   \n",
       "\n",
       "  from_user_description lang  \\\n",
       "0               removed   en   \n",
       "1               removed   en   \n",
       "2               removed   in   \n",
       "3               removed   en   \n",
       "4               removed   en   \n",
       "\n",
       "                                              text_p pseudID  \n",
       "0  How To Understand the @74877 Algorithm and Get...       0  \n",
       "1  RT @74878: Shri RL Kashyap, a noted mathematic...       1  \n",
       "2  RT @74879: Sebab facebook algorithm memang blo...       2  \n",
       "3  RT @74880: what’s wild about this shit is how ...       3  \n",
       "4  @74881 It doesn't \"mean\" anything lol, it does...       4  "
      ]
     },
     "execution_count": 30,
     "metadata": {},
     "output_type": "execute_result"
    }
   ],
   "source": [
    "df.head()"
   ]
  },
  {
   "cell_type": "code",
   "execution_count": 31,
   "metadata": {},
   "outputs": [
    {
     "data": {
      "text/html": [
       "<div>\n",
       "<style scoped>\n",
       "    .dataframe tbody tr th:only-of-type {\n",
       "        vertical-align: middle;\n",
       "    }\n",
       "\n",
       "    .dataframe tbody tr th {\n",
       "        vertical-align: top;\n",
       "    }\n",
       "\n",
       "    .dataframe thead th {\n",
       "        text-align: right;\n",
       "    }\n",
       "</style>\n",
       "<table border=\"1\" class=\"dataframe\">\n",
       "  <thead>\n",
       "    <tr style=\"text-align: right;\">\n",
       "      <th></th>\n",
       "      <th>id</th>\n",
       "      <th>created_at</th>\n",
       "      <th>from_user_name</th>\n",
       "      <th>from_user_lang</th>\n",
       "      <th>from_user_followercount</th>\n",
       "      <th>from_user_friendcount</th>\n",
       "      <th>from_user_verified</th>\n",
       "      <th>from_user_description</th>\n",
       "      <th>lang</th>\n",
       "      <th>text_p</th>\n",
       "      <th>pseudID</th>\n",
       "    </tr>\n",
       "  </thead>\n",
       "  <tbody>\n",
       "    <tr>\n",
       "      <th>224</th>\n",
       "      <td>1354118594523770882</td>\n",
       "      <td>2021-01-26 17:26:45</td>\n",
       "      <td>abo1fares</td>\n",
       "      <td>None</td>\n",
       "      <td>149675</td>\n",
       "      <td>602</td>\n",
       "      <td>1</td>\n",
       "      <td>الأمين العام لـ #حزب_التجمع_الوطني\\nفريق يدير ...</td>\n",
       "      <td>en</td>\n",
       "      <td>RT @74887: In Saudi Arabia, a hashtag about un...</td>\n",
       "      <td>abo1fares</td>\n",
       "    </tr>\n",
       "    <tr>\n",
       "      <th>365</th>\n",
       "      <td>1354121632600752130</td>\n",
       "      <td>2021-01-26 17:38:50</td>\n",
       "      <td>Braden_Keith</td>\n",
       "      <td>None</td>\n",
       "      <td>3162</td>\n",
       "      <td>1265</td>\n",
       "      <td>1</td>\n",
       "      <td>Co-Founder, Editor-in-Chief of @swimswamnews.</td>\n",
       "      <td>en</td>\n",
       "      <td>50% of TikTok content is about how to game the...</td>\n",
       "      <td>braden_keith</td>\n",
       "    </tr>\n",
       "    <tr>\n",
       "      <th>451</th>\n",
       "      <td>1354123559921180674</td>\n",
       "      <td>2021-01-26 17:46:29</td>\n",
       "      <td>getcerebral</td>\n",
       "      <td>None</td>\n",
       "      <td>4724</td>\n",
       "      <td>1459</td>\n",
       "      <td>1</td>\n",
       "      <td>@m00nphysics / artist mgmt / words / they/them...</td>\n",
       "      <td>en</td>\n",
       "      <td>RT @124: If you are an Algorithm please have y...</td>\n",
       "      <td>getcerebral</td>\n",
       "    </tr>\n",
       "    <tr>\n",
       "      <th>495</th>\n",
       "      <td>1354124868690849793</td>\n",
       "      <td>2021-01-26 17:51:41</td>\n",
       "      <td>sree</td>\n",
       "      <td>None</td>\n",
       "      <td>84352</td>\n",
       "      <td>9906</td>\n",
       "      <td>1</td>\n",
       "      <td>Your virtual events + my talk shows (#SreeShow...</td>\n",
       "      <td>en</td>\n",
       "      <td>RT @75021: A few months ago, TikTok execs, at ...</td>\n",
       "      <td>sree</td>\n",
       "    </tr>\n",
       "    <tr>\n",
       "      <th>530</th>\n",
       "      <td>1354126074729426946</td>\n",
       "      <td>2021-01-26 17:56:29</td>\n",
       "      <td>NewsCEO</td>\n",
       "      <td>None</td>\n",
       "      <td>4038</td>\n",
       "      <td>700</td>\n",
       "      <td>1</td>\n",
       "      <td>President &amp; CEO of News Media Alliance (@NewsA...</td>\n",
       "      <td>en</td>\n",
       "      <td>RT @75021: A few months ago, TikTok execs, at ...</td>\n",
       "      <td>newsceo</td>\n",
       "    </tr>\n",
       "  </tbody>\n",
       "</table>\n",
       "</div>"
      ],
      "text/plain": [
       "                      id          created_at from_user_name from_user_lang  \\\n",
       "224  1354118594523770882 2021-01-26 17:26:45      abo1fares           None   \n",
       "365  1354121632600752130 2021-01-26 17:38:50   Braden_Keith           None   \n",
       "451  1354123559921180674 2021-01-26 17:46:29    getcerebral           None   \n",
       "495  1354124868690849793 2021-01-26 17:51:41           sree           None   \n",
       "530  1354126074729426946 2021-01-26 17:56:29        NewsCEO           None   \n",
       "\n",
       "     from_user_followercount  from_user_friendcount  from_user_verified  \\\n",
       "224                   149675                    602                   1   \n",
       "365                     3162                   1265                   1   \n",
       "451                     4724                   1459                   1   \n",
       "495                    84352                   9906                   1   \n",
       "530                     4038                    700                   1   \n",
       "\n",
       "                                 from_user_description lang  \\\n",
       "224  الأمين العام لـ #حزب_التجمع_الوطني\\nفريق يدير ...   en   \n",
       "365      Co-Founder, Editor-in-Chief of @swimswamnews.   en   \n",
       "451  @m00nphysics / artist mgmt / words / they/them...   en   \n",
       "495  Your virtual events + my talk shows (#SreeShow...   en   \n",
       "530  President & CEO of News Media Alliance (@NewsA...   en   \n",
       "\n",
       "                                                text_p       pseudID  \n",
       "224  RT @74887: In Saudi Arabia, a hashtag about un...     abo1fares  \n",
       "365  50% of TikTok content is about how to game the...  braden_keith  \n",
       "451  RT @124: If you are an Algorithm please have y...   getcerebral  \n",
       "495  RT @75021: A few months ago, TikTok execs, at ...          sree  \n",
       "530  RT @75021: A few months ago, TikTok execs, at ...       newsceo  "
      ]
     },
     "execution_count": 31,
     "metadata": {},
     "output_type": "execute_result"
    }
   ],
   "source": [
    "df[df['from_user_verified']==1].head()"
   ]
  },
  {
   "cell_type": "code",
   "execution_count": 32,
   "metadata": {},
   "outputs": [],
   "source": [
    "del df['from_user_name']"
   ]
  },
  {
   "cell_type": "code",
   "execution_count": 33,
   "metadata": {},
   "outputs": [
    {
     "data": {
      "text/html": [
       "<div>\n",
       "<style scoped>\n",
       "    .dataframe tbody tr th:only-of-type {\n",
       "        vertical-align: middle;\n",
       "    }\n",
       "\n",
       "    .dataframe tbody tr th {\n",
       "        vertical-align: top;\n",
       "    }\n",
       "\n",
       "    .dataframe thead th {\n",
       "        text-align: right;\n",
       "    }\n",
       "</style>\n",
       "<table border=\"1\" class=\"dataframe\">\n",
       "  <thead>\n",
       "    <tr style=\"text-align: right;\">\n",
       "      <th></th>\n",
       "      <th>id</th>\n",
       "      <th>created_at</th>\n",
       "      <th>from_user_lang</th>\n",
       "      <th>from_user_followercount</th>\n",
       "      <th>from_user_friendcount</th>\n",
       "      <th>from_user_verified</th>\n",
       "      <th>from_user_description</th>\n",
       "      <th>lang</th>\n",
       "      <th>text_p</th>\n",
       "      <th>pseudID</th>\n",
       "    </tr>\n",
       "  </thead>\n",
       "  <tbody>\n",
       "    <tr>\n",
       "      <th>0</th>\n",
       "      <td>1354112097425235969</td>\n",
       "      <td>2021-01-26 17:00:56</td>\n",
       "      <td>None</td>\n",
       "      <td>1277</td>\n",
       "      <td>4031</td>\n",
       "      <td>0</td>\n",
       "      <td>removed</td>\n",
       "      <td>en</td>\n",
       "      <td>How To Understand the @74877 Algorithm and Get...</td>\n",
       "      <td>0</td>\n",
       "    </tr>\n",
       "    <tr>\n",
       "      <th>1</th>\n",
       "      <td>1354112111723462657</td>\n",
       "      <td>2021-01-26 17:01:00</td>\n",
       "      <td>None</td>\n",
       "      <td>5</td>\n",
       "      <td>25</td>\n",
       "      <td>0</td>\n",
       "      <td>removed</td>\n",
       "      <td>en</td>\n",
       "      <td>RT @74878: Shri RL Kashyap, a noted mathematic...</td>\n",
       "      <td>1</td>\n",
       "    </tr>\n",
       "    <tr>\n",
       "      <th>2</th>\n",
       "      <td>1354112119994638336</td>\n",
       "      <td>2021-01-26 17:01:02</td>\n",
       "      <td>None</td>\n",
       "      <td>370</td>\n",
       "      <td>454</td>\n",
       "      <td>0</td>\n",
       "      <td>removed</td>\n",
       "      <td>in</td>\n",
       "      <td>RT @74879: Sebab facebook algorithm memang blo...</td>\n",
       "      <td>2</td>\n",
       "    </tr>\n",
       "    <tr>\n",
       "      <th>3</th>\n",
       "      <td>1354112134708228096</td>\n",
       "      <td>2021-01-26 17:01:05</td>\n",
       "      <td>None</td>\n",
       "      <td>268</td>\n",
       "      <td>1006</td>\n",
       "      <td>0</td>\n",
       "      <td>removed</td>\n",
       "      <td>en</td>\n",
       "      <td>RT @74880: what’s wild about this shit is how ...</td>\n",
       "      <td>3</td>\n",
       "    </tr>\n",
       "    <tr>\n",
       "      <th>4</th>\n",
       "      <td>1354112251968499713</td>\n",
       "      <td>2021-01-26 17:01:33</td>\n",
       "      <td>None</td>\n",
       "      <td>67</td>\n",
       "      <td>57</td>\n",
       "      <td>0</td>\n",
       "      <td>removed</td>\n",
       "      <td>en</td>\n",
       "      <td>@74881 It doesn't \"mean\" anything lol, it does...</td>\n",
       "      <td>4</td>\n",
       "    </tr>\n",
       "  </tbody>\n",
       "</table>\n",
       "</div>"
      ],
      "text/plain": [
       "                    id          created_at from_user_lang  \\\n",
       "0  1354112097425235969 2021-01-26 17:00:56           None   \n",
       "1  1354112111723462657 2021-01-26 17:01:00           None   \n",
       "2  1354112119994638336 2021-01-26 17:01:02           None   \n",
       "3  1354112134708228096 2021-01-26 17:01:05           None   \n",
       "4  1354112251968499713 2021-01-26 17:01:33           None   \n",
       "\n",
       "   from_user_followercount  from_user_friendcount  from_user_verified  \\\n",
       "0                     1277                   4031                   0   \n",
       "1                        5                     25                   0   \n",
       "2                      370                    454                   0   \n",
       "3                      268                   1006                   0   \n",
       "4                       67                     57                   0   \n",
       "\n",
       "  from_user_description lang  \\\n",
       "0               removed   en   \n",
       "1               removed   en   \n",
       "2               removed   in   \n",
       "3               removed   en   \n",
       "4               removed   en   \n",
       "\n",
       "                                              text_p pseudID  \n",
       "0  How To Understand the @74877 Algorithm and Get...       0  \n",
       "1  RT @74878: Shri RL Kashyap, a noted mathematic...       1  \n",
       "2  RT @74879: Sebab facebook algorithm memang blo...       2  \n",
       "3  RT @74880: what’s wild about this shit is how ...       3  \n",
       "4  @74881 It doesn't \"mean\" anything lol, it does...       4  "
      ]
     },
     "execution_count": 33,
     "metadata": {},
     "output_type": "execute_result"
    }
   ],
   "source": [
    "df.head()"
   ]
  },
  {
   "cell_type": "markdown",
   "metadata": {},
   "source": [
    "# Questions you cannot solve with code\n",
    "\n",
    "* Can we share the data openly, even if minimized? In some cases, only tweet ID's are shared.\n",
    " * general: only share tweet IDs\n",
    "* Can we anonymize public data if we still share the text (or some shape of it)?\n",
    " * no\n",
    "* Are we doing user profiling?\n",
    " * pay attention when focusing on specific users\n"
   ]
  },
  {
   "cell_type": "code",
   "execution_count": null,
   "metadata": {},
   "outputs": [],
   "source": []
  }
 ],
 "metadata": {
  "kernelspec": {
   "display_name": "Python 3",
   "language": "python",
   "name": "python3"
  },
  "language_info": {
   "codemirror_mode": {
    "name": "ipython",
    "version": 3
   },
   "file_extension": ".py",
   "mimetype": "text/x-python",
   "name": "python",
   "nbconvert_exporter": "python",
   "pygments_lexer": "ipython3",
   "version": "3.7.9"
  },
  "toc": {
   "base_numbering": 1,
   "nav_menu": {},
   "number_sections": true,
   "sideBar": true,
   "skip_h1_title": false,
   "title_cell": "Table of Contents",
   "title_sidebar": "Contents",
   "toc_cell": false,
   "toc_position": {},
   "toc_section_display": true,
   "toc_window_display": true
  }
 },
 "nbformat": 4,
 "nbformat_minor": 4
}
