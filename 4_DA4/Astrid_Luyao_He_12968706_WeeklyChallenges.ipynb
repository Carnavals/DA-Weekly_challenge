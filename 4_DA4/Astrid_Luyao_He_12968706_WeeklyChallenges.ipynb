{
 "cells": [
  {
   "cell_type": "markdown",
   "metadata": {},
   "source": [
    "# Challenges for week 4\n",
    "\n",
    "Now that we've seen how to visualise data in Pandas, it's time for you to apply this knowledge. This week has three challenges. Make sure to give it a try and complete all of them. \n",
    "\n",
    "**Some important notes for the challenges:**\n",
    "1. These challenges are a warming up, and help you get ready for class. Make sure to give them a try. If you get an error message, try to troubleshoot it (using Google often helps). If all else fails, go to the next challenge (but make sure to hand it in).\n",
    "2. While we of course like when you get all the answers right, the important thing is to exercise and apply the knowledge. So we will still accept challenges that may not be complete, as long as we see enough effort *for each challenge*. This means that if one of the challenges is not delivered (not started and no attempt shown), we unfortunately will not be able to provide a full grade for that week.\n",
    "3. Delivering the challenge on time on Canvas assignment is critical, as it helps also prepare for the DA live session. Check on Canvas how to hand it in.\n",
    "\n",
    "### Facing issues? \n",
    "\n",
    "We are constantly monitoring the issues on the GitHub general repository (https://github.com/uva-cw-digitalanalytics/2021s2/issues) to help you out. Don't hesitate to log an issue there, explaining well what the problem is, showing the code you are using, and the error message you may be receiving. \n",
    "\n",
    "**Important:** We are only monitoring the repository in weekdays, from 9.30 to 17.00. Issues logged after this time will most likely be answered the next day. This means you should now wait for our response before submitting a challenge :-)"
   ]
  },
  {
   "cell_type": "markdown",
   "metadata": {},
   "source": [
    "## Getting setup for the challenges\n",
    "\n",
    "We will use actual Twitter data for the challenges of this week. To do so, you need:\n",
    "* To download DMI-TCAT data that you may already be collecting for yourself, or from a colleague (if you haven't requested data collection yet). Please use **the same data** that you requested sentiment analysis for\n",
    "* The sentiment analysis results (get them from SurfDrive)\n",
    "* The **retweets** file also available on SurfDrive\n",
    "\n",
    "If you don't have sentiment analysis results, get them from a colleague (in SurfDrive), but then make sure to download also their Twitter data from DMI-TCAT - otherwise the merge won't work.\n",
    "\n",
    "The challenges require you to already have two binary variables for the Twitter data based on the ```text``` column (created for DA3). They should be two **meaningful** categories for your data, and they should have either the value 0 (when the tweet is not of that category) or 1 (when the tweet is of that category). \n",
    "\n",
    "*You can therefore reuse the code you created for the DA3 challenges, and just continue from there. If you don't have not completed DA3, create them in this assignment*.\n",
    "\n",
    "**All the challenges below are with this Twitter data. Make sure to start your challenge by doing the basics of loadinhg and inspecting the data, even if not specified in challenge itself.**\n",
    "\n"
   ]
  },
  {
   "cell_type": "markdown",
   "metadata": {},
   "source": [
    "***"
   ]
  },
  {
   "cell_type": "code",
   "execution_count": 1,
   "metadata": {},
   "outputs": [],
   "source": [
    "import pandas as pd\n",
    "import seaborn as sns\n",
    "import matplotlib.pyplot as plt\n",
    "tweet = pd.read_csv(\"tcat_NuriaVila-20210207-20210208------------fullExport--9654fe3ff4.csv\")\n",
    "sentiment = pd.read_csv(\"NuriaVila_EN_completed.csv\")\n",
    "retweet = pd.read_csv(\"NuriaVila_retweets.csv\")"
   ]
  },
  {
   "cell_type": "markdown",
   "metadata": {},
   "source": [
    "***"
   ]
  },
  {
   "cell_type": "markdown",
   "metadata": {},
   "source": [
    "## Challenge 1\n",
    "\n",
    "Create one dataset that merges the information from the retweets file (that contains how many retweets each tweet that was retweeted received), the sentiment analysis, and the Twitter dataset from DMI-TCAT.\n",
    "\n",
    "*Justify how you have done the merging (in MarkDown), especially for the retweet column. This includes handling missing values, if appropriate.*"
   ]
  },
  {
   "cell_type": "markdown",
   "metadata": {},
   "source": [
    "***"
   ]
  },
  {
   "cell_type": "markdown",
   "metadata": {},
   "source": [
    "In order to merge the three files, I check each dataframe first."
   ]
  },
  {
   "cell_type": "code",
   "execution_count": 2,
   "metadata": {},
   "outputs": [
    {
     "data": {
      "text/plain": [
       "id                               int64\n",
       "time                             int64\n",
       "created_at                      object\n",
       "from_user_name                  object\n",
       "text                            object\n",
       "filter_level                    object\n",
       "possibly_sensitive             float64\n",
       "withheld_copyright             float64\n",
       "withheld_scope                 float64\n",
       "truncated                      float64\n",
       "retweet_count                    int64\n",
       "favorite_count                   int64\n",
       "lang                            object\n",
       "to_user_name                    object\n",
       "in_reply_to_status_id          float64\n",
       "quoted_status_id               float64\n",
       "source                          object\n",
       "location                        object\n",
       "lat                            float64\n",
       "lng                            float64\n",
       "from_user_id                     int64\n",
       "from_user_realname              object\n",
       "from_user_verified               int64\n",
       "from_user_description           object\n",
       "from_user_url                   object\n",
       "from_user_profile_image_url     object\n",
       "from_user_utcoffset            float64\n",
       "from_user_timezone             float64\n",
       "from_user_lang                 float64\n",
       "from_user_tweetcount             int64\n",
       "from_user_followercount          int64\n",
       "from_user_friendcount            int64\n",
       "from_user_favourites_count       int64\n",
       "from_user_listed                 int64\n",
       "from_user_withheld_scope       float64\n",
       "from_user_created_at            object\n",
       "dtype: object"
      ]
     },
     "execution_count": 2,
     "metadata": {},
     "output_type": "execute_result"
    }
   ],
   "source": [
    "tweet.dtypes"
   ]
  },
  {
   "cell_type": "code",
   "execution_count": 3,
   "metadata": {},
   "outputs": [
    {
     "data": {
      "text/plain": [
       "Unnamed: 0     int64\n",
       "id             int64\n",
       "text          object\n",
       "negative       int64\n",
       "positive       int64\n",
       "neutral        int64\n",
       "dtype: object"
      ]
     },
     "execution_count": 3,
     "metadata": {},
     "output_type": "execute_result"
    }
   ],
   "source": [
    "sentiment.dtypes"
   ]
  },
  {
   "cell_type": "code",
   "execution_count": 4,
   "metadata": {},
   "outputs": [
    {
     "data": {
      "text/plain": [
       "Unnamed: 0        int64\n",
       "retweet_id        int64\n",
       "retweets_total    int64\n",
       "dtype: object"
      ]
     },
     "execution_count": 4,
     "metadata": {},
     "output_type": "execute_result"
    }
   ],
   "source": [
    "retweet.dtypes"
   ]
  },
  {
   "cell_type": "code",
   "execution_count": 5,
   "metadata": {},
   "outputs": [
    {
     "data": {
      "text/plain": [
       "(5121, 4002, 7706)"
      ]
     },
     "execution_count": 5,
     "metadata": {},
     "output_type": "execute_result"
    }
   ],
   "source": [
    "len(tweet), len(sentiment), len(retweet)"
   ]
  },
  {
   "cell_type": "markdown",
   "metadata": {},
   "source": [
    "The row number of these files are not the same, because:\n",
    "* when requiring the sentiment analysis, I just chose the English tweets in the **tweet** dataframe, so **sentiment** is shorter than **tweet**\n",
    "* the unit of analysis of **retweet** is the post, not the user.  \n",
    "\n",
    "First, I filter the English tweets, and merge **tweet** and **sentiment**, as their units of analysis are the same."
   ]
  },
  {
   "cell_type": "code",
   "execution_count": 6,
   "metadata": {},
   "outputs": [
    {
     "data": {
      "text/plain": [
       "4002"
      ]
     },
     "execution_count": 6,
     "metadata": {},
     "output_type": "execute_result"
    }
   ],
   "source": [
    "# filter English tweets\n",
    "tweet = tweet[tweet['lang'] == 'en']\n",
    "len(tweet)"
   ]
  },
  {
   "cell_type": "code",
   "execution_count": 7,
   "metadata": {},
   "outputs": [],
   "source": [
    "# merge tweet and sentiment\n",
    "twitter = tweet.merge(sentiment, on = ['id', 'text'])"
   ]
  },
  {
   "cell_type": "code",
   "execution_count": 8,
   "metadata": {},
   "outputs": [
    {
     "data": {
      "text/plain": [
       "id                               int64\n",
       "time                             int64\n",
       "created_at                      object\n",
       "from_user_name                  object\n",
       "text                            object\n",
       "filter_level                    object\n",
       "possibly_sensitive             float64\n",
       "withheld_copyright             float64\n",
       "withheld_scope                 float64\n",
       "truncated                      float64\n",
       "retweet_count                    int64\n",
       "favorite_count                   int64\n",
       "lang                            object\n",
       "to_user_name                    object\n",
       "in_reply_to_status_id          float64\n",
       "quoted_status_id               float64\n",
       "source                          object\n",
       "location                        object\n",
       "lat                            float64\n",
       "lng                            float64\n",
       "from_user_id                     int64\n",
       "from_user_realname              object\n",
       "from_user_verified               int64\n",
       "from_user_description           object\n",
       "from_user_url                   object\n",
       "from_user_profile_image_url     object\n",
       "from_user_utcoffset            float64\n",
       "from_user_timezone             float64\n",
       "from_user_lang                 float64\n",
       "from_user_tweetcount             int64\n",
       "from_user_followercount          int64\n",
       "from_user_friendcount            int64\n",
       "from_user_favourites_count       int64\n",
       "from_user_listed                 int64\n",
       "from_user_withheld_scope       float64\n",
       "from_user_created_at            object\n",
       "Unnamed: 0                       int64\n",
       "negative                         int64\n",
       "positive                         int64\n",
       "neutral                          int64\n",
       "dtype: object"
      ]
     },
     "execution_count": 8,
     "metadata": {},
     "output_type": "execute_result"
    }
   ],
   "source": [
    "twitter.dtypes"
   ]
  },
  {
   "cell_type": "code",
   "execution_count": 9,
   "metadata": {},
   "outputs": [
    {
     "data": {
      "text/plain": [
       "4002"
      ]
     },
     "execution_count": 9,
     "metadata": {},
     "output_type": "execute_result"
    }
   ],
   "source": [
    "len(twitter)"
   ]
  },
  {
   "cell_type": "markdown",
   "metadata": {},
   "source": [
    "The length of **twitter** is the same with that of **tweet** and **sentiment**. Then I merge **retweet** with them.    "
   ]
  },
  {
   "cell_type": "code",
   "execution_count": 10,
   "metadata": {
    "scrolled": true
   },
   "outputs": [
    {
     "data": {
      "text/plain": [
       "count    7706.000000\n",
       "mean        4.009603\n",
       "std        13.154033\n",
       "min         1.000000\n",
       "25%         1.000000\n",
       "50%         1.000000\n",
       "75%         3.000000\n",
       "max       437.000000\n",
       "Name: retweets_total, dtype: float64"
      ]
     },
     "execution_count": 10,
     "metadata": {},
     "output_type": "execute_result"
    }
   ],
   "source": [
    "# check the minimum of retweet number\n",
    "retweet['retweets_total'].describe()"
   ]
  },
  {
   "cell_type": "markdown",
   "metadata": {},
   "source": [
    "From the result above I see that there are 4002 tweets have the result of sentiment analysis, while 7706 tweets have the retweet number (and it just collect the retweet number for tweets that have **at least one repost**)."
   ]
  },
  {
   "cell_type": "code",
   "execution_count": 11,
   "metadata": {},
   "outputs": [
    {
     "data": {
      "text/html": [
       "<div>\n",
       "<style scoped>\n",
       "    .dataframe tbody tr th:only-of-type {\n",
       "        vertical-align: middle;\n",
       "    }\n",
       "\n",
       "    .dataframe tbody tr th {\n",
       "        vertical-align: top;\n",
       "    }\n",
       "\n",
       "    .dataframe thead th {\n",
       "        text-align: right;\n",
       "    }\n",
       "</style>\n",
       "<table border=\"1\" class=\"dataframe\">\n",
       "  <thead>\n",
       "    <tr style=\"text-align: right;\">\n",
       "      <th></th>\n",
       "      <th>id</th>\n",
       "      <th>retweet_id</th>\n",
       "    </tr>\n",
       "  </thead>\n",
       "  <tbody>\n",
       "    <tr>\n",
       "      <th>0</th>\n",
       "      <td>1.358446e+18</td>\n",
       "      <td>1.358446e+18</td>\n",
       "    </tr>\n",
       "    <tr>\n",
       "      <th>1</th>\n",
       "      <td>1.358446e+18</td>\n",
       "      <td>NaN</td>\n",
       "    </tr>\n",
       "    <tr>\n",
       "      <th>2</th>\n",
       "      <td>1.358446e+18</td>\n",
       "      <td>NaN</td>\n",
       "    </tr>\n",
       "    <tr>\n",
       "      <th>3</th>\n",
       "      <td>1.358446e+18</td>\n",
       "      <td>NaN</td>\n",
       "    </tr>\n",
       "    <tr>\n",
       "      <th>4</th>\n",
       "      <td>1.358446e+18</td>\n",
       "      <td>NaN</td>\n",
       "    </tr>\n",
       "    <tr>\n",
       "      <th>...</th>\n",
       "      <td>...</td>\n",
       "      <td>...</td>\n",
       "    </tr>\n",
       "    <tr>\n",
       "      <th>11392</th>\n",
       "      <td>NaN</td>\n",
       "      <td>9.681663e+17</td>\n",
       "    </tr>\n",
       "    <tr>\n",
       "      <th>11393</th>\n",
       "      <td>NaN</td>\n",
       "      <td>9.767193e+17</td>\n",
       "    </tr>\n",
       "    <tr>\n",
       "      <th>11394</th>\n",
       "      <td>NaN</td>\n",
       "      <td>9.815243e+17</td>\n",
       "    </tr>\n",
       "    <tr>\n",
       "      <th>11395</th>\n",
       "      <td>NaN</td>\n",
       "      <td>9.841255e+17</td>\n",
       "    </tr>\n",
       "    <tr>\n",
       "      <th>11396</th>\n",
       "      <td>NaN</td>\n",
       "      <td>9.969954e+17</td>\n",
       "    </tr>\n",
       "  </tbody>\n",
       "</table>\n",
       "<p>11397 rows × 2 columns</p>\n",
       "</div>"
      ],
      "text/plain": [
       "                 id    retweet_id\n",
       "0      1.358446e+18  1.358446e+18\n",
       "1      1.358446e+18           NaN\n",
       "2      1.358446e+18           NaN\n",
       "3      1.358446e+18           NaN\n",
       "4      1.358446e+18           NaN\n",
       "...             ...           ...\n",
       "11392           NaN  9.681663e+17\n",
       "11393           NaN  9.767193e+17\n",
       "11394           NaN  9.815243e+17\n",
       "11395           NaN  9.841255e+17\n",
       "11396           NaN  9.969954e+17\n",
       "\n",
       "[11397 rows x 2 columns]"
      ]
     },
     "execution_count": 11,
     "metadata": {},
     "output_type": "execute_result"
    }
   ],
   "source": [
    "# check the condition of the posts in tweet and the posts in retweet\n",
    "user = tweet[['id']].merge(retweet[['retweet_id']], how = 'outer', left_on = 'id', right_on = 'retweet_id')\n",
    "user"
   ]
  },
  {
   "cell_type": "markdown",
   "metadata": {},
   "source": [
    "From the table above, I find that the possible reasons for 7706 retweets may include:  \n",
    "* one user may send more than one post in this Twitter dataset\n",
    "* there were new posts be retweeted after **tweet** was collected  \n",
    "In the later exercise, I want to study the relationship between (perhaps) sentiment and retweets, so I want to keep all the information in **tweet**, and left-join **retweet**. Also, after the merge, I need to change the missing values to 0 in the ```retweets_total``` column, as the missing value indicates that this post has no retweet."
   ]
  },
  {
   "cell_type": "code",
   "execution_count": 12,
   "metadata": {},
   "outputs": [],
   "source": [
    "# merge retweet\n",
    "twitter = twitter.merge(retweet, how = 'left', left_on = 'id', right_on = 'retweet_id')\n",
    "\n",
    "# change the missing values to 0\n",
    "twitter[['retweets_total']] = twitter[['retweets_total']].fillna(0)\n",
    "\n",
    "# delete 'retweet_id'\n",
    "twitter = twitter.drop(labels = 'retweet_id', axis = 1)\n",
    "\n",
    "# drop unrelated columns\n",
    "twitter = twitter.drop(labels = ['Unnamed: 0_x', 'Unnamed: 0_y'], axis = 1)"
   ]
  },
  {
   "cell_type": "markdown",
   "metadata": {},
   "source": [
    "The three tables are merged."
   ]
  },
  {
   "cell_type": "markdown",
   "metadata": {},
   "source": [
    "***"
   ]
  },
  {
   "cell_type": "markdown",
   "metadata": {},
   "source": [
    "## Challenge 2\n",
    "\n",
    "Propose and visualise the answer for a RQ that has the **number of retweets** or **sentiment** as the dependent variable, and one of the categories you created as the independent variable. Justify your choices in the answer.\n",
    "\n",
    "In this answer, you need to:\n",
    "* Show descriptive statistics for the IV and the DV\n",
    "* Create one univariate visualisation for the IV\n",
    "* Create one univariate visualisation for the DV\n",
    "* Create one bivariate visualisation with the IV and DV in the same chart\n",
    "* Show the descriptives of the DV grouped by the IV\n",
    "* Provide a brief summary (in MarkDown) with your interpretation of the results"
   ]
  },
  {
   "cell_type": "markdown",
   "metadata": {},
   "source": [
    "***"
   ]
  },
  {
   "cell_type": "markdown",
   "metadata": {},
   "source": [
    "My **RQ** is: *To what extent does the presence of external link in the Twitter dataset of ebook relates to their number of retweets?*  \n",
    "I assume that tweets with external links would have higher number of retweets on general, because they would be more informative than the tweets that do not contain external links, and thus can attract more reposts.\n",
    "* The **IV** in this RQ is, as I created last week, the tweets that with or without external links.\n",
    "* The **DV** in this RQ is the number of retweets.\n",
    "* The **unit of analysus** is the Twitter posts in this dataset."
   ]
  },
  {
   "cell_type": "markdown",
   "metadata": {},
   "source": [
    "### IV: Presence of external link"
   ]
  },
  {
   "cell_type": "markdown",
   "metadata": {},
   "source": [
    "Similar with last week, I create a varaible that can tell me whether the tweet contains \"http\" or not (so whether they have external links in the text or not)."
   ]
  },
  {
   "cell_type": "code",
   "execution_count": 13,
   "metadata": {},
   "outputs": [
    {
     "data": {
      "text/plain": [
       "1    2849\n",
       "0    1153\n",
       "Name: ext_link, dtype: int64"
      ]
     },
     "execution_count": 13,
     "metadata": {},
     "output_type": "execute_result"
    }
   ],
   "source": [
    "# search for the twitter texts that contain \"http\". \n",
    "twitter['ext_link'] = twitter['text'].str.contains('http').astype(int)\n",
    "\n",
    "# get descriptive statistics for external links\n",
    "twitter['ext_link'].value_counts()"
   ]
  },
  {
   "cell_type": "markdown",
   "metadata": {},
   "source": [
    "Before start doing other things, I choose only the columns that I will use in this exercise for protecting the privacy of the information in **twitter**."
   ]
  },
  {
   "cell_type": "code",
   "execution_count": 14,
   "metadata": {},
   "outputs": [],
   "source": [
    "# select the related variables\n",
    "twitter = twitter[['id', 'retweets_total', 'ext_link']]"
   ]
  },
  {
   "cell_type": "code",
   "execution_count": 15,
   "metadata": {},
   "outputs": [
    {
     "data": {
      "text/plain": [
       "<AxesSubplot:xlabel='ext_link', ylabel='count'>"
      ]
     },
     "execution_count": 15,
     "metadata": {},
     "output_type": "execute_result"
    },
    {
     "data": {
      "image/png": "[encoded data removed]",
      "text/plain": [
       "<Figure size 432x288 with 1 Axes>"
      ]
     },
     "metadata": {
      "needs_background": "light"
     },
     "output_type": "display_data"
    }
   ],
   "source": [
    "# visualize IV\n",
    "sns.countplot(x = 'ext_link', data = twitter)"
   ]
  },
  {
   "cell_type": "markdown",
   "metadata": {},
   "source": [
    "In this Twitter dataset, there are more posts contain external links (2849 of which contain external links, and 1153 of which do not contain external links). The number of posts with external links are more than two times than that of posts without links."
   ]
  },
  {
   "cell_type": "markdown",
   "metadata": {},
   "source": [
    "### DV: Number of retweets"
   ]
  },
  {
   "cell_type": "code",
   "execution_count": 16,
   "metadata": {},
   "outputs": [
    {
     "data": {
      "text/plain": [
       "0.0      3691\n",
       "1.0       145\n",
       "2.0        59\n",
       "3.0        37\n",
       "4.0        15\n",
       "5.0        11\n",
       "6.0         7\n",
       "8.0         7\n",
       "12.0        4\n",
       "7.0         3\n",
       "9.0         3\n",
       "18.0        2\n",
       "15.0        2\n",
       "11.0        2\n",
       "13.0        2\n",
       "10.0        2\n",
       "40.0        1\n",
       "23.0        1\n",
       "25.0        1\n",
       "16.0        1\n",
       "135.0       1\n",
       "53.0        1\n",
       "29.0        1\n",
       "49.0        1\n",
       "34.0        1\n",
       "20.0        1\n",
       "Name: retweets_total, dtype: int64"
      ]
     },
     "execution_count": 16,
     "metadata": {},
     "output_type": "execute_result"
    }
   ],
   "source": [
    "# get descriptive statistics for number of retweets\n",
    "twitter['retweets_total'].value_counts()"
   ]
  },
  {
   "cell_type": "markdown",
   "metadata": {},
   "source": [
    "I want to use countplot to visualize retweet number. As there are many categories in this variable, I put ```retweets_total``` on y-axis."
   ]
  },
  {
   "cell_type": "code",
   "execution_count": 17,
   "metadata": {},
   "outputs": [
    {
     "data": {
      "text/plain": [
       "<AxesSubplot:xlabel='count', ylabel='retweets_total'>"
      ]
     },
     "execution_count": 17,
     "metadata": {},
     "output_type": "execute_result"
    },
    {
     "data": {
      "image/png": "[encoded data removed]",
      "text/plain": [
       "<Figure size 432x288 with 1 Axes>"
      ]
     },
     "metadata": {
      "needs_background": "light"
     },
     "output_type": "display_data"
    }
   ],
   "source": [
    "# visualize DV\n",
    "sns.countplot(y = twitter['retweets_total'])"
   ]
  },
  {
   "cell_type": "markdown",
   "metadata": {},
   "source": [
    "The majority of the tweets in this dataset have no reposts. The largest number of retweet falls on one post that has 135 retweets."
   ]
  },
  {
   "cell_type": "markdown",
   "metadata": {},
   "source": [
    "### Bivariate visualisation with IV and DV"
   ]
  },
  {
   "cell_type": "code",
   "execution_count": 18,
   "metadata": {},
   "outputs": [
    {
     "data": {
      "text/html": [
       "<div>\n",
       "<style scoped>\n",
       "    .dataframe tbody tr th:only-of-type {\n",
       "        vertical-align: middle;\n",
       "    }\n",
       "\n",
       "    .dataframe tbody tr th {\n",
       "        vertical-align: top;\n",
       "    }\n",
       "\n",
       "    .dataframe thead th {\n",
       "        text-align: right;\n",
       "    }\n",
       "</style>\n",
       "<table border=\"1\" class=\"dataframe\">\n",
       "  <thead>\n",
       "    <tr style=\"text-align: right;\">\n",
       "      <th></th>\n",
       "      <th>retweets_total</th>\n",
       "    </tr>\n",
       "    <tr>\n",
       "      <th>ext_link</th>\n",
       "      <th></th>\n",
       "    </tr>\n",
       "  </thead>\n",
       "  <tbody>\n",
       "    <tr>\n",
       "      <th>0</th>\n",
       "      <td>0.189939</td>\n",
       "    </tr>\n",
       "    <tr>\n",
       "      <th>1</th>\n",
       "      <td>0.358722</td>\n",
       "    </tr>\n",
       "  </tbody>\n",
       "</table>\n",
       "</div>"
      ],
      "text/plain": [
       "          retweets_total\n",
       "ext_link                \n",
       "0               0.189939\n",
       "1               0.358722"
      ]
     },
     "execution_count": 18,
     "metadata": {},
     "output_type": "execute_result"
    }
   ],
   "source": [
    "# get descriptive statistics for DV group by IV\n",
    "twitter.groupby('ext_link').agg({'retweets_total' : 'mean'})"
   ]
  },
  {
   "cell_type": "code",
   "execution_count": 19,
   "metadata": {},
   "outputs": [
    {
     "data": {
      "text/plain": [
       "<AxesSubplot:xlabel='ext_link', ylabel='retweets_total'>"
      ]
     },
     "execution_count": 19,
     "metadata": {},
     "output_type": "execute_result"
    },
    {
     "data": {
      "image/png": "[encoded data removed]",
      "text/plain": [
       "<Figure size 432x288 with 1 Axes>"
      ]
     },
     "metadata": {
      "needs_background": "light"
     },
     "output_type": "display_data"
    }
   ],
   "source": [
    "# visualize IV and DV\n",
    "sns.pointplot(x = 'ext_link',\n",
    "              y = 'retweets_total',\n",
    "              data = twitter)"
   ]
  },
  {
   "cell_type": "markdown",
   "metadata": {},
   "source": [
    "From the descriptive statistics and the plot I find that: \n",
    "* Posts with external links has, on general, slightly higher number of retweets than posts without external links. \n",
    "* The mean retweet number for posts without external links is 0.19, and that for posts with external links is 0.36. \n",
    "* The confidence intervals of these two category show that the difference of retweet number between posts with and without external links is not statistically significant."
   ]
  },
  {
   "cell_type": "markdown",
   "metadata": {},
   "source": [
    "***"
   ]
  },
  {
   "cell_type": "markdown",
   "metadata": {},
   "source": [
    "## Challenge 3 (Ethical AI)\n",
    "\n",
    "We now take a look at the German credit dataset again (in the Ethical AI notebook). Can you think of another feature (apart from age) that might lead to potential discrimination? \n",
    "\n",
    "In this answer, you need to:\n",
    "\n",
    "* Identify one feature (apart from age) that can be problematic in the German credit dataset. Justify your choice in MarkDown.\n",
    "* Create a visualization to show whether the outcome is imbalanced between privileged and underprivileged group.\n",
    "* Calculate the disparate impact metric."
   ]
  },
  {
   "cell_type": "markdown",
   "metadata": {},
   "source": [
    "***"
   ]
  },
  {
   "cell_type": "code",
   "execution_count": 20,
   "metadata": {},
   "outputs": [
    {
     "data": {
      "text/html": [
       "<div>\n",
       "<style scoped>\n",
       "    .dataframe tbody tr th:only-of-type {\n",
       "        vertical-align: middle;\n",
       "    }\n",
       "\n",
       "    .dataframe tbody tr th {\n",
       "        vertical-align: top;\n",
       "    }\n",
       "\n",
       "    .dataframe thead th {\n",
       "        text-align: right;\n",
       "    }\n",
       "</style>\n",
       "<table border=\"1\" class=\"dataframe\">\n",
       "  <thead>\n",
       "    <tr style=\"text-align: right;\">\n",
       "      <th></th>\n",
       "      <th>Age</th>\n",
       "      <th>Sex</th>\n",
       "      <th>Job</th>\n",
       "      <th>Housing</th>\n",
       "      <th>Saving accounts</th>\n",
       "      <th>Checking account</th>\n",
       "      <th>Credit amount</th>\n",
       "      <th>Duration</th>\n",
       "      <th>Purpose</th>\n",
       "      <th>Foreign worker</th>\n",
       "      <th>Credit repaid</th>\n",
       "    </tr>\n",
       "  </thead>\n",
       "  <tbody>\n",
       "    <tr>\n",
       "      <th>0</th>\n",
       "      <td>67</td>\n",
       "      <td>male</td>\n",
       "      <td>2</td>\n",
       "      <td>own</td>\n",
       "      <td>NaN</td>\n",
       "      <td>little</td>\n",
       "      <td>1169</td>\n",
       "      <td>6</td>\n",
       "      <td>radio/TV</td>\n",
       "      <td>yes</td>\n",
       "      <td>yes</td>\n",
       "    </tr>\n",
       "    <tr>\n",
       "      <th>1</th>\n",
       "      <td>22</td>\n",
       "      <td>female</td>\n",
       "      <td>2</td>\n",
       "      <td>own</td>\n",
       "      <td>little</td>\n",
       "      <td>moderate</td>\n",
       "      <td>5951</td>\n",
       "      <td>48</td>\n",
       "      <td>radio/TV</td>\n",
       "      <td>yes</td>\n",
       "      <td>no</td>\n",
       "    </tr>\n",
       "    <tr>\n",
       "      <th>2</th>\n",
       "      <td>49</td>\n",
       "      <td>male</td>\n",
       "      <td>1</td>\n",
       "      <td>own</td>\n",
       "      <td>little</td>\n",
       "      <td>NaN</td>\n",
       "      <td>2096</td>\n",
       "      <td>12</td>\n",
       "      <td>education</td>\n",
       "      <td>yes</td>\n",
       "      <td>yes</td>\n",
       "    </tr>\n",
       "    <tr>\n",
       "      <th>3</th>\n",
       "      <td>45</td>\n",
       "      <td>male</td>\n",
       "      <td>2</td>\n",
       "      <td>free</td>\n",
       "      <td>little</td>\n",
       "      <td>little</td>\n",
       "      <td>7882</td>\n",
       "      <td>42</td>\n",
       "      <td>furniture/equipment</td>\n",
       "      <td>yes</td>\n",
       "      <td>yes</td>\n",
       "    </tr>\n",
       "    <tr>\n",
       "      <th>4</th>\n",
       "      <td>53</td>\n",
       "      <td>male</td>\n",
       "      <td>2</td>\n",
       "      <td>free</td>\n",
       "      <td>little</td>\n",
       "      <td>little</td>\n",
       "      <td>4870</td>\n",
       "      <td>24</td>\n",
       "      <td>car</td>\n",
       "      <td>yes</td>\n",
       "      <td>no</td>\n",
       "    </tr>\n",
       "    <tr>\n",
       "      <th>...</th>\n",
       "      <td>...</td>\n",
       "      <td>...</td>\n",
       "      <td>...</td>\n",
       "      <td>...</td>\n",
       "      <td>...</td>\n",
       "      <td>...</td>\n",
       "      <td>...</td>\n",
       "      <td>...</td>\n",
       "      <td>...</td>\n",
       "      <td>...</td>\n",
       "      <td>...</td>\n",
       "    </tr>\n",
       "    <tr>\n",
       "      <th>995</th>\n",
       "      <td>31</td>\n",
       "      <td>female</td>\n",
       "      <td>1</td>\n",
       "      <td>own</td>\n",
       "      <td>little</td>\n",
       "      <td>NaN</td>\n",
       "      <td>1736</td>\n",
       "      <td>12</td>\n",
       "      <td>furniture/equipment</td>\n",
       "      <td>yes</td>\n",
       "      <td>yes</td>\n",
       "    </tr>\n",
       "    <tr>\n",
       "      <th>996</th>\n",
       "      <td>40</td>\n",
       "      <td>male</td>\n",
       "      <td>3</td>\n",
       "      <td>own</td>\n",
       "      <td>little</td>\n",
       "      <td>little</td>\n",
       "      <td>3857</td>\n",
       "      <td>30</td>\n",
       "      <td>car</td>\n",
       "      <td>yes</td>\n",
       "      <td>yes</td>\n",
       "    </tr>\n",
       "    <tr>\n",
       "      <th>997</th>\n",
       "      <td>38</td>\n",
       "      <td>male</td>\n",
       "      <td>2</td>\n",
       "      <td>own</td>\n",
       "      <td>little</td>\n",
       "      <td>NaN</td>\n",
       "      <td>804</td>\n",
       "      <td>12</td>\n",
       "      <td>radio/TV</td>\n",
       "      <td>yes</td>\n",
       "      <td>yes</td>\n",
       "    </tr>\n",
       "    <tr>\n",
       "      <th>998</th>\n",
       "      <td>23</td>\n",
       "      <td>male</td>\n",
       "      <td>2</td>\n",
       "      <td>free</td>\n",
       "      <td>little</td>\n",
       "      <td>little</td>\n",
       "      <td>1845</td>\n",
       "      <td>45</td>\n",
       "      <td>radio/TV</td>\n",
       "      <td>yes</td>\n",
       "      <td>no</td>\n",
       "    </tr>\n",
       "    <tr>\n",
       "      <th>999</th>\n",
       "      <td>27</td>\n",
       "      <td>male</td>\n",
       "      <td>2</td>\n",
       "      <td>own</td>\n",
       "      <td>moderate</td>\n",
       "      <td>moderate</td>\n",
       "      <td>4576</td>\n",
       "      <td>45</td>\n",
       "      <td>car</td>\n",
       "      <td>yes</td>\n",
       "      <td>yes</td>\n",
       "    </tr>\n",
       "  </tbody>\n",
       "</table>\n",
       "<p>1000 rows × 11 columns</p>\n",
       "</div>"
      ],
      "text/plain": [
       "     Age     Sex  Job Housing Saving accounts Checking account  Credit amount  \\\n",
       "0     67    male    2     own             NaN           little           1169   \n",
       "1     22  female    2     own          little         moderate           5951   \n",
       "2     49    male    1     own          little              NaN           2096   \n",
       "3     45    male    2    free          little           little           7882   \n",
       "4     53    male    2    free          little           little           4870   \n",
       "..   ...     ...  ...     ...             ...              ...            ...   \n",
       "995   31  female    1     own          little              NaN           1736   \n",
       "996   40    male    3     own          little           little           3857   \n",
       "997   38    male    2     own          little              NaN            804   \n",
       "998   23    male    2    free          little           little           1845   \n",
       "999   27    male    2     own        moderate         moderate           4576   \n",
       "\n",
       "     Duration              Purpose Foreign worker Credit repaid  \n",
       "0           6             radio/TV            yes           yes  \n",
       "1          48             radio/TV            yes            no  \n",
       "2          12            education            yes           yes  \n",
       "3          42  furniture/equipment            yes           yes  \n",
       "4          24                  car            yes            no  \n",
       "..        ...                  ...            ...           ...  \n",
       "995        12  furniture/equipment            yes           yes  \n",
       "996        30                  car            yes           yes  \n",
       "997        12             radio/TV            yes           yes  \n",
       "998        45             radio/TV            yes            no  \n",
       "999        45                  car            yes           yes  \n",
       "\n",
       "[1000 rows x 11 columns]"
      ]
     },
     "execution_count": 20,
     "metadata": {},
     "output_type": "execute_result"
    }
   ],
   "source": [
    "credit = pd.read_csv('german_credit_data.csv')\n",
    "credit"
   ]
  },
  {
   "cell_type": "markdown",
   "metadata": {},
   "source": [
    "For the German credit dataset, the condition of each applicant's **checking account** may influence their condition of repaid credit, because the money that each applicant can take from at any time would, to some extend, reflects their financial situation.  \n",
    "I first check the categories of ```Checking account```, then decide the underprivileged group."
   ]
  },
  {
   "cell_type": "code",
   "execution_count": 21,
   "metadata": {},
   "outputs": [
    {
     "data": {
      "text/plain": [
       "little      274\n",
       "moderate    269\n",
       "rich         63\n",
       "Name: Checking account, dtype: int64"
      ]
     },
     "execution_count": 21,
     "metadata": {},
     "output_type": "execute_result"
    }
   ],
   "source": [
    "# check the categories in \"Checking account\"\n",
    "credit['Checking account'].value_counts()"
   ]
  },
  {
   "cell_type": "markdown",
   "metadata": {},
   "source": [
    "In this exercise, I define applicants with ```little``` money in their checking accounts as an underprivileged group."
   ]
  },
  {
   "cell_type": "code",
   "execution_count": 22,
   "metadata": {},
   "outputs": [],
   "source": [
    "# recategorize \"Checking account\" to privileged group and underprivileged group\n",
    "def apply_checking(checking):\n",
    "    if checking == 'little':\n",
    "        return 1\n",
    "    else:\n",
    "        return 0\n",
    "\n",
    "credit['checking'] = credit['Checking account'].apply(apply_checking)"
   ]
  },
  {
   "cell_type": "code",
   "execution_count": 23,
   "metadata": {},
   "outputs": [],
   "source": [
    "# recategorize credit repaid condition\n",
    "def apply_credit(credit):\n",
    "    if credit == \"yes\":\n",
    "        return 1\n",
    "    else:\n",
    "        return 0\n",
    "\n",
    "credit['credit'] = credit['Credit repaid'].apply(apply_credit)"
   ]
  },
  {
   "cell_type": "code",
   "execution_count": 24,
   "metadata": {},
   "outputs": [
    {
     "data": {
      "text/plain": [
       "<AxesSubplot:xlabel='checking', ylabel='credit'>"
      ]
     },
     "execution_count": 24,
     "metadata": {},
     "output_type": "execute_result"
    },
    {
     "data": {
      "image/png": "[encoded data removed]",
      "text/plain": [
       "<Figure size 432x288 with 1 Axes>"
      ]
     },
     "metadata": {
      "needs_background": "light"
     },
     "output_type": "display_data"
    }
   ],
   "source": [
    "# visualize the credit repaid condition of the privileged and underprivileged group\n",
    "sns.barplot(x = 'checking', y = 'credit', data = credit)"
   ]
  },
  {
   "cell_type": "code",
   "execution_count": 25,
   "metadata": {},
   "outputs": [
    {
     "data": {
      "text/plain": [
       "checking\n",
       "0    0.772727\n",
       "1    0.507299\n",
       "Name: credit, dtype: float64"
      ]
     },
     "execution_count": 25,
     "metadata": {},
     "output_type": "execute_result"
    }
   ],
   "source": [
    "# get the mean for the groups\n",
    "credit.groupby('checking').mean()['credit']"
   ]
  },
  {
   "cell_type": "markdown",
   "metadata": {},
   "source": [
    "From the plot and the mean I discover that the applicants in the underprivileged group (```checking``` = 1) are less likely to repay the credit than the applicants in the privileged group."
   ]
  },
  {
   "cell_type": "code",
   "execution_count": 26,
   "metadata": {},
   "outputs": [
    {
     "data": {
      "text/plain": [
       "0.65650493774152"
      ]
     },
     "execution_count": 26,
     "metadata": {},
     "output_type": "execute_result"
    }
   ],
   "source": [
    "# calculate disparate impact metric\n",
    "underprivileged = credit[credit['checking'] == 1]['credit'].mean()\n",
    "privileged = credit[credit['checking'] == 0]['credit'].mean()\n",
    "disparate_impact = underprivileged / privileged\n",
    "disparate_impact"
   ]
  },
  {
   "cell_type": "markdown",
   "metadata": {},
   "source": [
    "The result of the metric shows that there is a higher benefit for the privileged group. Therefore, this dataframe can lead to potential discriminations against **the applicants who have little money in their checking account**."
   ]
  },
  {
   "cell_type": "markdown",
   "metadata": {},
   "source": [
    "***"
   ]
  },
  {
   "cell_type": "markdown",
   "metadata": {},
   "source": [
    "**Finally**, imbalanced datasets are potentially problematic not only because of ethical concerns. Other aspects of imbalance can be of concern too.\n",
    "\n",
    "For example, dataset with imbalanced outcome can impact the performance when building prediction models. Say we want to predict which tweet is popular (defined as tweets with number of retweets > 100). If we want to build a prediction model based on a dataset with only 0.1% tweets as popular, you may not be able to find a good way to separate popular and unpopular tweets, simply because there are not enough examples to generalize.\n",
    "\n",
    "Do you observe any imbalance in your Twitter dataset? You only need to describe in MarkDown."
   ]
  },
  {
   "cell_type": "markdown",
   "metadata": {},
   "source": [
    "***"
   ]
  },
  {
   "cell_type": "markdown",
   "metadata": {},
   "source": [
    "I discover that for the Twitter dataset I use in this exercise, the posts that are sent by unvarified accounts and that sent by varified accounts are very imbalanced."
   ]
  },
  {
   "cell_type": "code",
   "execution_count": 27,
   "metadata": {},
   "outputs": [
    {
     "data": {
      "text/plain": [
       "0    3921\n",
       "1      81\n",
       "Name: from_user_verified, dtype: int64"
      ]
     },
     "execution_count": 27,
     "metadata": {},
     "output_type": "execute_result"
    }
   ],
   "source": [
    "tweet['from_user_verified'].value_counts()"
   ]
  },
  {
   "cell_type": "markdown",
   "metadata": {},
   "source": [
    "If I want to study the relationship between the posts sent by verified/unverified accounts and the retweet number, there are not enough data for me to do so, because in this Twitter dataset, there are only about 2% posts were sent by verified accounts."
   ]
  }
 ],
 "metadata": {
  "kernelspec": {
   "display_name": "Python 3",
   "language": "python",
   "name": "python3"
  },
  "language_info": {
   "codemirror_mode": {
    "name": "ipython",
    "version": 3
   },
   "file_extension": ".py",
   "mimetype": "text/x-python",
   "name": "python",
   "nbconvert_exporter": "python",
   "pygments_lexer": "ipython3",
   "version": "3.7.9"
  },
  "toc": {
   "base_numbering": 1,
   "nav_menu": {},
   "number_sections": true,
   "sideBar": true,
   "skip_h1_title": false,
   "title_cell": "Table of Contents",
   "title_sidebar": "Contents",
   "toc_cell": false,
   "toc_position": {},
   "toc_section_display": true,
   "toc_window_display": true
  }
 },
 "nbformat": 4,
 "nbformat_minor": 4
}
