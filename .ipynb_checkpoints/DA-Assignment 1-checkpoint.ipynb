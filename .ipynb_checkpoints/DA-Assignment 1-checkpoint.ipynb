{
 "cells": [
  {
   "cell_type": "markdown",
   "id": "racial-netscape",
   "metadata": {},
   "source": [
    "## Introduction"
   ]
  },
  {
   "cell_type": "code",
   "execution_count": null,
   "id": "binding-isaac",
   "metadata": {},
   "outputs": [],
   "source": []
  },
  {
   "cell_type": "markdown",
   "id": "brilliant-playback",
   "metadata": {},
   "source": [
    "## Hypothesis"
   ]
  },
  {
   "cell_type": "code",
   "execution_count": null,
   "id": "noble-force",
   "metadata": {},
   "outputs": [],
   "source": []
  },
  {
   "cell_type": "markdown",
   "id": "comfortable-friday",
   "metadata": {},
   "source": [
    "## Data Gathering"
   ]
  },
  {
   "cell_type": "code",
   "execution_count": null,
   "id": "neutral-demonstration",
   "metadata": {},
   "outputs": [],
   "source": []
  },
  {
   "cell_type": "markdown",
   "id": "magnetic-seeking",
   "metadata": {},
   "source": [
    "## Data Loading"
   ]
  },
  {
   "cell_type": "code",
   "execution_count": 1,
   "id": "working-burner",
   "metadata": {},
   "outputs": [],
   "source": [
    "import numpy as np\n",
    "import pandas as pd\n",
    "import matplotlib.pyplot as plt\n",
    "%matplotlib inline\n",
    "import seaborn as sns\n",
    "from sklearn.linear_model import LogisticRegression, LinearRegression\n",
    "import statsmodels.api as sm\n",
    "import lime\n",
    "from lime import lime_tabular"
   ]
  },
  {
   "cell_type": "code",
   "execution_count": 2,
   "id": "wicked-fruit",
   "metadata": {},
   "outputs": [],
   "source": [
    "users = pd.read_csv('AstridHe_users.csv')"
   ]
  },
  {
   "cell_type": "code",
   "execution_count": null,
   "id": "loved-station",
   "metadata": {},
   "outputs": [],
   "source": []
  },
  {
   "cell_type": "markdown",
   "id": "declared-demonstration",
   "metadata": {},
   "source": [
    "## Data Cleaning"
   ]
  },
  {
   "cell_type": "code",
   "execution_count": 3,
   "id": "statewide-pocket",
   "metadata": {},
   "outputs": [
    {
     "data": {
      "text/html": [
       "<div>\n",
       "<style scoped>\n",
       "    .dataframe tbody tr th:only-of-type {\n",
       "        vertical-align: middle;\n",
       "    }\n",
       "\n",
       "    .dataframe tbody tr th {\n",
       "        vertical-align: top;\n",
       "    }\n",
       "\n",
       "    .dataframe thead th {\n",
       "        text-align: right;\n",
       "    }\n",
       "</style>\n",
       "<table border=\"1\" class=\"dataframe\">\n",
       "  <thead>\n",
       "    <tr style=\"text-align: right;\">\n",
       "      <th></th>\n",
       "      <th>Unnamed: 0</th>\n",
       "      <th>user_id</th>\n",
       "      <th>gender</th>\n",
       "      <th>age</th>\n",
       "      <th>device</th>\n",
       "      <th>ad_1</th>\n",
       "      <th>click_1</th>\n",
       "      <th>watch_1</th>\n",
       "      <th>ad_2</th>\n",
       "      <th>click_2</th>\n",
       "      <th>...</th>\n",
       "      <th>watch_3</th>\n",
       "      <th>ad_4</th>\n",
       "      <th>click_4</th>\n",
       "      <th>watch_4</th>\n",
       "      <th>ad_5</th>\n",
       "      <th>click_5</th>\n",
       "      <th>watch_5</th>\n",
       "      <th>ad_6</th>\n",
       "      <th>click_6</th>\n",
       "      <th>watch_6</th>\n",
       "    </tr>\n",
       "  </thead>\n",
       "  <tbody>\n",
       "    <tr>\n",
       "      <th>0</th>\n",
       "      <td>0</td>\n",
       "      <td>NaN</td>\n",
       "      <td>f</td>\n",
       "      <td>26</td>\n",
       "      <td>blackberry</td>\n",
       "      <td>a118</td>\n",
       "      <td>NaN</td>\n",
       "      <td>9.0</td>\n",
       "      <td>a3</td>\n",
       "      <td>NaN</td>\n",
       "      <td>...</td>\n",
       "      <td>9.0</td>\n",
       "      <td>NaN</td>\n",
       "      <td>NaN</td>\n",
       "      <td>NaN</td>\n",
       "      <td>NaN</td>\n",
       "      <td>NaN</td>\n",
       "      <td>NaN</td>\n",
       "      <td>NaN</td>\n",
       "      <td>NaN</td>\n",
       "      <td>NaN</td>\n",
       "    </tr>\n",
       "    <tr>\n",
       "      <th>1</th>\n",
       "      <td>1</td>\n",
       "      <td>1.0</td>\n",
       "      <td>female</td>\n",
       "      <td>26</td>\n",
       "      <td>ios</td>\n",
       "      <td>a2</td>\n",
       "      <td>NaN</td>\n",
       "      <td>6.0</td>\n",
       "      <td>a85</td>\n",
       "      <td>NaN</td>\n",
       "      <td>...</td>\n",
       "      <td>12.0</td>\n",
       "      <td>a39</td>\n",
       "      <td>1.0</td>\n",
       "      <td>10.0</td>\n",
       "      <td>a95</td>\n",
       "      <td>1.0</td>\n",
       "      <td>11.0</td>\n",
       "      <td>a75</td>\n",
       "      <td>1.0</td>\n",
       "      <td>4.0</td>\n",
       "    </tr>\n",
       "    <tr>\n",
       "      <th>2</th>\n",
       "      <td>2</td>\n",
       "      <td>2.0</td>\n",
       "      <td>f</td>\n",
       "      <td>25</td>\n",
       "      <td>windows phone</td>\n",
       "      <td>a95</td>\n",
       "      <td>NaN</td>\n",
       "      <td>10.0</td>\n",
       "      <td>a26</td>\n",
       "      <td>1.0</td>\n",
       "      <td>...</td>\n",
       "      <td>7.0</td>\n",
       "      <td>NaN</td>\n",
       "      <td>NaN</td>\n",
       "      <td>NaN</td>\n",
       "      <td>NaN</td>\n",
       "      <td>NaN</td>\n",
       "      <td>NaN</td>\n",
       "      <td>NaN</td>\n",
       "      <td>NaN</td>\n",
       "      <td>NaN</td>\n",
       "    </tr>\n",
       "    <tr>\n",
       "      <th>3</th>\n",
       "      <td>3</td>\n",
       "      <td>3.0</td>\n",
       "      <td>f</td>\n",
       "      <td>25</td>\n",
       "      <td>android</td>\n",
       "      <td>a6</td>\n",
       "      <td>NaN</td>\n",
       "      <td>9.0</td>\n",
       "      <td>a43</td>\n",
       "      <td>NaN</td>\n",
       "      <td>...</td>\n",
       "      <td>6.0</td>\n",
       "      <td>NaN</td>\n",
       "      <td>NaN</td>\n",
       "      <td>NaN</td>\n",
       "      <td>NaN</td>\n",
       "      <td>NaN</td>\n",
       "      <td>NaN</td>\n",
       "      <td>NaN</td>\n",
       "      <td>NaN</td>\n",
       "      <td>NaN</td>\n",
       "    </tr>\n",
       "    <tr>\n",
       "      <th>4</th>\n",
       "      <td>4</td>\n",
       "      <td>4.0</td>\n",
       "      <td>female</td>\n",
       "      <td>27</td>\n",
       "      <td>ios</td>\n",
       "      <td>a39</td>\n",
       "      <td>NaN</td>\n",
       "      <td>7.0</td>\n",
       "      <td>a1</td>\n",
       "      <td>NaN</td>\n",
       "      <td>...</td>\n",
       "      <td>9.0</td>\n",
       "      <td>a76</td>\n",
       "      <td>NaN</td>\n",
       "      <td>8.0</td>\n",
       "      <td>a90</td>\n",
       "      <td>1.0</td>\n",
       "      <td>2.0</td>\n",
       "      <td>a26</td>\n",
       "      <td>NaN</td>\n",
       "      <td>11.0</td>\n",
       "    </tr>\n",
       "  </tbody>\n",
       "</table>\n",
       "<p>5 rows × 23 columns</p>\n",
       "</div>"
      ],
      "text/plain": [
       "   Unnamed: 0  user_id  gender  age         device  ad_1  click_1  watch_1  \\\n",
       "0           0      NaN       f   26     blackberry  a118      NaN      9.0   \n",
       "1           1      1.0  female   26            ios    a2      NaN      6.0   \n",
       "2           2      2.0       f   25  windows phone   a95      NaN     10.0   \n",
       "3           3      3.0       f   25        android    a6      NaN      9.0   \n",
       "4           4      4.0  female   27            ios   a39      NaN      7.0   \n",
       "\n",
       "  ad_2  click_2  ...  watch_3 ad_4  click_4  watch_4 ad_5  click_5  watch_5  \\\n",
       "0   a3      NaN  ...      9.0  NaN      NaN      NaN  NaN      NaN      NaN   \n",
       "1  a85      NaN  ...     12.0  a39      1.0     10.0  a95      1.0     11.0   \n",
       "2  a26      1.0  ...      7.0  NaN      NaN      NaN  NaN      NaN      NaN   \n",
       "3  a43      NaN  ...      6.0  NaN      NaN      NaN  NaN      NaN      NaN   \n",
       "4   a1      NaN  ...      9.0  a76      NaN      8.0  a90      1.0      2.0   \n",
       "\n",
       "  ad_6  click_6  watch_6  \n",
       "0  NaN      NaN      NaN  \n",
       "1  a75      1.0      4.0  \n",
       "2  NaN      NaN      NaN  \n",
       "3  NaN      NaN      NaN  \n",
       "4  a26      NaN     11.0  \n",
       "\n",
       "[5 rows x 23 columns]"
      ]
     },
     "execution_count": 3,
     "metadata": {},
     "output_type": "execute_result"
    }
   ],
   "source": [
    "users.head()"
   ]
  },
  {
   "cell_type": "markdown",
   "id": "maritime-amber",
   "metadata": {},
   "source": [
    "### Incorrect information: Gender"
   ]
  },
  {
   "cell_type": "code",
   "execution_count": 4,
   "id": "failing-worst",
   "metadata": {},
   "outputs": [
    {
     "data": {
      "text/plain": [
       "f         10096\n",
       "male       5067\n",
       "female     4989\n",
       "m          4936\n",
       "Name: gender, dtype: int64"
      ]
     },
     "execution_count": 4,
     "metadata": {},
     "output_type": "execute_result"
    }
   ],
   "source": [
    "# inspect gender column value\n",
    "users['gender'].value_counts()"
   ]
  },
  {
   "cell_type": "markdown",
   "id": "searching-christmas",
   "metadata": {},
   "source": [
    "There are different values in this column. Here, I recode the column, transforming ```f``` and ```female``` to value 1, and ```m``` and ```male``` to value 2."
   ]
  },
  {
   "cell_type": "code",
   "execution_count": 5,
   "id": "spectacular-onion",
   "metadata": {},
   "outputs": [],
   "source": [
    "# create a clearer variable for gender\n",
    "def generate_gender(row):\n",
    "    if row['gender'] == 'f':\n",
    "        row['sex'] = 1\n",
    "    if row['gender'] == 'female':\n",
    "        row['sex'] = 1\n",
    "    if row['gender'] == 'm':\n",
    "        row['sex'] = 0\n",
    "    if row['gender'] == 'male':\n",
    "        row['sex'] = 0\n",
    "    return row\n",
    "users = users.apply(generate_gender, axis=1)"
   ]
  },
  {
   "cell_type": "markdown",
   "id": "revolutionary-district",
   "metadata": {},
   "source": [
    "### New column: Condition"
   ]
  },
  {
   "cell_type": "markdown",
   "id": "attached-norwegian",
   "metadata": {},
   "source": [
    "I want to create a new column for test condition. The values in this column shows whether the user watched six ads continuously (labeled as ```6```) or three ads (labeled as ```3```)."
   ]
  },
  {
   "cell_type": "code",
   "execution_count": 6,
   "id": "express-diana",
   "metadata": {},
   "outputs": [],
   "source": [
    "# create a variable for test condition\n",
    "users['ad_4'] = users['ad_4'].fillna(0)\n",
    "def generate_condition(row):\n",
    "    if row['ad_4'] == 0:\n",
    "        row['condition'] = 3\n",
    "    else: \n",
    "        row['condition'] = 6\n",
    "    return row\n",
    "users = users.apply(generate_condition, axis=1)"
   ]
  },
  {
   "cell_type": "markdown",
   "id": "orange-ability",
   "metadata": {},
   "source": [
    "Because in the next section, I will run regression to test the hypotheses. Here I create a dummy variable for condition **six ads**."
   ]
  },
  {
   "cell_type": "code",
   "execution_count": null,
   "id": "voluntary-powder",
   "metadata": {},
   "outputs": [],
   "source": [
    "# create a dummy variable for test condition: three ads\n",
    "def generate_condum(row):\n",
    "    if row['ad_4'] == 0:\n",
    "        row['six_ads'] = 0\n",
    "    else: \n",
    "        row['six_ads'] = 1\n",
    "    return row\n",
    "users = users.apply(generate_condum, axis=1)"
   ]
  },
  {
   "cell_type": "code",
   "execution_count": null,
   "id": "through-python",
   "metadata": {},
   "outputs": [],
   "source": []
  },
  {
   "cell_type": "markdown",
   "id": "relative-fiber",
   "metadata": {},
   "source": [
    "### Missing values"
   ]
  },
  {
   "cell_type": "code",
   "execution_count": null,
   "id": "paperback-generation",
   "metadata": {},
   "outputs": [],
   "source": [
    "# inspect all the columns to check if there is any incorrect information\n",
    "users.describe().transpose()"
   ]
  },
  {
   "cell_type": "markdown",
   "id": "spread-process",
   "metadata": {},
   "source": [
    "Now I deal with the missing values of the six ```click``` frequency related columns. According to the frequency table, there are about 3000 - 5000 rows marked with *clicked* (```1.0```), and other rows are missing values. In order to further process the variables, here I replace missing values with 0."
   ]
  },
  {
   "cell_type": "code",
   "execution_count": null,
   "id": "enabling-breakfast",
   "metadata": {},
   "outputs": [],
   "source": [
    "# fill missing values in click frequency column with 0\n",
    "users[['click_1', 'click_2', 'click_3', 'click_4', 'click_5', 'click_6']] = users[['click_1', 'click_2', 'click_3', 'click_4', 'click_5', 'click_6']].fillna(0)"
   ]
  },
  {
   "cell_type": "markdown",
   "id": "swedish-cloud",
   "metadata": {},
   "source": [
    "For the ```watch``` time related columns, the minimum values are also ```1.0```, which indicate that the minimum watch time recorded is 1 second. Here, I also replace the missing values with 0, because the missing values shows that there were users watched the ads for less than 1 seconds."
   ]
  },
  {
   "cell_type": "code",
   "execution_count": null,
   "id": "marked-attack",
   "metadata": {},
   "outputs": [],
   "source": [
    "# fill missing values in watch time column with 0\n",
    "users[['watch_1', 'watch_2', 'watch_3', 'watch_4', 'watch_5', 'watch_6']] = users[['watch_1', 'watch_2', 'watch_3', 'watch_4', 'watch_5', 'watch_6']].fillna(0)"
   ]
  },
  {
   "cell_type": "markdown",
   "id": "quiet-facing",
   "metadata": {},
   "source": [
    "In order to test the hypotheses, I calculate the sum of the ```click``` frequency related and the ```watch``` time related columns."
   ]
  },
  {
   "cell_type": "code",
   "execution_count": null,
   "id": "pursuant-dominican",
   "metadata": {},
   "outputs": [],
   "source": [
    "# generate two columns for total click frequency and watch time\n",
    "users['click_freq'] = users['click_1'] + users['click_2'] + users['click_3'] + users['click_4'] + users['click_5'] + users['click_6'] \n",
    "users['watch_time'] = users['watch_1'] + users['watch_2'] + users['watch_3'] + users['watch_4'] + users['watch_5'] + users['watch_6'] "
   ]
  },
  {
   "cell_type": "markdown",
   "id": "beginning-honolulu",
   "metadata": {},
   "source": [
    "Because in the following sections, I want to compare the difference between the two conditions, and the number of ads watched by the users may influence their click frequency and total watch time. Therefore, I calculate the mean value of these two columns based on the number of ads the users watched in the test."
   ]
  },
  {
   "cell_type": "code",
   "execution_count": null,
   "id": "italic-argentina",
   "metadata": {},
   "outputs": [],
   "source": [
    "# generate two columns for average click frequency and watch time\n",
    "users['mean_click'] = users['click_freq'] / users['condition']\n",
    "users['mean_watch'] = users['watch_time'] / users['condition']"
   ]
  },
  {
   "cell_type": "markdown",
   "id": "brutal-poland",
   "metadata": {},
   "source": [
    "In order to visualize and analyze the two columns (```mean_click``` and ```mean_watch```) clearer, I round the columns."
   ]
  },
  {
   "cell_type": "code",
   "execution_count": null,
   "id": "auburn-origin",
   "metadata": {},
   "outputs": [],
   "source": [
    "# round the new columns\n",
    "users[['mean_click', 'mean_watch']] = users[['mean_click', 'mean_watch']].round(decimals=2)"
   ]
  },
  {
   "cell_type": "markdown",
   "id": "musical-danger",
   "metadata": {},
   "source": [
    "25088 out of 30000 users in the dataset have data in sex column. This means that there are nearly 5000 users did not indicate their gender when registered. Since the test analysis includes sex as a covariate, here I delete all rows that do not have sex data to use logistic regression in the next section."
   ]
  },
  {
   "cell_type": "code",
   "execution_count": null,
   "id": "baking-celtic",
   "metadata": {},
   "outputs": [],
   "source": [
    "# delete rows without sex data\n",
    "users = users.dropna(axis=0, subset=['sex'])"
   ]
  },
  {
   "cell_type": "code",
   "execution_count": null,
   "id": "private-administration",
   "metadata": {},
   "outputs": [],
   "source": []
  },
  {
   "cell_type": "markdown",
   "id": "ecological-romance",
   "metadata": {},
   "source": [
    "For protecting users' privacy, I delete the identifiable information: ```user_id```, and other unrelated variables."
   ]
  },
  {
   "cell_type": "code",
   "execution_count": null,
   "id": "moral-amazon",
   "metadata": {},
   "outputs": [],
   "source": [
    "users.columns"
   ]
  },
  {
   "cell_type": "code",
   "execution_count": null,
   "id": "brilliant-bullet",
   "metadata": {},
   "outputs": [],
   "source": [
    "# delete unrelated columns\n",
    "users = users[['age', 'sex', 'condition', 'six_ads', 'mean_click', 'mean_watch', 'click_freq', 'watch_time']]\n",
    "users.head()"
   ]
  },
  {
   "cell_type": "markdown",
   "id": "ordinary-trick",
   "metadata": {},
   "source": [
    "The data is cleaned."
   ]
  },
  {
   "cell_type": "markdown",
   "id": "fresh-seafood",
   "metadata": {},
   "source": [
    "## Data Exploration and Evaluation"
   ]
  },
  {
   "cell_type": "markdown",
   "id": "tender-schema",
   "metadata": {},
   "source": [
    "### Descriptive information and univariate visualization"
   ]
  },
  {
   "cell_type": "markdown",
   "id": "copyrighted-garbage",
   "metadata": {},
   "source": [
    "#### Demographics"
   ]
  },
  {
   "cell_type": "code",
   "execution_count": null,
   "id": "alike-borough",
   "metadata": {},
   "outputs": [],
   "source": [
    "# age\n",
    "users['age'].describe()"
   ]
  },
  {
   "cell_type": "code",
   "execution_count": null,
   "id": "increased-lottery",
   "metadata": {},
   "outputs": [],
   "source": [
    "sns.set_theme(style=\"whitegrid\")\n",
    "sns.boxplot(x = users['age'])"
   ]
  },
  {
   "cell_type": "markdown",
   "id": "increased-entry",
   "metadata": {},
   "source": [
    "The average age of the users in this dataset is 24.5 years old. The youngest participant of the user is 13 years old while the oldest is 37 years old. The majority of the participants age between 22 and 27."
   ]
  },
  {
   "cell_type": "code",
   "execution_count": null,
   "id": "interpreted-beads",
   "metadata": {},
   "outputs": [],
   "source": [
    "# sex\n",
    "users['sex'].value_counts()"
   ]
  },
  {
   "cell_type": "code",
   "execution_count": null,
   "id": "sophisticated-examination",
   "metadata": {},
   "outputs": [],
   "source": [
    "sns.countplot(x = users['sex'])"
   ]
  },
  {
   "cell_type": "markdown",
   "id": "appointed-recipient",
   "metadata": {},
   "source": [
    "There are 15085 female users and 10003 male users participated in the test. The gender distribution, though not equal, is not imbalanced."
   ]
  },
  {
   "cell_type": "markdown",
   "id": "available-arbor",
   "metadata": {},
   "source": [
    "#### IV: Condition"
   ]
  },
  {
   "cell_type": "markdown",
   "id": "adjusted-routine",
   "metadata": {},
   "source": [
    "The IV of the test indicates whether the participants watched three or six advertisements in a row."
   ]
  },
  {
   "cell_type": "code",
   "execution_count": null,
   "id": "enhanced-procurement",
   "metadata": {},
   "outputs": [],
   "source": [
    "# condition\n",
    "users['condition'].value_counts()"
   ]
  },
  {
   "cell_type": "code",
   "execution_count": null,
   "id": "american-nepal",
   "metadata": {},
   "outputs": [],
   "source": [
    "sns.countplot(x = users['condition'])"
   ]
  },
  {
   "cell_type": "markdown",
   "id": "exterior-shopping",
   "metadata": {},
   "source": [
    "There were similar number of participants engaged in the two test conditions: 12702 users watched three ads and 12386 users watched six ads during the test. The two conditions of this A/B test is equally distributed."
   ]
  },
  {
   "cell_type": "markdown",
   "id": "welcome-living",
   "metadata": {},
   "source": [
    "#### DV: Click frequency and Watch time"
   ]
  },
  {
   "cell_type": "markdown",
   "id": "technological-values",
   "metadata": {},
   "source": [
    "There are two DVs in the test: \n",
    "* **Click frequency** (```click_freq```): This variable shows how many times the users clicked the advertisements during the test. For each advertisement, if the user clicked the link, the value of the according variable turns to ```1.0```.\n",
    "* **Watch time** (```watch_time```): This variable indicates the time for the users to watch the ads. When an advertisement started, the time started to count, and the counting stopped when the user turned to the next video. The time was counted in seconds."
   ]
  },
  {
   "cell_type": "code",
   "execution_count": null,
   "id": "ecological-addition",
   "metadata": {},
   "outputs": [],
   "source": [
    "# click frequency - total\n",
    "users['click_freq'].value_counts()"
   ]
  },
  {
   "cell_type": "code",
   "execution_count": null,
   "id": "arabic-correlation",
   "metadata": {},
   "outputs": [],
   "source": [
    "sns.countplot(x = users['click_freq'])"
   ]
  },
  {
   "cell_type": "markdown",
   "id": "comprehensive-asian",
   "metadata": {},
   "source": [
    "In this A/B test, when watching the continuous advertisements, over half of (55.7%) the participants clicked the ads, indicating a very high CTR (click-through rate) of the platform. This data should be used by the company as an advantage to attract advertisers.  \n",
    "The majority (80%) of users either clicked no ads or clicked the ads once. "
   ]
  },
  {
   "cell_type": "code",
   "execution_count": null,
   "id": "charged-imagination",
   "metadata": {},
   "outputs": [],
   "source": [
    "# click frequency - average\n",
    "users['mean_click'].value_counts()"
   ]
  },
  {
   "cell_type": "code",
   "execution_count": null,
   "id": "covered-trouble",
   "metadata": {},
   "outputs": [],
   "source": [
    "sns.countplot(x = users['mean_click'])"
   ]
  },
  {
   "cell_type": "markdown",
   "id": "musical-woman",
   "metadata": {},
   "source": [
    "The average value shows that nearly half (47.7%) of the participants clicked 0.17 or 0.33 times into the link of the ads in the test."
   ]
  },
  {
   "cell_type": "code",
   "execution_count": null,
   "id": "dramatic-preliminary",
   "metadata": {},
   "outputs": [],
   "source": [
    "# watch time - total\n",
    "users['watch_time'].describe()"
   ]
  },
  {
   "cell_type": "code",
   "execution_count": null,
   "id": "suffering-challenge",
   "metadata": {},
   "outputs": [],
   "source": [
    "sns.distplot(x = users['watch_time'])"
   ]
  },
  {
   "cell_type": "markdown",
   "id": "alpine-judge",
   "metadata": {},
   "source": [
    "On average, the participants spent about 40 seconds on watching all ads in the test. There were users who did not care about the ads, and spent 5 seconds jumping all advertisements, and there were users nearly watched all ads from the beginning to the end. The histogram of the watch time shows that the values gather around two areas — the majority of the users spent about either 20-35 seconds or 45-63 seconds on watching advertisements. The distribution indicates that the watch time were influenced by the number of ads the users watched. Therefore, it is necessary to calculate the mean watch time of the users."
   ]
  },
  {
   "cell_type": "code",
   "execution_count": null,
   "id": "afraid-homeless",
   "metadata": {},
   "outputs": [],
   "source": [
    "# watch time - average\n",
    "users['mean_watch'].describe()"
   ]
  },
  {
   "cell_type": "code",
   "execution_count": null,
   "id": "utility-blade",
   "metadata": {},
   "outputs": [],
   "source": [
    "sns.distplot(x = users['mean_watch'])"
   ]
  },
  {
   "cell_type": "markdown",
   "id": "substantial-interstate",
   "metadata": {},
   "source": [
    "In the test, each user spent about 9 seconds on each advertisement. Some users jumped to the next video without grabbing the meaning of the advertisement (they spent less than 2 seconds on it), while some watched the whole video. The data is also powerful to attract the advertisers, because it shows that the users watch each advertisement for a rather long time."
   ]
  },
  {
   "cell_type": "code",
   "execution_count": null,
   "id": "behind-novel",
   "metadata": {},
   "outputs": [],
   "source": []
  },
  {
   "cell_type": "markdown",
   "id": "adverse-asian",
   "metadata": {},
   "source": [
    "### Bivariate relationships"
   ]
  },
  {
   "cell_type": "markdown",
   "id": "needed-nylon",
   "metadata": {},
   "source": [
    "#### IV & DV: Condition + Click frequency / Watch time"
   ]
  },
  {
   "cell_type": "code",
   "execution_count": null,
   "id": "literary-anniversary",
   "metadata": {},
   "outputs": [],
   "source": [
    "# condition + click frequency\n",
    "users.groupby('condition').agg({'mean_click':'mean'})"
   ]
  },
  {
   "cell_type": "code",
   "execution_count": null,
   "id": "inside-pittsburgh",
   "metadata": {},
   "outputs": [],
   "source": [
    "cond_click = sns.barplot(x = 'condition', y = 'mean_click', data = users)\n",
    "cond_click.set(ylabel = 'Mean Click Frequency')"
   ]
  },
  {
   "cell_type": "markdown",
   "id": "secure-rotation",
   "metadata": {},
   "source": [
    "The Douyin users that watched six ads in a row in the test has, on average, higher click frequency than users watched three ads. The confidence invervals in the plot indicate that although the average click frequencies for the two groups are not high (far less than 0.5), the difference between the two groups is statisctially significant. "
   ]
  },
  {
   "cell_type": "code",
   "execution_count": null,
   "id": "therapeutic-merchant",
   "metadata": {},
   "outputs": [],
   "source": []
  },
  {
   "cell_type": "code",
   "execution_count": null,
   "id": "active-gauge",
   "metadata": {},
   "outputs": [],
   "source": [
    "# condition + watch time\n",
    "users.groupby('condition')['mean_watch'].agg([min, max, np.mean])"
   ]
  },
  {
   "cell_type": "code",
   "execution_count": null,
   "id": "australian-calendar",
   "metadata": {},
   "outputs": [],
   "source": [
    "cond_watch = sns.barplot(x = 'condition', y = 'mean_watch', data = users)\n",
    "cond_watch.set(ylabel = 'Mean Watch Time')"
   ]
  },
  {
   "cell_type": "markdown",
   "id": "noticed-carnival",
   "metadata": {},
   "source": [
    "The users participated in the test that in the six ads condition also show longer ads watch time comparing with users in the three ads condition: they watched each advertisement for on average nearly one more second. The confidence intervals here show that the difference of the watch time between the two conditions is also statistically significant. The result indicates that, in the test, the effectiveness of the ads was influenced by the number of ads watched by the users."
   ]
  },
  {
   "cell_type": "code",
   "execution_count": null,
   "id": "greek-champion",
   "metadata": {},
   "outputs": [],
   "source": []
  },
  {
   "cell_type": "markdown",
   "id": "announced-burning",
   "metadata": {},
   "source": [
    "#### Covariates & DV: Age / Gender + Click frequency / Watch time"
   ]
  },
  {
   "cell_type": "code",
   "execution_count": null,
   "id": "planned-settlement",
   "metadata": {},
   "outputs": [],
   "source": [
    "# age + click frequency\n",
    "age_click = sns.lineplot(x = 'age', y = 'mean_click', data = users)\n",
    "age_click.set(ylabel = 'Mean Click Frequency')"
   ]
  },
  {
   "cell_type": "markdown",
   "id": "painted-oxford",
   "metadata": {},
   "source": [
    "Users in different ages have similar frequency to click the link in an ad, while the frequency is slightly higher for users less than 15 years old and for users at about 34 years old. The confidence invertal shows that the differences for the mean click frequency are slight and not statistically significant."
   ]
  },
  {
   "cell_type": "code",
   "execution_count": null,
   "id": "prerequisite-robinson",
   "metadata": {},
   "outputs": [],
   "source": []
  },
  {
   "cell_type": "code",
   "execution_count": null,
   "id": "ranking-abraham",
   "metadata": {},
   "outputs": [],
   "source": [
    "# age + watch time\n",
    "age_watch = sns.lineplot(x = 'age', y = 'mean_watch', data = users)\n",
    "age_watch.set(ylabel = 'Mean Watch time')"
   ]
  },
  {
   "cell_type": "markdown",
   "id": "collected-aberdeen",
   "metadata": {},
   "source": [
    "The watch times for users between 15 and about 34 years old are similar: the average watch time of the users is about 9 seconds. The plot shows that the users younger than 15 years old have higher watch time, but the difference is small. The users aged 35 also spent longer for each ad, and this difference is statistically significant."
   ]
  },
  {
   "cell_type": "code",
   "execution_count": null,
   "id": "touched-opinion",
   "metadata": {},
   "outputs": [],
   "source": []
  },
  {
   "cell_type": "code",
   "execution_count": null,
   "id": "southeast-stuart",
   "metadata": {},
   "outputs": [],
   "source": [
    "# gender + click frequency\n",
    "users.groupby('sex').agg({'mean_click':'mean'})"
   ]
  },
  {
   "cell_type": "code",
   "execution_count": null,
   "id": "latter-potter",
   "metadata": {},
   "outputs": [],
   "source": [
    "gender_click = sns.barplot(x = 'sex', y = 'mean_click', data = users)\n",
    "gender_click.set(xlabel = 'Gender', ylabel = 'Mean Click Frequency')"
   ]
  },
  {
   "cell_type": "markdown",
   "id": "iraqi-investor",
   "metadata": {},
   "source": [
    "The difference of click frequency caused by different gender is small. Female and male users had similar click frequency during the test."
   ]
  },
  {
   "cell_type": "code",
   "execution_count": null,
   "id": "exclusive-crisis",
   "metadata": {},
   "outputs": [],
   "source": []
  },
  {
   "cell_type": "code",
   "execution_count": null,
   "id": "aboriginal-music",
   "metadata": {},
   "outputs": [],
   "source": [
    "# gender + watch time\n",
    "users.groupby('sex')['mean_watch'].agg([min, max, np.mean])"
   ]
  },
  {
   "cell_type": "code",
   "execution_count": null,
   "id": "spread-citizenship",
   "metadata": {},
   "outputs": [],
   "source": [
    "gender_watch = sns.barplot(x = 'sex', y = 'mean_watch', data = users)\n",
    "gender_watch.set(xlabel = 'Gender', ylabel='Mean Watch Time')"
   ]
  },
  {
   "cell_type": "markdown",
   "id": "intensive-tsunami",
   "metadata": {},
   "source": [
    "The difference of watch time is also small for two gender groups. The result shows that gender has small effect on influencing the effectiveness of the advertisements on Douyin."
   ]
  },
  {
   "cell_type": "markdown",
   "id": "original-colombia",
   "metadata": {},
   "source": [
    "Overall, the dataset is balanced for users gender, age and test conditions. It can be hard for the test result to cause biases to different users, because the result would be used to distribute ads, not used to select Douyin users."
   ]
  },
  {
   "cell_type": "code",
   "execution_count": null,
   "id": "ahead-layer",
   "metadata": {},
   "outputs": [],
   "source": []
  },
  {
   "cell_type": "markdown",
   "id": "powered-waterproof",
   "metadata": {},
   "source": [
    "## Modelling and Hypotheses Testing"
   ]
  },
  {
   "cell_type": "markdown",
   "id": "early-string",
   "metadata": {},
   "source": [
    "**Take 80% data!**\n",
    "H1a: logit regression\n",
    "H1b: linear regression"
   ]
  },
  {
   "cell_type": "markdown",
   "id": "funky-geography",
   "metadata": {},
   "source": [
    "#### Regression"
   ]
  },
  {
   "cell_type": "code",
   "execution_count": null,
   "id": "helpful-cattle",
   "metadata": {},
   "outputs": [],
   "source": [
    "# H1a: mean click frequency\n",
    "logit_click = sm.Logit(users['mean_click'], sm.add_constant(users[['six_ads', 'sex', 'age']]))\n",
    "result_click = logit_click.fit()\n",
    "print(result_click.summary())"
   ]
  },
  {
   "cell_type": "code",
   "execution_count": null,
   "id": "unexpected-african",
   "metadata": {},
   "outputs": [],
   "source": []
  },
  {
   "cell_type": "code",
   "execution_count": null,
   "id": "divided-postcard",
   "metadata": {},
   "outputs": [],
   "source": []
  },
  {
   "cell_type": "code",
   "execution_count": null,
   "id": "revolutionary-ottawa",
   "metadata": {},
   "outputs": [],
   "source": [
    "# H1b: mean watch time\n",
    "ols_watch = sm.OLS(users['mean_watch'], sm.add_constant(users[['six_ads', 'sex', 'age']]))\n",
    "result_watch = ols_watch.fit()\n",
    "print(result_watch.summary())"
   ]
  },
  {
   "cell_type": "code",
   "execution_count": null,
   "id": "historical-liechtenstein",
   "metadata": {},
   "outputs": [],
   "source": []
  },
  {
   "cell_type": "markdown",
   "id": "organized-anime",
   "metadata": {},
   "source": [
    "#### ML"
   ]
  },
  {
   "cell_type": "code",
   "execution_count": null,
   "id": "global-separate",
   "metadata": {},
   "outputs": [],
   "source": [
    "# predict mean click frequency\n",
    "logit_click = LogisticRegression(max_iter=1000, fit_intercept = True)\n",
    "logit_click.fit(users[['six_ads', 'sex', 'age']], users['mean_click'])"
   ]
  },
  {
   "cell_type": "code",
   "execution_count": null,
   "id": "homeless-hayes",
   "metadata": {},
   "outputs": [],
   "source": []
  },
  {
   "cell_type": "code",
   "execution_count": null,
   "id": "periodic-heath",
   "metadata": {},
   "outputs": [],
   "source": []
  },
  {
   "cell_type": "markdown",
   "id": "desperate-holiday",
   "metadata": {},
   "source": [
    "#### LIME"
   ]
  },
  {
   "cell_type": "code",
   "execution_count": null,
   "id": "elementary-utility",
   "metadata": {},
   "outputs": [],
   "source": []
  }
 ],
 "metadata": {
  "kernelspec": {
   "display_name": "Python 3",
   "language": "python",
   "name": "python3"
  },
  "language_info": {
   "codemirror_mode": {
    "name": "ipython",
    "version": 3
   },
   "file_extension": ".py",
   "mimetype": "text/x-python",
   "name": "python",
   "nbconvert_exporter": "python",
   "pygments_lexer": "ipython3",
   "version": "3.7.9"
  },
  "toc": {
   "base_numbering": 1,
   "nav_menu": {},
   "number_sections": true,
   "sideBar": true,
   "skip_h1_title": false,
   "title_cell": "Table of Contents",
   "title_sidebar": "Contents",
   "toc_cell": false,
   "toc_position": {},
   "toc_section_display": true,
   "toc_window_display": true
  }
 },
 "nbformat": 4,
 "nbformat_minor": 5
}
