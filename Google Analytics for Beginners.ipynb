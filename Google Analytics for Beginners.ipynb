{
 "cells": [
  {
   "cell_type": "markdown",
   "id": "linear-soviet",
   "metadata": {},
   "source": [
    "# Introducing Google Analytics"
   ]
  },
  {
   "cell_type": "markdown",
   "id": "maritime-national",
   "metadata": {},
   "source": [
    "## Why digital analytics?"
   ]
  },
  {
   "cell_type": "markdown",
   "id": "anticipated-label",
   "metadata": {},
   "source": [
    "**Digital analytics**: collect user data to analyse the service"
   ]
  },
  {
   "cell_type": "markdown",
   "id": "continuing-comparison",
   "metadata": {},
   "source": [
    "**Purchase funnel** (marketing): \n",
    "* describe customer interactions\n",
    "* acquisition -> behavior -> conversion\n",
    " * acquisition: building awareness and acquiring user interest\n",
    " * behavior: a user engages with the business\n",
    " * conversion: when a user becomes a customer and transacts with the business\n",
    "* easy to track online"
   ]
  },
  {
   "cell_type": "code",
   "execution_count": null,
   "id": "responsible-extent",
   "metadata": {},
   "outputs": [],
   "source": []
  },
  {
   "cell_type": "markdown",
   "id": "noticed-guinea",
   "metadata": {},
   "source": [
    "## How Google analytics works"
   ]
  },
  {
   "cell_type": "markdown",
   "id": "classified-projection",
   "metadata": {},
   "source": [
    "**Google analytics**: a platform that collects data and compiles it into useful reports"
   ]
  },
  {
   "cell_type": "markdown",
   "id": "sustained-entrance",
   "metadata": {},
   "source": [
    "When a user is **inactive** on your site for **30 minutes or more** or **closes a browser window**, Google Analytics end a session by default"
   ]
  },
  {
   "cell_type": "code",
   "execution_count": null,
   "id": "opponent-romance",
   "metadata": {},
   "outputs": [],
   "source": []
  },
  {
   "cell_type": "markdown",
   "id": "central-intent",
   "metadata": {},
   "source": [
    "## Google Analytics setup"
   ]
  },
  {
   "cell_type": "markdown",
   "id": "verbal-chart",
   "metadata": {},
   "source": [
    "* Each ```account``` has multiple ```properties``` and each ```property``` has multiple ```views```\n",
    "* You can't change data once it's collected\n",
    "* ```Views``` won't include past data\n",
    "* Data can only be seen in aggregate within each ```property```"
   ]
  },
  {
   "cell_type": "markdown",
   "id": "amazing-geometry",
   "metadata": {},
   "source": [
    "* each ```property``` contains a tracking code: ```Admin``` > ```Tracking Info``` > ```Tracking Code```\n",
    "* place a tracking code immediately **after** the **opening head tag** of your website"
   ]
  },
  {
   "cell_type": "code",
   "execution_count": null,
   "id": "signal-sydney",
   "metadata": {},
   "outputs": [],
   "source": []
  },
  {
   "cell_type": "markdown",
   "id": "opened-album",
   "metadata": {},
   "source": [
    "# Basic Reports"
   ]
  },
  {
   "cell_type": "markdown",
   "id": "domestic-bunny",
   "metadata": {},
   "source": [
    "## Acquisition reports"
   ]
  },
  {
   "cell_type": "markdown",
   "id": "light-phoenix",
   "metadata": {},
   "source": [
    "**Traffic**\n",
    "* Traffic medium: the mechanism that deliver users to a site\n",
    " * organic: traffic through Google search (unpaid)\n",
    " * CPC: through search campaign (paid) — Google Ads\n",
    " * referrals: through click in a website (not search)\n",
    " * Email: through email marketing campaign\n",
    " * none: through type in the website address\n",
    "* Traffic source: more information about medium\n",
    " * for *organic*: show the name of the search engine\n",
    " * for *referral*: show URLs of the website\n",
    "* Campaign name"
   ]
  },
  {
   "cell_type": "code",
   "execution_count": null,
   "id": "distributed-option",
   "metadata": {},
   "outputs": [],
   "source": []
  },
  {
   "cell_type": "markdown",
   "id": "reasonable-baltimore",
   "metadata": {},
   "source": [
    "**Google Optimize**: build better customer journeys (built on Google Analytics)"
   ]
  },
  {
   "cell_type": "code",
   "execution_count": null,
   "id": "handled-somewhere",
   "metadata": {},
   "outputs": [],
   "source": []
  }
 ],
 "metadata": {
  "kernelspec": {
   "display_name": "Python 3",
   "language": "python",
   "name": "python3"
  },
  "language_info": {
   "codemirror_mode": {
    "name": "ipython",
    "version": 3
   },
   "file_extension": ".py",
   "mimetype": "text/x-python",
   "name": "python",
   "nbconvert_exporter": "python",
   "pygments_lexer": "ipython3",
   "version": "3.7.9"
  },
  "toc": {
   "base_numbering": 1,
   "nav_menu": {},
   "number_sections": true,
   "sideBar": true,
   "skip_h1_title": false,
   "title_cell": "Table of Contents",
   "title_sidebar": "Contents",
   "toc_cell": false,
   "toc_position": {},
   "toc_section_display": true,
   "toc_window_display": true
  }
 },
 "nbformat": 4,
 "nbformat_minor": 5
}
