{
 "cells": [
  {
   "cell_type": "markdown",
   "metadata": {},
   "source": [
    "# DA6 - Model Evaluation\n",
    "\n",
    "In this course, we are working towards two types of \"usage\" for statistics and analytics:\n",
    "1. How to perform some statistical analyses for hypothesis testing using Python. This is similar to what you have been doing so far in other courses, and what you will most likely use for your thesis.\n",
    "2. How to use statistics for **predictive analytics**, i.e., make predictions using digital trace data.\n",
    "\n",
    "This week, we focus on model evaluation - building more complex models (i.e., with more variables) and alternative algorithms (besides regression). \n",
    "\n",
    "By the end of the tutorials of this week, you should acquire:\n",
    "\n",
    "**Knowledge on:**\n",
    "* Model evaluation - for both statistical testing and SML\n",
    "* Using different SML algorithms\n",
    "\n",
    "**Skills:**\n",
    "* Train/test split\n",
    "* Create and interpret a confusion matrix and a precision & recall report\n"
   ]
  },
  {
   "cell_type": "markdown",
   "metadata": {},
   "source": [
    "First, let's import the packages we need (and that we used in the last session):"
   ]
  },
  {
   "cell_type": "code",
   "execution_count": 1,
   "metadata": {},
   "outputs": [],
   "source": [
    "import pandas as pd\n",
    "import seaborn as sns\n",
    "from sklearn.linear_model import LogisticRegression, LinearRegression\n",
    "import statsmodels.api as sm\n",
    "pd.set_option('display.float_format', lambda x: '%.3f' % x)\n",
    "%matplotlib inline"
   ]
  },
  {
   "cell_type": "markdown",
   "metadata": {},
   "source": [
    "## The case\n",
    "\n",
    "We'll focus on the same case as last week, but we will *only* focus on the binary dependent variable (bounce) in order to explore some of the algorithms that are available with machine learning. For continuous variables we often tend to use mostly linear regression, so what we covered last week was a good start. For binary variables, however, there are several options - which we'll explore more in this session.\n",
    "\n",
    "Going back to our case: Our website has launched new campaigns to increase engagement with the website, and engagement being defined as ensuring that the user ~~sees more pages (totals_pageviews) and~~ does not leave the website upon entering through the campaign (landing_isExit, binary). We also have several variables that can be used either as control variables, or as other predictors. We will not have hypotheses for them now, but will explore their influence on bouncing."
   ]
  },
  {
   "cell_type": "markdown",
   "metadata": {},
   "source": [
    "To summarize, we have one general RQ:\n",
    "\n",
    "**RQ:** To what extent have the new campaigns increased engagement (~~pageviews and~~lower bounce) compared to other referrals to the website?\n",
    "\n",
    "One set of hypotheses for bounce:\n",
    "* *H2a.* Users entering the website via the affiliate campaign will be less likely to leave the website on the first page (bounce) compared to users entering from non-campaign referrals.\n",
    "* *H2b.* Users entering the website via the CPC campaign will be less likely to leave the website on the first page (bounce) compared to users entering from non-campaign referrals.\n",
    "\n",
    "Finally, I want to compare both campaigns:\n",
    "* RQ2: To what extent do the CPC and Affiliate campaigns differ in terms of bounce likelihood?\n",
    "\n",
    "\n",
    "    "
   ]
  },
  {
   "cell_type": "markdown",
   "metadata": {},
   "source": [
    "### Important note:\n",
    "I will reuse the data cleaning steps that we used last week, so will put too much focus here. For your A1, you need to make sure you're explaining things step by step."
   ]
  },
  {
   "cell_type": "markdown",
   "metadata": {},
   "source": [
    "# Loading data\n",
    "\n",
    "Here we are loading and briefly inspecting the dataset. More information on how to do it - and how to do it following all the steps - can be seen in DA2 and DA3."
   ]
  },
  {
   "cell_type": "code",
   "execution_count": 2,
   "metadata": {},
   "outputs": [],
   "source": [
    "data = pd.read_pickle('googlestore_DA5weeklychallenges.pkl')"
   ]
  },
  {
   "cell_type": "code",
   "execution_count": 3,
   "metadata": {},
   "outputs": [
    {
     "data": {
      "text/plain": [
       "52308"
      ]
     },
     "execution_count": 3,
     "metadata": {},
     "output_type": "execute_result"
    }
   ],
   "source": [
    "len(data)"
   ]
  },
  {
   "cell_type": "markdown",
   "metadata": {},
   "source": [
    "Note: I will select here 10% of the sample so you can follow the tutorial also at home. Normally we'd use the full dataset (as 52K observations is still somewhat of a small dataset for SML)."
   ]
  },
  {
   "cell_type": "code",
   "execution_count": 4,
   "metadata": {},
   "outputs": [],
   "source": [
    "data = data.sample(frac=0.1, random_state = 42)"
   ]
  },
  {
   "cell_type": "code",
   "execution_count": 5,
   "metadata": {},
   "outputs": [
    {
     "data": {
      "text/html": [
       "<div>\n",
       "<style scoped>\n",
       "    .dataframe tbody tr th:only-of-type {\n",
       "        vertical-align: middle;\n",
       "    }\n",
       "\n",
       "    .dataframe tbody tr th {\n",
       "        vertical-align: top;\n",
       "    }\n",
       "\n",
       "    .dataframe thead th {\n",
       "        text-align: right;\n",
       "    }\n",
       "</style>\n",
       "<table border=\"1\" class=\"dataframe\">\n",
       "  <thead>\n",
       "    <tr style=\"text-align: right;\">\n",
       "      <th></th>\n",
       "      <th>affiliate</th>\n",
       "      <th>channelGrouping</th>\n",
       "      <th>cpc</th>\n",
       "      <th>date</th>\n",
       "      <th>device_browser</th>\n",
       "      <th>device_deviceCategory</th>\n",
       "      <th>device_isMobile</th>\n",
       "      <th>device_operatingSystem</th>\n",
       "      <th>fullVisitorId</th>\n",
       "      <th>geoNetwork_city</th>\n",
       "      <th>...</th>\n",
       "      <th>trafficSource_adwordsClickInfo_slot</th>\n",
       "      <th>trafficSource_campaign</th>\n",
       "      <th>trafficSource_isTrueDirect</th>\n",
       "      <th>trafficSource_keyword</th>\n",
       "      <th>trafficSource_medium</th>\n",
       "      <th>trafficSource_referralPath</th>\n",
       "      <th>trafficSource_source</th>\n",
       "      <th>visitId</th>\n",
       "      <th>visitNumber</th>\n",
       "      <th>visitStartTime</th>\n",
       "    </tr>\n",
       "  </thead>\n",
       "  <tbody>\n",
       "    <tr>\n",
       "      <th>36548</th>\n",
       "      <td>0</td>\n",
       "      <td>Referral</td>\n",
       "      <td>0</td>\n",
       "      <td>20171010</td>\n",
       "      <td>Chrome</td>\n",
       "      <td>desktop</td>\n",
       "      <td>False</td>\n",
       "      <td>Macintosh</td>\n",
       "      <td>6413139757155395885</td>\n",
       "      <td>Austin</td>\n",
       "      <td>...</td>\n",
       "      <td>NaN</td>\n",
       "      <td>(not set)</td>\n",
       "      <td>NaN</td>\n",
       "      <td>NaN</td>\n",
       "      <td>(none)</td>\n",
       "      <td>/</td>\n",
       "      <td>(direct)</td>\n",
       "      <td>1507650614</td>\n",
       "      <td>1</td>\n",
       "      <td>1507650614</td>\n",
       "    </tr>\n",
       "    <tr>\n",
       "      <th>26376</th>\n",
       "      <td>0</td>\n",
       "      <td>Display</td>\n",
       "      <td>1</td>\n",
       "      <td>20171007</td>\n",
       "      <td>Chrome</td>\n",
       "      <td>mobile</td>\n",
       "      <td>True</td>\n",
       "      <td>Android</td>\n",
       "      <td>1122408680230456408</td>\n",
       "      <td>NaN</td>\n",
       "      <td>...</td>\n",
       "      <td>RHS</td>\n",
       "      <td>1000557 | GA | US | en | Hybrid | GDN Text+Ban...</td>\n",
       "      <td>NaN</td>\n",
       "      <td>(User vertical targeting)</td>\n",
       "      <td>cpc</td>\n",
       "      <td>NaN</td>\n",
       "      <td>google</td>\n",
       "      <td>1507418877</td>\n",
       "      <td>1</td>\n",
       "      <td>1507418877</td>\n",
       "    </tr>\n",
       "    <tr>\n",
       "      <th>21940</th>\n",
       "      <td>0</td>\n",
       "      <td>Organic Search</td>\n",
       "      <td>0</td>\n",
       "      <td>20171006</td>\n",
       "      <td>Chrome</td>\n",
       "      <td>desktop</td>\n",
       "      <td>False</td>\n",
       "      <td>Macintosh</td>\n",
       "      <td>5963631948501878610</td>\n",
       "      <td>Mexico City</td>\n",
       "      <td>...</td>\n",
       "      <td>NaN</td>\n",
       "      <td>(not set)</td>\n",
       "      <td>NaN</td>\n",
       "      <td>(not provided)</td>\n",
       "      <td>organic</td>\n",
       "      <td>NaN</td>\n",
       "      <td>google</td>\n",
       "      <td>1507316316</td>\n",
       "      <td>1</td>\n",
       "      <td>1507316316</td>\n",
       "    </tr>\n",
       "    <tr>\n",
       "      <th>8907</th>\n",
       "      <td>0</td>\n",
       "      <td>Organic Search</td>\n",
       "      <td>0</td>\n",
       "      <td>20171003</td>\n",
       "      <td>Chrome</td>\n",
       "      <td>mobile</td>\n",
       "      <td>True</td>\n",
       "      <td>Android</td>\n",
       "      <td>233830236249633791</td>\n",
       "      <td>NaN</td>\n",
       "      <td>...</td>\n",
       "      <td>NaN</td>\n",
       "      <td>(not set)</td>\n",
       "      <td>NaN</td>\n",
       "      <td>(not provided)</td>\n",
       "      <td>organic</td>\n",
       "      <td>NaN</td>\n",
       "      <td>google</td>\n",
       "      <td>1507067994</td>\n",
       "      <td>1</td>\n",
       "      <td>1507067994</td>\n",
       "    </tr>\n",
       "    <tr>\n",
       "      <th>36441</th>\n",
       "      <td>0</td>\n",
       "      <td>Direct</td>\n",
       "      <td>0</td>\n",
       "      <td>20171010</td>\n",
       "      <td>Chrome</td>\n",
       "      <td>desktop</td>\n",
       "      <td>False</td>\n",
       "      <td>Linux</td>\n",
       "      <td>6912427824452801459</td>\n",
       "      <td>Cambridge</td>\n",
       "      <td>...</td>\n",
       "      <td>NaN</td>\n",
       "      <td>(not set)</td>\n",
       "      <td>True</td>\n",
       "      <td>NaN</td>\n",
       "      <td>(none)</td>\n",
       "      <td>NaN</td>\n",
       "      <td>(direct)</td>\n",
       "      <td>1507648677</td>\n",
       "      <td>2</td>\n",
       "      <td>1507648677</td>\n",
       "    </tr>\n",
       "  </tbody>\n",
       "</table>\n",
       "<p>5 rows × 79 columns</p>\n",
       "</div>"
      ],
      "text/plain": [
       "       affiliate channelGrouping  cpc      date device_browser  \\\n",
       "36548          0        Referral    0  20171010         Chrome   \n",
       "26376          0         Display    1  20171007         Chrome   \n",
       "21940          0  Organic Search    0  20171006         Chrome   \n",
       "8907           0  Organic Search    0  20171003         Chrome   \n",
       "36441          0          Direct    0  20171010         Chrome   \n",
       "\n",
       "      device_deviceCategory  device_isMobile device_operatingSystem  \\\n",
       "36548               desktop            False              Macintosh   \n",
       "26376                mobile             True                Android   \n",
       "21940               desktop            False              Macintosh   \n",
       "8907                 mobile             True                Android   \n",
       "36441               desktop            False                  Linux   \n",
       "\n",
       "             fullVisitorId geoNetwork_city  ...  \\\n",
       "36548  6413139757155395885          Austin  ...   \n",
       "26376  1122408680230456408             NaN  ...   \n",
       "21940  5963631948501878610     Mexico City  ...   \n",
       "8907    233830236249633791             NaN  ...   \n",
       "36441  6912427824452801459       Cambridge  ...   \n",
       "\n",
       "      trafficSource_adwordsClickInfo_slot  \\\n",
       "36548                                 NaN   \n",
       "26376                                 RHS   \n",
       "21940                                 NaN   \n",
       "8907                                  NaN   \n",
       "36441                                 NaN   \n",
       "\n",
       "                                  trafficSource_campaign  \\\n",
       "36548                                          (not set)   \n",
       "26376  1000557 | GA | US | en | Hybrid | GDN Text+Ban...   \n",
       "21940                                          (not set)   \n",
       "8907                                           (not set)   \n",
       "36441                                          (not set)   \n",
       "\n",
       "      trafficSource_isTrueDirect      trafficSource_keyword  \\\n",
       "36548                        NaN                        NaN   \n",
       "26376                        NaN  (User vertical targeting)   \n",
       "21940                        NaN             (not provided)   \n",
       "8907                         NaN             (not provided)   \n",
       "36441                       True                        NaN   \n",
       "\n",
       "      trafficSource_medium trafficSource_referralPath  trafficSource_source  \\\n",
       "36548               (none)                          /              (direct)   \n",
       "26376                  cpc                        NaN                google   \n",
       "21940              organic                        NaN                google   \n",
       "8907               organic                        NaN                google   \n",
       "36441               (none)                        NaN              (direct)   \n",
       "\n",
       "          visitId  visitNumber visitStartTime  \n",
       "36548  1507650614            1     1507650614  \n",
       "26376  1507418877            1     1507418877  \n",
       "21940  1507316316            1     1507316316  \n",
       "8907   1507067994            1     1507067994  \n",
       "36441  1507648677            2     1507648677  \n",
       "\n",
       "[5 rows x 79 columns]"
      ]
     },
     "execution_count": 5,
     "metadata": {},
     "output_type": "execute_result"
    }
   ],
   "source": [
    "data.head()"
   ]
  },
  {
   "cell_type": "code",
   "execution_count": 6,
   "metadata": {},
   "outputs": [
    {
     "data": {
      "text/plain": [
       "Index(['affiliate', 'channelGrouping', 'cpc', 'date', 'device_browser',\n",
       "       'device_deviceCategory', 'device_isMobile', 'device_operatingSystem',\n",
       "       'fullVisitorId', 'geoNetwork_city', 'geoNetwork_continent',\n",
       "       'geoNetwork_country', 'geoNetwork_metro', 'geoNetwork_networkDomain',\n",
       "       'geoNetwork_region', 'geoNetwork_subContinent', 'isExit',\n",
       "       'landing_appInfo_landingScreenName', 'landing_appInfo_screenDepth',\n",
       "       'landing_appInfo_screenName', 'landing_contentGroup_contentGroup1',\n",
       "       'landing_contentGroup_contentGroup2',\n",
       "       'landing_contentGroup_contentGroup3',\n",
       "       'landing_contentGroup_contentGroup4',\n",
       "       'landing_contentGroup_contentGroup5', 'landing_hour',\n",
       "       'landing_isEntrance', 'landing_isExit', 'landing_minute',\n",
       "       'landing_page_hostname', 'landing_page_pagePath',\n",
       "       'landing_page_pagePathLevel1', 'landing_page_pagePathLevel2',\n",
       "       'landing_page_pagePathLevel3', 'landing_page_pagePathLevel4',\n",
       "       'landing_page_pageTitle', 'landing_product_isClick',\n",
       "       'landing_product_isImpression', 'landing_product_productBrand',\n",
       "       'landing_product_productListName',\n",
       "       'landing_product_productListPosition', 'landing_product_productPrice',\n",
       "       'landing_product_productQuantity', 'landing_product_productSKU',\n",
       "       'landing_product_productVariant', 'landing_product_v2ProductCategory',\n",
       "       'landing_product_v2ProductName',\n",
       "       'landing_promotionActionInfo_promoIsView',\n",
       "       'landing_promotion_promoCreative', 'landing_promotion_promoId',\n",
       "       'landing_promotion_promoName', 'landing_promotion_promoPosition',\n",
       "       'landing_referer', 'landing_social_hasSocialSourceReferral',\n",
       "       'landing_social_socialInteractionNetworkAction',\n",
       "       'landing_social_socialNetwork', 'order_euros', 'referral',\n",
       "       'totals_bounces', 'totals_newVisits', 'totals_pageviews',\n",
       "       'totals_timeOnSite', 'totals_transactionRevenue', 'totals_transactions',\n",
       "       'trafficSource_adContent',\n",
       "       'trafficSource_adwordsClickInfo_adNetworkType',\n",
       "       'trafficSource_adwordsClickInfo_gclId',\n",
       "       'trafficSource_adwordsClickInfo_isVideoAd',\n",
       "       'trafficSource_adwordsClickInfo_page',\n",
       "       'trafficSource_adwordsClickInfo_slot', 'trafficSource_campaign',\n",
       "       'trafficSource_isTrueDirect', 'trafficSource_keyword',\n",
       "       'trafficSource_medium', 'trafficSource_referralPath',\n",
       "       'trafficSource_source', 'visitId', 'visitNumber', 'visitStartTime'],\n",
       "      dtype='object')"
      ]
     },
     "execution_count": 6,
     "metadata": {},
     "output_type": "execute_result"
    }
   ],
   "source": [
    "data.columns"
   ]
  },
  {
   "cell_type": "code",
   "execution_count": 7,
   "metadata": {},
   "outputs": [
    {
     "data": {
      "text/plain": [
       "affiliate                      int64\n",
       "channelGrouping               object\n",
       "cpc                            int64\n",
       "date                           int64\n",
       "device_browser                object\n",
       "                               ...  \n",
       "trafficSource_referralPath    object\n",
       "trafficSource_source          object\n",
       "visitId                        int64\n",
       "visitNumber                    int64\n",
       "visitStartTime                 int64\n",
       "Length: 79, dtype: object"
      ]
     },
     "execution_count": 7,
     "metadata": {},
     "output_type": "execute_result"
    }
   ],
   "source": [
    "data.dtypes"
   ]
  },
  {
   "cell_type": "code",
   "execution_count": 8,
   "metadata": {},
   "outputs": [
    {
     "data": {
      "text/plain": [
       "affiliate                        0\n",
       "channelGrouping                  0\n",
       "cpc                              0\n",
       "date                             0\n",
       "device_browser                   0\n",
       "                              ... \n",
       "trafficSource_referralPath    4319\n",
       "trafficSource_source             0\n",
       "visitId                          0\n",
       "visitNumber                      0\n",
       "visitStartTime                   0\n",
       "Length: 79, dtype: int64"
      ]
     },
     "execution_count": 8,
     "metadata": {},
     "output_type": "execute_result"
    }
   ],
   "source": [
    "data.isna().sum()"
   ]
  },
  {
   "cell_type": "code",
   "execution_count": 9,
   "metadata": {},
   "outputs": [
    {
     "data": {
      "text/plain": [
       "organic      2273\n",
       "cpc          1326\n",
       "(none)        989\n",
       "referral      545\n",
       "affiliate      75\n",
       "cpm            23\n",
       "Name: trafficSource_medium, dtype: int64"
      ]
     },
     "execution_count": 9,
     "metadata": {},
     "output_type": "execute_result"
    }
   ],
   "source": [
    "data['trafficSource_medium'].value_counts()"
   ]
  },
  {
   "cell_type": "markdown",
   "metadata": {},
   "source": [
    "## Data cleaning\n",
    "\n",
    "Here we are taking steps to prepare the variables that are important for the analysis. This is just a brief overview. You have seen a lot more info in DA3."
   ]
  },
  {
   "cell_type": "code",
   "execution_count": 10,
   "metadata": {},
   "outputs": [
    {
     "data": {
      "text/plain": [
       "True    3066\n",
       "Name: landing_isExit, dtype: int64"
      ]
     },
     "execution_count": 10,
     "metadata": {},
     "output_type": "execute_result"
    }
   ],
   "source": [
    "data['landing_isExit'].value_counts()"
   ]
  },
  {
   "cell_type": "code",
   "execution_count": 11,
   "metadata": {},
   "outputs": [],
   "source": [
    "def fix_landing(landing):\n",
    "    if str(landing).lower() == 'nan':\n",
    "        return 0\n",
    "    return 1"
   ]
  },
  {
   "cell_type": "code",
   "execution_count": 12,
   "metadata": {},
   "outputs": [],
   "source": [
    "data['isExit'] = data['landing_isExit'].apply(fix_landing)"
   ]
  },
  {
   "cell_type": "code",
   "execution_count": 13,
   "metadata": {},
   "outputs": [
    {
     "data": {
      "text/plain": [
       "count   5231.000\n",
       "mean       0.586\n",
       "std        0.493\n",
       "min        0.000\n",
       "25%        0.000\n",
       "50%        1.000\n",
       "75%        1.000\n",
       "max        1.000\n",
       "Name: isExit, dtype: float64"
      ]
     },
     "execution_count": 13,
     "metadata": {},
     "output_type": "execute_result"
    }
   ],
   "source": [
    "data['isExit'].describe()"
   ]
  },
  {
   "cell_type": "markdown",
   "metadata": {},
   "source": [
    "We want to understand if campaigns from affiliates or using cpc are performing better than other ways that visitors have to get to the site."
   ]
  },
  {
   "cell_type": "code",
   "execution_count": 14,
   "metadata": {},
   "outputs": [],
   "source": [
    "def check_category(source, variablename):\n",
    "    if source == variablename:\n",
    "        return 1\n",
    "    return 0"
   ]
  },
  {
   "cell_type": "code",
   "execution_count": 15,
   "metadata": {},
   "outputs": [],
   "source": [
    "data['cpc'] = data['trafficSource_medium'].apply(check_category, args=('cpc',))\n",
    "data['affiliate'] = data['trafficSource_medium'].apply(check_category, args=('affiliate',))"
   ]
  },
  {
   "cell_type": "markdown",
   "metadata": {},
   "source": [
    "Here I am generating categories that will be relevant for my testing. More information can be found at the FAQ video on creating categories (see FAQ section in the general repository)."
   ]
  },
  {
   "cell_type": "code",
   "execution_count": 16,
   "metadata": {},
   "outputs": [],
   "source": [
    "def generate_other(row):\n",
    "    if row['cpc'] == 1:\n",
    "        row['other_campaign'] = 0\n",
    "    elif row['affiliate'] == 1:\n",
    "        row['other_campaign'] = 0\n",
    "    else:\n",
    "        row['other_campaign'] = 1\n",
    "    return row"
   ]
  },
  {
   "cell_type": "code",
   "execution_count": 17,
   "metadata": {},
   "outputs": [],
   "source": [
    "data = data.apply(generate_other, axis=1)"
   ]
  },
  {
   "cell_type": "code",
   "execution_count": 18,
   "metadata": {},
   "outputs": [],
   "source": [
    "def generate_category(row):\n",
    "    if row['cpc'] == 1:\n",
    "        row['cat_campaign'] = 'cpc'\n",
    "    if row['affiliate'] == 1:\n",
    "        row['cat_campaign'] = 'affiliate'\n",
    "    if row['other_campaign'] == 1:\n",
    "        row['cat_campaign'] = 'other'\n",
    "    return row"
   ]
  },
  {
   "cell_type": "code",
   "execution_count": 19,
   "metadata": {},
   "outputs": [],
   "source": [
    "data = data.apply(generate_category, axis=1)"
   ]
  },
  {
   "cell_type": "code",
   "execution_count": 20,
   "metadata": {},
   "outputs": [
    {
     "data": {
      "text/html": [
       "<div>\n",
       "<style scoped>\n",
       "    .dataframe tbody tr th:only-of-type {\n",
       "        vertical-align: middle;\n",
       "    }\n",
       "\n",
       "    .dataframe tbody tr th {\n",
       "        vertical-align: top;\n",
       "    }\n",
       "\n",
       "    .dataframe thead th {\n",
       "        text-align: right;\n",
       "    }\n",
       "</style>\n",
       "<table border=\"1\" class=\"dataframe\">\n",
       "  <thead>\n",
       "    <tr style=\"text-align: right;\">\n",
       "      <th></th>\n",
       "      <th>cpc</th>\n",
       "      <th>affiliate</th>\n",
       "      <th>other_campaign</th>\n",
       "    </tr>\n",
       "  </thead>\n",
       "  <tbody>\n",
       "    <tr>\n",
       "      <th>count</th>\n",
       "      <td>5231.000</td>\n",
       "      <td>5231.000</td>\n",
       "      <td>5231.000</td>\n",
       "    </tr>\n",
       "    <tr>\n",
       "      <th>mean</th>\n",
       "      <td>0.253</td>\n",
       "      <td>0.014</td>\n",
       "      <td>0.732</td>\n",
       "    </tr>\n",
       "    <tr>\n",
       "      <th>std</th>\n",
       "      <td>0.435</td>\n",
       "      <td>0.119</td>\n",
       "      <td>0.443</td>\n",
       "    </tr>\n",
       "    <tr>\n",
       "      <th>min</th>\n",
       "      <td>0.000</td>\n",
       "      <td>0.000</td>\n",
       "      <td>0.000</td>\n",
       "    </tr>\n",
       "    <tr>\n",
       "      <th>25%</th>\n",
       "      <td>0.000</td>\n",
       "      <td>0.000</td>\n",
       "      <td>0.000</td>\n",
       "    </tr>\n",
       "    <tr>\n",
       "      <th>50%</th>\n",
       "      <td>0.000</td>\n",
       "      <td>0.000</td>\n",
       "      <td>1.000</td>\n",
       "    </tr>\n",
       "    <tr>\n",
       "      <th>75%</th>\n",
       "      <td>1.000</td>\n",
       "      <td>0.000</td>\n",
       "      <td>1.000</td>\n",
       "    </tr>\n",
       "    <tr>\n",
       "      <th>max</th>\n",
       "      <td>1.000</td>\n",
       "      <td>1.000</td>\n",
       "      <td>1.000</td>\n",
       "    </tr>\n",
       "  </tbody>\n",
       "</table>\n",
       "</div>"
      ],
      "text/plain": [
       "           cpc  affiliate  other_campaign\n",
       "count 5231.000   5231.000        5231.000\n",
       "mean     0.253      0.014           0.732\n",
       "std      0.435      0.119           0.443\n",
       "min      0.000      0.000           0.000\n",
       "25%      0.000      0.000           0.000\n",
       "50%      0.000      0.000           1.000\n",
       "75%      1.000      0.000           1.000\n",
       "max      1.000      1.000           1.000"
      ]
     },
     "execution_count": 20,
     "metadata": {},
     "output_type": "execute_result"
    }
   ],
   "source": [
    "data[['cpc', 'affiliate','other_campaign']].describe()"
   ]
  },
  {
   "cell_type": "code",
   "execution_count": 21,
   "metadata": {},
   "outputs": [
    {
     "data": {
      "text/plain": [
       "other       0.732\n",
       "cpc         0.253\n",
       "affiliate   0.014\n",
       "Name: cat_campaign, dtype: float64"
      ]
     },
     "execution_count": 21,
     "metadata": {},
     "output_type": "execute_result"
    }
   ],
   "source": [
    "data['cat_campaign'].value_counts(normalize=True)"
   ]
  },
  {
   "cell_type": "code",
   "execution_count": 22,
   "metadata": {},
   "outputs": [
    {
     "data": {
      "text/plain": [
       "totals_pageviews    0\n",
       "cpc                 0\n",
       "affiliate           0\n",
       "other_campaign      0\n",
       "isExit              0\n",
       "dtype: int64"
      ]
     },
     "execution_count": 22,
     "metadata": {},
     "output_type": "execute_result"
    }
   ],
   "source": [
    "data[['totals_pageviews', 'cpc', 'affiliate', 'other_campaign', 'isExit']].isna().sum()"
   ]
  },
  {
   "cell_type": "markdown",
   "metadata": {},
   "source": [
    "## Adding some control variables\n",
    "\n",
    "We are interested in knowning whether a campaign leads to lower levels of bouncing (leaving the website upon entering it), or not. There could be some additional factors influencing this - which we may be able to detect. Of course behavior of the user *after* they entered the website does not make sense - people who bounce won't have these metrics.\n",
    "\n",
    "However, information about the user her or himself may help. For example, type of browser, or whether they accessed via a mobile device or not."
   ]
  },
  {
   "cell_type": "code",
   "execution_count": 23,
   "metadata": {},
   "outputs": [
    {
     "data": {
      "text/plain": [
       "False    2718\n",
       "True     2513\n",
       "Name: device_isMobile, dtype: int64"
      ]
     },
     "execution_count": 23,
     "metadata": {},
     "output_type": "execute_result"
    }
   ],
   "source": [
    "data['device_isMobile'].value_counts()"
   ]
  },
  {
   "cell_type": "markdown",
   "metadata": {},
   "source": [
    "Let me convert the device_isMobile variable from boolean (True/False) to binary (0/1)."
   ]
  },
  {
   "cell_type": "code",
   "execution_count": 24,
   "metadata": {},
   "outputs": [],
   "source": [
    "data['device_isMobile'] = data['device_isMobile'].astype(int)"
   ]
  },
  {
   "cell_type": "code",
   "execution_count": 25,
   "metadata": {},
   "outputs": [
    {
     "data": {
      "text/plain": [
       "0    2718\n",
       "1    2513\n",
       "Name: device_isMobile, dtype: int64"
      ]
     },
     "execution_count": 25,
     "metadata": {},
     "output_type": "execute_result"
    }
   ],
   "source": [
    "data['device_isMobile'].value_counts()"
   ]
  },
  {
   "cell_type": "code",
   "execution_count": 26,
   "metadata": {},
   "outputs": [
    {
     "data": {
      "text/plain": [
       "Chrome               3465\n",
       "Safari                870\n",
       "Samsung Internet      304\n",
       "Android Webview       191\n",
       "Firefox               161\n",
       "Internet Explorer      73\n",
       "Opera Mini             49\n",
       "Edge                   47\n",
       "UC Browser             24\n",
       "Opera                  21\n",
       "Safari (in-app)        13\n",
       "Amazon Silk             5\n",
       "Android Browser         4\n",
       "Puffin                  1\n",
       "Coc Coc                 1\n",
       "Seznam                  1\n",
       "YaBrowser               1\n",
       "Name: device_browser, dtype: int64"
      ]
     },
     "execution_count": 26,
     "metadata": {},
     "output_type": "execute_result"
    }
   ],
   "source": [
    "data['device_browser'].value_counts()"
   ]
  },
  {
   "cell_type": "code",
   "execution_count": 27,
   "metadata": {},
   "outputs": [],
   "source": [
    "data['browser_Chrome'] = data['device_browser'].apply(check_category, args=('Chrome',))"
   ]
  },
  {
   "cell_type": "code",
   "execution_count": 28,
   "metadata": {},
   "outputs": [
    {
     "data": {
      "text/plain": [
       "1    3465\n",
       "0    1766\n",
       "Name: browser_Chrome, dtype: int64"
      ]
     },
     "execution_count": 28,
     "metadata": {},
     "output_type": "execute_result"
    }
   ],
   "source": [
    "data['browser_Chrome'].value_counts()"
   ]
  },
  {
   "cell_type": "code",
   "execution_count": 29,
   "metadata": {},
   "outputs": [
    {
     "data": {
      "text/plain": [
       "browser_Chrome     0\n",
       "device_isMobile    0\n",
       "dtype: int64"
      ]
     },
     "execution_count": 29,
     "metadata": {},
     "output_type": "execute_result"
    }
   ],
   "source": [
    "data[['browser_Chrome', 'device_isMobile']].isna().sum()"
   ]
  },
  {
   "cell_type": "markdown",
   "metadata": {},
   "source": [
    "## Data exploration and visualisation\n",
    "Here we are looking at the descriptive statistics of the final dataset and using visualisations to understand the relationship between variables. You have seen more about this in DA4."
   ]
  },
  {
   "cell_type": "code",
   "execution_count": 30,
   "metadata": {},
   "outputs": [
    {
     "data": {
      "text/html": [
       "<div>\n",
       "<style scoped>\n",
       "    .dataframe tbody tr th:only-of-type {\n",
       "        vertical-align: middle;\n",
       "    }\n",
       "\n",
       "    .dataframe tbody tr th {\n",
       "        vertical-align: top;\n",
       "    }\n",
       "\n",
       "    .dataframe thead th {\n",
       "        text-align: right;\n",
       "    }\n",
       "</style>\n",
       "<table border=\"1\" class=\"dataframe\">\n",
       "  <thead>\n",
       "    <tr style=\"text-align: right;\">\n",
       "      <th></th>\n",
       "      <th>count</th>\n",
       "      <th>mean</th>\n",
       "      <th>std</th>\n",
       "      <th>min</th>\n",
       "      <th>25%</th>\n",
       "      <th>50%</th>\n",
       "      <th>75%</th>\n",
       "      <th>max</th>\n",
       "    </tr>\n",
       "  </thead>\n",
       "  <tbody>\n",
       "    <tr>\n",
       "      <th>cpc</th>\n",
       "      <td>5231.000</td>\n",
       "      <td>0.253</td>\n",
       "      <td>0.435</td>\n",
       "      <td>0.000</td>\n",
       "      <td>0.000</td>\n",
       "      <td>0.000</td>\n",
       "      <td>1.000</td>\n",
       "      <td>1.000</td>\n",
       "    </tr>\n",
       "    <tr>\n",
       "      <th>affiliate</th>\n",
       "      <td>5231.000</td>\n",
       "      <td>0.014</td>\n",
       "      <td>0.119</td>\n",
       "      <td>0.000</td>\n",
       "      <td>0.000</td>\n",
       "      <td>0.000</td>\n",
       "      <td>0.000</td>\n",
       "      <td>1.000</td>\n",
       "    </tr>\n",
       "    <tr>\n",
       "      <th>other_campaign</th>\n",
       "      <td>5231.000</td>\n",
       "      <td>0.732</td>\n",
       "      <td>0.443</td>\n",
       "      <td>0.000</td>\n",
       "      <td>0.000</td>\n",
       "      <td>1.000</td>\n",
       "      <td>1.000</td>\n",
       "      <td>1.000</td>\n",
       "    </tr>\n",
       "    <tr>\n",
       "      <th>isExit</th>\n",
       "      <td>5231.000</td>\n",
       "      <td>0.586</td>\n",
       "      <td>0.493</td>\n",
       "      <td>0.000</td>\n",
       "      <td>0.000</td>\n",
       "      <td>1.000</td>\n",
       "      <td>1.000</td>\n",
       "      <td>1.000</td>\n",
       "    </tr>\n",
       "    <tr>\n",
       "      <th>device_isMobile</th>\n",
       "      <td>5231.000</td>\n",
       "      <td>0.480</td>\n",
       "      <td>0.500</td>\n",
       "      <td>0.000</td>\n",
       "      <td>0.000</td>\n",
       "      <td>0.000</td>\n",
       "      <td>1.000</td>\n",
       "      <td>1.000</td>\n",
       "    </tr>\n",
       "    <tr>\n",
       "      <th>browser_Chrome</th>\n",
       "      <td>5231.000</td>\n",
       "      <td>0.662</td>\n",
       "      <td>0.473</td>\n",
       "      <td>0.000</td>\n",
       "      <td>0.000</td>\n",
       "      <td>1.000</td>\n",
       "      <td>1.000</td>\n",
       "      <td>1.000</td>\n",
       "    </tr>\n",
       "  </tbody>\n",
       "</table>\n",
       "</div>"
      ],
      "text/plain": [
       "                   count  mean   std   min   25%   50%   75%   max\n",
       "cpc             5231.000 0.253 0.435 0.000 0.000 0.000 1.000 1.000\n",
       "affiliate       5231.000 0.014 0.119 0.000 0.000 0.000 0.000 1.000\n",
       "other_campaign  5231.000 0.732 0.443 0.000 0.000 1.000 1.000 1.000\n",
       "isExit          5231.000 0.586 0.493 0.000 0.000 1.000 1.000 1.000\n",
       "device_isMobile 5231.000 0.480 0.500 0.000 0.000 0.000 1.000 1.000\n",
       "browser_Chrome  5231.000 0.662 0.473 0.000 0.000 1.000 1.000 1.000"
      ]
     },
     "execution_count": 30,
     "metadata": {},
     "output_type": "execute_result"
    }
   ],
   "source": [
    "data[['cpc', 'affiliate', 'other_campaign', 'isExit', 'device_isMobile', 'browser_Chrome']].describe().transpose()"
   ]
  },
  {
   "cell_type": "code",
   "execution_count": 31,
   "metadata": {},
   "outputs": [
    {
     "data": {
      "text/plain": [
       "<AxesSubplot:xlabel='cpc', ylabel='isExit'>"
      ]
     },
     "execution_count": 31,
     "metadata": {},
     "output_type": "execute_result"
    },
    {
     "data": {
      "image/png": "[encoded data removed]",
      "text/plain": [
       "<Figure size 432x288 with 1 Axes>"
      ]
     },
     "metadata": {
      "needs_background": "light"
     },
     "output_type": "display_data"
    }
   ],
   "source": [
    "sns.barplot(x='cpc', y='isExit', data=data)"
   ]
  },
  {
   "cell_type": "code",
   "execution_count": 32,
   "metadata": {},
   "outputs": [
    {
     "data": {
      "text/plain": [
       "<AxesSubplot:xlabel='affiliate', ylabel='isExit'>"
      ]
     },
     "execution_count": 32,
     "metadata": {},
     "output_type": "execute_result"
    },
    {
     "data": {
      "image/png": "[encoded data removed]",
      "text/plain": [
       "<Figure size 432x288 with 1 Axes>"
      ]
     },
     "metadata": {
      "needs_background": "light"
     },
     "output_type": "display_data"
    }
   ],
   "source": [
    "sns.barplot(x='affiliate', y='isExit', data=data)"
   ]
  },
  {
   "cell_type": "code",
   "execution_count": 33,
   "metadata": {},
   "outputs": [
    {
     "data": {
      "text/plain": [
       "<AxesSubplot:xlabel='browser_Chrome', ylabel='isExit'>"
      ]
     },
     "execution_count": 33,
     "metadata": {},
     "output_type": "execute_result"
    },
    {
     "data": {
      "image/png": "[encoded data removed]",
      "text/plain": [
       "<Figure size 432x288 with 1 Axes>"
      ]
     },
     "metadata": {
      "needs_background": "light"
     },
     "output_type": "display_data"
    }
   ],
   "source": [
    "sns.barplot(x='browser_Chrome', y='isExit', data=data)"
   ]
  },
  {
   "cell_type": "code",
   "execution_count": 34,
   "metadata": {},
   "outputs": [
    {
     "data": {
      "text/plain": [
       "<AxesSubplot:xlabel='device_isMobile', ylabel='isExit'>"
      ]
     },
     "execution_count": 34,
     "metadata": {},
     "output_type": "execute_result"
    },
    {
     "data": {
      "image/png": "[encoded data removed]",
      "text/plain": [
       "<Figure size 432x288 with 1 Axes>"
      ]
     },
     "metadata": {
      "needs_background": "light"
     },
     "output_type": "display_data"
    }
   ],
   "source": [
    "sns.barplot(x='device_isMobile', y='isExit', data=data)"
   ]
  },
  {
   "cell_type": "markdown",
   "metadata": {},
   "source": [
    "## Modelling and hypothesis testing\n",
    "\n",
    "We'll start with logistic regression this week again, as our dependent variable is binary (bounce). If we were only using statistical testing, we'd have the idea of a (pseudo) R2 to allow us to understand how good the model is - i.e., how well it explains the variance of the dependent variable.\n",
    "\n",
    "However, we will use other algorithms that are not regression-based. This means that they don't generally have an **R2** to report. R2 is even not provided by scikit-learn. \n",
    "\n",
    "### How do we compare the models then?\n",
    "\n",
    "Based on their actual performance. For each case, we know if the visitor bounced or not, and we know the predictions made by the model (as we saw last week). So we can compare different models in terms of how good they are in predicting the DV.\n",
    "\n",
    "The problem now shifts to how can we ensure that we have a level playing field across models. Some algorithms - or the inclusion of many independent variables - can lead to a model almost \"memorizing\" the dataset. Meaning it has a great performance in the data that it used for learning, but is unable to generalize. This means its predictions in new data (where we only have the IV's, but not the DV) will be poor. This is called *overfitting*  in very simplistic terms.\n",
    "\n",
    "To prevent overfitting, it's a best practice in SML to split our dataset in two:\n",
    "* A **training dataset** that we provide to the algorithm as input to learn the influence of the features (IV's) on the target (DV)\n",
    "* A **test dataset** that we **do not** provide to the algorithm as an input. We instead reserve it to **test** the model after the training is done. As such, it is data that the model has not seen while being trained, and allows us to understand if it will generalize well.\n",
    "\n",
    "As a note, there are more advanced alternatives to this. You may want to have a look at what cross-validation and the train/validation/test split are. For now, we'll start with the basics: the train/test split.\n",
    "\n",
    "\n"
   ]
  },
  {
   "cell_type": "markdown",
   "metadata": {},
   "source": [
    "## Train/test split\n",
    "\n",
    "Importing the function from sklearn that will help us:"
   ]
  },
  {
   "cell_type": "code",
   "execution_count": 35,
   "metadata": {},
   "outputs": [],
   "source": [
    "from sklearn.model_selection import train_test_split"
   ]
  },
  {
   "cell_type": "code",
   "execution_count": 36,
   "metadata": {},
   "outputs": [],
   "source": [
    "train, test = train_test_split(data, test_size=0.2, random_state=42)"
   ]
  },
  {
   "cell_type": "markdown",
   "metadata": {},
   "source": [
    "What did the command above do?\n",
    "\n",
    "1. I asked for a train and a test set to be created\n",
    "2. I indicated that the data to be used was a dataframe called \"data\"\n",
    "3. I indicated that the size of the test set should be 20% of the total dataset\n",
    "4. The random_state is optional, but is an interesting thing to use. As the split between train/test includes randomizing the order of the rows, you'll always get different train/test splits every time you run the command. Using random_state makes sure that they always look the same."
   ]
  },
  {
   "cell_type": "code",
   "execution_count": 37,
   "metadata": {
    "scrolled": true
   },
   "outputs": [
    {
     "data": {
      "text/html": [
       "<div>\n",
       "<style scoped>\n",
       "    .dataframe tbody tr th:only-of-type {\n",
       "        vertical-align: middle;\n",
       "    }\n",
       "\n",
       "    .dataframe tbody tr th {\n",
       "        vertical-align: top;\n",
       "    }\n",
       "\n",
       "    .dataframe thead th {\n",
       "        text-align: right;\n",
       "    }\n",
       "</style>\n",
       "<table border=\"1\" class=\"dataframe\">\n",
       "  <thead>\n",
       "    <tr style=\"text-align: right;\">\n",
       "      <th></th>\n",
       "      <th>affiliate</th>\n",
       "      <th>channelGrouping</th>\n",
       "      <th>cpc</th>\n",
       "      <th>date</th>\n",
       "      <th>device_browser</th>\n",
       "      <th>device_deviceCategory</th>\n",
       "      <th>device_isMobile</th>\n",
       "      <th>device_operatingSystem</th>\n",
       "      <th>fullVisitorId</th>\n",
       "      <th>geoNetwork_city</th>\n",
       "      <th>...</th>\n",
       "      <th>trafficSource_keyword</th>\n",
       "      <th>trafficSource_medium</th>\n",
       "      <th>trafficSource_referralPath</th>\n",
       "      <th>trafficSource_source</th>\n",
       "      <th>visitId</th>\n",
       "      <th>visitNumber</th>\n",
       "      <th>visitStartTime</th>\n",
       "      <th>other_campaign</th>\n",
       "      <th>cat_campaign</th>\n",
       "      <th>browser_Chrome</th>\n",
       "    </tr>\n",
       "  </thead>\n",
       "  <tbody>\n",
       "    <tr>\n",
       "      <th>17926</th>\n",
       "      <td>0</td>\n",
       "      <td>Referral</td>\n",
       "      <td>0</td>\n",
       "      <td>20171005</td>\n",
       "      <td>Chrome</td>\n",
       "      <td>desktop</td>\n",
       "      <td>0</td>\n",
       "      <td>Windows</td>\n",
       "      <td>6244135294744706546</td>\n",
       "      <td>NaN</td>\n",
       "      <td>...</td>\n",
       "      <td>NaN</td>\n",
       "      <td>(none)</td>\n",
       "      <td>/</td>\n",
       "      <td>(direct)</td>\n",
       "      <td>1507234447</td>\n",
       "      <td>3</td>\n",
       "      <td>1507234447</td>\n",
       "      <td>1</td>\n",
       "      <td>other</td>\n",
       "      <td>1</td>\n",
       "    </tr>\n",
       "    <tr>\n",
       "      <th>19272</th>\n",
       "      <td>0</td>\n",
       "      <td>Direct</td>\n",
       "      <td>0</td>\n",
       "      <td>20171005</td>\n",
       "      <td>Chrome</td>\n",
       "      <td>desktop</td>\n",
       "      <td>0</td>\n",
       "      <td>Macintosh</td>\n",
       "      <td>9320966557116773522</td>\n",
       "      <td>Irvine</td>\n",
       "      <td>...</td>\n",
       "      <td>NaN</td>\n",
       "      <td>(none)</td>\n",
       "      <td>NaN</td>\n",
       "      <td>(direct)</td>\n",
       "      <td>1507258333</td>\n",
       "      <td>1</td>\n",
       "      <td>1507258333</td>\n",
       "      <td>1</td>\n",
       "      <td>other</td>\n",
       "      <td>1</td>\n",
       "    </tr>\n",
       "    <tr>\n",
       "      <th>2549</th>\n",
       "      <td>0</td>\n",
       "      <td>Display</td>\n",
       "      <td>1</td>\n",
       "      <td>20171001</td>\n",
       "      <td>Chrome</td>\n",
       "      <td>mobile</td>\n",
       "      <td>1</td>\n",
       "      <td>Android</td>\n",
       "      <td>8351405687284151166</td>\n",
       "      <td>NaN</td>\n",
       "      <td>...</td>\n",
       "      <td>(User vertical targeting)</td>\n",
       "      <td>cpc</td>\n",
       "      <td>NaN</td>\n",
       "      <td>google</td>\n",
       "      <td>1506912201</td>\n",
       "      <td>2</td>\n",
       "      <td>1506912201</td>\n",
       "      <td>0</td>\n",
       "      <td>cpc</td>\n",
       "      <td>1</td>\n",
       "    </tr>\n",
       "    <tr>\n",
       "      <th>30621</th>\n",
       "      <td>0</td>\n",
       "      <td>Organic Search</td>\n",
       "      <td>0</td>\n",
       "      <td>20171008</td>\n",
       "      <td>Chrome</td>\n",
       "      <td>desktop</td>\n",
       "      <td>0</td>\n",
       "      <td>Windows</td>\n",
       "      <td>1574863029652135950</td>\n",
       "      <td>Jakarta</td>\n",
       "      <td>...</td>\n",
       "      <td>(not provided)</td>\n",
       "      <td>organic</td>\n",
       "      <td>NaN</td>\n",
       "      <td>google</td>\n",
       "      <td>1507528244</td>\n",
       "      <td>1</td>\n",
       "      <td>1507528244</td>\n",
       "      <td>1</td>\n",
       "      <td>other</td>\n",
       "      <td>1</td>\n",
       "    </tr>\n",
       "    <tr>\n",
       "      <th>16912</th>\n",
       "      <td>0</td>\n",
       "      <td>Display</td>\n",
       "      <td>1</td>\n",
       "      <td>20171005</td>\n",
       "      <td>Android Webview</td>\n",
       "      <td>mobile</td>\n",
       "      <td>1</td>\n",
       "      <td>Android</td>\n",
       "      <td>7265310316190326716</td>\n",
       "      <td>Washington</td>\n",
       "      <td>...</td>\n",
       "      <td>(User vertical targeting)</td>\n",
       "      <td>cpc</td>\n",
       "      <td>NaN</td>\n",
       "      <td>google</td>\n",
       "      <td>1507218081</td>\n",
       "      <td>1</td>\n",
       "      <td>1507218081</td>\n",
       "      <td>0</td>\n",
       "      <td>cpc</td>\n",
       "      <td>0</td>\n",
       "    </tr>\n",
       "  </tbody>\n",
       "</table>\n",
       "<p>5 rows × 82 columns</p>\n",
       "</div>"
      ],
      "text/plain": [
       "       affiliate channelGrouping  cpc      date   device_browser  \\\n",
       "17926          0        Referral    0  20171005           Chrome   \n",
       "19272          0          Direct    0  20171005           Chrome   \n",
       "2549           0         Display    1  20171001           Chrome   \n",
       "30621          0  Organic Search    0  20171008           Chrome   \n",
       "16912          0         Display    1  20171005  Android Webview   \n",
       "\n",
       "      device_deviceCategory  device_isMobile device_operatingSystem  \\\n",
       "17926               desktop                0                Windows   \n",
       "19272               desktop                0              Macintosh   \n",
       "2549                 mobile                1                Android   \n",
       "30621               desktop                0                Windows   \n",
       "16912                mobile                1                Android   \n",
       "\n",
       "             fullVisitorId geoNetwork_city  ...      trafficSource_keyword  \\\n",
       "17926  6244135294744706546             NaN  ...                        NaN   \n",
       "19272  9320966557116773522          Irvine  ...                        NaN   \n",
       "2549   8351405687284151166             NaN  ...  (User vertical targeting)   \n",
       "30621  1574863029652135950         Jakarta  ...             (not provided)   \n",
       "16912  7265310316190326716      Washington  ...  (User vertical targeting)   \n",
       "\n",
       "      trafficSource_medium trafficSource_referralPath trafficSource_source  \\\n",
       "17926               (none)                          /             (direct)   \n",
       "19272               (none)                        NaN             (direct)   \n",
       "2549                   cpc                        NaN               google   \n",
       "30621              organic                        NaN               google   \n",
       "16912                  cpc                        NaN               google   \n",
       "\n",
       "          visitId visitNumber  visitStartTime other_campaign  cat_campaign  \\\n",
       "17926  1507234447           3      1507234447              1         other   \n",
       "19272  1507258333           1      1507258333              1         other   \n",
       "2549   1506912201           2      1506912201              0           cpc   \n",
       "30621  1507528244           1      1507528244              1         other   \n",
       "16912  1507218081           1      1507218081              0           cpc   \n",
       "\n",
       "      browser_Chrome  \n",
       "17926              1  \n",
       "19272              1  \n",
       "2549               1  \n",
       "30621              1  \n",
       "16912              0  \n",
       "\n",
       "[5 rows x 82 columns]"
      ]
     },
     "execution_count": 37,
     "metadata": {},
     "output_type": "execute_result"
    }
   ],
   "source": [
    "train.head()"
   ]
  },
  {
   "cell_type": "code",
   "execution_count": 38,
   "metadata": {},
   "outputs": [
    {
     "data": {
      "text/plain": [
       "4184"
      ]
     },
     "execution_count": 38,
     "metadata": {},
     "output_type": "execute_result"
    }
   ],
   "source": [
    "len(train)"
   ]
  },
  {
   "cell_type": "code",
   "execution_count": 39,
   "metadata": {},
   "outputs": [
    {
     "data": {
      "text/html": [
       "<div>\n",
       "<style scoped>\n",
       "    .dataframe tbody tr th:only-of-type {\n",
       "        vertical-align: middle;\n",
       "    }\n",
       "\n",
       "    .dataframe tbody tr th {\n",
       "        vertical-align: top;\n",
       "    }\n",
       "\n",
       "    .dataframe thead th {\n",
       "        text-align: right;\n",
       "    }\n",
       "</style>\n",
       "<table border=\"1\" class=\"dataframe\">\n",
       "  <thead>\n",
       "    <tr style=\"text-align: right;\">\n",
       "      <th></th>\n",
       "      <th>affiliate</th>\n",
       "      <th>channelGrouping</th>\n",
       "      <th>cpc</th>\n",
       "      <th>date</th>\n",
       "      <th>device_browser</th>\n",
       "      <th>device_deviceCategory</th>\n",
       "      <th>device_isMobile</th>\n",
       "      <th>device_operatingSystem</th>\n",
       "      <th>fullVisitorId</th>\n",
       "      <th>geoNetwork_city</th>\n",
       "      <th>...</th>\n",
       "      <th>trafficSource_keyword</th>\n",
       "      <th>trafficSource_medium</th>\n",
       "      <th>trafficSource_referralPath</th>\n",
       "      <th>trafficSource_source</th>\n",
       "      <th>visitId</th>\n",
       "      <th>visitNumber</th>\n",
       "      <th>visitStartTime</th>\n",
       "      <th>other_campaign</th>\n",
       "      <th>cat_campaign</th>\n",
       "      <th>browser_Chrome</th>\n",
       "    </tr>\n",
       "  </thead>\n",
       "  <tbody>\n",
       "    <tr>\n",
       "      <th>45522</th>\n",
       "      <td>0</td>\n",
       "      <td>Display</td>\n",
       "      <td>1</td>\n",
       "      <td>20171013</td>\n",
       "      <td>Safari</td>\n",
       "      <td>desktop</td>\n",
       "      <td>0</td>\n",
       "      <td>Macintosh</td>\n",
       "      <td>1338548340175567353</td>\n",
       "      <td>NaN</td>\n",
       "      <td>...</td>\n",
       "      <td>(automatic matching)</td>\n",
       "      <td>cpc</td>\n",
       "      <td>NaN</td>\n",
       "      <td>google</td>\n",
       "      <td>1507893724</td>\n",
       "      <td>1</td>\n",
       "      <td>1507893724</td>\n",
       "      <td>0</td>\n",
       "      <td>cpc</td>\n",
       "      <td>0</td>\n",
       "    </tr>\n",
       "    <tr>\n",
       "      <th>19901</th>\n",
       "      <td>0</td>\n",
       "      <td>Display</td>\n",
       "      <td>1</td>\n",
       "      <td>20171006</td>\n",
       "      <td>Samsung Internet</td>\n",
       "      <td>mobile</td>\n",
       "      <td>1</td>\n",
       "      <td>Android</td>\n",
       "      <td>4554879046502406644</td>\n",
       "      <td>(not set)</td>\n",
       "      <td>...</td>\n",
       "      <td>(automatic matching)</td>\n",
       "      <td>cpc</td>\n",
       "      <td>NaN</td>\n",
       "      <td>google</td>\n",
       "      <td>1507273479</td>\n",
       "      <td>1</td>\n",
       "      <td>1507273479</td>\n",
       "      <td>0</td>\n",
       "      <td>cpc</td>\n",
       "      <td>0</td>\n",
       "    </tr>\n",
       "    <tr>\n",
       "      <th>19718</th>\n",
       "      <td>0</td>\n",
       "      <td>Organic Search</td>\n",
       "      <td>0</td>\n",
       "      <td>20171005</td>\n",
       "      <td>Chrome</td>\n",
       "      <td>desktop</td>\n",
       "      <td>0</td>\n",
       "      <td>Windows</td>\n",
       "      <td>8219017373829637442</td>\n",
       "      <td>NaN</td>\n",
       "      <td>...</td>\n",
       "      <td>(not provided)</td>\n",
       "      <td>organic</td>\n",
       "      <td>NaN</td>\n",
       "      <td>google</td>\n",
       "      <td>1507268979</td>\n",
       "      <td>1</td>\n",
       "      <td>1507268979</td>\n",
       "      <td>1</td>\n",
       "      <td>other</td>\n",
       "      <td>1</td>\n",
       "    </tr>\n",
       "    <tr>\n",
       "      <th>41775</th>\n",
       "      <td>0</td>\n",
       "      <td>Organic Search</td>\n",
       "      <td>0</td>\n",
       "      <td>20171011</td>\n",
       "      <td>Firefox</td>\n",
       "      <td>desktop</td>\n",
       "      <td>0</td>\n",
       "      <td>Windows</td>\n",
       "      <td>7453418045224821117</td>\n",
       "      <td>NaN</td>\n",
       "      <td>...</td>\n",
       "      <td>(not provided)</td>\n",
       "      <td>organic</td>\n",
       "      <td>NaN</td>\n",
       "      <td>google</td>\n",
       "      <td>1507778718</td>\n",
       "      <td>1</td>\n",
       "      <td>1507778718</td>\n",
       "      <td>1</td>\n",
       "      <td>other</td>\n",
       "      <td>0</td>\n",
       "    </tr>\n",
       "    <tr>\n",
       "      <th>51420</th>\n",
       "      <td>0</td>\n",
       "      <td>Organic Search</td>\n",
       "      <td>0</td>\n",
       "      <td>20171015</td>\n",
       "      <td>Safari</td>\n",
       "      <td>desktop</td>\n",
       "      <td>0</td>\n",
       "      <td>Macintosh</td>\n",
       "      <td>597605757037454068</td>\n",
       "      <td>NaN</td>\n",
       "      <td>...</td>\n",
       "      <td>(not provided)</td>\n",
       "      <td>organic</td>\n",
       "      <td>NaN</td>\n",
       "      <td>google</td>\n",
       "      <td>1508099984</td>\n",
       "      <td>2</td>\n",
       "      <td>1508099984</td>\n",
       "      <td>1</td>\n",
       "      <td>other</td>\n",
       "      <td>0</td>\n",
       "    </tr>\n",
       "  </tbody>\n",
       "</table>\n",
       "<p>5 rows × 82 columns</p>\n",
       "</div>"
      ],
      "text/plain": [
       "       affiliate channelGrouping  cpc      date    device_browser  \\\n",
       "45522          0         Display    1  20171013            Safari   \n",
       "19901          0         Display    1  20171006  Samsung Internet   \n",
       "19718          0  Organic Search    0  20171005            Chrome   \n",
       "41775          0  Organic Search    0  20171011           Firefox   \n",
       "51420          0  Organic Search    0  20171015            Safari   \n",
       "\n",
       "      device_deviceCategory  device_isMobile device_operatingSystem  \\\n",
       "45522               desktop                0              Macintosh   \n",
       "19901                mobile                1                Android   \n",
       "19718               desktop                0                Windows   \n",
       "41775               desktop                0                Windows   \n",
       "51420               desktop                0              Macintosh   \n",
       "\n",
       "             fullVisitorId geoNetwork_city  ... trafficSource_keyword  \\\n",
       "45522  1338548340175567353             NaN  ...  (automatic matching)   \n",
       "19901  4554879046502406644       (not set)  ...  (automatic matching)   \n",
       "19718  8219017373829637442             NaN  ...        (not provided)   \n",
       "41775  7453418045224821117             NaN  ...        (not provided)   \n",
       "51420   597605757037454068             NaN  ...        (not provided)   \n",
       "\n",
       "      trafficSource_medium trafficSource_referralPath trafficSource_source  \\\n",
       "45522                  cpc                        NaN               google   \n",
       "19901                  cpc                        NaN               google   \n",
       "19718              organic                        NaN               google   \n",
       "41775              organic                        NaN               google   \n",
       "51420              organic                        NaN               google   \n",
       "\n",
       "          visitId visitNumber  visitStartTime other_campaign  cat_campaign  \\\n",
       "45522  1507893724           1      1507893724              0           cpc   \n",
       "19901  1507273479           1      1507273479              0           cpc   \n",
       "19718  1507268979           1      1507268979              1         other   \n",
       "41775  1507778718           1      1507778718              1         other   \n",
       "51420  1508099984           2      1508099984              1         other   \n",
       "\n",
       "      browser_Chrome  \n",
       "45522              0  \n",
       "19901              0  \n",
       "19718              1  \n",
       "41775              0  \n",
       "51420              0  \n",
       "\n",
       "[5 rows x 82 columns]"
      ]
     },
     "execution_count": 39,
     "metadata": {},
     "output_type": "execute_result"
    }
   ],
   "source": [
    "test.head()"
   ]
  },
  {
   "cell_type": "code",
   "execution_count": 40,
   "metadata": {},
   "outputs": [
    {
     "data": {
      "text/plain": [
       "1047"
      ]
     },
     "execution_count": 40,
     "metadata": {},
     "output_type": "execute_result"
    }
   ],
   "source": [
    "len(test)"
   ]
  },
  {
   "cell_type": "code",
   "execution_count": 41,
   "metadata": {},
   "outputs": [
    {
     "data": {
      "text/plain": [
       "(5231, 4184, 1047, 0.7998470655706366, 0.2001529344293634)"
      ]
     },
     "execution_count": 41,
     "metadata": {},
     "output_type": "execute_result"
    }
   ],
   "source": [
    "len(data), len(train), len(test), len(train) / len(data), len(test) / len(data)"
   ]
  },
  {
   "cell_type": "markdown",
   "metadata": {},
   "source": [
    "As I can see above, the split turned out OK, and the datasets in the size I expect"
   ]
  },
  {
   "cell_type": "markdown",
   "metadata": {},
   "source": [
    "## Probabilities for leaving the website using Logistic Regression\n",
    "\n",
    "First, using \"traditional\" (frequentist) statistics. But for a **binary** dependent variable. We therefore need to use logistic regression.\n",
    "\n",
    "To make sure my results are comparable with the supervised machine learning model, I'll use only the train data."
   ]
  },
  {
   "cell_type": "code",
   "execution_count": 42,
   "metadata": {},
   "outputs": [],
   "source": [
    "target = \"isExit\"\n",
    "features = ['cpc',  'affiliate']"
   ]
  },
  {
   "cell_type": "code",
   "execution_count": 43,
   "metadata": {},
   "outputs": [],
   "source": [
    "logit_stats = sm.Logit(train[target], sm.add_constant(train[features]))"
   ]
  },
  {
   "cell_type": "code",
   "execution_count": 44,
   "metadata": {},
   "outputs": [
    {
     "name": "stdout",
     "output_type": "stream",
     "text": [
      "Optimization terminated successfully.\n",
      "         Current function value: 0.617615\n",
      "         Iterations 6\n"
     ]
    }
   ],
   "source": [
    "result_logit = logit_stats.fit()"
   ]
  },
  {
   "cell_type": "code",
   "execution_count": 45,
   "metadata": {},
   "outputs": [
    {
     "name": "stdout",
     "output_type": "stream",
     "text": [
      "                           Logit Regression Results                           \n",
      "==============================================================================\n",
      "Dep. Variable:                 isExit   No. Observations:                 4184\n",
      "Model:                          Logit   Df Residuals:                     4181\n",
      "Method:                           MLE   Df Model:                            2\n",
      "Date:                Sun, 14 Mar 2021   Pseudo R-squ.:                 0.08987\n",
      "Time:                        16:39:01   Log-Likelihood:                -2584.1\n",
      "converged:                       True   LL-Null:                       -2839.3\n",
      "Covariance Type:            nonrobust   LLR p-value:                1.546e-111\n",
      "==============================================================================\n",
      "                 coef    std err          z      P>|z|      [0.025      0.975]\n",
      "------------------------------------------------------------------------------\n",
      "const         -0.0416      0.036     -1.154      0.249      -0.112       0.029\n",
      "cpc            1.9123      0.098     19.575      0.000       1.721       2.104\n",
      "affiliate      0.2800      0.265      1.058      0.290      -0.239       0.799\n",
      "==============================================================================\n"
     ]
    }
   ],
   "source": [
    "print(result_logit.summary())"
   ]
  },
  {
   "cell_type": "markdown",
   "metadata": {},
   "source": [
    "## Now let's see what happens if I add the additional user variables"
   ]
  },
  {
   "cell_type": "code",
   "execution_count": 46,
   "metadata": {},
   "outputs": [],
   "source": [
    "features_controls = ['cpc', 'affiliate', 'browser_Chrome', 'device_isMobile']"
   ]
  },
  {
   "cell_type": "code",
   "execution_count": 47,
   "metadata": {},
   "outputs": [],
   "source": [
    "logit_stats_user = sm.Logit(train[target], sm.add_constant(train[features_controls]))"
   ]
  },
  {
   "cell_type": "code",
   "execution_count": 48,
   "metadata": {},
   "outputs": [
    {
     "name": "stdout",
     "output_type": "stream",
     "text": [
      "Optimization terminated successfully.\n",
      "         Current function value: 0.607529\n",
      "         Iterations 6\n"
     ]
    }
   ],
   "source": [
    "result_logit_user = logit_stats_user.fit()"
   ]
  },
  {
   "cell_type": "code",
   "execution_count": 49,
   "metadata": {},
   "outputs": [
    {
     "name": "stdout",
     "output_type": "stream",
     "text": [
      "                           Logit Regression Results                           \n",
      "==============================================================================\n",
      "Dep. Variable:                 isExit   No. Observations:                 4184\n",
      "Model:                          Logit   Df Residuals:                     4179\n",
      "Method:                           MLE   Df Model:                            4\n",
      "Date:                Sun, 14 Mar 2021   Pseudo R-squ.:                  0.1047\n",
      "Time:                        16:39:01   Log-Likelihood:                -2541.9\n",
      "converged:                       True   LL-Null:                       -2839.3\n",
      "Covariance Type:            nonrobust   LLR p-value:                2.173e-127\n",
      "===================================================================================\n",
      "                      coef    std err          z      P>|z|      [0.025      0.975]\n",
      "-----------------------------------------------------------------------------------\n",
      "const               0.1196      0.077      1.562      0.118      -0.030       0.270\n",
      "cpc                 1.6332      0.108     15.138      0.000       1.422       1.845\n",
      "affiliate           0.3978      0.267      1.488      0.137      -0.126       0.922\n",
      "browser_Chrome     -0.4226      0.077     -5.471      0.000      -0.574      -0.271\n",
      "device_isMobile     0.4064      0.080      5.110      0.000       0.251       0.562\n",
      "===================================================================================\n"
     ]
    }
   ],
   "source": [
    "print(result_logit_user.summary())"
   ]
  },
  {
   "cell_type": "markdown",
   "metadata": {},
   "source": [
    "Some conclusions here:\n",
    "* As seen last week, the campaigns actually increase the likelihood of a bounce (compared to other campaigns)\n",
    "* In the second model we see that users that come in using Chrome are actually less likely to bounce\n",
    "* In the second model we also see users that come in using a mobile device are more likely to bounce\n",
    "\n",
    "### Which model fits the data best?\n",
    "\n",
    "* If we are interested in model fit, we can use the Pseudo R2 of the models to compare them. We see that there is a slight improvement when we add the second set of variables. \n",
    "* On the basis of parsimony, though, was the improvement large enough to justify having more variables?\n",
    "* From a substantive perspective, do these two variables add important information?\n",
    "\n",
    "This all depends on the case - but it's important to think along these lines.\n",
    "\n",
    "**Important note:** Using Pseudo-R2 is somewhat debatable for logistic regression. We'll use it in this course, but for a thesis or actual usage in practice you may want to look further into other fit indices such as AIC or BIC.\n",
    "\n"
   ]
  },
  {
   "cell_type": "markdown",
   "metadata": {},
   "source": [
    "## Using Supervised Machine Learning\n",
    "\n",
    "Here I'll start with Logistic Regression in the same way we used for DA5. The change though is that we'll use the training set."
   ]
  },
  {
   "cell_type": "code",
   "execution_count": 50,
   "metadata": {},
   "outputs": [],
   "source": [
    "logit_clf = LogisticRegression(max_iter=1000, fit_intercept = True)"
   ]
  },
  {
   "cell_type": "code",
   "execution_count": 51,
   "metadata": {},
   "outputs": [
    {
     "data": {
      "text/plain": [
       "['cpc', 'affiliate']"
      ]
     },
     "execution_count": 51,
     "metadata": {},
     "output_type": "execute_result"
    }
   ],
   "source": [
    "features"
   ]
  },
  {
   "cell_type": "code",
   "execution_count": 52,
   "metadata": {},
   "outputs": [
    {
     "data": {
      "text/plain": [
       "'isExit'"
      ]
     },
     "execution_count": 52,
     "metadata": {},
     "output_type": "execute_result"
    }
   ],
   "source": [
    "target"
   ]
  },
  {
   "cell_type": "code",
   "execution_count": 53,
   "metadata": {},
   "outputs": [
    {
     "data": {
      "text/plain": [
       "LogisticRegression(max_iter=1000)"
      ]
     },
     "execution_count": 53,
     "metadata": {},
     "output_type": "execute_result"
    }
   ],
   "source": [
    "logit_clf.fit(train[features], train[target])"
   ]
  },
  {
   "cell_type": "code",
   "execution_count": 54,
   "metadata": {},
   "outputs": [
    {
     "data": {
      "text/plain": [
       "array([[0.13526625, 0.86473375]])"
      ]
     },
     "execution_count": 54,
     "metadata": {},
     "output_type": "execute_result"
    }
   ],
   "source": [
    "logit_clf.predict_proba([[1,0]])"
   ]
  },
  {
   "cell_type": "code",
   "execution_count": 55,
   "metadata": {},
   "outputs": [
    {
     "data": {
      "text/plain": [
       "array([[0.4450762, 0.5549238]])"
      ]
     },
     "execution_count": 55,
     "metadata": {},
     "output_type": "execute_result"
    }
   ],
   "source": [
    "logit_clf.predict_proba([[0,1]])"
   ]
  },
  {
   "cell_type": "code",
   "execution_count": 56,
   "metadata": {},
   "outputs": [
    {
     "data": {
      "text/plain": [
       "array([[0.5097026, 0.4902974]])"
      ]
     },
     "execution_count": 56,
     "metadata": {},
     "output_type": "execute_result"
    }
   ],
   "source": [
    "logit_clf.predict_proba([[0,0]])"
   ]
  },
  {
   "cell_type": "markdown",
   "metadata": {},
   "source": [
    "Let me create another model, now with the additional variables"
   ]
  },
  {
   "cell_type": "code",
   "execution_count": 57,
   "metadata": {},
   "outputs": [],
   "source": [
    "logit_clf_user = LogisticRegression(max_iter=1000, fit_intercept = True)"
   ]
  },
  {
   "cell_type": "code",
   "execution_count": 58,
   "metadata": {},
   "outputs": [
    {
     "data": {
      "text/plain": [
       "['cpc', 'affiliate', 'browser_Chrome', 'device_isMobile']"
      ]
     },
     "execution_count": 58,
     "metadata": {},
     "output_type": "execute_result"
    }
   ],
   "source": [
    "features_controls"
   ]
  },
  {
   "cell_type": "code",
   "execution_count": 59,
   "metadata": {},
   "outputs": [
    {
     "data": {
      "text/plain": [
       "'isExit'"
      ]
     },
     "execution_count": 59,
     "metadata": {},
     "output_type": "execute_result"
    }
   ],
   "source": [
    "target"
   ]
  },
  {
   "cell_type": "code",
   "execution_count": 60,
   "metadata": {},
   "outputs": [
    {
     "data": {
      "text/plain": [
       "LogisticRegression(max_iter=1000)"
      ]
     },
     "execution_count": 60,
     "metadata": {},
     "output_type": "execute_result"
    }
   ],
   "source": [
    "logit_clf_user.fit(train[features_controls], train[target])"
   ]
  },
  {
   "cell_type": "markdown",
   "metadata": {},
   "source": [
    "Let's predict what happens when someone comes in via CPC, with Chrome - and just change if they are using a mobile or not."
   ]
  },
  {
   "cell_type": "code",
   "execution_count": 61,
   "metadata": {},
   "outputs": [
    {
     "data": {
      "text/plain": [
       "array([[0.21168598, 0.78831402]])"
      ]
     },
     "execution_count": 61,
     "metadata": {},
     "output_type": "execute_result"
    }
   ],
   "source": [
    "logit_clf_user.predict_proba([[1,0,1,0]])"
   ]
  },
  {
   "cell_type": "code",
   "execution_count": 62,
   "metadata": {},
   "outputs": [
    {
     "data": {
      "text/plain": [
       "array([[0.15128151, 0.84871849]])"
      ]
     },
     "execution_count": 62,
     "metadata": {},
     "output_type": "execute_result"
    }
   ],
   "source": [
    "logit_clf_user.predict_proba([[1,0,1,1]])"
   ]
  },
  {
   "cell_type": "markdown",
   "metadata": {},
   "source": [
    "## Comparing the Supervised Machine Learning models"
   ]
  },
  {
   "cell_type": "markdown",
   "metadata": {},
   "source": [
    "* R2: compare whether the model fits the data\n",
    "* this section: compare how well the model predicts"
   ]
  },
  {
   "cell_type": "markdown",
   "metadata": {},
   "source": [
    "As discussed earlier, we'll compare the models on the basis of their **performance** on the test set. So we'll ask each model to predict whether each case in the test set is a bounce or not (on the basis of the information coming from the features), and compare with what we actually know about them."
   ]
  },
  {
   "cell_type": "markdown",
   "metadata": {},
   "source": [
    "First, I'll ask for predictions on the test set by the first model:"
   ]
  },
  {
   "cell_type": "code",
   "execution_count": 63,
   "metadata": {},
   "outputs": [
    {
     "name": "stderr",
     "output_type": "stream",
     "text": [
      "/opt/anaconda3/lib/python3.7/site-packages/ipykernel_launcher.py:1: SettingWithCopyWarning: \n",
      "A value is trying to be set on a copy of a slice from a DataFrame.\n",
      "Try using .loc[row_indexer,col_indexer] = value instead\n",
      "\n",
      "See the caveats in the documentation: https://pandas.pydata.org/pandas-docs/stable/user_guide/indexing.html#returning-a-view-versus-a-copy\n",
      "  \"\"\"Entry point for launching an IPython kernel.\n"
     ]
    }
   ],
   "source": [
    "test['predicted_bounce_logit'] = logit_clf.predict(test[features])"
   ]
  },
  {
   "cell_type": "code",
   "execution_count": 64,
   "metadata": {},
   "outputs": [
    {
     "data": {
      "text/plain": [
       "0    754\n",
       "1    293\n",
       "Name: predicted_bounce_logit, dtype: int64"
      ]
     },
     "execution_count": 64,
     "metadata": {},
     "output_type": "execute_result"
    }
   ],
   "source": [
    "test['predicted_bounce_logit'].value_counts()"
   ]
  },
  {
   "cell_type": "code",
   "execution_count": 65,
   "metadata": {},
   "outputs": [
    {
     "data": {
      "text/html": [
       "<div>\n",
       "<style scoped>\n",
       "    .dataframe tbody tr th:only-of-type {\n",
       "        vertical-align: middle;\n",
       "    }\n",
       "\n",
       "    .dataframe tbody tr th {\n",
       "        vertical-align: top;\n",
       "    }\n",
       "\n",
       "    .dataframe thead th {\n",
       "        text-align: right;\n",
       "    }\n",
       "</style>\n",
       "<table border=\"1\" class=\"dataframe\">\n",
       "  <thead>\n",
       "    <tr style=\"text-align: right;\">\n",
       "      <th></th>\n",
       "      <th>isExit</th>\n",
       "      <th>predicted_bounce_logit</th>\n",
       "    </tr>\n",
       "  </thead>\n",
       "  <tbody>\n",
       "    <tr>\n",
       "      <th>45522</th>\n",
       "      <td>0</td>\n",
       "      <td>1</td>\n",
       "    </tr>\n",
       "    <tr>\n",
       "      <th>19901</th>\n",
       "      <td>1</td>\n",
       "      <td>1</td>\n",
       "    </tr>\n",
       "    <tr>\n",
       "      <th>19718</th>\n",
       "      <td>1</td>\n",
       "      <td>0</td>\n",
       "    </tr>\n",
       "    <tr>\n",
       "      <th>41775</th>\n",
       "      <td>1</td>\n",
       "      <td>0</td>\n",
       "    </tr>\n",
       "    <tr>\n",
       "      <th>51420</th>\n",
       "      <td>1</td>\n",
       "      <td>0</td>\n",
       "    </tr>\n",
       "  </tbody>\n",
       "</table>\n",
       "</div>"
      ],
      "text/plain": [
       "       isExit  predicted_bounce_logit\n",
       "45522       0                       1\n",
       "19901       1                       1\n",
       "19718       1                       0\n",
       "41775       1                       0\n",
       "51420       1                       0"
      ]
     },
     "execution_count": 65,
     "metadata": {},
     "output_type": "execute_result"
    }
   ],
   "source": [
    "test[['isExit', 'predicted_bounce_logit']].head()"
   ]
  },
  {
   "cell_type": "markdown",
   "metadata": {},
   "source": [
    "Now let's ask for predictions by the second model:"
   ]
  },
  {
   "cell_type": "code",
   "execution_count": 66,
   "metadata": {},
   "outputs": [
    {
     "name": "stderr",
     "output_type": "stream",
     "text": [
      "/opt/anaconda3/lib/python3.7/site-packages/ipykernel_launcher.py:1: SettingWithCopyWarning: \n",
      "A value is trying to be set on a copy of a slice from a DataFrame.\n",
      "Try using .loc[row_indexer,col_indexer] = value instead\n",
      "\n",
      "See the caveats in the documentation: https://pandas.pydata.org/pandas-docs/stable/user_guide/indexing.html#returning-a-view-versus-a-copy\n",
      "  \"\"\"Entry point for launching an IPython kernel.\n"
     ]
    }
   ],
   "source": [
    "test['predicted_bounce_logit_user'] = logit_clf_user.predict(test[features_controls])"
   ]
  },
  {
   "cell_type": "code",
   "execution_count": 67,
   "metadata": {},
   "outputs": [
    {
     "data": {
      "text/plain": [
       "1    649\n",
       "0    398\n",
       "Name: predicted_bounce_logit_user, dtype: int64"
      ]
     },
     "execution_count": 67,
     "metadata": {},
     "output_type": "execute_result"
    }
   ],
   "source": [
    "test['predicted_bounce_logit_user'].value_counts()"
   ]
  },
  {
   "cell_type": "code",
   "execution_count": 68,
   "metadata": {},
   "outputs": [
    {
     "data": {
      "text/html": [
       "<div>\n",
       "<style scoped>\n",
       "    .dataframe tbody tr th:only-of-type {\n",
       "        vertical-align: middle;\n",
       "    }\n",
       "\n",
       "    .dataframe tbody tr th {\n",
       "        vertical-align: top;\n",
       "    }\n",
       "\n",
       "    .dataframe thead th {\n",
       "        text-align: right;\n",
       "    }\n",
       "</style>\n",
       "<table border=\"1\" class=\"dataframe\">\n",
       "  <thead>\n",
       "    <tr style=\"text-align: right;\">\n",
       "      <th></th>\n",
       "      <th>isExit</th>\n",
       "      <th>predicted_bounce_logit</th>\n",
       "      <th>predicted_bounce_logit_user</th>\n",
       "    </tr>\n",
       "  </thead>\n",
       "  <tbody>\n",
       "    <tr>\n",
       "      <th>45522</th>\n",
       "      <td>0</td>\n",
       "      <td>1</td>\n",
       "      <td>1</td>\n",
       "    </tr>\n",
       "    <tr>\n",
       "      <th>19901</th>\n",
       "      <td>1</td>\n",
       "      <td>1</td>\n",
       "      <td>1</td>\n",
       "    </tr>\n",
       "    <tr>\n",
       "      <th>19718</th>\n",
       "      <td>1</td>\n",
       "      <td>0</td>\n",
       "      <td>0</td>\n",
       "    </tr>\n",
       "    <tr>\n",
       "      <th>41775</th>\n",
       "      <td>1</td>\n",
       "      <td>0</td>\n",
       "      <td>1</td>\n",
       "    </tr>\n",
       "    <tr>\n",
       "      <th>51420</th>\n",
       "      <td>1</td>\n",
       "      <td>0</td>\n",
       "      <td>1</td>\n",
       "    </tr>\n",
       "  </tbody>\n",
       "</table>\n",
       "</div>"
      ],
      "text/plain": [
       "       isExit  predicted_bounce_logit  predicted_bounce_logit_user\n",
       "45522       0                       1                            1\n",
       "19901       1                       1                            1\n",
       "19718       1                       0                            0\n",
       "41775       1                       0                            1\n",
       "51420       1                       0                            1"
      ]
     },
     "execution_count": 68,
     "metadata": {},
     "output_type": "execute_result"
    }
   ],
   "source": [
    "test[['isExit', 'predicted_bounce_logit', 'predicted_bounce_logit_user']].head()"
   ]
  },
  {
   "cell_type": "markdown",
   "metadata": {},
   "source": [
    "I have predictions... but how do I compare them?"
   ]
  },
  {
   "cell_type": "markdown",
   "metadata": {},
   "source": [
    "### Creating a confusion matrix\n",
    "\n",
    "A confusion matrix can help us understand how many correct or incorrect predictions are made. It looks almost like a .groupby operation. Let's create it first, and then interpret.\n",
    "\n",
    "First, we need to import it:\n",
    "\n"
   ]
  },
  {
   "cell_type": "code",
   "execution_count": 69,
   "metadata": {},
   "outputs": [],
   "source": [
    "from sklearn.metrics import confusion_matrix"
   ]
  },
  {
   "cell_type": "markdown",
   "metadata": {},
   "source": [
    "Now we can use it. We always put the actual DV (target) first, and then the predictions:"
   ]
  },
  {
   "cell_type": "code",
   "execution_count": 70,
   "metadata": {},
   "outputs": [
    {
     "name": "stdout",
     "output_type": "stream",
     "text": [
      "[[381  48]\n",
      " [373 245]]\n"
     ]
    }
   ],
   "source": [
    "print(confusion_matrix(test['isExit'], test['predicted_bounce_logit']))"
   ]
  },
  {
   "cell_type": "markdown",
   "metadata": {},
   "source": [
    "|  | 0 | 1 |\n",
    "| --- | --- | --- |\n",
    "| 0 | a | b |\n",
    "| 1 | c | d |\n",
    "\n",
    "* a: predict as negative and are really negative (**True negative**)\n",
    "* b: predict as positive but are really negative (**False positive**)\n",
    "* c: predict as negative but are really positive (**False negative**)\n",
    "* d: predict as positive and are really positive (**True positive**)"
   ]
  },
  {
   "cell_type": "markdown",
   "metadata": {},
   "source": [
    "The following link has the documentation for the confusion matrix: http://scikit-learn.org/stable/modules/generated/sklearn.metrics.confusion_matrix.html\n",
    "\n",
    "In scikit-learn, that a 2 X 2 confusion matrix for a binary classification generally looks like:\n",
    "\n",
    "| Actual/Predicted        | 0           | 1  |\n",
    "| ------------- |:-------------:| -----:|\n",
    "| 0      | True Negative | False Positive |\n",
    "| 1      | False Negative    |   True Positive |\n"
   ]
  },
  {
   "cell_type": "markdown",
   "metadata": {},
   "source": [
    "So looking at the above, it seems that the model predicted quite a lot of incorrect cases as being 0 (False negatives) when they should have been 1, and a few cases as 1 (False positives) when they should have been 0. \n",
    "\n",
    "### How does the user model fare?"
   ]
  },
  {
   "cell_type": "markdown",
   "metadata": {},
   "source": [
    "**Test different models and compare the confusion matrices**"
   ]
  },
  {
   "cell_type": "code",
   "execution_count": 71,
   "metadata": {},
   "outputs": [
    {
     "name": "stdout",
     "output_type": "stream",
     "text": [
      "[[214 215]\n",
      " [184 434]]\n"
     ]
    }
   ],
   "source": [
    "print(confusion_matrix(test['isExit'], test['predicted_bounce_logit_user']))"
   ]
  },
  {
   "cell_type": "markdown",
   "metadata": {},
   "source": [
    "We see some differences, but it's hard to just compare on the basis of confusion matrix. Let's use instead another set of metrics very frequently used in machine learning: Precision & Recall."
   ]
  },
  {
   "cell_type": "markdown",
   "metadata": {},
   "source": [
    "### Calculating Precision & Recall\n",
    "\n",
    "What do Precision and Recall mean?\n",
    "* Precision: True Positives / (True Positives + False Positives)\n",
    " * How well does the model make the correct prediction?\n",
    "* Recall: True Positives / (True Positives + False Negatives)\n",
    " * Among all the true positives in the data, how many can the model really find?\n",
    "\n",
    "\n",
    "<img src=\"https://upload.wikimedia.org/wikipedia/commons/thumb/2/26/Precisionrecall.svg/440px-Precisionrecall.svg.png\">  Source: Wikipedia\n",
    "\n",
    "Do you prefer higher precision or recall?\n",
    "* Ideally, the two values should both be high."
   ]
  },
  {
   "cell_type": "code",
   "execution_count": 72,
   "metadata": {},
   "outputs": [],
   "source": [
    "from sklearn.metrics import classification_report"
   ]
  },
  {
   "cell_type": "markdown",
   "metadata": {},
   "source": [
    "#### Model only with campaign data (CPC & Affiliate)"
   ]
  },
  {
   "cell_type": "code",
   "execution_count": 73,
   "metadata": {},
   "outputs": [
    {
     "name": "stdout",
     "output_type": "stream",
     "text": [
      "              precision    recall  f1-score   support\n",
      "\n",
      "           0       0.51      0.89      0.64       429\n",
      "           1       0.84      0.40      0.54       618\n",
      "\n",
      "    accuracy                           0.60      1047\n",
      "   macro avg       0.67      0.64      0.59      1047\n",
      "weighted avg       0.70      0.60      0.58      1047\n",
      "\n"
     ]
    }
   ],
   "source": [
    "print(classification_report(test['isExit'], test['predicted_bounce_logit']))"
   ]
  },
  {
   "cell_type": "markdown",
   "metadata": {},
   "source": [
    "The model is good at predicting 1s, and recalling 0s. \n",
    "* Do I value 0 or 1 more?\n",
    "* f1-score: general measure combining precision & recall"
   ]
  },
  {
   "cell_type": "markdown",
   "metadata": {},
   "source": [
    "#### Adding Chrome & Device Type"
   ]
  },
  {
   "cell_type": "code",
   "execution_count": 74,
   "metadata": {},
   "outputs": [
    {
     "name": "stdout",
     "output_type": "stream",
     "text": [
      "              precision    recall  f1-score   support\n",
      "\n",
      "           0       0.54      0.50      0.52       429\n",
      "           1       0.67      0.70      0.69       618\n",
      "\n",
      "    accuracy                           0.62      1047\n",
      "   macro avg       0.60      0.60      0.60      1047\n",
      "weighted avg       0.62      0.62      0.62      1047\n",
      "\n"
     ]
    }
   ],
   "source": [
    "print(classification_report(test['isExit'], test['predicted_bounce_logit_user']))"
   ]
  },
  {
   "cell_type": "markdown",
   "metadata": {},
   "source": [
    "In general: model 2 has higher average scores  \n",
    "If precision is more important: model 1 is better"
   ]
  },
  {
   "cell_type": "markdown",
   "metadata": {},
   "source": [
    "### What does it all mean?\n",
    "* In general, the F1-score (that combines precision & recall) is slightly better for the second model compared to the first (weighted average). \n",
    "* However, the first model provides slightly more correct predictions (precision) compared to the second model, yet it does a slightly worse job in finding the cases (i.e., if it predicts something, it tends to be more correct, yet it misses cases)\n",
    "\n",
    "We'll discuss in class if - and how - we would use these metrics to make a selection."
   ]
  },
  {
   "cell_type": "markdown",
   "metadata": {},
   "source": [
    "## Let's move away from regression...\n",
    "\n",
    "We've used a regression-based algorithm so far (Logistic Regression). It tries to **find a way to split the cases in two**: ones that are likely to bounce, and ones that aren't likely to bounce. If we were to plot it, it would look somewhat like this:\n",
    "\n",
    "<img src=\"https://scikit-learn.org/stable/_images/sphx_glr_plot_logistic_thumb.png\"> (Source: SkLearn)\n",
    "\n",
    "Instead of drawing this \"line\" to split the cases, we could instead try to classify customers into a group of potential \"bouncers\" and the ones not likely to bounce. This can be done using a series of decisions in a decision tree, which classifies potential visitors based on combinations of simple thresholding rules inferred from the training samples. It looks like this:\n",
    "\n",
    "<img src=\"https://scikit-learn.org/stable/_images/sphx_glr_plot_iris_dtc_002.png\"> (Source: SkLearn)\n",
    "\n",
    "**Decision tree**: see different combinations of variables to figure out how the data can be split"
   ]
  },
  {
   "cell_type": "markdown",
   "metadata": {},
   "source": [
    "For more context and a tutorial: see https://towardsdatascience.com/scikit-learn-decision-trees-explained-803f3812290d\n",
    "\n",
    "Let's use it here:"
   ]
  },
  {
   "cell_type": "code",
   "execution_count": 75,
   "metadata": {},
   "outputs": [],
   "source": [
    "import matplotlib.pylab as plt\n",
    "from sklearn.tree import DecisionTreeClassifier\n",
    "from sklearn.tree._export import plot_tree"
   ]
  },
  {
   "cell_type": "code",
   "execution_count": 76,
   "metadata": {},
   "outputs": [],
   "source": [
    "dt_clf = DecisionTreeClassifier()"
   ]
  },
  {
   "cell_type": "code",
   "execution_count": 77,
   "metadata": {},
   "outputs": [
    {
     "data": {
      "text/plain": [
       "DecisionTreeClassifier()"
      ]
     },
     "execution_count": 77,
     "metadata": {},
     "output_type": "execute_result"
    }
   ],
   "source": [
    "dt_clf.fit(train[features], train[target])"
   ]
  },
  {
   "cell_type": "code",
   "execution_count": 78,
   "metadata": {},
   "outputs": [
    {
     "data": {
      "text/plain": [
       "['cpc', 'affiliate']"
      ]
     },
     "execution_count": 78,
     "metadata": {},
     "output_type": "execute_result"
    }
   ],
   "source": [
    "features"
   ]
  },
  {
   "cell_type": "code",
   "execution_count": 79,
   "metadata": {},
   "outputs": [
    {
     "data": {
      "image/png": "[encoded data removed]",
      "text/plain": [
       "<Figure size 360x360 with 1 Axes>"
      ]
     },
     "metadata": {
      "needs_background": "light"
     },
     "output_type": "display_data"
    }
   ],
   "source": [
    "plt.figure(figsize=(5,5))\n",
    "plot_tree(dt_clf, proportion=True, label='root', \n",
    "          feature_names=['cpc', 'affiliate'], class_names=['not bounced','bounced'], filled=True, fontsize=8)\n",
    "plt.show()"
   ]
  },
  {
   "cell_type": "code",
   "execution_count": 80,
   "metadata": {},
   "outputs": [
    {
     "name": "stderr",
     "output_type": "stream",
     "text": [
      "/opt/anaconda3/lib/python3.7/site-packages/ipykernel_launcher.py:1: SettingWithCopyWarning: \n",
      "A value is trying to be set on a copy of a slice from a DataFrame.\n",
      "Try using .loc[row_indexer,col_indexer] = value instead\n",
      "\n",
      "See the caveats in the documentation: https://pandas.pydata.org/pandas-docs/stable/user_guide/indexing.html#returning-a-view-versus-a-copy\n",
      "  \"\"\"Entry point for launching an IPython kernel.\n"
     ]
    }
   ],
   "source": [
    "test['predicted_bounce_DT'] = dt_clf.predict(test[features])"
   ]
  },
  {
   "cell_type": "code",
   "execution_count": 81,
   "metadata": {},
   "outputs": [],
   "source": [
    "dt_clf_user = DecisionTreeClassifier()"
   ]
  },
  {
   "cell_type": "code",
   "execution_count": 82,
   "metadata": {},
   "outputs": [
    {
     "data": {
      "text/plain": [
       "['cpc', 'affiliate', 'browser_Chrome', 'device_isMobile']"
      ]
     },
     "execution_count": 82,
     "metadata": {},
     "output_type": "execute_result"
    }
   ],
   "source": [
    "features_controls"
   ]
  },
  {
   "cell_type": "code",
   "execution_count": 83,
   "metadata": {},
   "outputs": [
    {
     "data": {
      "text/plain": [
       "DecisionTreeClassifier()"
      ]
     },
     "execution_count": 83,
     "metadata": {},
     "output_type": "execute_result"
    }
   ],
   "source": [
    "dt_clf_user.fit(train[features_controls], train[target])"
   ]
  },
  {
   "cell_type": "code",
   "execution_count": 84,
   "metadata": {},
   "outputs": [
    {
     "data": {
      "image/png": "[encoded data removed]",
      "text/plain": [
       "<Figure size 1080x720 with 1 Axes>"
      ]
     },
     "metadata": {
      "needs_background": "light"
     },
     "output_type": "display_data"
    }
   ],
   "source": [
    "plt.figure(figsize=(15,10))\n",
    "plot_tree(dt_clf_user, proportion=True, \n",
    "          label='root', \n",
    "          feature_names=['cpc', 'affiliate', 'browser_Chrome', 'device_isMobile'], \n",
    "          class_names=['not bounced','bounced'], \n",
    "          filled=True, fontsize=8)\n",
    "plt.show()"
   ]
  },
  {
   "cell_type": "code",
   "execution_count": 85,
   "metadata": {},
   "outputs": [
    {
     "name": "stderr",
     "output_type": "stream",
     "text": [
      "/opt/anaconda3/lib/python3.7/site-packages/ipykernel_launcher.py:1: SettingWithCopyWarning: \n",
      "A value is trying to be set on a copy of a slice from a DataFrame.\n",
      "Try using .loc[row_indexer,col_indexer] = value instead\n",
      "\n",
      "See the caveats in the documentation: https://pandas.pydata.org/pandas-docs/stable/user_guide/indexing.html#returning-a-view-versus-a-copy\n",
      "  \"\"\"Entry point for launching an IPython kernel.\n"
     ]
    }
   ],
   "source": [
    "test['predicted_bounce_DT_user'] = dt_clf_user.predict(test[features_controls])"
   ]
  },
  {
   "cell_type": "code",
   "execution_count": 86,
   "metadata": {},
   "outputs": [
    {
     "name": "stdout",
     "output_type": "stream",
     "text": [
      "              precision    recall  f1-score   support\n",
      "\n",
      "           0       0.51      0.89      0.64       429\n",
      "           1       0.84      0.40      0.54       618\n",
      "\n",
      "    accuracy                           0.60      1047\n",
      "   macro avg       0.67      0.64      0.59      1047\n",
      "weighted avg       0.70      0.60      0.58      1047\n",
      "\n"
     ]
    }
   ],
   "source": [
    "print(classification_report(test['isExit'], test['predicted_bounce_DT']))"
   ]
  },
  {
   "cell_type": "code",
   "execution_count": 87,
   "metadata": {},
   "outputs": [
    {
     "name": "stdout",
     "output_type": "stream",
     "text": [
      "              precision    recall  f1-score   support\n",
      "\n",
      "           0       0.54      0.52      0.53       429\n",
      "           1       0.68      0.69      0.68       618\n",
      "\n",
      "    accuracy                           0.62      1047\n",
      "   macro avg       0.61      0.61      0.61      1047\n",
      "weighted avg       0.62      0.62      0.62      1047\n",
      "\n"
     ]
    }
   ],
   "source": [
    "print(classification_report(test['isExit'], test['predicted_bounce_DT_user']))"
   ]
  },
  {
   "cell_type": "markdown",
   "metadata": {},
   "source": [
    "## Some conclusions\n",
    "\n",
    "On the basis of the weighted average of F1-Score, it seems that the simpler model (just campaigns, without users) with a logistic regression algorithm is sufficient, but we have some improvement when adding user data (browser, device type). Changing the algorithm to Decision Trees did not seem to make much of a difference. \n",
    "\n",
    "How can we improve this model?\n",
    "* Adding more features (IV's)?\n",
    "* Testing other algorithms (for example, using K-Nearest Neighbors)?\n",
    "* Fine-tuning the algorithms (i.e., changing some of their options as indicated in their documentation - https://scikit-learn.org/stable/modules/generated/sklearn.linear_model.LogisticRegression.html?)"
   ]
  },
  {
   "cell_type": "code",
   "execution_count": null,
   "metadata": {},
   "outputs": [],
   "source": []
  }
 ],
 "metadata": {
  "kernelspec": {
   "display_name": "Python 3",
   "language": "python",
   "name": "python3"
  },
  "language_info": {
   "codemirror_mode": {
    "name": "ipython",
    "version": 3
   },
   "file_extension": ".py",
   "mimetype": "text/x-python",
   "name": "python",
   "nbconvert_exporter": "python",
   "pygments_lexer": "ipython3",
   "version": "3.7.9"
  },
  "toc": {
   "base_numbering": 1,
   "nav_menu": {},
   "number_sections": true,
   "sideBar": true,
   "skip_h1_title": false,
   "title_cell": "Table of Contents",
   "title_sidebar": "Contents",
   "toc_cell": false,
   "toc_position": {
    "height": "calc(100% - 180px)",
    "left": "10px",
    "top": "150px",
    "width": "288px"
   },
   "toc_section_display": true,
   "toc_window_display": true
  }
 },
 "nbformat": 4,
 "nbformat_minor": 4
}
