{
 "cells": [
  {
   "cell_type": "markdown",
   "metadata": {},
   "source": [
    "# Supervised Machine Learning - Model Evaluation\n",
    "\n",
    "## How can I predict if seeing a campaign will influence clicks/sales?\n",
    "\n",
    "Here we will be using a simulated dataset that you can download directly from dropbox (see GitHub - General Repository - DA5 - link to the dropbox at the end of the page). In class we'll explore actual data from an airline company (and that data is built in somewhat of a similar manner).\n",
    "\n"
   ]
  },
  {
   "cell_type": "code",
   "execution_count": 100,
   "metadata": {
    "collapsed": true
   },
   "outputs": [],
   "source": [
    "import pandas as pd\n",
    "import seaborn as sns\n",
    "import numpy as np\n",
    "import matplotlib.pyplot as plt\n",
    "%matplotlib inline"
   ]
  },
  {
   "cell_type": "markdown",
   "metadata": {},
   "source": [
    "## 1. Data Understanding"
   ]
  },
  {
   "cell_type": "code",
   "execution_count": 101,
   "metadata": {},
   "outputs": [],
   "source": [
    "webdata = pd.read_excel('web_campaign_simulated.xlsx')"
   ]
  },
  {
   "cell_type": "code",
   "execution_count": 102,
   "metadata": {},
   "outputs": [
    {
     "data": {
      "text/plain": [
       "Index(['id', 'age', 'female', 'used_search', 'referral', 'time_spent',\n",
       "       'campaign_1', 'campaign_2', 'click', 'sell'],\n",
       "      dtype='object')"
      ]
     },
     "execution_count": 102,
     "metadata": {},
     "output_type": "execute_result"
    }
   ],
   "source": [
    "webdata.columns"
   ]
  },
  {
   "cell_type": "code",
   "execution_count": 103,
   "metadata": {},
   "outputs": [
    {
     "data": {
      "text/plain": [
       "id              int64\n",
       "age             int64\n",
       "female          int64\n",
       "used_search     int64\n",
       "referral       object\n",
       "time_spent      int64\n",
       "campaign_1      int64\n",
       "campaign_2      int64\n",
       "click           int64\n",
       "sell            int64\n",
       "dtype: object"
      ]
     },
     "execution_count": 103,
     "metadata": {},
     "output_type": "execute_result"
    }
   ],
   "source": [
    "webdata.dtypes"
   ]
  },
  {
   "cell_type": "code",
   "execution_count": 104,
   "metadata": {},
   "outputs": [
    {
     "data": {
      "text/html": [
       "<div>\n",
       "<table border=\"1\" class=\"dataframe\">\n",
       "  <thead>\n",
       "    <tr style=\"text-align: right;\">\n",
       "      <th></th>\n",
       "      <th>id</th>\n",
       "      <th>age</th>\n",
       "      <th>female</th>\n",
       "      <th>used_search</th>\n",
       "      <th>referral</th>\n",
       "      <th>time_spent</th>\n",
       "      <th>campaign_1</th>\n",
       "      <th>campaign_2</th>\n",
       "      <th>click</th>\n",
       "      <th>sell</th>\n",
       "    </tr>\n",
       "  </thead>\n",
       "  <tbody>\n",
       "    <tr>\n",
       "      <th>0</th>\n",
       "      <td>1</td>\n",
       "      <td>40</td>\n",
       "      <td>1</td>\n",
       "      <td>1</td>\n",
       "      <td>tumblr</td>\n",
       "      <td>204</td>\n",
       "      <td>1</td>\n",
       "      <td>0</td>\n",
       "      <td>0</td>\n",
       "      <td>1</td>\n",
       "    </tr>\n",
       "    <tr>\n",
       "      <th>1</th>\n",
       "      <td>2</td>\n",
       "      <td>49</td>\n",
       "      <td>0</td>\n",
       "      <td>0</td>\n",
       "      <td></td>\n",
       "      <td>239</td>\n",
       "      <td>1</td>\n",
       "      <td>0</td>\n",
       "      <td>0</td>\n",
       "      <td>0</td>\n",
       "    </tr>\n",
       "    <tr>\n",
       "      <th>2</th>\n",
       "      <td>3</td>\n",
       "      <td>20</td>\n",
       "      <td>1</td>\n",
       "      <td>0</td>\n",
       "      <td>google</td>\n",
       "      <td>238</td>\n",
       "      <td>0</td>\n",
       "      <td>0</td>\n",
       "      <td>0</td>\n",
       "      <td>1</td>\n",
       "    </tr>\n",
       "    <tr>\n",
       "      <th>3</th>\n",
       "      <td>4</td>\n",
       "      <td>19</td>\n",
       "      <td>1</td>\n",
       "      <td>0</td>\n",
       "      <td>google</td>\n",
       "      <td>111</td>\n",
       "      <td>1</td>\n",
       "      <td>1</td>\n",
       "      <td>0</td>\n",
       "      <td>1</td>\n",
       "    </tr>\n",
       "    <tr>\n",
       "      <th>4</th>\n",
       "      <td>5</td>\n",
       "      <td>46</td>\n",
       "      <td>1</td>\n",
       "      <td>1</td>\n",
       "      <td>twitter</td>\n",
       "      <td>159</td>\n",
       "      <td>0</td>\n",
       "      <td>0</td>\n",
       "      <td>1</td>\n",
       "      <td>1</td>\n",
       "    </tr>\n",
       "  </tbody>\n",
       "</table>\n",
       "</div>"
      ],
      "text/plain": [
       "   id  age  female  used_search referral  time_spent  campaign_1  campaign_2  \\\n",
       "0   1   40       1            1   tumblr         204           1           0   \n",
       "1   2   49       0            0                  239           1           0   \n",
       "2   3   20       1            0   google         238           0           0   \n",
       "3   4   19       1            0   google         111           1           1   \n",
       "4   5   46       1            1  twitter         159           0           0   \n",
       "\n",
       "   click  sell  \n",
       "0      0     1  \n",
       "1      0     0  \n",
       "2      0     1  \n",
       "3      0     1  \n",
       "4      1     1  "
      ]
     },
     "execution_count": 104,
     "metadata": {},
     "output_type": "execute_result"
    }
   ],
   "source": [
    "webdata.head()"
   ]
  },
  {
   "cell_type": "code",
   "execution_count": 105,
   "metadata": {},
   "outputs": [
    {
     "data": {
      "text/html": [
       "<div>\n",
       "<table border=\"1\" class=\"dataframe\">\n",
       "  <thead>\n",
       "    <tr style=\"text-align: right;\">\n",
       "      <th></th>\n",
       "      <th>count</th>\n",
       "      <th>mean</th>\n",
       "      <th>std</th>\n",
       "      <th>min</th>\n",
       "      <th>25%</th>\n",
       "      <th>50%</th>\n",
       "      <th>75%</th>\n",
       "      <th>max</th>\n",
       "    </tr>\n",
       "  </thead>\n",
       "  <tbody>\n",
       "    <tr>\n",
       "      <th>id</th>\n",
       "      <td>9010.0</td>\n",
       "      <td>2141.001887</td>\n",
       "      <td>670.144769</td>\n",
       "      <td>1.0</td>\n",
       "      <td>2253.25</td>\n",
       "      <td>2483.0</td>\n",
       "      <td>2483.0</td>\n",
       "      <td>2483.0</td>\n",
       "    </tr>\n",
       "    <tr>\n",
       "      <th>age</th>\n",
       "      <td>9010.0</td>\n",
       "      <td>28.344728</td>\n",
       "      <td>11.573714</td>\n",
       "      <td>18.0</td>\n",
       "      <td>23.00</td>\n",
       "      <td>23.0</td>\n",
       "      <td>23.0</td>\n",
       "      <td>67.0</td>\n",
       "    </tr>\n",
       "    <tr>\n",
       "      <th>female</th>\n",
       "      <td>9010.0</td>\n",
       "      <td>0.140622</td>\n",
       "      <td>0.347650</td>\n",
       "      <td>0.0</td>\n",
       "      <td>0.00</td>\n",
       "      <td>0.0</td>\n",
       "      <td>0.0</td>\n",
       "      <td>1.0</td>\n",
       "    </tr>\n",
       "    <tr>\n",
       "      <th>used_search</th>\n",
       "      <td>9010.0</td>\n",
       "      <td>0.862486</td>\n",
       "      <td>0.344408</td>\n",
       "      <td>0.0</td>\n",
       "      <td>1.00</td>\n",
       "      <td>1.0</td>\n",
       "      <td>1.0</td>\n",
       "      <td>1.0</td>\n",
       "    </tr>\n",
       "    <tr>\n",
       "      <th>time_spent</th>\n",
       "      <td>9010.0</td>\n",
       "      <td>188.782464</td>\n",
       "      <td>108.709242</td>\n",
       "      <td>1.0</td>\n",
       "      <td>96.00</td>\n",
       "      <td>187.0</td>\n",
       "      <td>282.0</td>\n",
       "      <td>380.0</td>\n",
       "    </tr>\n",
       "    <tr>\n",
       "      <th>campaign_1</th>\n",
       "      <td>9010.0</td>\n",
       "      <td>0.863929</td>\n",
       "      <td>0.342883</td>\n",
       "      <td>0.0</td>\n",
       "      <td>1.00</td>\n",
       "      <td>1.0</td>\n",
       "      <td>1.0</td>\n",
       "      <td>1.0</td>\n",
       "    </tr>\n",
       "    <tr>\n",
       "      <th>campaign_2</th>\n",
       "      <td>9010.0</td>\n",
       "      <td>0.863263</td>\n",
       "      <td>0.343589</td>\n",
       "      <td>0.0</td>\n",
       "      <td>1.00</td>\n",
       "      <td>1.0</td>\n",
       "      <td>1.0</td>\n",
       "      <td>1.0</td>\n",
       "    </tr>\n",
       "    <tr>\n",
       "      <th>click</th>\n",
       "      <td>9010.0</td>\n",
       "      <td>0.386903</td>\n",
       "      <td>0.487068</td>\n",
       "      <td>0.0</td>\n",
       "      <td>0.00</td>\n",
       "      <td>0.0</td>\n",
       "      <td>1.0</td>\n",
       "      <td>1.0</td>\n",
       "    </tr>\n",
       "    <tr>\n",
       "      <th>sell</th>\n",
       "      <td>9010.0</td>\n",
       "      <td>0.700222</td>\n",
       "      <td>0.458186</td>\n",
       "      <td>0.0</td>\n",
       "      <td>0.00</td>\n",
       "      <td>1.0</td>\n",
       "      <td>1.0</td>\n",
       "      <td>1.0</td>\n",
       "    </tr>\n",
       "  </tbody>\n",
       "</table>\n",
       "</div>"
      ],
      "text/plain": [
       "              count         mean         std   min      25%     50%     75%  \\\n",
       "id           9010.0  2141.001887  670.144769   1.0  2253.25  2483.0  2483.0   \n",
       "age          9010.0    28.344728   11.573714  18.0    23.00    23.0    23.0   \n",
       "female       9010.0     0.140622    0.347650   0.0     0.00     0.0     0.0   \n",
       "used_search  9010.0     0.862486    0.344408   0.0     1.00     1.0     1.0   \n",
       "time_spent   9010.0   188.782464  108.709242   1.0    96.00   187.0   282.0   \n",
       "campaign_1   9010.0     0.863929    0.342883   0.0     1.00     1.0     1.0   \n",
       "campaign_2   9010.0     0.863263    0.343589   0.0     1.00     1.0     1.0   \n",
       "click        9010.0     0.386903    0.487068   0.0     0.00     0.0     1.0   \n",
       "sell         9010.0     0.700222    0.458186   0.0     0.00     1.0     1.0   \n",
       "\n",
       "                max  \n",
       "id           2483.0  \n",
       "age            67.0  \n",
       "female          1.0  \n",
       "used_search     1.0  \n",
       "time_spent    380.0  \n",
       "campaign_1      1.0  \n",
       "campaign_2      1.0  \n",
       "click           1.0  \n",
       "sell            1.0  "
      ]
     },
     "execution_count": 105,
     "metadata": {},
     "output_type": "execute_result"
    }
   ],
   "source": [
    "webdata.describe().transpose()"
   ]
  },
  {
   "cell_type": "markdown",
   "metadata": {},
   "source": [
    "### How do the outcome variables look like?\n",
    "\n",
    "We want to predict/classify sell and click. Are they continuous or binary variables?"
   ]
  },
  {
   "cell_type": "code",
   "execution_count": 106,
   "metadata": {},
   "outputs": [
    {
     "data": {
      "text/plain": [
       "0    5524\n",
       "1    3486\n",
       "Name: click, dtype: int64"
      ]
     },
     "execution_count": 106,
     "metadata": {},
     "output_type": "execute_result"
    }
   ],
   "source": [
    "webdata['click'].value_counts()"
   ]
  },
  {
   "cell_type": "code",
   "execution_count": 107,
   "metadata": {},
   "outputs": [
    {
     "data": {
      "text/plain": [
       "1    6309\n",
       "0    2701\n",
       "Name: sell, dtype: int64"
      ]
     },
     "execution_count": 107,
     "metadata": {},
     "output_type": "execute_result"
    }
   ],
   "source": [
    "webdata['sell'].value_counts()"
   ]
  },
  {
   "cell_type": "markdown",
   "metadata": {},
   "source": [
    "## 2. Data Preparation\n",
    "\n",
    "The dataset seems to be reasonably prepared, most likely the referral column (object dtype, with strings) won't work for modeling. Let's convert it to a series of dummies instead."
   ]
  },
  {
   "cell_type": "code",
   "execution_count": 108,
   "metadata": {},
   "outputs": [
    {
     "data": {
      "text/plain": [
       "google          1879\n",
       "                1830\n",
       "facebook         923\n",
       "newsletter B     912\n",
       "tumblr           879\n",
       "newsletter A     869\n",
       "twitter          859\n",
       "nyt              859\n",
       "Name: referral, dtype: int64"
      ]
     },
     "execution_count": 108,
     "metadata": {},
     "output_type": "execute_result"
    }
   ],
   "source": [
    "webdata['referral'].value_counts()"
   ]
  },
  {
   "cell_type": "code",
   "execution_count": 109,
   "metadata": {
    "collapsed": true
   },
   "outputs": [],
   "source": [
    "def check_referral(referral, site):\n",
    "    if referral == site:\n",
    "        return 1\n",
    "    return 0"
   ]
  },
  {
   "cell_type": "code",
   "execution_count": 110,
   "metadata": {
    "collapsed": true
   },
   "outputs": [],
   "source": [
    "webdata['google'] = webdata['referral'].apply(check_referral, args=('google',))\n",
    "webdata['facebook'] = webdata['referral'].apply(check_referral, args=('facebook',))\n",
    "webdata['news_a'] = webdata['referral'].apply(check_referral, args=('newsletter A',))\n",
    "webdata['news_b'] = webdata['referral'].apply(check_referral, args=('newsletter B',))\n",
    "webdata['nyt'] = webdata['referral'].apply(check_referral, args=('nyt',))\n",
    "webdata['tumblr'] = webdata['referral'].apply(check_referral, args=('tumblr',))\n",
    "webdata['twitter'] = webdata['referral'].apply(check_referral, args=('twitter',))\n"
   ]
  },
  {
   "cell_type": "code",
   "execution_count": 111,
   "metadata": {},
   "outputs": [
    {
     "data": {
      "text/plain": [
       "Index(['id', 'age', 'female', 'used_search', 'referral', 'time_spent',\n",
       "       'campaign_1', 'campaign_2', 'click', 'sell', 'google', 'facebook',\n",
       "       'news_a', 'news_b', 'nyt', 'tumblr', 'twitter'],\n",
       "      dtype='object')"
      ]
     },
     "execution_count": 111,
     "metadata": {},
     "output_type": "execute_result"
    }
   ],
   "source": [
    "webdata.columns"
   ]
  },
  {
   "cell_type": "code",
   "execution_count": 112,
   "metadata": {},
   "outputs": [
    {
     "data": {
      "text/html": [
       "<div>\n",
       "<table border=\"1\" class=\"dataframe\">\n",
       "  <thead>\n",
       "    <tr style=\"text-align: right;\">\n",
       "      <th></th>\n",
       "      <th>count</th>\n",
       "      <th>mean</th>\n",
       "      <th>std</th>\n",
       "      <th>min</th>\n",
       "      <th>25%</th>\n",
       "      <th>50%</th>\n",
       "      <th>75%</th>\n",
       "      <th>max</th>\n",
       "    </tr>\n",
       "  </thead>\n",
       "  <tbody>\n",
       "    <tr>\n",
       "      <th>id</th>\n",
       "      <td>9010.0</td>\n",
       "      <td>2141.001887</td>\n",
       "      <td>670.144769</td>\n",
       "      <td>1.0</td>\n",
       "      <td>2253.25</td>\n",
       "      <td>2483.0</td>\n",
       "      <td>2483.0</td>\n",
       "      <td>2483.0</td>\n",
       "    </tr>\n",
       "    <tr>\n",
       "      <th>age</th>\n",
       "      <td>9010.0</td>\n",
       "      <td>28.344728</td>\n",
       "      <td>11.573714</td>\n",
       "      <td>18.0</td>\n",
       "      <td>23.00</td>\n",
       "      <td>23.0</td>\n",
       "      <td>23.0</td>\n",
       "      <td>67.0</td>\n",
       "    </tr>\n",
       "    <tr>\n",
       "      <th>female</th>\n",
       "      <td>9010.0</td>\n",
       "      <td>0.140622</td>\n",
       "      <td>0.347650</td>\n",
       "      <td>0.0</td>\n",
       "      <td>0.00</td>\n",
       "      <td>0.0</td>\n",
       "      <td>0.0</td>\n",
       "      <td>1.0</td>\n",
       "    </tr>\n",
       "    <tr>\n",
       "      <th>used_search</th>\n",
       "      <td>9010.0</td>\n",
       "      <td>0.862486</td>\n",
       "      <td>0.344408</td>\n",
       "      <td>0.0</td>\n",
       "      <td>1.00</td>\n",
       "      <td>1.0</td>\n",
       "      <td>1.0</td>\n",
       "      <td>1.0</td>\n",
       "    </tr>\n",
       "    <tr>\n",
       "      <th>time_spent</th>\n",
       "      <td>9010.0</td>\n",
       "      <td>188.782464</td>\n",
       "      <td>108.709242</td>\n",
       "      <td>1.0</td>\n",
       "      <td>96.00</td>\n",
       "      <td>187.0</td>\n",
       "      <td>282.0</td>\n",
       "      <td>380.0</td>\n",
       "    </tr>\n",
       "    <tr>\n",
       "      <th>campaign_1</th>\n",
       "      <td>9010.0</td>\n",
       "      <td>0.863929</td>\n",
       "      <td>0.342883</td>\n",
       "      <td>0.0</td>\n",
       "      <td>1.00</td>\n",
       "      <td>1.0</td>\n",
       "      <td>1.0</td>\n",
       "      <td>1.0</td>\n",
       "    </tr>\n",
       "    <tr>\n",
       "      <th>campaign_2</th>\n",
       "      <td>9010.0</td>\n",
       "      <td>0.863263</td>\n",
       "      <td>0.343589</td>\n",
       "      <td>0.0</td>\n",
       "      <td>1.00</td>\n",
       "      <td>1.0</td>\n",
       "      <td>1.0</td>\n",
       "      <td>1.0</td>\n",
       "    </tr>\n",
       "    <tr>\n",
       "      <th>click</th>\n",
       "      <td>9010.0</td>\n",
       "      <td>0.386903</td>\n",
       "      <td>0.487068</td>\n",
       "      <td>0.0</td>\n",
       "      <td>0.00</td>\n",
       "      <td>0.0</td>\n",
       "      <td>1.0</td>\n",
       "      <td>1.0</td>\n",
       "    </tr>\n",
       "    <tr>\n",
       "      <th>sell</th>\n",
       "      <td>9010.0</td>\n",
       "      <td>0.700222</td>\n",
       "      <td>0.458186</td>\n",
       "      <td>0.0</td>\n",
       "      <td>0.00</td>\n",
       "      <td>1.0</td>\n",
       "      <td>1.0</td>\n",
       "      <td>1.0</td>\n",
       "    </tr>\n",
       "    <tr>\n",
       "      <th>google</th>\n",
       "      <td>9010.0</td>\n",
       "      <td>0.208546</td>\n",
       "      <td>0.406292</td>\n",
       "      <td>0.0</td>\n",
       "      <td>0.00</td>\n",
       "      <td>0.0</td>\n",
       "      <td>0.0</td>\n",
       "      <td>1.0</td>\n",
       "    </tr>\n",
       "    <tr>\n",
       "      <th>facebook</th>\n",
       "      <td>9010.0</td>\n",
       "      <td>0.102442</td>\n",
       "      <td>0.303245</td>\n",
       "      <td>0.0</td>\n",
       "      <td>0.00</td>\n",
       "      <td>0.0</td>\n",
       "      <td>0.0</td>\n",
       "      <td>1.0</td>\n",
       "    </tr>\n",
       "    <tr>\n",
       "      <th>news_a</th>\n",
       "      <td>9010.0</td>\n",
       "      <td>0.096448</td>\n",
       "      <td>0.295222</td>\n",
       "      <td>0.0</td>\n",
       "      <td>0.00</td>\n",
       "      <td>0.0</td>\n",
       "      <td>0.0</td>\n",
       "      <td>1.0</td>\n",
       "    </tr>\n",
       "    <tr>\n",
       "      <th>news_b</th>\n",
       "      <td>9010.0</td>\n",
       "      <td>0.101221</td>\n",
       "      <td>0.301638</td>\n",
       "      <td>0.0</td>\n",
       "      <td>0.00</td>\n",
       "      <td>0.0</td>\n",
       "      <td>0.0</td>\n",
       "      <td>1.0</td>\n",
       "    </tr>\n",
       "    <tr>\n",
       "      <th>nyt</th>\n",
       "      <td>9010.0</td>\n",
       "      <td>0.095339</td>\n",
       "      <td>0.293698</td>\n",
       "      <td>0.0</td>\n",
       "      <td>0.00</td>\n",
       "      <td>0.0</td>\n",
       "      <td>0.0</td>\n",
       "      <td>1.0</td>\n",
       "    </tr>\n",
       "    <tr>\n",
       "      <th>tumblr</th>\n",
       "      <td>9010.0</td>\n",
       "      <td>0.097558</td>\n",
       "      <td>0.296733</td>\n",
       "      <td>0.0</td>\n",
       "      <td>0.00</td>\n",
       "      <td>0.0</td>\n",
       "      <td>0.0</td>\n",
       "      <td>1.0</td>\n",
       "    </tr>\n",
       "    <tr>\n",
       "      <th>twitter</th>\n",
       "      <td>9010.0</td>\n",
       "      <td>0.095339</td>\n",
       "      <td>0.293698</td>\n",
       "      <td>0.0</td>\n",
       "      <td>0.00</td>\n",
       "      <td>0.0</td>\n",
       "      <td>0.0</td>\n",
       "      <td>1.0</td>\n",
       "    </tr>\n",
       "  </tbody>\n",
       "</table>\n",
       "</div>"
      ],
      "text/plain": [
       "              count         mean         std   min      25%     50%     75%  \\\n",
       "id           9010.0  2141.001887  670.144769   1.0  2253.25  2483.0  2483.0   \n",
       "age          9010.0    28.344728   11.573714  18.0    23.00    23.0    23.0   \n",
       "female       9010.0     0.140622    0.347650   0.0     0.00     0.0     0.0   \n",
       "used_search  9010.0     0.862486    0.344408   0.0     1.00     1.0     1.0   \n",
       "time_spent   9010.0   188.782464  108.709242   1.0    96.00   187.0   282.0   \n",
       "campaign_1   9010.0     0.863929    0.342883   0.0     1.00     1.0     1.0   \n",
       "campaign_2   9010.0     0.863263    0.343589   0.0     1.00     1.0     1.0   \n",
       "click        9010.0     0.386903    0.487068   0.0     0.00     0.0     1.0   \n",
       "sell         9010.0     0.700222    0.458186   0.0     0.00     1.0     1.0   \n",
       "google       9010.0     0.208546    0.406292   0.0     0.00     0.0     0.0   \n",
       "facebook     9010.0     0.102442    0.303245   0.0     0.00     0.0     0.0   \n",
       "news_a       9010.0     0.096448    0.295222   0.0     0.00     0.0     0.0   \n",
       "news_b       9010.0     0.101221    0.301638   0.0     0.00     0.0     0.0   \n",
       "nyt          9010.0     0.095339    0.293698   0.0     0.00     0.0     0.0   \n",
       "tumblr       9010.0     0.097558    0.296733   0.0     0.00     0.0     0.0   \n",
       "twitter      9010.0     0.095339    0.293698   0.0     0.00     0.0     0.0   \n",
       "\n",
       "                max  \n",
       "id           2483.0  \n",
       "age            67.0  \n",
       "female          1.0  \n",
       "used_search     1.0  \n",
       "time_spent    380.0  \n",
       "campaign_1      1.0  \n",
       "campaign_2      1.0  \n",
       "click           1.0  \n",
       "sell            1.0  \n",
       "google          1.0  \n",
       "facebook        1.0  \n",
       "news_a          1.0  \n",
       "news_b          1.0  \n",
       "nyt             1.0  \n",
       "tumblr          1.0  \n",
       "twitter         1.0  "
      ]
     },
     "execution_count": 112,
     "metadata": {},
     "output_type": "execute_result"
    }
   ],
   "source": [
    "webdata.describe().transpose()"
   ]
  },
  {
   "cell_type": "markdown",
   "metadata": {},
   "source": [
    "## 3. Modeling\n",
    "\n",
    "After the initial data preparation, I can give modeling a try. We'll use the logistic regression algorithm for this classification task, as we want to predict clicks and sales. Why logistic regression? Because we are not trying as much to predict a quantity (usually continuous variables), as we want to predict a choice (0-1).\n",
    "\n",
    "You can read more about how scikit-learn implemented Logistic Regression [here](http://scikit-learn.org/stable/modules/linear_model.html#logistic-regression), and how to run the code [here](http://scikit-learn.org/stable/modules/generated/sklearn.linear_model.LogisticRegression.html). \n",
    "\n",
    "* **Note:** The documentation is quite technical, so don't get too worried if you don't get all the steps. The most important (for our class) is that you have a high level understanding of what a clustering algorithm does."
   ]
  },
  {
   "cell_type": "markdown",
   "metadata": {},
   "source": [
    "### Step 1. Import the required packages from scikit-learn\n",
    "\n",
    "In this tutorial we'll compare the performance of two different algorithms:\n",
    "* Logistic Regression, which we used before\n",
    "* K-Nearest Neighbors, which is a new classifier\n",
    "\n"
   ]
  },
  {
   "cell_type": "code",
   "execution_count": 113,
   "metadata": {
    "collapsed": true
   },
   "outputs": [],
   "source": [
    "from sklearn.linear_model import LogisticRegression\n",
    "from sklearn.neighbors import KNeighborsClassifier\n"
   ]
  },
  {
   "cell_type": "markdown",
   "metadata": {},
   "source": [
    "### Step 2. Split into training and test data\n",
    "\n",
    "We'll split our dataset into a training and a testing set. \n",
    "\n",
    "* The training set is the data that will be used to train the model\n",
    "* The testing set is the data that we will use to *evaluate* the model\n",
    "\n",
    "Why are we splitting it like this?\n",
    "* The idea is that we create a classifier that can use features (independent variables) to predict a category (dependent variable). We use a part (most) of the data to train this model / create this classifier.\n",
    "* After creating the classifier, we then need to test it in data that have not been used before by it. That's where we use the testing set."
   ]
  },
  {
   "cell_type": "markdown",
   "metadata": {},
   "source": [
    "Importing the function that will help us split our data into a training set, and a test set."
   ]
  },
  {
   "cell_type": "code",
   "execution_count": 114,
   "metadata": {
    "collapsed": true
   },
   "outputs": [],
   "source": [
    "from sklearn.model_selection import train_test_split\n"
   ]
  },
  {
   "cell_type": "markdown",
   "metadata": {},
   "source": [
    "Note: if you get an error message that with the command above (especially if you could not update scikit-learn to version 18), try instead:\n",
    "\n",
    "*from sklearn.cross_validation import train_test_split*"
   ]
  },
  {
   "cell_type": "code",
   "execution_count": 115,
   "metadata": {
    "collapsed": true
   },
   "outputs": [],
   "source": [
    "train, test = train_test_split(webdata, test_size=0.2, random_state=0)"
   ]
  },
  {
   "cell_type": "markdown",
   "metadata": {},
   "source": [
    "What did the command above do?\n",
    "\n",
    "1. I asked for a train and a test set to be created\n",
    "2. I indicated that the data to be used was webdata\n",
    "3. I indicated that the size of the test set should be 20% of the total dataset\n",
    "4. The random_state is optional, but is an interesting thing to use. As the split between train/test includes randomizing the order of the rows, you'll always get different train/test splits every time you run the command. Using random_state makes sure that they always look the same."
   ]
  },
  {
   "cell_type": "markdown",
   "metadata": {},
   "source": [
    "Let's see how the train and the test set look like"
   ]
  },
  {
   "cell_type": "code",
   "execution_count": 116,
   "metadata": {},
   "outputs": [
    {
     "data": {
      "text/html": [
       "<div>\n",
       "<table border=\"1\" class=\"dataframe\">\n",
       "  <thead>\n",
       "    <tr style=\"text-align: right;\">\n",
       "      <th></th>\n",
       "      <th>id</th>\n",
       "      <th>age</th>\n",
       "      <th>female</th>\n",
       "      <th>used_search</th>\n",
       "      <th>referral</th>\n",
       "      <th>time_spent</th>\n",
       "      <th>campaign_1</th>\n",
       "      <th>campaign_2</th>\n",
       "      <th>click</th>\n",
       "      <th>sell</th>\n",
       "      <th>google</th>\n",
       "      <th>facebook</th>\n",
       "      <th>news_a</th>\n",
       "      <th>news_b</th>\n",
       "      <th>nyt</th>\n",
       "      <th>tumblr</th>\n",
       "      <th>twitter</th>\n",
       "    </tr>\n",
       "  </thead>\n",
       "  <tbody>\n",
       "    <tr>\n",
       "      <th>4734</th>\n",
       "      <td>2483</td>\n",
       "      <td>23</td>\n",
       "      <td>0</td>\n",
       "      <td>1</td>\n",
       "      <td>newsletter A</td>\n",
       "      <td>146</td>\n",
       "      <td>1</td>\n",
       "      <td>1</td>\n",
       "      <td>0</td>\n",
       "      <td>1</td>\n",
       "      <td>0</td>\n",
       "      <td>0</td>\n",
       "      <td>1</td>\n",
       "      <td>0</td>\n",
       "      <td>0</td>\n",
       "      <td>0</td>\n",
       "      <td>0</td>\n",
       "    </tr>\n",
       "    <tr>\n",
       "      <th>4501</th>\n",
       "      <td>2483</td>\n",
       "      <td>23</td>\n",
       "      <td>0</td>\n",
       "      <td>1</td>\n",
       "      <td>twitter</td>\n",
       "      <td>217</td>\n",
       "      <td>1</td>\n",
       "      <td>1</td>\n",
       "      <td>1</td>\n",
       "      <td>1</td>\n",
       "      <td>0</td>\n",
       "      <td>0</td>\n",
       "      <td>0</td>\n",
       "      <td>0</td>\n",
       "      <td>0</td>\n",
       "      <td>0</td>\n",
       "      <td>1</td>\n",
       "    </tr>\n",
       "    <tr>\n",
       "      <th>4962</th>\n",
       "      <td>2483</td>\n",
       "      <td>23</td>\n",
       "      <td>0</td>\n",
       "      <td>1</td>\n",
       "      <td>nyt</td>\n",
       "      <td>48</td>\n",
       "      <td>1</td>\n",
       "      <td>1</td>\n",
       "      <td>1</td>\n",
       "      <td>1</td>\n",
       "      <td>0</td>\n",
       "      <td>0</td>\n",
       "      <td>0</td>\n",
       "      <td>0</td>\n",
       "      <td>1</td>\n",
       "      <td>0</td>\n",
       "      <td>0</td>\n",
       "    </tr>\n",
       "    <tr>\n",
       "      <th>2167</th>\n",
       "      <td>2168</td>\n",
       "      <td>65</td>\n",
       "      <td>1</td>\n",
       "      <td>0</td>\n",
       "      <td>twitter</td>\n",
       "      <td>117</td>\n",
       "      <td>0</td>\n",
       "      <td>1</td>\n",
       "      <td>0</td>\n",
       "      <td>1</td>\n",
       "      <td>0</td>\n",
       "      <td>0</td>\n",
       "      <td>0</td>\n",
       "      <td>0</td>\n",
       "      <td>0</td>\n",
       "      <td>0</td>\n",
       "      <td>1</td>\n",
       "    </tr>\n",
       "    <tr>\n",
       "      <th>3907</th>\n",
       "      <td>2483</td>\n",
       "      <td>23</td>\n",
       "      <td>0</td>\n",
       "      <td>1</td>\n",
       "      <td>twitter</td>\n",
       "      <td>72</td>\n",
       "      <td>1</td>\n",
       "      <td>1</td>\n",
       "      <td>1</td>\n",
       "      <td>1</td>\n",
       "      <td>0</td>\n",
       "      <td>0</td>\n",
       "      <td>0</td>\n",
       "      <td>0</td>\n",
       "      <td>0</td>\n",
       "      <td>0</td>\n",
       "      <td>1</td>\n",
       "    </tr>\n",
       "  </tbody>\n",
       "</table>\n",
       "</div>"
      ],
      "text/plain": [
       "        id  age  female  used_search      referral  time_spent  campaign_1  \\\n",
       "4734  2483   23       0            1  newsletter A         146           1   \n",
       "4501  2483   23       0            1       twitter         217           1   \n",
       "4962  2483   23       0            1           nyt          48           1   \n",
       "2167  2168   65       1            0       twitter         117           0   \n",
       "3907  2483   23       0            1       twitter          72           1   \n",
       "\n",
       "      campaign_2  click  sell  google  facebook  news_a  news_b  nyt  tumblr  \\\n",
       "4734           1      0     1       0         0       1       0    0       0   \n",
       "4501           1      1     1       0         0       0       0    0       0   \n",
       "4962           1      1     1       0         0       0       0    1       0   \n",
       "2167           1      0     1       0         0       0       0    0       0   \n",
       "3907           1      1     1       0         0       0       0    0       0   \n",
       "\n",
       "      twitter  \n",
       "4734        0  \n",
       "4501        1  \n",
       "4962        0  \n",
       "2167        1  \n",
       "3907        1  "
      ]
     },
     "execution_count": 116,
     "metadata": {},
     "output_type": "execute_result"
    }
   ],
   "source": [
    "train.head()"
   ]
  },
  {
   "cell_type": "code",
   "execution_count": 117,
   "metadata": {},
   "outputs": [
    {
     "data": {
      "text/html": [
       "<div>\n",
       "<table border=\"1\" class=\"dataframe\">\n",
       "  <thead>\n",
       "    <tr style=\"text-align: right;\">\n",
       "      <th></th>\n",
       "      <th>id</th>\n",
       "      <th>age</th>\n",
       "      <th>female</th>\n",
       "      <th>used_search</th>\n",
       "      <th>referral</th>\n",
       "      <th>time_spent</th>\n",
       "      <th>campaign_1</th>\n",
       "      <th>campaign_2</th>\n",
       "      <th>click</th>\n",
       "      <th>sell</th>\n",
       "      <th>google</th>\n",
       "      <th>facebook</th>\n",
       "      <th>news_a</th>\n",
       "      <th>news_b</th>\n",
       "      <th>nyt</th>\n",
       "      <th>tumblr</th>\n",
       "      <th>twitter</th>\n",
       "    </tr>\n",
       "  </thead>\n",
       "  <tbody>\n",
       "    <tr>\n",
       "      <th>8009</th>\n",
       "      <td>2483</td>\n",
       "      <td>23</td>\n",
       "      <td>0</td>\n",
       "      <td>1</td>\n",
       "      <td>newsletter A</td>\n",
       "      <td>212</td>\n",
       "      <td>1</td>\n",
       "      <td>1</td>\n",
       "      <td>0</td>\n",
       "      <td>1</td>\n",
       "      <td>0</td>\n",
       "      <td>0</td>\n",
       "      <td>1</td>\n",
       "      <td>0</td>\n",
       "      <td>0</td>\n",
       "      <td>0</td>\n",
       "      <td>0</td>\n",
       "    </tr>\n",
       "    <tr>\n",
       "      <th>3812</th>\n",
       "      <td>2483</td>\n",
       "      <td>23</td>\n",
       "      <td>0</td>\n",
       "      <td>1</td>\n",
       "      <td>newsletter B</td>\n",
       "      <td>103</td>\n",
       "      <td>1</td>\n",
       "      <td>1</td>\n",
       "      <td>0</td>\n",
       "      <td>1</td>\n",
       "      <td>0</td>\n",
       "      <td>0</td>\n",
       "      <td>0</td>\n",
       "      <td>1</td>\n",
       "      <td>0</td>\n",
       "      <td>0</td>\n",
       "      <td>0</td>\n",
       "    </tr>\n",
       "    <tr>\n",
       "      <th>8562</th>\n",
       "      <td>2483</td>\n",
       "      <td>23</td>\n",
       "      <td>0</td>\n",
       "      <td>1</td>\n",
       "      <td>tumblr</td>\n",
       "      <td>18</td>\n",
       "      <td>1</td>\n",
       "      <td>1</td>\n",
       "      <td>1</td>\n",
       "      <td>0</td>\n",
       "      <td>0</td>\n",
       "      <td>0</td>\n",
       "      <td>0</td>\n",
       "      <td>0</td>\n",
       "      <td>0</td>\n",
       "      <td>1</td>\n",
       "      <td>0</td>\n",
       "    </tr>\n",
       "    <tr>\n",
       "      <th>6670</th>\n",
       "      <td>2483</td>\n",
       "      <td>23</td>\n",
       "      <td>0</td>\n",
       "      <td>1</td>\n",
       "      <td>twitter</td>\n",
       "      <td>201</td>\n",
       "      <td>1</td>\n",
       "      <td>1</td>\n",
       "      <td>0</td>\n",
       "      <td>0</td>\n",
       "      <td>0</td>\n",
       "      <td>0</td>\n",
       "      <td>0</td>\n",
       "      <td>0</td>\n",
       "      <td>0</td>\n",
       "      <td>0</td>\n",
       "      <td>1</td>\n",
       "    </tr>\n",
       "    <tr>\n",
       "      <th>2339</th>\n",
       "      <td>2340</td>\n",
       "      <td>26</td>\n",
       "      <td>1</td>\n",
       "      <td>1</td>\n",
       "      <td>facebook</td>\n",
       "      <td>69</td>\n",
       "      <td>1</td>\n",
       "      <td>0</td>\n",
       "      <td>0</td>\n",
       "      <td>1</td>\n",
       "      <td>0</td>\n",
       "      <td>1</td>\n",
       "      <td>0</td>\n",
       "      <td>0</td>\n",
       "      <td>0</td>\n",
       "      <td>0</td>\n",
       "      <td>0</td>\n",
       "    </tr>\n",
       "  </tbody>\n",
       "</table>\n",
       "</div>"
      ],
      "text/plain": [
       "        id  age  female  used_search      referral  time_spent  campaign_1  \\\n",
       "8009  2483   23       0            1  newsletter A         212           1   \n",
       "3812  2483   23       0            1  newsletter B         103           1   \n",
       "8562  2483   23       0            1        tumblr          18           1   \n",
       "6670  2483   23       0            1       twitter         201           1   \n",
       "2339  2340   26       1            1      facebook          69           1   \n",
       "\n",
       "      campaign_2  click  sell  google  facebook  news_a  news_b  nyt  tumblr  \\\n",
       "8009           1      0     1       0         0       1       0    0       0   \n",
       "3812           1      0     1       0         0       0       1    0       0   \n",
       "8562           1      1     0       0         0       0       0    0       1   \n",
       "6670           1      0     0       0         0       0       0    0       0   \n",
       "2339           0      0     1       0         1       0       0    0       0   \n",
       "\n",
       "      twitter  \n",
       "8009        0  \n",
       "3812        0  \n",
       "8562        0  \n",
       "6670        1  \n",
       "2339        0  "
      ]
     },
     "execution_count": 117,
     "metadata": {},
     "output_type": "execute_result"
    }
   ],
   "source": [
    "test.head()"
   ]
  },
  {
   "cell_type": "markdown",
   "metadata": {},
   "source": [
    "Let's see if the split worked out OK..."
   ]
  },
  {
   "cell_type": "code",
   "execution_count": 118,
   "metadata": {},
   "outputs": [
    {
     "name": "stdout",
     "output_type": "stream",
     "text": [
      "9010 7208 1802\n"
     ]
    }
   ],
   "source": [
    "print(len(webdata), len(train), len(test))"
   ]
  },
  {
   "cell_type": "markdown",
   "metadata": {},
   "source": [
    "Indeed, 7208 (the training set) is 80% of the total size of the dataset, and 1802 is 20% of the dataset (testing set)."
   ]
  },
  {
   "cell_type": "markdown",
   "metadata": {},
   "source": [
    "### A. Running the logistic regression\n",
    "\n",
    "Let's remember that logistic regression tries to fit a line to separate the two categories.\n",
    "\n"
   ]
  },
  {
   "cell_type": "markdown",
   "metadata": {},
   "source": [
    "### Step A.1 Instantiate the classifier\n",
    "\n",
    "We'll use this classifier to actually classify the data. While creating the classifier, we can provide a few options. In the case of Logistic Regression, perhaps two are the most important: how many times you want the model to iterate (the higher, the higher the chance that it will converge), and whether you want an intercept (constant) in the regression. More options can be seen [here](http://scikit-learn.org/stable/modules/generated/sklearn.linear_model.LogisticRegression.html)."
   ]
  },
  {
   "cell_type": "code",
   "execution_count": 119,
   "metadata": {
    "collapsed": true
   },
   "outputs": [],
   "source": [
    "logit_clf = LogisticRegression(max_iter=1000, fit_intercept = True)"
   ]
  },
  {
   "cell_type": "markdown",
   "metadata": {
    "collapsed": true
   },
   "source": [
    "### Step A.2 Train the classifier\n",
    "\n",
    "To make my life a bit easier, I will create a list with the columns that I am interested on. If I ever need to add a new column to the analysis, I just go ahead and change the list and rerun the code."
   ]
  },
  {
   "cell_type": "code",
   "execution_count": 120,
   "metadata": {
    "collapsed": true
   },
   "outputs": [],
   "source": [
    "features = ['age', 'female', 'google', 'facebook', 'sell', 'time_spent', 'campaign_1']"
   ]
  },
  {
   "cell_type": "markdown",
   "metadata": {},
   "source": [
    "**Important:** Now I am not using the *webdata*  dataframe to train the model. I am using the *train* dataframe, which is our training set. "
   ]
  },
  {
   "cell_type": "code",
   "execution_count": 122,
   "metadata": {},
   "outputs": [
    {
     "data": {
      "text/plain": [
       "LogisticRegression(C=1.0, class_weight=None, dual=False, fit_intercept=True,\n",
       "          intercept_scaling=1, max_iter=1000, multi_class='ovr', n_jobs=1,\n",
       "          penalty='l2', random_state=None, solver='liblinear', tol=0.0001,\n",
       "          verbose=0, warm_start=False)"
      ]
     },
     "execution_count": 122,
     "metadata": {},
     "output_type": "execute_result"
    }
   ],
   "source": [
    "logit_clf.fit(train[features], train['click'])"
   ]
  },
  {
   "cell_type": "markdown",
   "metadata": {},
   "source": [
    "### Step A.3 Check the coefficients\n",
    "\n",
    "We'll run this only for logistic regressions (KNN has a different structure), but let's have a look anyway..."
   ]
  },
  {
   "cell_type": "code",
   "execution_count": 123,
   "metadata": {},
   "outputs": [
    {
     "data": {
      "text/html": [
       "<div>\n",
       "<table border=\"1\" class=\"dataframe\">\n",
       "  <thead>\n",
       "    <tr style=\"text-align: right;\">\n",
       "      <th></th>\n",
       "      <th>0</th>\n",
       "    </tr>\n",
       "  </thead>\n",
       "  <tbody>\n",
       "    <tr>\n",
       "      <th>age</th>\n",
       "      <td>0.002110</td>\n",
       "    </tr>\n",
       "    <tr>\n",
       "      <th>female</th>\n",
       "      <td>0.004875</td>\n",
       "    </tr>\n",
       "    <tr>\n",
       "      <th>google</th>\n",
       "      <td>-0.051241</td>\n",
       "    </tr>\n",
       "    <tr>\n",
       "      <th>facebook</th>\n",
       "      <td>-0.279206</td>\n",
       "    </tr>\n",
       "    <tr>\n",
       "      <th>sell</th>\n",
       "      <td>1.169840</td>\n",
       "    </tr>\n",
       "    <tr>\n",
       "      <th>time_spent</th>\n",
       "      <td>0.001068</td>\n",
       "    </tr>\n",
       "    <tr>\n",
       "      <th>campaign_1</th>\n",
       "      <td>0.126238</td>\n",
       "    </tr>\n",
       "  </tbody>\n",
       "</table>\n",
       "</div>"
      ],
      "text/plain": [
       "                   0\n",
       "age         0.002110\n",
       "female      0.004875\n",
       "google     -0.051241\n",
       "facebook   -0.279206\n",
       "sell        1.169840\n",
       "time_spent  0.001068\n",
       "campaign_1  0.126238"
      ]
     },
     "execution_count": 123,
     "metadata": {},
     "output_type": "execute_result"
    }
   ],
   "source": [
    "pd.DataFrame(np.transpose(logit_clf.coef_), features)"
   ]
  },
  {
   "cell_type": "markdown",
   "metadata": {},
   "source": [
    "Significance testing can still be done with statsmodels (see previous tutorial), but it won't be relevant for KNN. So let's jump into model evaluation."
   ]
  },
  {
   "cell_type": "markdown",
   "metadata": {},
   "source": [
    "### Step A.4 Model Evaluation\n",
    "\n",
    "Now it's time to evaluate our model. Remember that we trained it using the training set, and now we can check how it would work out for the test set. Here we're actually predicting cases (as we did in the previous tutorial).\n"
   ]
  },
  {
   "cell_type": "code",
   "execution_count": 124,
   "metadata": {},
   "outputs": [
    {
     "name": "stderr",
     "output_type": "stream",
     "text": [
      "//anaconda/lib/python3.5/site-packages/ipykernel/__main__.py:1: SettingWithCopyWarning: \n",
      "A value is trying to be set on a copy of a slice from a DataFrame.\n",
      "Try using .loc[row_indexer,col_indexer] = value instead\n",
      "\n",
      "See the caveats in the documentation: http://pandas.pydata.org/pandas-docs/stable/indexing.html#indexing-view-versus-copy\n",
      "  if __name__ == '__main__':\n"
     ]
    }
   ],
   "source": [
    "test['predicted_clicks_logit'] = logit_clf.predict(test[features])"
   ]
  },
  {
   "cell_type": "markdown",
   "metadata": {},
   "source": [
    "*Note: As discussed, the warning message above can be ignored for now... *\n",
    "\n",
    "In the previous tutorial, we did predict some cases (with the .predict option), and now we are doing the same with the whole test set.\n",
    "\n",
    "The key difference is that **we know** what the actual value of each case was. So we can check how accurate our classifier was."
   ]
  },
  {
   "cell_type": "code",
   "execution_count": 125,
   "metadata": {},
   "outputs": [
    {
     "data": {
      "text/html": [
       "<div>\n",
       "<table border=\"1\" class=\"dataframe\">\n",
       "  <thead>\n",
       "    <tr style=\"text-align: right;\">\n",
       "      <th></th>\n",
       "      <th>predicted_clicks_logit</th>\n",
       "      <th>click</th>\n",
       "    </tr>\n",
       "  </thead>\n",
       "  <tbody>\n",
       "    <tr>\n",
       "      <th>8009</th>\n",
       "      <td>0</td>\n",
       "      <td>0</td>\n",
       "    </tr>\n",
       "    <tr>\n",
       "      <th>3812</th>\n",
       "      <td>0</td>\n",
       "      <td>0</td>\n",
       "    </tr>\n",
       "    <tr>\n",
       "      <th>8562</th>\n",
       "      <td>0</td>\n",
       "      <td>1</td>\n",
       "    </tr>\n",
       "    <tr>\n",
       "      <th>6670</th>\n",
       "      <td>0</td>\n",
       "      <td>0</td>\n",
       "    </tr>\n",
       "    <tr>\n",
       "      <th>2339</th>\n",
       "      <td>0</td>\n",
       "      <td>0</td>\n",
       "    </tr>\n",
       "  </tbody>\n",
       "</table>\n",
       "</div>"
      ],
      "text/plain": [
       "      predicted_clicks_logit  click\n",
       "8009                       0      0\n",
       "3812                       0      0\n",
       "8562                       0      1\n",
       "6670                       0      0\n",
       "2339                       0      0"
      ]
     },
     "execution_count": 125,
     "metadata": {},
     "output_type": "execute_result"
    }
   ],
   "source": [
    "test[['predicted_clicks_logit', 'click']].head()"
   ]
  },
  {
   "cell_type": "markdown",
   "metadata": {},
   "source": [
    "Let's see how accurate the classifier was...\n",
    "\n",
    "If the there was an actual click, how good were the predictions?"
   ]
  },
  {
   "cell_type": "code",
   "execution_count": 126,
   "metadata": {},
   "outputs": [
    {
     "data": {
      "text/plain": [
       "0    596\n",
       "1    115\n",
       "Name: predicted_clicks_logit, dtype: int64"
      ]
     },
     "execution_count": 126,
     "metadata": {},
     "output_type": "execute_result"
    }
   ],
   "source": [
    "test[test['click']==1]['predicted_clicks_logit'].value_counts()"
   ]
  },
  {
   "cell_type": "markdown",
   "metadata": {},
   "source": [
    "What if there were no clicks?"
   ]
  },
  {
   "cell_type": "code",
   "execution_count": 127,
   "metadata": {},
   "outputs": [
    {
     "data": {
      "text/plain": [
       "0    992\n",
       "1     99\n",
       "Name: predicted_clicks_logit, dtype: int64"
      ]
     },
     "execution_count": 127,
     "metadata": {},
     "output_type": "execute_result"
    }
   ],
   "source": [
    "test[test['click']==0]['predicted_clicks_logit'].value_counts()"
   ]
  },
  {
   "cell_type": "markdown",
   "metadata": {},
   "source": [
    "Luckily, scikit-learn has a more efficient way to help us evaluate. We can use a classification report."
   ]
  },
  {
   "cell_type": "code",
   "execution_count": 128,
   "metadata": {
    "collapsed": true
   },
   "outputs": [],
   "source": [
    "from sklearn.metrics import classification_report\n",
    "from sklearn.metrics import confusion_matrix"
   ]
  },
  {
   "cell_type": "markdown",
   "metadata": {},
   "source": [
    "### Confusion Matrix\n",
    "\n",
    "First we can run a confusion matrix, i.e., check how many cases were correctly categorized."
   ]
  },
  {
   "cell_type": "code",
   "execution_count": 129,
   "metadata": {},
   "outputs": [
    {
     "name": "stdout",
     "output_type": "stream",
     "text": [
      "[[992  99]\n",
      " [596 115]]\n"
     ]
    }
   ],
   "source": [
    "print(confusion_matrix(test['click'], test['predicted_clicks_logit']))"
   ]
  },
  {
   "cell_type": "markdown",
   "metadata": {},
   "source": [
    "The following link has the documentation for the confusion matrix: http://scikit-learn.org/stable/modules/generated/sklearn.metrics.confusion_matrix.html\n",
    "\n",
    "In scikit-learn, that a 2 X 2 confusion matrix for a binary classification generally looks like:\n",
    "\n",
    "| Actual/Predicted        | 0           | 1  |\n",
    "| ------------- |:-------------:| -----:|\n",
    "| 0      | True Negative | False Positive |\n",
    "| 1      | False Negative    |   True Positive |\n",
    "\n",
    "\n"
   ]
  },
  {
   "cell_type": "markdown",
   "metadata": {},
   "source": [
    "### Precision & Recall\n",
    "\n",
    "I can also use precision & recall metrics."
   ]
  },
  {
   "cell_type": "code",
   "execution_count": 130,
   "metadata": {},
   "outputs": [
    {
     "name": "stdout",
     "output_type": "stream",
     "text": [
      "             precision    recall  f1-score   support\n",
      "\n",
      "          0       0.62      0.91      0.74      1091\n",
      "          1       0.54      0.16      0.25       711\n",
      "\n",
      "avg / total       0.59      0.61      0.55      1802\n",
      "\n"
     ]
    }
   ],
   "source": [
    "print(classification_report(test['click'], test['predicted_clicks_logit']))"
   ]
  },
  {
   "cell_type": "markdown",
   "metadata": {},
   "source": [
    "What does it all mean?\n",
    "* Precision: True Positives / (True Positives + False Positives)\n",
    "* Recall: True Positives / (True Positives + False Negatives)\n",
    "\n",
    "\n",
    "<img src=\"https://upload.wikimedia.org/wikipedia/commons/thumb/2/26/Precisionrecall.svg/440px-Precisionrecall.svg.png\">  Source: Wikipedia\n"
   ]
  },
  {
   "cell_type": "markdown",
   "metadata": {},
   "source": [
    "Now that I know how well the logistic regression algorithm worked, I can use the same features and train a KNeighborsClassifier."
   ]
  },
  {
   "cell_type": "markdown",
   "metadata": {},
   "source": [
    "### B. KNeighborsClassifier\n",
    "### Step B.1 Instantiate the classifier\n",
    "\n",
    "We will compare logistic regression with K-Nearest Neighboors. The main item to configure is the number of neighbors that the algorithm should take into account when trying to assess whether an observation belongs to a class or not. The lower the number, the more sensitive the model is to local variations. The higher the number, the more context it gets. More options can be seen [here](http://scikit-learn.org/stable/modules/generated/sklearn.neighbors.KNeighborsClassifier.html#sklearn.neighbors.KNeighborsClassifier).\n",
    "\n",
    "Just as an ilustration - some examples from https://kevinzakka.github.io/2016/07/13/k-nearest-neighbor/:\n",
    "<img src=\"https://kevinzakka.github.io/assets/1nearestneigh.png\">\n",
    "<img src=\"https://kevinzakka.github.io/assets/20nearestneigh.png\">\n",
    "\n",
    "We'll start with 5 neighbors, which is the default for KNeighborsClassifier.\n"
   ]
  },
  {
   "cell_type": "code",
   "execution_count": 131,
   "metadata": {
    "collapsed": true
   },
   "outputs": [],
   "source": [
    "n_clf = KNeighborsClassifier(n_neighbors=5)"
   ]
  },
  {
   "cell_type": "markdown",
   "metadata": {},
   "source": [
    "### Step B.2 Train the classifier\n",
    "\n",
    "While I could change the features that I am using for this classifier, as my interest is in comparing the performance of logistic regression with K-neighbors, I'll use still the same feature list."
   ]
  },
  {
   "cell_type": "code",
   "execution_count": 132,
   "metadata": {},
   "outputs": [
    {
     "data": {
      "text/plain": [
       "['age', 'female', 'google', 'facebook', 'sell', 'time_spent', 'campaign_1']"
      ]
     },
     "execution_count": 132,
     "metadata": {},
     "output_type": "execute_result"
    }
   ],
   "source": [
    "features"
   ]
  },
  {
   "cell_type": "code",
   "execution_count": 133,
   "metadata": {},
   "outputs": [
    {
     "data": {
      "text/plain": [
       "KNeighborsClassifier(algorithm='auto', leaf_size=30, metric='minkowski',\n",
       "           metric_params=None, n_jobs=1, n_neighbors=5, p=2,\n",
       "           weights='uniform')"
      ]
     },
     "execution_count": 133,
     "metadata": {},
     "output_type": "execute_result"
    }
   ],
   "source": [
    "n_clf.fit(train[features], train['click'])"
   ]
  },
  {
   "cell_type": "markdown",
   "metadata": {},
   "source": [
    "### Step B.3 Check the coefficients\n",
    "\n",
    "K-Nearest neighbors is **not** a regression-based model, so the idea of coefficients is not really that valid here - and scikit-learn does not report it. So we can skip this step. "
   ]
  },
  {
   "cell_type": "markdown",
   "metadata": {},
   "source": [
    "### Step B.4 Model Evaluation\n",
    "\n",
    "Now it's time to evaluate our model. We'll do exactly the same as for logistic, but I'll use a different column to store the results."
   ]
  },
  {
   "cell_type": "code",
   "execution_count": 134,
   "metadata": {},
   "outputs": [
    {
     "name": "stderr",
     "output_type": "stream",
     "text": [
      "//anaconda/lib/python3.5/site-packages/ipykernel/__main__.py:1: SettingWithCopyWarning: \n",
      "A value is trying to be set on a copy of a slice from a DataFrame.\n",
      "Try using .loc[row_indexer,col_indexer] = value instead\n",
      "\n",
      "See the caveats in the documentation: http://pandas.pydata.org/pandas-docs/stable/indexing.html#indexing-view-versus-copy\n",
      "  if __name__ == '__main__':\n"
     ]
    }
   ],
   "source": [
    "test['predicted_clicks_nn'] = n_clf.predict(test[features])"
   ]
  },
  {
   "cell_type": "markdown",
   "metadata": {},
   "source": [
    "Let's check the confusion matrix"
   ]
  },
  {
   "cell_type": "code",
   "execution_count": 135,
   "metadata": {},
   "outputs": [
    {
     "name": "stdout",
     "output_type": "stream",
     "text": [
      "K-Nearest Neighbors\n",
      "[[764 327]\n",
      " [452 259]]\n"
     ]
    }
   ],
   "source": [
    "print('K-Nearest Neighbors')\n",
    "print(confusion_matrix(test['click'], test['predicted_clicks_nn']))"
   ]
  },
  {
   "cell_type": "markdown",
   "metadata": {},
   "source": [
    "Let's compare with logistic regression"
   ]
  },
  {
   "cell_type": "code",
   "execution_count": 136,
   "metadata": {},
   "outputs": [
    {
     "name": "stdout",
     "output_type": "stream",
     "text": [
      "Logistic Regression\n",
      "[[992  99]\n",
      " [596 115]]\n"
     ]
    }
   ],
   "source": [
    "print('Logistic Regression')\n",
    "print(confusion_matrix(test['click'], test['predicted_clicks_logit']))"
   ]
  },
  {
   "cell_type": "markdown",
   "metadata": {},
   "source": [
    "Let's check Precision & Recall"
   ]
  },
  {
   "cell_type": "code",
   "execution_count": 137,
   "metadata": {},
   "outputs": [
    {
     "name": "stdout",
     "output_type": "stream",
     "text": [
      "K-Nearest Neighbors\n",
      "             precision    recall  f1-score   support\n",
      "\n",
      "          0       0.63      0.70      0.66      1091\n",
      "          1       0.44      0.36      0.40       711\n",
      "\n",
      "avg / total       0.55      0.57      0.56      1802\n",
      "\n"
     ]
    }
   ],
   "source": [
    "print('K-Nearest Neighbors')\n",
    "print(classification_report(test['click'], test['predicted_clicks_nn']))"
   ]
  },
  {
   "cell_type": "code",
   "execution_count": 138,
   "metadata": {},
   "outputs": [
    {
     "name": "stdout",
     "output_type": "stream",
     "text": [
      "Logistic Regression\n",
      "             precision    recall  f1-score   support\n",
      "\n",
      "          0       0.62      0.91      0.74      1091\n",
      "          1       0.54      0.16      0.25       711\n",
      "\n",
      "avg / total       0.59      0.61      0.55      1802\n",
      "\n"
     ]
    }
   ],
   "source": [
    "print('Logistic Regression')\n",
    "print(classification_report(test['click'], test['predicted_clicks_logit']))"
   ]
  },
  {
   "cell_type": "markdown",
   "metadata": {},
   "source": [
    "### Question: Which model performed better? And why?"
   ]
  },
  {
   "cell_type": "code",
   "execution_count": null,
   "metadata": {
    "collapsed": true
   },
   "outputs": [],
   "source": []
  },
  {
   "cell_type": "code",
   "execution_count": null,
   "metadata": {
    "collapsed": true
   },
   "outputs": [],
   "source": []
  },
  {
   "cell_type": "code",
   "execution_count": null,
   "metadata": {
    "collapsed": true
   },
   "outputs": [],
   "source": []
  },
  {
   "cell_type": "markdown",
   "metadata": {},
   "source": [
    "### We can still predict cases\n",
    "\n",
    "We can still predict how specific cases would look like, and compare predictions between the two models. \n",
    "\n"
   ]
  },
  {
   "cell_type": "code",
   "execution_count": 139,
   "metadata": {},
   "outputs": [
    {
     "data": {
      "text/plain": [
       "['age', 'female', 'google', 'facebook', 'sell', 'time_spent', 'campaign_1']"
      ]
     },
     "execution_count": 139,
     "metadata": {},
     "output_type": "execute_result"
    }
   ],
   "source": [
    "features"
   ]
  },
  {
   "cell_type": "code",
   "execution_count": 140,
   "metadata": {
    "collapsed": true
   },
   "outputs": [],
   "source": [
    "people = [[25, 0,0,1,1,200,1], [65,1,1,0,0,400,1]]"
   ]
  },
  {
   "cell_type": "markdown",
   "metadata": {},
   "source": [
    "I can do the prediction if they will click or not:"
   ]
  },
  {
   "cell_type": "code",
   "execution_count": 141,
   "metadata": {},
   "outputs": [
    {
     "data": {
      "text/plain": [
       "array([0, 0])"
      ]
     },
     "execution_count": 141,
     "metadata": {},
     "output_type": "execute_result"
    }
   ],
   "source": [
    "logit_clf.predict(people)"
   ]
  },
  {
   "cell_type": "code",
   "execution_count": 142,
   "metadata": {},
   "outputs": [
    {
     "data": {
      "text/plain": [
       "array([1, 0])"
      ]
     },
     "execution_count": 142,
     "metadata": {},
     "output_type": "execute_result"
    }
   ],
   "source": [
    "n_clf.predict(people)"
   ]
  },
  {
   "cell_type": "markdown",
   "metadata": {},
   "source": [
    "This does not seem too informative. Can we estimate the probabilities instead? Yes."
   ]
  },
  {
   "cell_type": "code",
   "execution_count": 143,
   "metadata": {},
   "outputs": [
    {
     "data": {
      "text/plain": [
       "array([[ 0.59446938,  0.40553062],\n",
       "       [ 0.73526365,  0.26473635]])"
      ]
     },
     "execution_count": 143,
     "metadata": {},
     "output_type": "execute_result"
    }
   ],
   "source": [
    "logit_clf.predict_proba(people)"
   ]
  },
  {
   "cell_type": "code",
   "execution_count": 144,
   "metadata": {},
   "outputs": [
    {
     "data": {
      "text/plain": [
       "array([[ 0.4,  0.6],\n",
       "       [ 0.8,  0.2]])"
      ]
     },
     "execution_count": 144,
     "metadata": {},
     "output_type": "execute_result"
    }
   ],
   "source": [
    "n_clf.predict_proba(people)"
   ]
  },
  {
   "cell_type": "markdown",
   "metadata": {
    "collapsed": true
   },
   "source": [
    "# Challenges\n",
    "\n",
    "* Create a model for predicting sell, and compare how logistic regression and k-nearest neighbors would perform. Which one performs best? Why?\n",
    "* Make some changes to the KNeighborsClassifier (number of neighbors). What happens with precision & recall? "
   ]
  },
  {
   "cell_type": "code",
   "execution_count": null,
   "metadata": {
    "collapsed": true
   },
   "outputs": [],
   "source": []
  }
 ],
 "metadata": {
  "anaconda-cloud": {},
  "kernelspec": {
   "display_name": "Python 3",
   "language": "python",
   "name": "python3"
  },
  "language_info": {
   "codemirror_mode": {
    "name": "ipython",
    "version": 3
   },
   "file_extension": ".py",
   "mimetype": "text/x-python",
   "name": "python",
   "nbconvert_exporter": "python",
   "pygments_lexer": "ipython3",
   "version": "3.7.3"
  },
  "latex_envs": {
   "bibliofile": "biblio.bib",
   "cite_by": "apalike",
   "current_citInitial": 1,
   "eqLabelWithNumbers": true,
   "eqNumInitial": 0
  }
 },
 "nbformat": 4,
 "nbformat_minor": 1
}
